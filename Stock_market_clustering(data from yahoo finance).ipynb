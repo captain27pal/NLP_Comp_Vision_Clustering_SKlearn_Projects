{
 "cells": [
  {
   "cell_type": "code",
   "execution_count": 1,
   "metadata": {},
   "outputs": [
    {
     "name": "stderr",
     "output_type": "stream",
     "text": [
      "C:\\ProgramData\\Anaconda3\\lib\\site-packages\\pandas_datareader\\compat\\__init__.py:7: FutureWarning: pandas.util.testing is deprecated. Use the functions in the public API at pandas.testing instead.\n",
      "  from pandas.util.testing import assert_frame_equal\n"
     ]
    },
    {
     "name": "stdout",
     "output_type": "stream",
     "text": [
      "1.18.1: numpy version\n",
      "1.0.1\n"
     ]
    }
   ],
   "source": [
    "import pandas as pd\n",
    "# pd.core.common.is_list_like = pd.api.types.is_list_like\n",
    "from pandas_datareader import data#helps in extracting data from included sources\n",
    "from matplotlib import pyplot as plt\n",
    "import datetime\n",
    "import numpy as np\n",
    "print(f'{np.__version__}: numpy version')\n",
    "print(pd.__version__)\n",
    "# print(f'{data.__version__} : pandas_datareader version')"
   ]
  },
  {
   "cell_type": "code",
   "execution_count": 2,
   "metadata": {},
   "outputs": [
    {
     "data": {
      "text/plain": [
       "dict_items([('amazon', 'AMZN'), ('Apple', 'AAPL'), ('Walgreen', 'WBA'), ('NOrthrop Grunman', 'NOC'), ('Boeing', 'BA'), ('Lockhead Martin', 'LMT'), ('McDonalds', 'MCD'), ('Intel', 'INTC'), ('Navister', 'NAV'), ('IBM', 'IBM'), ('Texas Instrument', 'TXN'), ('Mastercard', 'MA'), ('Microsoft', 'MSFT'), ('General ELectric', 'GE'), ('Americal express', 'AXP'), ('Pepsi', 'PEP'), ('Coca Cola', 'KO'), ('Jhonson and Jhonson', 'JNJ'), ('Toyota', 'TM'), ('Mitsubishi', 'MSBHY'), ('Exxon', 'XOM'), ('Valero ENgineering', 'VLO'), ('Bank of AMerica', 'BAC'), ('HOnda', 'HMC'), ('Sony', 'SNE'), ('Chevren', 'CVX'), ('Ford', 'F')])"
      ]
     },
     "execution_count": 2,
     "metadata": {},
     "output_type": "execute_result"
    }
   ],
   "source": [
    "#removing SYMC as the data fetched in NAN, look later how to clean the data with SYMC\n",
    "\n",
    "company_dict={\n",
    "   'amazon':'AMZN','Apple':'AAPL','Walgreen':'WBA','NOrthrop Grunman':'NOC','Boeing':'BA','Lockhead Martin':'LMT','McDonalds':'MCD',\n",
    "    'Intel':'INTC','Navister':'NAV','IBM':'IBM','Texas Instrument':'TXN','Mastercard':'MA','Microsoft':'MSFT','General ELectric':'GE',\n",
    "    'Americal express':'AXP','Pepsi':'PEP','Coca Cola':'KO','Jhonson and Jhonson':'JNJ','Toyota':'TM','Mitsubishi':'MSBHY',\n",
    "    'Exxon':'XOM','Valero ENgineering':'VLO','Bank of AMerica':'BAC','HOnda':'HMC','Sony':'SNE','Chevren':'CVX','Ford':'F'    \n",
    "}\n",
    "company_dict.items()"
   ]
  },
  {
   "cell_type": "code",
   "execution_count": 3,
   "metadata": {},
   "outputs": [
    {
     "name": "stdout",
     "output_type": "stream",
     "text": [
      "27\n"
     ]
    }
   ],
   "source": [
    "companies=sorted(company_dict.items(),key=lambda x:x[1])\n",
    "companies\n",
    "print(len(companies))"
   ]
  },
  {
   "cell_type": "code",
   "execution_count": 4,
   "metadata": {},
   "outputs": [
    {
     "data": {
      "text/plain": [
       "['AMZN',\n",
       " 'AAPL',\n",
       " 'WBA',\n",
       " 'NOC',\n",
       " 'BA',\n",
       " 'LMT',\n",
       " 'MCD',\n",
       " 'INTC',\n",
       " 'NAV',\n",
       " 'IBM',\n",
       " 'TXN',\n",
       " 'MA',\n",
       " 'MSFT',\n",
       " 'GE',\n",
       " 'AXP',\n",
       " 'PEP',\n",
       " 'KO',\n",
       " 'JNJ',\n",
       " 'TM',\n",
       " 'MSBHY',\n",
       " 'XOM',\n",
       " 'VLO',\n",
       " 'BAC',\n",
       " 'HMC',\n",
       " 'SNE',\n",
       " 'CVX',\n",
       " 'F']"
      ]
     },
     "execution_count": 4,
     "metadata": {},
     "output_type": "execute_result"
    }
   ],
   "source": [
    "list(company_dict.values())"
   ]
  },
  {
   "cell_type": "code",
   "execution_count": 5,
   "metadata": {},
   "outputs": [],
   "source": [
    "data_source='yahoo'\n",
    "start_date='2015-01-01'\n",
    "end_date='2017-12-31'\n",
    "#use pandas_reader.data.DataReader \n",
    "panel_data=data.DataReader(list(company_dict.values()),data_source,start_date,end_date)"
   ]
  },
  {
   "cell_type": "code",
   "execution_count": 6,
   "metadata": {},
   "outputs": [
    {
     "name": "stdout",
     "output_type": "stream",
     "text": [
      "[DatetimeIndex(['2014-12-31', '2015-01-02', '2015-01-05', '2015-01-06',\n",
      "               '2015-01-07', '2015-01-08', '2015-01-09', '2015-01-12',\n",
      "               '2015-01-13', '2015-01-14',\n",
      "               ...\n",
      "               '2017-12-15', '2017-12-18', '2017-12-19', '2017-12-20',\n",
      "               '2017-12-21', '2017-12-22', '2017-12-26', '2017-12-27',\n",
      "               '2017-12-28', '2017-12-29'],\n",
      "              dtype='datetime64[ns]', name='Date', length=756, freq=None), MultiIndex([('Adj Close',  'AMZN'),\n",
      "            ('Adj Close',  'AAPL'),\n",
      "            ('Adj Close',   'WBA'),\n",
      "            ('Adj Close',   'NOC'),\n",
      "            ('Adj Close',    'BA'),\n",
      "            ('Adj Close',   'LMT'),\n",
      "            ('Adj Close',   'MCD'),\n",
      "            ('Adj Close',  'INTC'),\n",
      "            ('Adj Close',   'NAV'),\n",
      "            ('Adj Close',   'IBM'),\n",
      "            ...\n",
      "            (   'Volume',   'JNJ'),\n",
      "            (   'Volume',    'TM'),\n",
      "            (   'Volume', 'MSBHY'),\n",
      "            (   'Volume',   'XOM'),\n",
      "            (   'Volume',   'VLO'),\n",
      "            (   'Volume',   'BAC'),\n",
      "            (   'Volume',   'HMC'),\n",
      "            (   'Volume',   'SNE'),\n",
      "            (   'Volume',   'CVX'),\n",
      "            (   'Volume',     'F')],\n",
      "           names=['Attributes', 'Symbols'], length=162)]\n"
     ]
    }
   ],
   "source": [
    "     #printing axes label \n",
    "print(panel_data.axes)"
   ]
  },
  {
   "cell_type": "code",
   "execution_count": 7,
   "metadata": {},
   "outputs": [
    {
     "name": "stdout",
     "output_type": "stream",
     "text": [
      "<class 'pandas.core.frame.DataFrame'>\n",
      "<class 'pandas.core.frame.DataFrame'>\n",
      "DatetimeIndex: 756 entries, 2014-12-31 to 2017-12-29\n",
      "Columns: 162 entries, ('Adj Close', 'AMZN') to ('Volume', 'F')\n",
      "dtypes: float64(162)\n",
      "memory usage: 962.7 KB\n"
     ]
    }
   ],
   "source": [
    "print(type(panel_data))\n",
    "panel_data.info()"
   ]
  },
  {
   "cell_type": "code",
   "execution_count": 8,
   "metadata": {},
   "outputs": [
    {
     "data": {
      "text/plain": [
       "<bound method NDFrame.describe of Attributes    Adj Close                                                 \\\n",
       "Symbols            AMZN        AAPL        WBA         NOC          BA   \n",
       "Date                                                                     \n",
       "2014-12-31   310.350006  100.905785  66.960152  134.930481  112.812035   \n",
       "2015-01-02   308.519989   99.945885  66.784416  134.079132  112.786011   \n",
       "2015-01-05   302.190002   97.130241  65.466286  131.250305  112.004875   \n",
       "2015-01-06   295.290009   97.139420  65.633263  131.973572  110.685638   \n",
       "2015-01-07   298.420013   98.501518  67.311653  136.148087  112.404106   \n",
       "...                 ...         ...        ...         ...         ...   \n",
       "2017-12-22  1168.359985  169.009430  67.474716  292.089600  281.228210   \n",
       "2017-12-26  1176.760010  164.721680  68.022247  292.147369  281.475922   \n",
       "2017-12-27  1182.260010  164.750641  67.613930  294.378082  281.723694   \n",
       "2017-12-28  1186.099976  165.214188  67.688164  296.426086  282.419434   \n",
       "2017-12-29  1169.469971  163.427597  67.391205  295.099182  281.047150   \n",
       "\n",
       "Attributes                                                            ...  \\\n",
       "Symbols            LMT         MCD       INTC        NAV         IBM  ...   \n",
       "Date                                                                  ...   \n",
       "2014-12-31  166.318985   80.533211  31.233349  33.480000  126.256348  ...   \n",
       "2015-01-02  166.958115   80.155060  31.293587  34.160000  127.531136  ...   \n",
       "2015-01-05  163.486130   79.269783  30.940727  33.099998  125.524490  ...   \n",
       "2015-01-06  162.717407   79.415916  30.364077  32.299999  122.817429  ...   \n",
       "2015-01-07  164.816193   80.799652  31.000975  32.919998  122.014748  ...   \n",
       "...                ...         ...        ...        ...         ...  ...   \n",
       "2017-12-22  298.563446  161.156479  43.978649  44.610001  135.960938  ...   \n",
       "2017-12-26  299.014099  161.034271  43.394779  43.990002  136.255142  ...   \n",
       "2017-12-27  299.887238  162.331635  43.423027  43.439999  136.522583  ...   \n",
       "2017-12-28  302.384369  162.735901  43.526623  43.389999  137.333893  ...   \n",
       "2017-12-29  301.398651  161.814545  43.470112  42.880001  136.781158  ...   \n",
       "\n",
       "Attributes     Volume                                                         \\\n",
       "Symbols           JNJ        TM    MSBHY         XOM        VLO          BAC   \n",
       "Date                                                                           \n",
       "2014-12-31  6202100.0  151100.0   5400.0  11337200.0  5925900.0   57819600.0   \n",
       "2015-01-02  5753600.0  250000.0   3200.0  10220400.0  5897000.0   48951100.0   \n",
       "2015-01-05  8079300.0  240600.0  12400.0  18502400.0  7732700.0  105605500.0   \n",
       "2015-01-06  7428000.0  285600.0   7400.0  16670700.0  8586800.0  144912400.0   \n",
       "2015-01-07  7931700.0  385700.0   4300.0  13590700.0  8825800.0  104603800.0   \n",
       "...               ...       ...      ...         ...        ...          ...   \n",
       "2017-12-22  4665600.0   75800.0   1900.0  10161400.0  1837200.0   54203000.0   \n",
       "2017-12-26  3271100.0   48400.0   1800.0   4777200.0  1442900.0   42371200.0   \n",
       "2017-12-27  3753600.0   77800.0   3000.0   7000600.0  2388300.0   35111800.0   \n",
       "2017-12-28  2485000.0  102300.0   2100.0   7495300.0  1835700.0   37914900.0   \n",
       "2017-12-29  4452900.0  122100.0   1400.0   8523400.0  2343800.0   40672000.0   \n",
       "\n",
       "Attributes                                                \n",
       "Symbols           HMC        SNE         CVX           F  \n",
       "Date                                                      \n",
       "2014-12-31   981300.0   846200.0   6411800.0  17930200.0  \n",
       "2015-01-02  1150900.0  1229900.0   5898800.0  24777900.0  \n",
       "2015-01-05  1483600.0  1083100.0  11758100.0  44079700.0  \n",
       "2015-01-06   773800.0  2209100.0  11591600.0  32981600.0  \n",
       "2015-01-07   814600.0  2486300.0  10353800.0  26065300.0  \n",
       "...               ...        ...         ...         ...  \n",
       "2017-12-22   710500.0   453300.0   4735100.0  17876200.0  \n",
       "2017-12-26   235700.0   583900.0   3348500.0  11664600.0  \n",
       "2017-12-27   286800.0   386100.0   3452300.0  17005600.0  \n",
       "2017-12-28   221300.0   541300.0   2191800.0  14793500.0  \n",
       "2017-12-29   234600.0   435500.0   3829000.0  18362500.0  \n",
       "\n",
       "[756 rows x 162 columns]>"
      ]
     },
     "execution_count": 8,
     "metadata": {},
     "output_type": "execute_result"
    }
   ],
   "source": [
    "panel_data.describe"
   ]
  },
  {
   "cell_type": "code",
   "execution_count": 9,
   "metadata": {},
   "outputs": [
    {
     "data": {
      "text/plain": [
       "[('Adj Close', 'AMZN'),\n",
       " ('Adj Close', 'AAPL'),\n",
       " ('Adj Close', 'WBA'),\n",
       " ('Adj Close', 'NOC'),\n",
       " ('Adj Close', 'BA'),\n",
       " ('Adj Close', 'LMT'),\n",
       " ('Adj Close', 'MCD'),\n",
       " ('Adj Close', 'INTC'),\n",
       " ('Adj Close', 'NAV'),\n",
       " ('Adj Close', 'IBM'),\n",
       " ('Adj Close', 'TXN'),\n",
       " ('Adj Close', 'MA'),\n",
       " ('Adj Close', 'MSFT'),\n",
       " ('Adj Close', 'GE'),\n",
       " ('Adj Close', 'AXP'),\n",
       " ('Adj Close', 'PEP'),\n",
       " ('Adj Close', 'KO'),\n",
       " ('Adj Close', 'JNJ'),\n",
       " ('Adj Close', 'TM'),\n",
       " ('Adj Close', 'MSBHY'),\n",
       " ('Adj Close', 'XOM'),\n",
       " ('Adj Close', 'VLO'),\n",
       " ('Adj Close', 'BAC'),\n",
       " ('Adj Close', 'HMC'),\n",
       " ('Adj Close', 'SNE'),\n",
       " ('Adj Close', 'CVX'),\n",
       " ('Adj Close', 'F'),\n",
       " ('Close', 'AMZN'),\n",
       " ('Close', 'AAPL'),\n",
       " ('Close', 'WBA'),\n",
       " ('Close', 'NOC'),\n",
       " ('Close', 'BA'),\n",
       " ('Close', 'LMT'),\n",
       " ('Close', 'MCD'),\n",
       " ('Close', 'INTC'),\n",
       " ('Close', 'NAV'),\n",
       " ('Close', 'IBM'),\n",
       " ('Close', 'TXN'),\n",
       " ('Close', 'MA'),\n",
       " ('Close', 'MSFT'),\n",
       " ('Close', 'GE'),\n",
       " ('Close', 'AXP'),\n",
       " ('Close', 'PEP'),\n",
       " ('Close', 'KO'),\n",
       " ('Close', 'JNJ'),\n",
       " ('Close', 'TM'),\n",
       " ('Close', 'MSBHY'),\n",
       " ('Close', 'XOM'),\n",
       " ('Close', 'VLO'),\n",
       " ('Close', 'BAC'),\n",
       " ('Close', 'HMC'),\n",
       " ('Close', 'SNE'),\n",
       " ('Close', 'CVX'),\n",
       " ('Close', 'F'),\n",
       " ('High', 'AMZN'),\n",
       " ('High', 'AAPL'),\n",
       " ('High', 'WBA'),\n",
       " ('High', 'NOC'),\n",
       " ('High', 'BA'),\n",
       " ('High', 'LMT'),\n",
       " ('High', 'MCD'),\n",
       " ('High', 'INTC'),\n",
       " ('High', 'NAV'),\n",
       " ('High', 'IBM'),\n",
       " ('High', 'TXN'),\n",
       " ('High', 'MA'),\n",
       " ('High', 'MSFT'),\n",
       " ('High', 'GE'),\n",
       " ('High', 'AXP'),\n",
       " ('High', 'PEP'),\n",
       " ('High', 'KO'),\n",
       " ('High', 'JNJ'),\n",
       " ('High', 'TM'),\n",
       " ('High', 'MSBHY'),\n",
       " ('High', 'XOM'),\n",
       " ('High', 'VLO'),\n",
       " ('High', 'BAC'),\n",
       " ('High', 'HMC'),\n",
       " ('High', 'SNE'),\n",
       " ('High', 'CVX'),\n",
       " ('High', 'F'),\n",
       " ('Low', 'AMZN'),\n",
       " ('Low', 'AAPL'),\n",
       " ('Low', 'WBA'),\n",
       " ('Low', 'NOC'),\n",
       " ('Low', 'BA'),\n",
       " ('Low', 'LMT'),\n",
       " ('Low', 'MCD'),\n",
       " ('Low', 'INTC'),\n",
       " ('Low', 'NAV'),\n",
       " ('Low', 'IBM'),\n",
       " ('Low', 'TXN'),\n",
       " ('Low', 'MA'),\n",
       " ('Low', 'MSFT'),\n",
       " ('Low', 'GE'),\n",
       " ('Low', 'AXP'),\n",
       " ('Low', 'PEP'),\n",
       " ('Low', 'KO'),\n",
       " ('Low', 'JNJ'),\n",
       " ('Low', 'TM'),\n",
       " ('Low', 'MSBHY'),\n",
       " ('Low', 'XOM'),\n",
       " ('Low', 'VLO'),\n",
       " ('Low', 'BAC'),\n",
       " ('Low', 'HMC'),\n",
       " ('Low', 'SNE'),\n",
       " ('Low', 'CVX'),\n",
       " ('Low', 'F'),\n",
       " ('Open', 'AMZN'),\n",
       " ('Open', 'AAPL'),\n",
       " ('Open', 'WBA'),\n",
       " ('Open', 'NOC'),\n",
       " ('Open', 'BA'),\n",
       " ('Open', 'LMT'),\n",
       " ('Open', 'MCD'),\n",
       " ('Open', 'INTC'),\n",
       " ('Open', 'NAV'),\n",
       " ('Open', 'IBM'),\n",
       " ('Open', 'TXN'),\n",
       " ('Open', 'MA'),\n",
       " ('Open', 'MSFT'),\n",
       " ('Open', 'GE'),\n",
       " ('Open', 'AXP'),\n",
       " ('Open', 'PEP'),\n",
       " ('Open', 'KO'),\n",
       " ('Open', 'JNJ'),\n",
       " ('Open', 'TM'),\n",
       " ('Open', 'MSBHY'),\n",
       " ('Open', 'XOM'),\n",
       " ('Open', 'VLO'),\n",
       " ('Open', 'BAC'),\n",
       " ('Open', 'HMC'),\n",
       " ('Open', 'SNE'),\n",
       " ('Open', 'CVX'),\n",
       " ('Open', 'F'),\n",
       " ('Volume', 'AMZN'),\n",
       " ('Volume', 'AAPL'),\n",
       " ('Volume', 'WBA'),\n",
       " ('Volume', 'NOC'),\n",
       " ('Volume', 'BA'),\n",
       " ('Volume', 'LMT'),\n",
       " ('Volume', 'MCD'),\n",
       " ('Volume', 'INTC'),\n",
       " ('Volume', 'NAV'),\n",
       " ('Volume', 'IBM'),\n",
       " ('Volume', 'TXN'),\n",
       " ('Volume', 'MA'),\n",
       " ('Volume', 'MSFT'),\n",
       " ('Volume', 'GE'),\n",
       " ('Volume', 'AXP'),\n",
       " ('Volume', 'PEP'),\n",
       " ('Volume', 'KO'),\n",
       " ('Volume', 'JNJ'),\n",
       " ('Volume', 'TM'),\n",
       " ('Volume', 'MSBHY'),\n",
       " ('Volume', 'XOM'),\n",
       " ('Volume', 'VLO'),\n",
       " ('Volume', 'BAC'),\n",
       " ('Volume', 'HMC'),\n",
       " ('Volume', 'SNE'),\n",
       " ('Volume', 'CVX'),\n",
       " ('Volume', 'F')]"
      ]
     },
     "execution_count": 9,
     "metadata": {},
     "output_type": "execute_result"
    }
   ],
   "source": [
    "panel_data.columns.to_list()"
   ]
  },
  {
   "cell_type": "code",
   "execution_count": null,
   "metadata": {},
   "outputs": [],
   "source": []
  },
  {
   "cell_type": "code",
   "execution_count": 10,
   "metadata": {},
   "outputs": [],
   "source": [
    "#stock open and close data\n",
    "stock_close=panel_data['Close']\n",
    "stock_open=panel_data['Open']"
   ]
  },
  {
   "cell_type": "code",
   "execution_count": 11,
   "metadata": {},
   "outputs": [
    {
     "data": {
      "text/plain": [
       "Symbols\n",
       "AMZN     679.750000\n",
       "AAPL      92.790001\n",
       "WBA       80.889999\n",
       "NOC      214.630005\n",
       "BA       132.100006\n",
       "LMT      240.320007\n",
       "MCD      130.830002\n",
       "INTC      29.799999\n",
       "NAV       11.190000\n",
       "IBM      147.339996\n",
       "TXN       56.910000\n",
       "MA        96.720001\n",
       "MSFT      50.070000\n",
       "GE        28.721153\n",
       "AXP       63.980000\n",
       "PEP      105.279999\n",
       "KO        45.240002\n",
       "JNJ      113.720001\n",
       "TM       102.610001\n",
       "MSBHY     32.490002\n",
       "XOM       88.570000\n",
       "VLO       54.980000\n",
       "BAC       13.990000\n",
       "HMC       27.629999\n",
       "SNE       23.930000\n",
       "CVX      100.349998\n",
       "F         13.320000\n",
       "Name: 2016-05-09 00:00:00, dtype: float64"
      ]
     },
     "execution_count": 11,
     "metadata": {},
     "output_type": "execute_result"
    }
   ],
   "source": [
    "stock_close.iloc[340]"
   ]
  },
  {
   "cell_type": "code",
   "execution_count": 12,
   "metadata": {},
   "outputs": [
    {
     "name": "stdout",
     "output_type": "stream",
     "text": [
      "(756, 27)\n",
      "(27, 756)\n"
     ]
    }
   ],
   "source": [
    "print(stock_close.shape)\n",
    "stock_close=np.array(stock_close).T\n",
    "print(stock_close.shape)"
   ]
  },
  {
   "cell_type": "code",
   "execution_count": 13,
   "metadata": {},
   "outputs": [
    {
     "name": "stdout",
     "output_type": "stream",
     "text": [
      "(756, 27)\n",
      "(27, 756)\n"
     ]
    }
   ],
   "source": [
    "print(stock_open.shape)\n",
    "stock_open=np.array(stock_open).T\n",
    "print(stock_open.shape)"
   ]
  },
  {
   "cell_type": "code",
   "execution_count": 14,
   "metadata": {},
   "outputs": [
    {
     "data": {
      "text/plain": [
       "27"
      ]
     },
     "execution_count": 14,
     "metadata": {},
     "output_type": "execute_result"
    }
   ],
   "source": [
    "row,column=stock_open.shape\n",
    "row"
   ]
  },
  {
   "cell_type": "code",
   "execution_count": 15,
   "metadata": {},
   "outputs": [
    {
     "name": "stdout",
     "output_type": "stream",
     "text": [
      "['Apple', 'amazon', 'Americal express', 'Boeing', 'Bank of AMerica', 'Chevren', 'Ford', 'General ELectric', 'HOnda', 'IBM', 'Intel', 'Jhonson and Jhonson', 'Coca Cola', 'Lockhead Martin', 'Mastercard', 'McDonalds', 'Mitsubishi', 'Microsoft', 'Navister', 'NOrthrop Grunman', 'Pepsi', 'Sony', 'Toyota', 'Texas Instrument', 'Valero ENgineering', 'Walgreen', 'Exxon'] "
     ]
    }
   ],
   "source": [
    "print([name for name,id in companies],end=' ')"
   ]
  },
  {
   "cell_type": "code",
   "execution_count": 16,
   "metadata": {},
   "outputs": [
    {
     "name": "stdout",
     "output_type": "stream",
     "text": [
      "27\n"
     ]
    }
   ],
   "source": [
    "print(len(companies))"
   ]
  },
  {
   "cell_type": "code",
   "execution_count": 17,
   "metadata": {},
   "outputs": [
    {
     "name": "stdout",
     "output_type": "stream",
     "text": [
      "company: Apple, change:-83.93020629882812\n",
      "company: amazon, change:14.249893188476562\n",
      "company: Americal express, change:-5.940071105957031\n",
      "company: Boeing, change:72.03007507324219\n",
      "company: Bank of AMerica, change:100.44984436035156\n",
      "company: Chevren, change:57.899932861328125\n",
      "company: Ford, change:51.290016174316406\n",
      "company: General ELectric, change:19.52003288269043\n",
      "company: HOnda, change:-0.6599926948547363\n",
      "company: IBM, change:15.669967651367188\n",
      "company: Intel, change:28.409912109375\n",
      "company: Jhonson and Jhonson, change:23.569869995117188\n",
      "company: Coca Cola, change:28.480026245117188\n",
      "company: Lockhead Martin, change:4.509649276733398\n",
      "company: Mastercard, change:5.600105285644531\n",
      "company: McDonalds, change:36.96997833251953\n",
      "company: Mitsubishi, change:11.459976196289062\n",
      "company: Microsoft, change:30.619949340820312\n",
      "company: Navister, change:-17.430099487304688\n",
      "company: NOrthrop Grunman, change:30.440019607543945\n",
      "company: Pepsi, change:9.929985046386719\n",
      "company: Sony, change:29.399993896484375\n",
      "company: Toyota, change:-3.780003547668457\n",
      "company: Texas Instrument, change:-8.180000305175781\n",
      "company: Valero ENgineering, change:-0.4999885559082031\n",
      "company: Walgreen, change:27.099990844726562\n",
      "company: Exxon, change:-5.559996604919434\n",
      "(27, 756)\n",
      "9.970001220703125\n"
     ]
    }
   ],
   "source": [
    "#we are now calculating how far the stocks have been changed during this tenure.\n",
    "#defining a placeholder matrix with the dimension of the final matrix \n",
    "\n",
    "movements=np.zeros(([row,column]))\n",
    "for i in range (row):\n",
    "    movements[i,:]=np.subtract(stock_close[i,:],stock_open[i,:])\n",
    "for i in range(len(companies)):\n",
    "    print('company: {}, change:{}'.format(companies[i][0], sum(movements[i][:])))\n",
    "print(movements.shape)\n",
    "\n",
    "print(max(movements[4]))"
   ]
  },
  {
   "cell_type": "code",
   "execution_count": 18,
   "metadata": {},
   "outputs": [
    {
     "data": {
      "image/png": "[encoded data removed]",
      "text/plain": [
       "<Figure size 1296x1152 with 2 Axes>"
      ]
     },
     "metadata": {
      "needs_background": "light"
     },
     "output_type": "display_data"
    }
   ],
   "source": [
    "#Now since we have the desired data, lets visualize the data now with matplotlib\n",
    "plt.clf\n",
    "plt.figure(figsize=(18,16))\n",
    "ax1=plt.subplot(221)\n",
    "plt.plot(movements[0][:])\n",
    "plt.title(companies[0])\n",
    "plt.subplot(222,sharey=ax1)\n",
    "plt.plot(movements[1][:])\n",
    "plt.title(companies[1])\n",
    "plt.show()"
   ]
  },
  {
   "cell_type": "code",
   "execution_count": 19,
   "metadata": {},
   "outputs": [
    {
     "name": "stdout",
     "output_type": "stream",
     "text": [
      "0.26029795916062815\n",
      "-0.259844372052625\n",
      "0.001004217288652731\n"
     ]
    }
   ],
   "source": [
    "from sklearn.preprocessing import Normalizer\n",
    "normalizer=Normalizer()\n",
    "new=normalizer.fit_transform(movements)\n",
    "print(new.max())\n",
    "print(new.min())\n",
    "print(new.mean())"
   ]
  },
  {
   "cell_type": "code",
   "execution_count": 25,
   "metadata": {},
   "outputs": [
    {
     "data": {
      "image/png": "[encoded data removed]",
      "text/plain": [
       "<Figure size 1296x1152 with 2 Axes>"
      ]
     },
     "metadata": {
      "needs_background": "light"
     },
     "output_type": "display_data"
    }
   ],
   "source": [
    "\n",
    "plt.figure(figsize=(18,16))\n",
    "ax1=plt.subplot(221)\n",
    "plt.plot(new[0][:])\n",
    "plt.title(companies[0])\n",
    "plt.subplot(222,sharey=ax1)\n",
    "plt.plot(new[1][:])\n",
    "plt.title(companies[1])\n",
    "plt.show()"
   ]
  },
  {
   "cell_type": "code",
   "execution_count": 21,
   "metadata": {},
   "outputs": [],
   "source": [
    "#Now we are going to make a pipeline and see how it works\n",
    "from sklearn.pipeline import make_pipeline\n",
    "from sklearn.cluster import KMeans\n",
    "from sklearn.preprocessing import Normalizer"
   ]
  },
  {
   "cell_type": "code",
   "execution_count": 100,
   "metadata": {},
   "outputs": [],
   "source": [
    "normalizer=Normalizer()\n",
    "#Create a Kmeans cluster with 10 clusters \n",
    "kmeans=KMeans(n_clusters=10,max_iter=1000)\n",
    "#now lets make a pipeline\n",
    "#we are using make_pipeline here, only difference with pipeline is that make_pipeline takes the name automatically where in pipeline\n",
    "# we need to provide name for the estimator\n",
    "pipeline=make_pipeline(normalizer,kmeans)\n"
   ]
  },
  {
   "cell_type": "code",
   "execution_count": 101,
   "metadata": {},
   "outputs": [
    {
     "name": "stdout",
     "output_type": "stream",
     "text": [
      "9.085817870359204\n"
     ]
    }
   ],
   "source": [
    "# now lets fit the data to the pipeline\n",
    "pipeline.fit(movements)\n",
    "print(kmeans.inertia_)\n",
    "#Study more about kmeans.inertia_"
   ]
  },
  {
   "cell_type": "code",
   "execution_count": 102,
   "metadata": {},
   "outputs": [
    {
     "name": "stdout",
     "output_type": "stream",
     "text": [
      "                     companies  labels\n",
      "13      (Lockhead Martin, LMT)       0\n",
      "24   (Valero ENgineering, VLO)       1\n",
      "23     (Texas Instrument, TXN)       1\n",
      "22                (Toyota, TM)       1\n",
      "18             (Navister, NAV)       1\n",
      "14            (Mastercard, MA)       1\n",
      "26                (Exxon, XOM)       1\n",
      "2      (Americal express, AXP)       1\n",
      "7       (General ELectric, GE)       2\n",
      "1               (amazon, AMZN)       2\n",
      "12             (Coca Cola, KO)       2\n",
      "0                (Apple, AAPL)       2\n",
      "10               (Intel, INTC)       2\n",
      "9                   (IBM, IBM)       2\n",
      "11  (Jhonson and Jhonson, JNJ)       2\n",
      "6                    (Ford, F)       3\n",
      "17           (Microsoft, MSFT)       3\n",
      "5               (Chevren, CVX)       4\n",
      "4       (Bank of AMerica, BAC)       4\n",
      "3                 (Boeing, BA)       4\n",
      "8                 (HOnda, HMC)       5\n",
      "25             (Walgreen, WBA)       6\n",
      "20                (Pepsi, PEP)       6\n",
      "19     (NOrthrop Grunman, NOC)       7\n",
      "15            (McDonalds, MCD)       8\n",
      "16         (Mitsubishi, MSBHY)       8\n",
      "21                 (Sony, SNE)       9\n"
     ]
    }
   ],
   "source": [
    "labels=pipeline.predict(movements)\n",
    "# print(len(labels))\n",
    "# print(len(companies))\n",
    "df=pd.DataFrame({'companies':companies,'labels':labels})\n",
    "print(df.sort_values('labels'))"
   ]
  },
  {
   "cell_type": "code",
   "execution_count": 103,
   "metadata": {},
   "outputs": [],
   "source": [
    "# Now we will apply pca and then apply kmeans on the data with reduced dimension\n",
    "from sklearn.decomposition import PCA"
   ]
  },
  {
   "cell_type": "code",
   "execution_count": 104,
   "metadata": {},
   "outputs": [],
   "source": [
    "reduced_data=PCA(n_components=2).fit_transform(new)"
   ]
  },
  {
   "cell_type": "code",
   "execution_count": 105,
   "metadata": {},
   "outputs": [],
   "source": [
    "kmeans=KMeans(n_clusters=10)\n",
    "model=kmeans.fit(reduced_data)\n",
    "labels=model.predict(reduced_data)"
   ]
  },
  {
   "cell_type": "code",
   "execution_count": 106,
   "metadata": {},
   "outputs": [
    {
     "name": "stdout",
     "output_type": "stream",
     "text": [
      "                     companies  labels\n",
      "26                (Exxon, XOM)       0\n",
      "22                (Toyota, TM)       0\n",
      "8                 (HOnda, HMC)       0\n",
      "6                    (Ford, F)       1\n",
      "23     (Texas Instrument, TXN)       2\n",
      "21                 (Sony, SNE)       2\n",
      "18             (Navister, NAV)       2\n",
      "14            (Mastercard, MA)       2\n",
      "12             (Coca Cola, KO)       3\n",
      "11  (Jhonson and Jhonson, JNJ)       3\n",
      "0                (Apple, AAPL)       3\n",
      "1               (amazon, AMZN)       3\n",
      "10               (Intel, INTC)       3\n",
      "13      (Lockhead Martin, LMT)       4\n",
      "5               (Chevren, CVX)       5\n",
      "15            (McDonalds, MCD)       5\n",
      "16         (Mitsubishi, MSBHY)       5\n",
      "17           (Microsoft, MSFT)       5\n",
      "3                 (Boeing, BA)       5\n",
      "25             (Walgreen, WBA)       6\n",
      "20                (Pepsi, PEP)       6\n",
      "7       (General ELectric, GE)       7\n",
      "24   (Valero ENgineering, VLO)       7\n",
      "9                   (IBM, IBM)       8\n",
      "19     (NOrthrop Grunman, NOC)       8\n",
      "4       (Bank of AMerica, BAC)       9\n",
      "2      (Americal express, AXP)       9\n"
     ]
    }
   ],
   "source": [
    "df=pd.DataFrame({'companies':companies,'labels':labels,})\n",
    "print(df.sort_values('labels'))"
   ]
  },
  {
   "cell_type": "code",
   "execution_count": 107,
   "metadata": {},
   "outputs": [],
   "source": [
    "#now we will create a meshgrid using np.mesh \n",
    "# step size\n",
    "h=0.1\n",
    "#plotting the discision boundary\n",
    "x_min,x_max=reduced_data[0].min()-1,reduced_data.max()+1\n",
    "y_min,y_max=reduced_data[1].min()-1,reduced_data.max()+1\n",
    "xx,yy=np.meshgrid(np.arange(x_min,x_max,h),np.arange(y_min,y_max, h))\n",
    "\n"
   ]
  },
  {
   "cell_type": "code",
   "execution_count": 108,
   "metadata": {},
   "outputs": [
    {
     "name": "stdout",
     "output_type": "stream",
     "text": [
      "[[ 0  1  2  3  4  5]\n",
      " [ 6  7  8  9 10 11]\n",
      " [12 13 14 15 16 17]]\n",
      "[ 0  1  2  3  4  5  6  7  8  9 10 11 12 13 14 15 16 17]\n",
      "[ 0  1  2  3  4  5  6  7  8  9 10 11 12 13 14 15 16 17]\n"
     ]
    }
   ],
   "source": [
    "a=np.arange(18).reshape(3,6)\n",
    "b=np.arange(0,18,1)\n",
    "print(a)\n",
    "print(b)\n",
    "print(a.ravel(order='A'))"
   ]
  },
  {
   "cell_type": "code",
   "execution_count": 109,
   "metadata": {},
   "outputs": [],
   "source": [
    "z=kmeans.predict(np.c_[xx.ravel(),yy.ravel()])"
   ]
  },
  {
   "cell_type": "code",
   "execution_count": 110,
   "metadata": {},
   "outputs": [
    {
     "name": "stdout",
     "output_type": "stream",
     "text": [
      "(26, 28)\n",
      "(26, 28)\n"
     ]
    }
   ],
   "source": [
    "print(xx.shape)\n",
    "print(yy.shape)"
   ]
  },
  {
   "cell_type": "code",
   "execution_count": 111,
   "metadata": {},
   "outputs": [],
   "source": [
    "#put the result into a color plot\n",
    "z=z.reshape(xx.shape)"
   ]
  },
  {
   "cell_type": "code",
   "execution_count": 112,
   "metadata": {},
   "outputs": [
    {
     "data": {
      "image/png": "[encoded data removed]",
      "text/plain": [
       "<Figure size 720x720 with 1 Axes>"
      ]
     },
     "metadata": {
      "needs_background": "light"
     },
     "output_type": "display_data"
    }
   ],
   "source": [
    "from matplotlib import cm\n",
    "\n",
    "# define color plot\n",
    "\n",
    "cmap=plt.cm.Paired\n",
    "\n",
    "#plotting figure\n",
    "\n",
    "plt.figure(figsize=(10,10))\n",
    "plt.imshow(z,interpolation='nearest',extent=(xx.min(),xx.max(), yy.min(),yy.max()),cmap=cmap, aspect='auto',origin='lower')\n",
    "plt.plot(reduced_data[:,0],reduced_data[:,1],'k.',markersize=5)\n",
    "\n",
    "#plot the centroids of each cluster as  a white x\n",
    "\n",
    "centroids=kmeans.cluster_centers_\n",
    "plt.scatter(centroids[:,0],centroids[:,1],marker='x',s=169,linewidths=3,color='w',zorder=10)\n",
    "plt.title('Kmeans clustering on stock market movements (PCA-reduced data)')\n",
    "plt.xlim(x_min,x_max)\n",
    "plt.ylim(y_min,y_max)\n",
    "\n",
    "plt.show()"
   ]
  },
  {
   "cell_type": "code",
   "execution_count": null,
   "metadata": {},
   "outputs": [],
   "source": []
  },
  {
   "cell_type": "code",
   "execution_count": null,
   "metadata": {},
   "outputs": [],
   "source": []
  }
 ],
 "metadata": {
  "kernelspec": {
   "display_name": "Python 3",
   "language": "python",
   "name": "python3"
  },
  "language_info": {
   "codemirror_mode": {
    "name": "ipython",
    "version": 3
   },
   "file_extension": ".py",
   "mimetype": "text/x-python",
   "name": "python",
   "nbconvert_exporter": "python",
   "pygments_lexer": "ipython3",
   "version": "3.7.6"
  }
 },
 "nbformat": 4,
 "nbformat_minor": 4
}
