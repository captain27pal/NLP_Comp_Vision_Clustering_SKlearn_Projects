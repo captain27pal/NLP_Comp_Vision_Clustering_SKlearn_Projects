{
 "cells": [
  {
   "cell_type": "code",
   "execution_count": 2,
   "metadata": {},
   "outputs": [],
   "source": [
    "import sys\n",
    "import pandas as pd\n",
    "import numpy as np\n",
    "import matplotlib.pyplot as plt\n",
    "import seaborn as sns\n",
    "import sklearn "
   ]
  },
  {
   "cell_type": "code",
   "execution_count": 3,
   "metadata": {},
   "outputs": [],
   "source": [
    "from sklearn.model_selection import train_test_split "
   ]
  },
  {
   "cell_type": "code",
   "execution_count": 4,
   "metadata": {},
   "outputs": [],
   "source": [
    "games=pd.read_csv(\"D:\\MACHINE_LEARNING_DATA_SCIENCE\\Data_Files/games.csv\")"
   ]
  },
  {
   "cell_type": "code",
   "execution_count": 5,
   "metadata": {},
   "outputs": [
    {
     "name": "stdout",
     "output_type": "stream",
     "text": [
      "Index(['id', 'type', 'name', 'yearpublished', 'minplayers', 'maxplayers',\n",
      "       'playingtime', 'minplaytime', 'maxplaytime', 'minage', 'users_rated',\n",
      "       'average_rating', 'bayes_average_rating', 'total_owners',\n",
      "       'total_traders', 'total_wanters', 'total_wishers', 'total_comments',\n",
      "       'total_weights', 'average_weight'],\n",
      "      dtype='object')\n",
      "(81312, 20)\n"
     ]
    }
   ],
   "source": [
    "print(games.columns)\n",
    "print(games.shape)"
   ]
  },
  {
   "cell_type": "code",
   "execution_count": 10,
   "metadata": {},
   "outputs": [
    {
     "data": {
      "image/png": "[encoded data removed]",
      "text/plain": [
       "<Figure size 432x288 with 1 Axes>"
      ]
     },
     "metadata": {
      "needs_background": "light"
     },
     "output_type": "display_data"
    }
   ],
   "source": [
    "plt.hist(games[\"average_rating\"])\n",
    "plt.show()"
   ]
  },
  {
   "cell_type": "code",
   "execution_count": 12,
   "metadata": {},
   "outputs": [],
   "source": [
    "games=games[games[\"average_rating\"]>0]"
   ]
  },
  {
   "cell_type": "code",
   "execution_count": 13,
   "metadata": {},
   "outputs": [
    {
     "data": {
      "text/plain": [
       "(array([  602.,  1232.,  2824.,  5212.,  8230., 13606., 13859.,  8471.,\n",
       "         2224.,   672.]),\n",
       " array([ 1. ,  1.9,  2.8,  3.7,  4.6,  5.5,  6.4,  7.3,  8.2,  9.1, 10. ]),\n",
       " <a list of 10 Patch objects>)"
      ]
     },
     "execution_count": 13,
     "metadata": {},
     "output_type": "execute_result"
    },
    {
     "data": {
      "image/png": "[encoded data removed]",
      "text/plain": [
       "<Figure size 432x288 with 1 Axes>"
      ]
     },
     "metadata": {
      "needs_background": "light"
     },
     "output_type": "display_data"
    }
   ],
   "source": [
    "plt.hist(games[\"average_rating\"])"
   ]
  },
  {
   "cell_type": "code",
   "execution_count": 14,
   "metadata": {},
   "outputs": [
    {
     "data": {
      "text/html": [
       "<div>\n",
       "<style scoped>\n",
       "    .dataframe tbody tr th:only-of-type {\n",
       "        vertical-align: middle;\n",
       "    }\n",
       "\n",
       "    .dataframe tbody tr th {\n",
       "        vertical-align: top;\n",
       "    }\n",
       "\n",
       "    .dataframe thead th {\n",
       "        text-align: right;\n",
       "    }\n",
       "</style>\n",
       "<table border=\"1\" class=\"dataframe\">\n",
       "  <thead>\n",
       "    <tr style=\"text-align: right;\">\n",
       "      <th></th>\n",
       "      <th>id</th>\n",
       "      <th>yearpublished</th>\n",
       "      <th>minplayers</th>\n",
       "      <th>maxplayers</th>\n",
       "      <th>playingtime</th>\n",
       "      <th>minplaytime</th>\n",
       "      <th>maxplaytime</th>\n",
       "      <th>minage</th>\n",
       "      <th>users_rated</th>\n",
       "      <th>average_rating</th>\n",
       "      <th>bayes_average_rating</th>\n",
       "      <th>total_owners</th>\n",
       "      <th>total_traders</th>\n",
       "      <th>total_wanters</th>\n",
       "      <th>total_wishers</th>\n",
       "      <th>total_comments</th>\n",
       "      <th>total_weights</th>\n",
       "      <th>average_weight</th>\n",
       "    </tr>\n",
       "  </thead>\n",
       "  <tbody>\n",
       "    <tr>\n",
       "      <th>count</th>\n",
       "      <td>56932.000000</td>\n",
       "      <td>56930.000000</td>\n",
       "      <td>56930.000000</td>\n",
       "      <td>56930.000000</td>\n",
       "      <td>56930.000000</td>\n",
       "      <td>56930.000000</td>\n",
       "      <td>56930.000000</td>\n",
       "      <td>56930.000000</td>\n",
       "      <td>56932.000000</td>\n",
       "      <td>56932.000000</td>\n",
       "      <td>56932.000000</td>\n",
       "      <td>56932.000000</td>\n",
       "      <td>56932.000000</td>\n",
       "      <td>56932.000000</td>\n",
       "      <td>56932.000000</td>\n",
       "      <td>56932.000000</td>\n",
       "      <td>56932.000000</td>\n",
       "      <td>56932.000000</td>\n",
       "    </tr>\n",
       "    <tr>\n",
       "      <th>mean</th>\n",
       "      <td>64124.321998</td>\n",
       "      <td>1874.770385</td>\n",
       "      <td>2.005041</td>\n",
       "      <td>5.573792</td>\n",
       "      <td>59.908818</td>\n",
       "      <td>57.446057</td>\n",
       "      <td>59.908818</td>\n",
       "      <td>7.592816</td>\n",
       "      <td>231.211305</td>\n",
       "      <td>6.015911</td>\n",
       "      <td>1.653365</td>\n",
       "      <td>374.264754</td>\n",
       "      <td>13.157750</td>\n",
       "      <td>17.990937</td>\n",
       "      <td>60.539486</td>\n",
       "      <td>70.298672</td>\n",
       "      <td>23.533496</td>\n",
       "      <td>1.269279</td>\n",
       "    </tr>\n",
       "    <tr>\n",
       "      <th>std</th>\n",
       "      <td>57516.147278</td>\n",
       "      <td>486.079228</td>\n",
       "      <td>0.791646</td>\n",
       "      <td>50.757504</td>\n",
       "      <td>406.324651</td>\n",
       "      <td>393.074343</td>\n",
       "      <td>406.324651</td>\n",
       "      <td>4.868998</td>\n",
       "      <td>1363.681366</td>\n",
       "      <td>1.578552</td>\n",
       "      <td>2.645948</td>\n",
       "      <td>1786.432000</td>\n",
       "      <td>46.970226</td>\n",
       "      <td>71.961726</td>\n",
       "      <td>284.070672</td>\n",
       "      <td>338.267232</td>\n",
       "      <td>138.008185</td>\n",
       "      <td>1.213857</td>\n",
       "    </tr>\n",
       "    <tr>\n",
       "      <th>min</th>\n",
       "      <td>1.000000</td>\n",
       "      <td>-3500.000000</td>\n",
       "      <td>0.000000</td>\n",
       "      <td>0.000000</td>\n",
       "      <td>0.000000</td>\n",
       "      <td>0.000000</td>\n",
       "      <td>0.000000</td>\n",
       "      <td>0.000000</td>\n",
       "      <td>1.000000</td>\n",
       "      <td>1.000000</td>\n",
       "      <td>0.000000</td>\n",
       "      <td>0.000000</td>\n",
       "      <td>0.000000</td>\n",
       "      <td>0.000000</td>\n",
       "      <td>0.000000</td>\n",
       "      <td>0.000000</td>\n",
       "      <td>0.000000</td>\n",
       "      <td>0.000000</td>\n",
       "    </tr>\n",
       "    <tr>\n",
       "      <th>25%</th>\n",
       "      <td>16145.750000</td>\n",
       "      <td>1989.000000</td>\n",
       "      <td>2.000000</td>\n",
       "      <td>2.000000</td>\n",
       "      <td>15.000000</td>\n",
       "      <td>15.000000</td>\n",
       "      <td>15.000000</td>\n",
       "      <td>4.000000</td>\n",
       "      <td>2.000000</td>\n",
       "      <td>5.000000</td>\n",
       "      <td>0.000000</td>\n",
       "      <td>5.000000</td>\n",
       "      <td>0.000000</td>\n",
       "      <td>0.000000</td>\n",
       "      <td>0.000000</td>\n",
       "      <td>1.000000</td>\n",
       "      <td>0.000000</td>\n",
       "      <td>0.000000</td>\n",
       "    </tr>\n",
       "    <tr>\n",
       "      <th>50%</th>\n",
       "      <td>36955.500000</td>\n",
       "      <td>2005.000000</td>\n",
       "      <td>2.000000</td>\n",
       "      <td>4.000000</td>\n",
       "      <td>30.000000</td>\n",
       "      <td>30.000000</td>\n",
       "      <td>30.000000</td>\n",
       "      <td>8.000000</td>\n",
       "      <td>7.000000</td>\n",
       "      <td>6.150000</td>\n",
       "      <td>0.000000</td>\n",
       "      <td>20.000000</td>\n",
       "      <td>1.000000</td>\n",
       "      <td>1.000000</td>\n",
       "      <td>3.000000</td>\n",
       "      <td>4.000000</td>\n",
       "      <td>1.000000</td>\n",
       "      <td>1.000000</td>\n",
       "    </tr>\n",
       "    <tr>\n",
       "      <th>75%</th>\n",
       "      <td>118610.000000</td>\n",
       "      <td>2011.000000</td>\n",
       "      <td>2.000000</td>\n",
       "      <td>6.000000</td>\n",
       "      <td>60.000000</td>\n",
       "      <td>60.000000</td>\n",
       "      <td>60.000000</td>\n",
       "      <td>12.000000</td>\n",
       "      <td>39.000000</td>\n",
       "      <td>7.039372</td>\n",
       "      <td>5.488010</td>\n",
       "      <td>125.000000</td>\n",
       "      <td>6.000000</td>\n",
       "      <td>6.000000</td>\n",
       "      <td>15.000000</td>\n",
       "      <td>19.000000</td>\n",
       "      <td>5.000000</td>\n",
       "      <td>2.000000</td>\n",
       "    </tr>\n",
       "    <tr>\n",
       "      <th>max</th>\n",
       "      <td>184260.000000</td>\n",
       "      <td>2017.000000</td>\n",
       "      <td>40.000000</td>\n",
       "      <td>11299.000000</td>\n",
       "      <td>60120.000000</td>\n",
       "      <td>60120.000000</td>\n",
       "      <td>60120.000000</td>\n",
       "      <td>120.000000</td>\n",
       "      <td>53680.000000</td>\n",
       "      <td>10.000000</td>\n",
       "      <td>8.221860</td>\n",
       "      <td>73188.000000</td>\n",
       "      <td>1395.000000</td>\n",
       "      <td>1586.000000</td>\n",
       "      <td>6402.000000</td>\n",
       "      <td>11798.000000</td>\n",
       "      <td>5996.000000</td>\n",
       "      <td>5.000000</td>\n",
       "    </tr>\n",
       "  </tbody>\n",
       "</table>\n",
       "</div>"
      ],
      "text/plain": [
       "                  id  yearpublished    minplayers    maxplayers   playingtime  \\\n",
       "count   56932.000000   56930.000000  56930.000000  56930.000000  56930.000000   \n",
       "mean    64124.321998    1874.770385      2.005041      5.573792     59.908818   \n",
       "std     57516.147278     486.079228      0.791646     50.757504    406.324651   \n",
       "min         1.000000   -3500.000000      0.000000      0.000000      0.000000   \n",
       "25%     16145.750000    1989.000000      2.000000      2.000000     15.000000   \n",
       "50%     36955.500000    2005.000000      2.000000      4.000000     30.000000   \n",
       "75%    118610.000000    2011.000000      2.000000      6.000000     60.000000   \n",
       "max    184260.000000    2017.000000     40.000000  11299.000000  60120.000000   \n",
       "\n",
       "        minplaytime   maxplaytime        minage   users_rated  average_rating  \\\n",
       "count  56930.000000  56930.000000  56930.000000  56932.000000    56932.000000   \n",
       "mean      57.446057     59.908818      7.592816    231.211305        6.015911   \n",
       "std      393.074343    406.324651      4.868998   1363.681366        1.578552   \n",
       "min        0.000000      0.000000      0.000000      1.000000        1.000000   \n",
       "25%       15.000000     15.000000      4.000000      2.000000        5.000000   \n",
       "50%       30.000000     30.000000      8.000000      7.000000        6.150000   \n",
       "75%       60.000000     60.000000     12.000000     39.000000        7.039372   \n",
       "max    60120.000000  60120.000000    120.000000  53680.000000       10.000000   \n",
       "\n",
       "       bayes_average_rating  total_owners  total_traders  total_wanters  \\\n",
       "count          56932.000000  56932.000000   56932.000000   56932.000000   \n",
       "mean               1.653365    374.264754      13.157750      17.990937   \n",
       "std                2.645948   1786.432000      46.970226      71.961726   \n",
       "min                0.000000      0.000000       0.000000       0.000000   \n",
       "25%                0.000000      5.000000       0.000000       0.000000   \n",
       "50%                0.000000     20.000000       1.000000       1.000000   \n",
       "75%                5.488010    125.000000       6.000000       6.000000   \n",
       "max                8.221860  73188.000000    1395.000000    1586.000000   \n",
       "\n",
       "       total_wishers  total_comments  total_weights  average_weight  \n",
       "count   56932.000000    56932.000000   56932.000000    56932.000000  \n",
       "mean       60.539486       70.298672      23.533496        1.269279  \n",
       "std       284.070672      338.267232     138.008185        1.213857  \n",
       "min         0.000000        0.000000       0.000000        0.000000  \n",
       "25%         0.000000        1.000000       0.000000        0.000000  \n",
       "50%         3.000000        4.000000       1.000000        1.000000  \n",
       "75%        15.000000       19.000000       5.000000        2.000000  \n",
       "max      6402.000000    11798.000000    5996.000000        5.000000  "
      ]
     },
     "execution_count": 14,
     "metadata": {},
     "output_type": "execute_result"
    }
   ],
   "source": [
    "games.describe()"
   ]
  },
  {
   "cell_type": "code",
   "execution_count": 15,
   "metadata": {},
   "outputs": [
    {
     "name": "stdout",
     "output_type": "stream",
     "text": [
      "<class 'pandas.core.frame.DataFrame'>\n",
      "Int64Index: 56932 entries, 0 to 81279\n",
      "Data columns (total 20 columns):\n",
      " #   Column                Non-Null Count  Dtype  \n",
      "---  ------                --------------  -----  \n",
      " 0   id                    56932 non-null  int64  \n",
      " 1   type                  56932 non-null  object \n",
      " 2   name                  56896 non-null  object \n",
      " 3   yearpublished         56930 non-null  float64\n",
      " 4   minplayers            56930 non-null  float64\n",
      " 5   maxplayers            56930 non-null  float64\n",
      " 6   playingtime           56930 non-null  float64\n",
      " 7   minplaytime           56930 non-null  float64\n",
      " 8   maxplaytime           56930 non-null  float64\n",
      " 9   minage                56930 non-null  float64\n",
      " 10  users_rated           56932 non-null  int64  \n",
      " 11  average_rating        56932 non-null  float64\n",
      " 12  bayes_average_rating  56932 non-null  float64\n",
      " 13  total_owners          56932 non-null  int64  \n",
      " 14  total_traders         56932 non-null  int64  \n",
      " 15  total_wanters         56932 non-null  int64  \n",
      " 16  total_wishers         56932 non-null  int64  \n",
      " 17  total_comments        56932 non-null  int64  \n",
      " 18  total_weights         56932 non-null  int64  \n",
      " 19  average_weight        56932 non-null  float64\n",
      "dtypes: float64(10), int64(8), object(2)\n",
      "memory usage: 9.1+ MB\n"
     ]
    }
   ],
   "source": [
    "games.info()"
   ]
  },
  {
   "cell_type": "code",
   "execution_count": 21,
   "metadata": {},
   "outputs": [
    {
     "data": {
      "image/png": "[encoded data removed]",
      "text/plain": [
       "<Figure size 1440x648 with 2 Axes>"
      ]
     },
     "metadata": {
      "needs_background": "light"
     },
     "output_type": "display_data"
    }
   ],
   "source": [
    "## plotting the data to get some insight. seaborn heatmap offers a great visual intuition about the data\n",
    "corrmat=games.corr()\n",
    "fig=plt.figure(figsize=(20,9))\n",
    "sns.heatmap(corrmat,vmax=.8,square=True)\n",
    "plt.show()\n"
   ]
  },
  {
   "cell_type": "code",
   "execution_count": 27,
   "metadata": {},
   "outputs": [
    {
     "name": "stdout",
     "output_type": "stream",
     "text": [
      "['id', 'type', 'name', 'yearpublished', 'minplayers', 'maxplayers', 'playingtime', 'minplaytime', 'maxplaytime', 'minage', 'users_rated', 'average_rating', 'bayes_average_rating', 'total_owners', 'total_traders', 'total_wanters', 'total_wishers', 'total_comments', 'total_weights', 'average_weight']\n",
      "['yearpublished', 'minplayers', 'maxplayers', 'playingtime', 'minplaytime', 'maxplaytime', 'minage', 'users_rated', 'total_owners', 'total_traders', 'total_wanters', 'total_wishers', 'total_comments', 'total_weights', 'average_weight']\n"
     ]
    }
   ],
   "source": [
    "# we do not want some data to be ther in our training models such as id, name as they do not have any impact on our prediction of game_review.\n",
    "# again since  our target is to predict game_review, we do not want averera_review and bayes_average_review to be ther in the data\n",
    "# lets drop these columns\n",
    "# .tolist() is a very usefull function\n",
    "columns=games.columns.tolist()\n",
    "print(columns)\n",
    "\n",
    "#now we want ot filter our columns\n",
    "\n",
    "columns_final=[c for c in columns if c not in [\"bayes_average_rating\",\"average_rating\",\"id\",\"name\",\"type\"]]\n",
    "print(columns_final)"
   ]
  },
  {
   "cell_type": "code",
   "execution_count": 30,
   "metadata": {},
   "outputs": [],
   "source": [
    "target=\"average_rating\"\n",
    "train=games.sample(frac=0.8,random_state=1)\n",
    "test=games.loc[~games.index.isin(train.index)]"
   ]
  },
  {
   "cell_type": "code",
   "execution_count": 31,
   "metadata": {},
   "outputs": [
    {
     "name": "stdout",
     "output_type": "stream",
     "text": [
      "(45546, 20)\n",
      "(11386, 20)\n"
     ]
    }
   ],
   "source": [
    "print(train.shape)\n",
    "print(test.shape)"
   ]
  },
  {
   "cell_type": "code",
   "execution_count": 33,
   "metadata": {},
   "outputs": [
    {
     "name": "stdout",
     "output_type": "stream",
     "text": [
      "<class 'pandas.core.frame.DataFrame'>\n",
      "Int64Index: 45546 entries, 49731 to 30333\n",
      "Data columns (total 20 columns):\n",
      " #   Column                Non-Null Count  Dtype  \n",
      "---  ------                --------------  -----  \n",
      " 0   id                    45546 non-null  int64  \n",
      " 1   type                  45546 non-null  object \n",
      " 2   name                  45515 non-null  object \n",
      " 3   yearpublished         45544 non-null  float64\n",
      " 4   minplayers            45544 non-null  float64\n",
      " 5   maxplayers            45544 non-null  float64\n",
      " 6   playingtime           45544 non-null  float64\n",
      " 7   minplaytime           45544 non-null  float64\n",
      " 8   maxplaytime           45544 non-null  float64\n",
      " 9   minage                45544 non-null  float64\n",
      " 10  users_rated           45546 non-null  int64  \n",
      " 11  average_rating        45546 non-null  float64\n",
      " 12  bayes_average_rating  45546 non-null  float64\n",
      " 13  total_owners          45546 non-null  int64  \n",
      " 14  total_traders         45546 non-null  int64  \n",
      " 15  total_wanters         45546 non-null  int64  \n",
      " 16  total_wishers         45546 non-null  int64  \n",
      " 17  total_comments        45546 non-null  int64  \n",
      " 18  total_weights         45546 non-null  int64  \n",
      " 19  average_weight        45546 non-null  float64\n",
      "dtypes: float64(10), int64(8), object(2)\n",
      "memory usage: 7.3+ MB\n"
     ]
    }
   ],
   "source": [
    "train.info()"
   ]
  },
  {
   "cell_type": "code",
   "execution_count": 34,
   "metadata": {},
   "outputs": [],
   "source": [
    "train_set=train[columns_final]\n",
    "train_target=train[target]\n",
    "test_set=test[columns_final]\n",
    "test_target=test[target]"
   ]
  },
  {
   "cell_type": "code",
   "execution_count": 36,
   "metadata": {},
   "outputs": [],
   "source": [
    "from sklearn.linear_model import LinearRegression"
   ]
  },
  {
   "cell_type": "code",
   "execution_count": 38,
   "metadata": {},
   "outputs": [
    {
     "data": {
      "text/plain": [
       "pandas.core.frame.DataFrame"
      ]
     },
     "execution_count": 38,
     "metadata": {},
     "output_type": "execute_result"
    }
   ],
   "source": [
    "type(games)"
   ]
  },
  {
   "cell_type": "code",
   "execution_count": null,
   "metadata": {},
   "outputs": [],
   "source": [
    "median=games[\"\"].median()\n",
    "isn(housing.isnull().any(axis=1)).fillna(median,inplace=True)"
   ]
  },
  {
   "cell_type": "code",
   "execution_count": 39,
   "metadata": {},
   "outputs": [
    {
     "data": {
      "text/html": [
       "<div>\n",
       "<style scoped>\n",
       "    .dataframe tbody tr th:only-of-type {\n",
       "        vertical-align: middle;\n",
       "    }\n",
       "\n",
       "    .dataframe tbody tr th {\n",
       "        vertical-align: top;\n",
       "    }\n",
       "\n",
       "    .dataframe thead th {\n",
       "        text-align: right;\n",
       "    }\n",
       "</style>\n",
       "<table border=\"1\" class=\"dataframe\">\n",
       "  <thead>\n",
       "    <tr style=\"text-align: right;\">\n",
       "      <th></th>\n",
       "      <th>id</th>\n",
       "      <th>type</th>\n",
       "      <th>name</th>\n",
       "      <th>yearpublished</th>\n",
       "      <th>minplayers</th>\n",
       "      <th>maxplayers</th>\n",
       "      <th>playingtime</th>\n",
       "      <th>minplaytime</th>\n",
       "      <th>maxplaytime</th>\n",
       "      <th>minage</th>\n",
       "      <th>users_rated</th>\n",
       "      <th>average_rating</th>\n",
       "      <th>bayes_average_rating</th>\n",
       "      <th>total_owners</th>\n",
       "      <th>total_traders</th>\n",
       "      <th>total_wanters</th>\n",
       "      <th>total_wishers</th>\n",
       "      <th>total_comments</th>\n",
       "      <th>total_weights</th>\n",
       "      <th>average_weight</th>\n",
       "    </tr>\n",
       "  </thead>\n",
       "  <tbody>\n",
       "    <tr>\n",
       "      <th>81260</th>\n",
       "      <td>184187</td>\n",
       "      <td>boardgameexpansion</td>\n",
       "      <td>Rum &amp; Bones: Skullkicker heroes</td>\n",
       "      <td>2015.0</td>\n",
       "      <td>2.0</td>\n",
       "      <td>6.0</td>\n",
       "      <td>0.0</td>\n",
       "      <td>60.0</td>\n",
       "      <td>0.0</td>\n",
       "      <td>14.0</td>\n",
       "      <td>1</td>\n",
       "      <td>8.0</td>\n",
       "      <td>0.0</td>\n",
       "      <td>16</td>\n",
       "      <td>0</td>\n",
       "      <td>0</td>\n",
       "      <td>1</td>\n",
       "      <td>2</td>\n",
       "      <td>1</td>\n",
       "      <td>1.0</td>\n",
       "    </tr>\n",
       "    <tr>\n",
       "      <th>81261</th>\n",
       "      <td>184189</td>\n",
       "      <td>boardgameexpansion</td>\n",
       "      <td>Rum &amp; Bones: Luck Goddesses</td>\n",
       "      <td>2015.0</td>\n",
       "      <td>2.0</td>\n",
       "      <td>6.0</td>\n",
       "      <td>0.0</td>\n",
       "      <td>60.0</td>\n",
       "      <td>0.0</td>\n",
       "      <td>14.0</td>\n",
       "      <td>1</td>\n",
       "      <td>8.0</td>\n",
       "      <td>0.0</td>\n",
       "      <td>19</td>\n",
       "      <td>0</td>\n",
       "      <td>0</td>\n",
       "      <td>1</td>\n",
       "      <td>2</td>\n",
       "      <td>1</td>\n",
       "      <td>1.0</td>\n",
       "    </tr>\n",
       "    <tr>\n",
       "      <th>81263</th>\n",
       "      <td>184195</td>\n",
       "      <td>boardgameexpansion</td>\n",
       "      <td>Rum &amp; Bones: Mercenary Tide Deck</td>\n",
       "      <td>2015.0</td>\n",
       "      <td>2.0</td>\n",
       "      <td>6.0</td>\n",
       "      <td>0.0</td>\n",
       "      <td>60.0</td>\n",
       "      <td>0.0</td>\n",
       "      <td>14.0</td>\n",
       "      <td>1</td>\n",
       "      <td>8.0</td>\n",
       "      <td>0.0</td>\n",
       "      <td>22</td>\n",
       "      <td>0</td>\n",
       "      <td>0</td>\n",
       "      <td>0</td>\n",
       "      <td>2</td>\n",
       "      <td>1</td>\n",
       "      <td>1.0</td>\n",
       "    </tr>\n",
       "    <tr>\n",
       "      <th>81278</th>\n",
       "      <td>184258</td>\n",
       "      <td>boardgame</td>\n",
       "      <td>Rocket Shogi</td>\n",
       "      <td>2012.0</td>\n",
       "      <td>2.0</td>\n",
       "      <td>2.0</td>\n",
       "      <td>0.0</td>\n",
       "      <td>10.0</td>\n",
       "      <td>0.0</td>\n",
       "      <td>8.0</td>\n",
       "      <td>1</td>\n",
       "      <td>7.0</td>\n",
       "      <td>0.0</td>\n",
       "      <td>0</td>\n",
       "      <td>0</td>\n",
       "      <td>0</td>\n",
       "      <td>0</td>\n",
       "      <td>1</td>\n",
       "      <td>0</td>\n",
       "      <td>0.0</td>\n",
       "    </tr>\n",
       "    <tr>\n",
       "      <th>81279</th>\n",
       "      <td>184260</td>\n",
       "      <td>boardgame</td>\n",
       "      <td>Tricky Pirates</td>\n",
       "      <td>2015.0</td>\n",
       "      <td>2.0</td>\n",
       "      <td>4.0</td>\n",
       "      <td>60.0</td>\n",
       "      <td>30.0</td>\n",
       "      <td>60.0</td>\n",
       "      <td>8.0</td>\n",
       "      <td>1</td>\n",
       "      <td>7.0</td>\n",
       "      <td>0.0</td>\n",
       "      <td>1</td>\n",
       "      <td>0</td>\n",
       "      <td>0</td>\n",
       "      <td>0</td>\n",
       "      <td>0</td>\n",
       "      <td>2</td>\n",
       "      <td>1.5</td>\n",
       "    </tr>\n",
       "  </tbody>\n",
       "</table>\n",
       "</div>"
      ],
      "text/plain": [
       "           id                type                              name  \\\n",
       "81260  184187  boardgameexpansion   Rum & Bones: Skullkicker heroes   \n",
       "81261  184189  boardgameexpansion       Rum & Bones: Luck Goddesses   \n",
       "81263  184195  boardgameexpansion  Rum & Bones: Mercenary Tide Deck   \n",
       "81278  184258           boardgame                      Rocket Shogi   \n",
       "81279  184260           boardgame                    Tricky Pirates   \n",
       "\n",
       "       yearpublished  minplayers  maxplayers  playingtime  minplaytime  \\\n",
       "81260         2015.0         2.0         6.0          0.0         60.0   \n",
       "81261         2015.0         2.0         6.0          0.0         60.0   \n",
       "81263         2015.0         2.0         6.0          0.0         60.0   \n",
       "81278         2012.0         2.0         2.0          0.0         10.0   \n",
       "81279         2015.0         2.0         4.0         60.0         30.0   \n",
       "\n",
       "       maxplaytime  minage  users_rated  average_rating  bayes_average_rating  \\\n",
       "81260          0.0    14.0            1             8.0                   0.0   \n",
       "81261          0.0    14.0            1             8.0                   0.0   \n",
       "81263          0.0    14.0            1             8.0                   0.0   \n",
       "81278          0.0     8.0            1             7.0                   0.0   \n",
       "81279         60.0     8.0            1             7.0                   0.0   \n",
       "\n",
       "       total_owners  total_traders  total_wanters  total_wishers  \\\n",
       "81260            16              0              0              1   \n",
       "81261            19              0              0              1   \n",
       "81263            22              0              0              0   \n",
       "81278             0              0              0              0   \n",
       "81279             1              0              0              0   \n",
       "\n",
       "       total_comments  total_weights  average_weight  \n",
       "81260               2              1             1.0  \n",
       "81261               2              1             1.0  \n",
       "81263               2              1             1.0  \n",
       "81278               1              0             0.0  \n",
       "81279               0              2             1.5  "
      ]
     },
     "execution_count": 39,
     "metadata": {},
     "output_type": "execute_result"
    }
   ],
   "source": []
  },
  {
   "cell_type": "code",
   "execution_count": 47,
   "metadata": {},
   "outputs": [],
   "source": [
    "from sklearn.preprocessing import StandardScaler\n",
    "from sklearn.pipeline import Pipeline\n",
    "from sklearn.impute import SimpleImputer"
   ]
  },
  {
   "cell_type": "code",
   "execution_count": 43,
   "metadata": {},
   "outputs": [],
   "source": [
    "from sklearn.base import BaseEstimator, TransformerMixin\n",
    "\n",
    "# Create a class to select numerical or categorical columns \n",
    "# since Scikit-Learn doesn't handle DataFrames yet\n",
    "class DataFrameSelector(BaseEstimator, TransformerMixin):\n",
    "    def __init__(self, attribute_names):\n",
    "        self.attribute_names = attribute_names\n",
    "    def fit(self, X, y=None):\n",
    "        return self\n",
    "    def transform(self, X):\n",
    "        return X[self.attribute_names].values\n",
    "#helps us to run pipelines on the num and cat columns"
   ]
  },
  {
   "cell_type": "code",
   "execution_count": 52,
   "metadata": {},
   "outputs": [
    {
     "data": {
      "text/plain": [
       "DataFrameSelector(attribute_names=['yearpublished', 'minplayers', 'maxplayers',\n",
       "                                   'playingtime', 'minplaytime', 'maxplaytime',\n",
       "                                   'minage', 'users_rated', 'total_owners',\n",
       "                                   'total_traders', 'total_wanters',\n",
       "                                   'total_wishers', 'total_comments',\n",
       "                                   'total_weights', 'average_weight'])"
      ]
     },
     "execution_count": 52,
     "metadata": {},
     "output_type": "execute_result"
    }
   ],
   "source": [
    "DataFrameSelector(columns_final)"
   ]
  },
  {
   "cell_type": "code",
   "execution_count": 55,
   "metadata": {},
   "outputs": [
    {
     "ename": "TypeError",
     "evalue": "'ABCMeta' object is not subscriptable",
     "output_type": "error",
     "traceback": [
      "\u001b[1;31m---------------------------------------------------------------------------\u001b[0m",
      "\u001b[1;31mTypeError\u001b[0m                                 Traceback (most recent call last)",
      "\u001b[1;32m<ipython-input-55-87f55af9472d>\u001b[0m in \u001b[0;36m<module>\u001b[1;34m\u001b[0m\n\u001b[1;32m----> 1\u001b[1;33m \u001b[0mgm_pipeline\u001b[0m\u001b[1;33m=\u001b[0m\u001b[0mPipeline\u001b[0m\u001b[1;33m[\u001b[0m\u001b[1;33m(\u001b[0m\u001b[1;34m'selector'\u001b[0m\u001b[1;33m,\u001b[0m\u001b[0mDataFrameSelector\u001b[0m\u001b[1;33m(\u001b[0m\u001b[0mcolumns_final\u001b[0m\u001b[1;33m)\u001b[0m\u001b[1;33m)\u001b[0m\u001b[1;33m,\u001b[0m\u001b[1;33m(\u001b[0m\u001b[1;34m'imputer'\u001b[0m\u001b[1;33m,\u001b[0m\u001b[0mSimpleImputer\u001b[0m\u001b[1;33m(\u001b[0m\u001b[0mstrategy\u001b[0m\u001b[1;33m=\u001b[0m\u001b[1;34m'median'\u001b[0m\u001b[1;33m)\u001b[0m\u001b[1;33m)\u001b[0m\u001b[1;33m]\u001b[0m\u001b[1;33m\u001b[0m\u001b[1;33m\u001b[0m\u001b[0m\n\u001b[0m",
      "\u001b[1;31mTypeError\u001b[0m: 'ABCMeta' object is not subscriptable"
     ]
    }
   ],
   "source": [
    "gm_pipeline=Pipeline[('selector',DataFrameSelector(columns_final)),('imputer',SimpleImputer(strategy='median'))]"
   ]
  },
  {
   "cell_type": "code",
   "execution_count": 67,
   "metadata": {},
   "outputs": [
    {
     "data": {
      "text/plain": [
       "0        False\n",
       "1        False\n",
       "2        False\n",
       "3        False\n",
       "4        False\n",
       "         ...  \n",
       "81260    False\n",
       "81261    False\n",
       "81263    False\n",
       "81278    False\n",
       "81279    False\n",
       "Length: 56932, dtype: bool"
      ]
     },
     "execution_count": 67,
     "metadata": {},
     "output_type": "execute_result"
    }
   ],
   "source": [
    "isn=games[columns_final].isnull()\n",
    "isn.any(axis=1)\n"
   ]
  },
  {
   "cell_type": "code",
   "execution_count": 62,
   "metadata": {},
   "outputs": [
    {
     "name": "stdout",
     "output_type": "stream",
     "text": [
      "<class 'pandas.core.frame.DataFrame'>\n",
      "Int64Index: 45546 entries, 49731 to 30333\n",
      "Data columns (total 20 columns):\n",
      " #   Column                Non-Null Count  Dtype  \n",
      "---  ------                --------------  -----  \n",
      " 0   id                    45546 non-null  int64  \n",
      " 1   type                  45546 non-null  object \n",
      " 2   name                  45515 non-null  object \n",
      " 3   yearpublished         45544 non-null  float64\n",
      " 4   minplayers            45544 non-null  float64\n",
      " 5   maxplayers            45544 non-null  float64\n",
      " 6   playingtime           45544 non-null  float64\n",
      " 7   minplaytime           45544 non-null  float64\n",
      " 8   maxplaytime           45544 non-null  float64\n",
      " 9   minage                45544 non-null  float64\n",
      " 10  users_rated           45546 non-null  int64  \n",
      " 11  average_rating        45546 non-null  float64\n",
      " 12  bayes_average_rating  45546 non-null  float64\n",
      " 13  total_owners          45546 non-null  int64  \n",
      " 14  total_traders         45546 non-null  int64  \n",
      " 15  total_wanters         45546 non-null  int64  \n",
      " 16  total_wishers         45546 non-null  int64  \n",
      " 17  total_comments        45546 non-null  int64  \n",
      " 18  total_weights         45546 non-null  int64  \n",
      " 19  average_weight        45546 non-null  float64\n",
      "dtypes: float64(10), int64(8), object(2)\n",
      "memory usage: 7.3+ MB\n"
     ]
    }
   ],
   "source": [
    "train.info()"
   ]
  },
  {
   "cell_type": "code",
   "execution_count": 68,
   "metadata": {},
   "outputs": [],
   "source": [
    "bool_series=pd.notnull(games['minage'])"
   ]
  },
  {
   "cell_type": "code",
   "execution_count": 69,
   "metadata": {},
   "outputs": [],
   "source": [
    "games=games[bool_series]"
   ]
  },
  {
   "cell_type": "code",
   "execution_count": 71,
   "metadata": {},
   "outputs": [
    {
     "name": "stdout",
     "output_type": "stream",
     "text": [
      "<class 'pandas.core.frame.DataFrame'>\n",
      "Int64Index: 56930 entries, 0 to 81279\n",
      "Data columns (total 15 columns):\n",
      " #   Column          Non-Null Count  Dtype  \n",
      "---  ------          --------------  -----  \n",
      " 0   yearpublished   56930 non-null  float64\n",
      " 1   minplayers      56930 non-null  float64\n",
      " 2   maxplayers      56930 non-null  float64\n",
      " 3   playingtime     56930 non-null  float64\n",
      " 4   minplaytime     56930 non-null  float64\n",
      " 5   maxplaytime     56930 non-null  float64\n",
      " 6   minage          56930 non-null  float64\n",
      " 7   users_rated     56930 non-null  int64  \n",
      " 8   total_owners    56930 non-null  int64  \n",
      " 9   total_traders   56930 non-null  int64  \n",
      " 10  total_wanters   56930 non-null  int64  \n",
      " 11  total_wishers   56930 non-null  int64  \n",
      " 12  total_comments  56930 non-null  int64  \n",
      " 13  total_weights   56930 non-null  int64  \n",
      " 14  average_weight  56930 non-null  float64\n",
      "dtypes: float64(8), int64(7)\n",
      "memory usage: 6.9 MB\n"
     ]
    }
   ],
   "source": [
    "games[columns_final].info()"
   ]
  },
  {
   "cell_type": "code",
   "execution_count": 126,
   "metadata": {},
   "outputs": [],
   "source": [
    "target=\"average_rating\"\n",
    "train=games.sample(frac=0.8,random_state=1)\n",
    "test=games.loc[~games.index.isin(train.index)]\n"
   ]
  },
  {
   "cell_type": "code",
   "execution_count": 158,
   "metadata": {},
   "outputs": [],
   "source": [
    "train_set=train[columns_final]\n",
    "train_target=train['average_rating']\n",
    "test_set=test[columns_final]\n",
    "test_target=test['average_rating']"
   ]
  },
  {
   "cell_type": "code",
   "execution_count": 159,
   "metadata": {},
   "outputs": [],
   "source": [
    "from sklearn.linear_model import LinearRegression"
   ]
  },
  {
   "cell_type": "code",
   "execution_count": 171,
   "metadata": {},
   "outputs": [
    {
     "data": {
      "text/plain": [
       "LinearRegression(copy_X=True, fit_intercept=True, n_jobs=None, normalize=False)"
      ]
     },
     "execution_count": 171,
     "metadata": {},
     "output_type": "execute_result"
    }
   ],
   "source": [
    "LR=LinearRegression()\n",
    "LR.fit(train_set,train_target)"
   ]
  },
  {
   "cell_type": "code",
   "execution_count": 172,
   "metadata": {},
   "outputs": [],
   "source": [
    "#lets see how good are our predictions on our teset data\n",
    "predictions=LR.predict(test_set)"
   ]
  },
  {
   "cell_type": "code",
   "execution_count": 173,
   "metadata": {},
   "outputs": [],
   "source": [
    "from sklearn.metrics import mean_squared_error"
   ]
  },
  {
   "cell_type": "code",
   "execution_count": 174,
   "metadata": {},
   "outputs": [],
   "source": [
    "mean_squared_error=mean_squared_error(predictions,test_target)"
   ]
  },
  {
   "cell_type": "code",
   "execution_count": 175,
   "metadata": {},
   "outputs": [
    {
     "name": "stdout",
     "output_type": "stream",
     "text": [
      "2.1037979217684066\n"
     ]
    }
   ],
   "source": [
    "print(mean_squared_error)"
   ]
  },
  {
   "cell_type": "code",
   "execution_count": 165,
   "metadata": {},
   "outputs": [],
   "source": [
    "from sklearn.ensemble import RandomForestRegressor"
   ]
  },
  {
   "cell_type": "code",
   "execution_count": 176,
   "metadata": {},
   "outputs": [
    {
     "data": {
      "text/plain": [
       "RandomForestRegressor(bootstrap=True, ccp_alpha=0.0, criterion='mse',\n",
       "                      max_depth=None, max_features='auto', max_leaf_nodes=None,\n",
       "                      max_samples=None, min_impurity_decrease=0.0,\n",
       "                      min_impurity_split=None, min_samples_leaf=10,\n",
       "                      min_samples_split=2, min_weight_fraction_leaf=0.0,\n",
       "                      n_estimators=100, n_jobs=None, oob_score=False,\n",
       "                      random_state=1, verbose=0, warm_start=False)"
      ]
     },
     "execution_count": 176,
     "metadata": {},
     "output_type": "execute_result"
    }
   ],
   "source": [
    "RFR=RandomForestRegressor(n_estimators=100,min_samples_leaf=10,random_state=1)\n",
    "RFR.fit(train_set,train_target)"
   ]
  },
  {
   "cell_type": "code",
   "execution_count": 190,
   "metadata": {},
   "outputs": [
    {
     "name": "stdout",
     "output_type": "stream",
     "text": [
      "6.93003492964049\n",
      "6.595659913621573\n"
     ]
    }
   ],
   "source": [
    "RFR_predictions=RFR.predict(test_set)\n",
    "print(RFR_predicttions[110])\n",
    "print(predictions[110])"
   ]
  },
  {
   "cell_type": "code",
   "execution_count": 195,
   "metadata": {},
   "outputs": [
    {
     "name": "stdout",
     "output_type": "stream",
     "text": [
      "8.113439999999999\n"
     ]
    }
   ],
   "source": [
    "print(test_target[100])"
   ]
  },
  {
   "cell_type": "code",
   "execution_count": 138,
   "metadata": {},
   "outputs": [
    {
     "name": "stdout",
     "output_type": "stream",
     "text": [
      "(11386, 15)\n",
      "(11386,)\n"
     ]
    }
   ],
   "source": [
    "print(test_set.shape)\n",
    "print(test_target.shape)"
   ]
  },
  {
   "cell_type": "code",
   "execution_count": 109,
   "metadata": {},
   "outputs": [
    {
     "name": "stdout",
     "output_type": "stream",
     "text": [
      "<class 'pandas.core.frame.DataFrame'>\n",
      "Int64Index: 11386 entries, 9 to 81279\n",
      "Data columns (total 1 columns):\n",
      " #   Column          Non-Null Count  Dtype  \n",
      "---  ------          --------------  -----  \n",
      " 0   average_rating  11386 non-null  float64\n",
      "dtypes: float64(1)\n",
      "memory usage: 177.9 KB\n",
      "None\n",
      "-____----____----____\n",
      "<class 'pandas.core.frame.DataFrame'>\n",
      "Int64Index: 11386 entries, 9 to 81279\n",
      "Data columns (total 15 columns):\n",
      " #   Column          Non-Null Count  Dtype  \n",
      "---  ------          --------------  -----  \n",
      " 0   yearpublished   11386 non-null  float64\n",
      " 1   minplayers      11386 non-null  float64\n",
      " 2   maxplayers      11386 non-null  float64\n",
      " 3   playingtime     11386 non-null  float64\n",
      " 4   minplaytime     11386 non-null  float64\n",
      " 5   maxplaytime     11386 non-null  float64\n",
      " 6   minage          11386 non-null  float64\n",
      " 7   users_rated     11386 non-null  int64  \n",
      " 8   total_owners    11386 non-null  int64  \n",
      " 9   total_traders   11386 non-null  int64  \n",
      " 10  total_wanters   11386 non-null  int64  \n",
      " 11  total_wishers   11386 non-null  int64  \n",
      " 12  total_comments  11386 non-null  int64  \n",
      " 13  total_weights   11386 non-null  int64  \n",
      " 14  average_weight  11386 non-null  float64\n",
      "dtypes: float64(8), int64(7)\n",
      "memory usage: 1.4 MB\n",
      "None\n"
     ]
    }
   ],
   "source": [
    "print(test_d.info())\n",
    "print(\"-____----____----____\")\n",
    "print(test_set.info())"
   ]
  },
  {
   "cell_type": "code",
   "execution_count": 153,
   "metadata": {},
   "outputs": [
    {
     "name": "stdout",
     "output_type": "stream",
     "text": [
      "<class 'pandas.core.frame.DataFrame'>\n",
      "<class 'pandas.core.frame.DataFrame'>\n",
      "Int64Index: 11386 entries, 9 to 81279\n",
      "Data columns (total 1 columns):\n",
      " #   Column          Non-Null Count  Dtype  \n",
      "---  ------          --------------  -----  \n",
      " 0   average_rating  11386 non-null  float64\n",
      "dtypes: float64(1)\n",
      "memory usage: 177.9 KB\n"
     ]
    }
   ],
   "source": [
    "test_tr=pd.DataFrame(test_target)\n",
    "print(type(test_tr))\n",
    "test_tr.info()"
   ]
  },
  {
   "cell_type": "code",
   "execution_count": 151,
   "metadata": {},
   "outputs": [
    {
     "name": "stdout",
     "output_type": "stream",
     "text": [
      "<class 'numpy.ndarray'>\n",
      "<class 'numpy.ndarray'>\n"
     ]
    }
   ],
   "source": [
    "test_target_nm=test_target.to_numpy()\n",
    "print(type(test_target_nm))\n",
    "test_target_nm.reshape(11386,-1)\n",
    "print(type(test_target_nm))\n",
    "# pd.DataFrame[test_target.reshape(11386,-1)]"
   ]
  },
  {
   "cell_type": "code",
   "execution_count": 123,
   "metadata": {},
   "outputs": [
    {
     "ename": "TypeError",
     "evalue": "'numpy.float64' object is not callable",
     "output_type": "error",
     "traceback": [
      "\u001b[1;31m---------------------------------------------------------------------------\u001b[0m",
      "\u001b[1;31mTypeError\u001b[0m                                 Traceback (most recent call last)",
      "\u001b[1;32m<ipython-input-123-243751aa1cd8>\u001b[0m in \u001b[0;36m<module>\u001b[1;34m\u001b[0m\n\u001b[1;32m----> 1\u001b[1;33m \u001b[0mmean_squared_error\u001b[0m\u001b[1;33m=\u001b[0m\u001b[0mmean_squared_error\u001b[0m\u001b[1;33m(\u001b[0m\u001b[0mRFR_predicttions\u001b[0m\u001b[1;33m,\u001b[0m\u001b[0mtest_target\u001b[0m\u001b[1;33m)\u001b[0m\u001b[1;33m\u001b[0m\u001b[1;33m\u001b[0m\u001b[0m\n\u001b[0m",
      "\u001b[1;31mTypeError\u001b[0m: 'numpy.float64' object is not callable"
     ]
    }
   ],
   "source": [
    "mean_squared_error=mean_squared_error(RFR_predicttions,test_target)"
   ]
  },
  {
   "cell_type": "code",
   "execution_count": 154,
   "metadata": {},
   "outputs": [
    {
     "data": {
      "text/plain": [
       "7.52018"
      ]
     },
     "execution_count": 154,
     "metadata": {},
     "output_type": "execute_result"
    }
   ],
   "source": [
    "test_target_nm[100]"
   ]
  },
  {
   "cell_type": "code",
   "execution_count": null,
   "metadata": {},
   "outputs": [],
   "source": []
  }
 ],
 "metadata": {
  "kernelspec": {
   "display_name": "Python 3",
   "language": "python",
   "name": "python3"
  },
  "language_info": {
   "codemirror_mode": {
    "name": "ipython",
    "version": 3
   },
   "file_extension": ".py",
   "mimetype": "text/x-python",
   "name": "python",
   "nbconvert_exporter": "python",
   "pygments_lexer": "ipython3",
   "version": "3.7.6"
  }
 },
 "nbformat": 4,
 "nbformat_minor": 4
}
