{
 "cells": [
  {
   "cell_type": "code",
   "execution_count": 2,
   "metadata": {},
   "outputs": [],
   "source": [
    "import nltk"
   ]
  },
  {
   "cell_type": "code",
   "execution_count": 4,
   "metadata": {},
   "outputs": [],
   "source": [
    "import sys\n",
    "import sklearn\n",
    "import numpy\n",
    "import pandas"
   ]
  },
  {
   "cell_type": "code",
   "execution_count": 3,
   "metadata": {},
   "outputs": [
    {
     "name": "stdout",
     "output_type": "stream",
     "text": [
      "3.4.5\n"
     ]
    }
   ],
   "source": [
    "print(nltk.__version__)"
   ]
  },
  {
   "cell_type": "code",
   "execution_count": 4,
   "metadata": {},
   "outputs": [
    {
     "name": "stdout",
     "output_type": "stream",
     "text": [
      "showing info https://raw.githubusercontent.com/nltk/nltk_data/gh-pages/index.xml\n"
     ]
    },
    {
     "data": {
      "text/plain": [
       "True"
      ]
     },
     "execution_count": 4,
     "metadata": {},
     "output_type": "execute_result"
    }
   ],
   "source": [
    "nltk.download()"
   ]
  },
  {
   "cell_type": "code",
   "execution_count": 5,
   "metadata": {},
   "outputs": [],
   "source": [
    "from nltk.tokenize import sent_tokenize,word_tokenize"
   ]
  },
  {
   "cell_type": "code",
   "execution_count": 6,
   "metadata": {},
   "outputs": [
    {
     "name": "stdout",
     "output_type": "stream",
     "text": [
      "['I am learning machine learning.', 'i AM using python as my programming language.', \"It's a wonderful tool\"]\n"
     ]
    }
   ],
   "source": [
    "sentence=\"I am learning machine learning. i AM using python as my programming language. It's a wonderful tool\"\n",
    "sentence_tokenized=sent_tokenize(sentence)\n",
    "print(sentence_tokenized)"
   ]
  },
  {
   "cell_type": "code",
   "execution_count": 7,
   "metadata": {},
   "outputs": [
    {
     "name": "stdout",
     "output_type": "stream",
     "text": [
      "['I', 'am', 'learning', 'machine', 'learning', '.', 'i', 'AM', 'using', 'python', 'as', 'my', 'programming', 'language', '.', 'It', \"'s\", 'a', 'wonderful', 'tool']\n"
     ]
    }
   ],
   "source": [
    "word_tokenized=word_tokenize(sentence)\n",
    "print(word_tokenized)"
   ]
  },
  {
   "cell_type": "code",
   "execution_count": 8,
   "metadata": {},
   "outputs": [
    {
     "name": "stdout",
     "output_type": "stream",
     "text": [
      "{'which', 'no', 'hadn', 'below', 'to', 'haven', 'theirs', 'yours', 'these', 'yourself', 'weren', \"weren't\", 'hers', 'again', 'has', 'yourselves', \"she's\", 'you', 'other', 'they', 'our', 'are', 'she', 'its', 'myself', 'before', 'your', 'were', 'by', 'not', 'wouldn', 'down', 'himself', 'who', \"didn't\", 'needn', 'only', \"hasn't\", 'mustn', 'or', 'does', 'over', 'be', 'whom', 'same', 'some', 'up', \"hadn't\", \"shan't\", 'until', 'as', 'itself', 'those', 'their', 've', 'just', 'mightn', 'doesn', 'too', 'and', 'will', 'there', 'all', 'wasn', 'have', 'ours', 'herself', \"you're\", 'above', 'my', 'me', 'don', 'm', 'doing', 'if', 'd', 'hasn', 'after', 'then', 'being', 'should', \"doesn't\", 'did', 'how', \"should've\", 'of', 'shouldn', 'because', 'can', 'so', 'in', 'ma', 'the', 'during', 'it', 'any', 'an', 'themselves', 'here', 'now', 'them', 'into', 'on', 'both', 'further', 'very', \"you've\", \"couldn't\", 'off', \"won't\", 'that', 'out', 'am', 'isn', 'but', \"you'll\", 'why', 't', 'll', 'her', \"mightn't\", 'most', 'o', 'about', \"aren't\", 'once', 'through', 'is', 'been', 'with', 'when', \"wouldn't\", 'him', 'do', 'his', 're', 'where', \"needn't\", \"isn't\", 'nor', \"don't\", 'shan', 'such', 'what', 'than', 'we', 'having', 'few', 'against', 'while', 'a', 'for', 'i', 'this', \"shouldn't\", \"wasn't\", 'aren', 'under', \"that'll\", 'at', 'y', \"mustn't\", 'between', 'ourselves', 'couldn', 'ain', 'own', 'more', \"you'd\", 'each', \"it's\", 'he', 's', \"haven't\", 'won', 'from', 'didn', 'had', 'was'}\n",
      "179\n"
     ]
    }
   ],
   "source": [
    "#STOPWORDS. words that can very commonly used and hence may not contribute in our predictions or model creation.\n",
    "#so, removing stopwords is an important part of pre-processing in nlp model creation process\n",
    "from nltk.corpus import stopwords\n",
    "stopwords=set(stopwords.words('english'))\n",
    "print(stopwords)\n",
    "print(len(stopwords))"
   ]
  },
  {
   "cell_type": "code",
   "execution_count": 1,
   "metadata": {},
   "outputs": [
    {
     "ename": "NameError",
     "evalue": "name 'word_tokenize' is not defined",
     "output_type": "error",
     "traceback": [
      "\u001b[1;31m---------------------------------------------------------------------------\u001b[0m",
      "\u001b[1;31mNameError\u001b[0m                                 Traceback (most recent call last)",
      "\u001b[1;32m<ipython-input-1-7e41edc65420>\u001b[0m in \u001b[0;36m<module>\u001b[1;34m\u001b[0m\n\u001b[0;32m      2\u001b[0m \u001b[1;31m#first tokenize the sentence\u001b[0m\u001b[1;33m\u001b[0m\u001b[1;33m\u001b[0m\u001b[1;33m\u001b[0m\u001b[0m\n\u001b[0;32m      3\u001b[0m \u001b[1;31m# stop_words=set(stopwords.words('english'))\u001b[0m\u001b[1;33m\u001b[0m\u001b[1;33m\u001b[0m\u001b[1;33m\u001b[0m\u001b[0m\n\u001b[1;32m----> 4\u001b[1;33m \u001b[0mwords\u001b[0m\u001b[1;33m=\u001b[0m\u001b[0mword_tokenize\u001b[0m\u001b[1;33m(\u001b[0m\u001b[0mexample\u001b[0m\u001b[1;33m)\u001b[0m\u001b[1;33m\u001b[0m\u001b[1;33m\u001b[0m\u001b[0m\n\u001b[0m\u001b[0;32m      5\u001b[0m \u001b[0mprint\u001b[0m\u001b[1;33m(\u001b[0m\u001b[0mwords\u001b[0m\u001b[1;33m)\u001b[0m\u001b[1;33m\u001b[0m\u001b[1;33m\u001b[0m\u001b[0m\n\u001b[0;32m      6\u001b[0m \u001b[0mfiltered_words\u001b[0m\u001b[1;33m=\u001b[0m\u001b[1;33m[\u001b[0m\u001b[0mw\u001b[0m \u001b[1;32mfor\u001b[0m \u001b[0mw\u001b[0m \u001b[1;32min\u001b[0m \u001b[0mwords\u001b[0m \u001b[1;32mif\u001b[0m \u001b[1;32mnot\u001b[0m \u001b[0mw\u001b[0m \u001b[1;32min\u001b[0m \u001b[0mstopwords\u001b[0m\u001b[1;33m]\u001b[0m\u001b[1;33m\u001b[0m\u001b[1;33m\u001b[0m\u001b[0m\n",
      "\u001b[1;31mNameError\u001b[0m: name 'word_tokenize' is not defined"
     ]
    }
   ],
   "source": [
    "example=\"this is a sample text demostrating how to remove stopwords from a a sentence\"\n",
    "#first tokenize the sentence\n",
    "# stop_words=set(stopwords.words('english'))\n",
    "words=word_tokenize(example)\n",
    "print(words)\n",
    "filtered_words=[w for w in words if not w in stopwords]\n",
    "print(filtered_words)"
   ]
  },
  {
   "cell_type": "code",
   "execution_count": 11,
   "metadata": {},
   "outputs": [
    {
     "name": "stdout",
     "output_type": "stream",
     "text": [
      "['sample', 'text', 'demostrating', 'remove', 'stopwords', 'sentence', 'sample', 'text', 'demostrating', 'remove', 'stopwords', 'sentence']\n"
     ]
    }
   ],
   "source": [
    "for w in words:\n",
    "    if w not in stopwords:\n",
    "        filtered_words.append(w)\n",
    "print(filtered_words)"
   ]
  },
  {
   "cell_type": "code",
   "execution_count": 12,
   "metadata": {},
   "outputs": [
    {
     "name": "stdout",
     "output_type": "stream",
     "text": [
      "{'which', 'no', 'hadn', 'below', 'to', 'haven', 'theirs', 'yours', 'these', 'yourself', 'weren', \"weren't\", 'hers', 'again', 'has', 'yourselves', \"she's\", 'you', 'other', 'they', 'our', 'are', 'she', 'its', 'myself', 'before', 'your', 'were', 'by', 'not', 'wouldn', 'down', 'himself', 'who', \"didn't\", 'needn', 'only', \"hasn't\", 'mustn', 'or', 'does', 'over', 'be', 'whom', 'same', 'some', 'up', \"hadn't\", \"shan't\", 'until', 'as', 'itself', 'those', 'their', 've', 'just', 'mightn', 'doesn', 'too', 'and', 'will', 'there', 'all', 'wasn', 'have', 'ours', 'herself', \"you're\", 'above', 'my', 'me', 'don', 'm', 'doing', 'if', 'd', 'hasn', 'after', 'then', 'being', 'should', \"doesn't\", 'did', 'how', \"should've\", 'of', 'shouldn', 'because', 'can', 'so', 'in', 'ma', 'the', 'during', 'it', 'any', 'an', 'themselves', 'here', 'now', 'them', 'into', 'on', 'both', 'further', 'very', \"you've\", \"couldn't\", 'off', \"won't\", 'that', 'out', 'am', 'isn', 'but', \"you'll\", 'why', 't', 'll', 'her', \"mightn't\", 'most', 'o', 'about', \"aren't\", 'once', 'through', 'is', 'been', 'with', 'when', \"wouldn't\", 'him', 'do', 'his', 're', 'where', \"needn't\", \"isn't\", 'nor', \"don't\", 'shan', 'such', 'what', 'than', 'we', 'having', 'few', 'against', 'while', 'a', 'for', 'i', 'this', \"shouldn't\", \"wasn't\", 'aren', 'under', \"that'll\", 'at', 'y', \"mustn't\", 'between', 'ourselves', 'couldn', 'ain', 'own', 'more', \"you'd\", 'each', \"it's\", 'he', 's', \"haven't\", 'won', 'from', 'didn', 'had', 'was'}\n"
     ]
    }
   ],
   "source": [
    "from nltk.corpus import stopwords\n",
    "stop_words=set(stopwords.words('english'))\n",
    "print(stop_words)"
   ]
  },
  {
   "cell_type": "code",
   "execution_count": 14,
   "metadata": {},
   "outputs": [],
   "source": [
    "# the next importtant step in NLP pre-processing is stemming. is like chosing only one word from a words which are like stems of the same word. Like\n",
    "# the stemmed word for \"ride\", 'riding', 'rode' will be 'ride'\n",
    "# or we can say that stemming normalizes the sentences\n",
    "from nltk.stem import PorterStemmer"
   ]
  },
  {
   "cell_type": "code",
   "execution_count": 15,
   "metadata": {},
   "outputs": [
    {
     "name": "stdout",
     "output_type": "stream",
     "text": [
      "ride\n",
      "ride\n",
      "rode\n",
      "rider\n",
      "ride\n"
     ]
    }
   ],
   "source": [
    "ps=PorterStemmer()\n",
    "example_stem=['ride','riding','rode','rider','rides']\n",
    "#lets see what we get after stemming\n",
    "for w in example_stem:\n",
    "    print(ps.stem(w))"
   ]
  },
  {
   "cell_type": "code",
   "execution_count": 16,
   "metadata": {},
   "outputs": [
    {
     "name": "stdout",
     "output_type": "stream",
     "text": [
      "['rider', 'while', 'ride', 'hors', ',', 'they', 'often', 'think', 'of', 'how', 'cowboy', 'rode', 'hors']\n"
     ]
    }
   ],
   "source": [
    "# lets now stem an entire sentence\n",
    "text=\"Riders while riding horses, they often thinks of how cowboys rode horses\"\n",
    "tokenized_words=word_tokenize(text)\n",
    "stemmed_words=[ps.stem(w) for w in tokenized_words]\n",
    "print(stemmed_words)"
   ]
  },
  {
   "cell_type": "code",
   "execution_count": 17,
   "metadata": {},
   "outputs": [
    {
     "name": "stdout",
     "output_type": "stream",
     "text": [
      "b'Universal Declaration of Human Rights\\nPreamble\\nWhereas recognition of the inherent dignity and of the equal and inalienable rights of all members of the human family is the foundation of freedom, justice and peace in the world, \\n\\nWhereas disregard and contempt for human rights have resulted in barbarous acts which have outraged the conscience of mankind, and the advent of a world in which human beings shall enjoy freedom of speech and belief and freedom from fear and want has been proclaimed as the highest aspiration of the common people, \\n\\nWhereas it is essential, if man is not to be compelled to have recourse, as a last resort, to rebellion against tyranny and oppression, that human rights should be protected by the rule of law, \\n\\nWhereas it is essential to promote the development of friendly relations between nations, \\n\\nWhereas the peoples of the United Nations have in the Charter reaffirmed their faith in fundamental human rights, in the dignity and worth of the human person and in the equal rights of men and women and have determined to promote social progress and better standards of life in larger freedom, \\n\\nWhereas Member States have pledged themselves to achieve, in cooperation with the United Nations, the promotion of universal respect for and observance of human rights and fundamental freedoms, \\n\\nWhereas a common understanding of these rights and freedoms is of the greatest importance for the full realization of this pledge, \\n\\nNow, therefore, \\n\\nThe General Assembly, \\n\\nProclaims this Universal Declaration of Human Rights as a common standard of achievement for all peoples and all nations, to the end that every individual and every organ of society, keeping this Declaration constantly in mind, shall strive by teaching and education to promote respect for these rights and freedoms and by progressive measures, national and international, to secure their universal and effective recognition and observance, both among the peoples of Member States themselves and among the peoples of territories under their jurisdiction. \\n\\nArticle 1 \\nAll human beings are born free and equal in dignity and rights. They are endowed with reason and conscience and should act towards one another in a spirit of brotherhood. \\n\\nArticle 2 \\nEveryone is entitled to all the rights and freedoms set forth in this Declaration, without distinction of any kind, such as race, colour, sex, language, religion, political or other opinion, national or social origin, property, birth or other status. \\n\\nFurthermore, no distinction shall be made on the basis of the political, jurisdictional or international status of the country or territory to which a person belongs, whether it be independent, trust, non-self-governing or under any other limitation of sovereignty. \\n\\nArticle 3 \\nEveryone has the right to life, liberty and security of person. \\n\\nArticle 4 \\nNo one shall be held in slavery or servitude; slavery and the slave trade shall be prohibited in all their forms. \\n\\nArticle 5 \\nNo one shall be subjected to torture or to cruel, inhuman or degrading treatment or punishment. \\n\\nArticle 6 \\nEveryone has the right to recognition everywhere as a person before the law. \\n\\nArticle 7 \\nAll are equal before the law and are entitled without any discrimination to equal protection of the law. All are entitled to equal protection against any discrimination in violation of this Declaration and against any incitement to such discrimination. \\n\\nArticle 8 \\nEveryone has the right to an effective remedy by the competent national tribunals for acts violating the fundamental rights granted him by the constitution or by law. \\n\\nArticle 9 \\nNo one shall be subjected to arbitrary arrest, detention or exile. \\n\\nArticle 10 \\nEveryone is entitled in full equality to a fair and public hearing by an independent and impartial tribunal, in the determination of his rights and obligations and of any criminal charge against him. \\n\\nArticle 11 \\nEveryone charged with a penal offence has the right to be presumed innocent until proved guilty according to law in a public trial at which he has had all the guarantees necessary for his defence. \\nNo one shall be held guilty of any penal offence on account of any act or omission which did not constitute a penal offence, under national or international law, at the time when it was committed. Nor shall a heavier penalty be imposed than the one that was applicable at the time the penal offence was committed. \\nArticle 12 \\nNo one shall be subjected to arbitrary interference with his privacy, family, home or correspondence, nor to attacks upon his honour and reputation. Everyone has the right to the protection of the law against such interference or attacks. \\n\\nArticle 13 \\nEveryone has the right to freedom of movement and residence within the borders of each State. \\nEveryone has the right to leave any country, including his own, and to return to his country. \\nArticle 14 \\nEveryone has the right to seek and to enjoy in other countries asylum from persecution. \\nThis right may not be invoked in the case of prosecutions genuinely arising from non-political crimes or from acts contrary to the purposes and principles of the United Nations. \\nArticle 15 \\nEveryone has the right to a nationality. \\nNo one shall be arbitrarily deprived of his nationality nor denied the right to change his nationality. \\nArticle 16 \\nMen and women of full age, without any limitation due to race, nationality or religion, have the right to marry and to found a family. They are entitled to equal rights as to marriage, during marriage and at its dissolution. \\nMarriage shall be entered into only with the free and full consent of the intending spouses. \\nThe family is the natural and fundamental group unit of society and is entitled to protection by society and the State. \\nArticle 17 \\nEveryone has the right to own property alone as well as in association with others. \\nNo one shall be arbitrarily deprived of his property. \\nArticle 18 \\nEveryone has the right to freedom of thought, conscience and religion; this right includes freedom to change his religion or belief, and freedom, either alone or in community with others and in public or private, to manifest his religion or belief in teaching, practice, worship and observance. \\n\\nArticle 19 \\nEveryone has the right to freedom of opinion and expression; this right includes freedom to hold opinions without interference and to seek, receive and impart information and ideas through any media and regardless of frontiers. \\n\\nArticle 20 \\nEveryone has the right to freedom of peaceful assembly and association. \\nNo one may be compelled to belong to an association. \\nArticle 21 \\nEveryone has the right to take part in the government of his country, directly or through freely chosen representatives. \\nEveryone has the right to equal access to public service in his country. \\nThe will of the people shall be the basis of the authority of government; this will shall be expressed in periodic and genuine elections which shall be by universal and equal suffrage and shall be held by secret vote or by equivalent free voting procedures. \\nArticle 22 \\nEveryone, as a member of society, has the right to social security and is entitled to realization, through national effort and international co-operation and in accordance with the organization and resources of each State, of the economic, social and cultural rights indispensable for his dignity and the free development of his personality. \\n\\nArticle 23 \\nEveryone has the right to work, to free choice of employment, to just and favourable conditions of work and to protection against unemployment. \\nEveryone, without any discrimination, has the right to equal pay for equal work. \\nEveryone who works has the right to just and favourable remuneration ensuring for himself and his family an existence worthy of human dignity, and supplemented, if necessary, by other means of social protection. \\nEveryone has the right to form and to join trade unions for the protection of his interests. \\nArticle 24 \\nEveryone has the right to rest and leisure, including reasonable limitation of working hours and periodic holidays with pay. \\n\\nArticle 25 \\nEveryone has the right to a standard of living adequate for the health and well-being of himself and of his family, including food, clothing, housing and medical care and necessary social services, and the right to security in the event of unemployment, sickness, disability, widowhood, old age or other lack of livelihood in circumstances beyond his control. \\nMotherhood and childhood are entitled to special care and assistance. All children, whether born in or out of wedlock, shall enjoy the same social protection. \\nArticle 26 \\nEveryone has the right to education. Education shall be free, at least in the elementary and fundamental stages. Elementary education shall be compulsory. Technical and professional education shall be made generally available and higher education shall be equally accessible to all on the basis of merit. \\nEducation shall be directed to the full development of the human personality and to the strengthening of respect for human rights and fundamental freedoms. It shall promote understanding, tolerance and friendship among all nations, racial or religious groups, and shall further the activities of the United Nations for the maintenance of peace. \\nParents have a prior right to choose the kind of education that shall be given to their children. \\nArticle 27 \\nEveryone has the right freely to participate in the cultural life of the community, to enjoy the arts and to share in scientific advancement and its benefits. \\nEveryone has the right to the protection of the moral and material interests resulting from any scientific, literary or artistic production of which he is the author. \\nArticle 28 \\nEveryone is entitled to a social and international order in which the rights and freedoms set forth in this Declaration can be fully realized. \\n\\nArticle 29 \\nEveryone has duties to the community in which alone th'\n"
     ]
    }
   ],
   "source": [
    "#NLTK can handle tenses\n",
    "from nltk.corpus import udhr\n",
    "print(udhr.raw('english-latin1'))"
   ]
  },
  {
   "cell_type": "code",
   "execution_count": 20,
   "metadata": {},
   "outputs": [],
   "source": [
    "from nltk.corpus import state_union\n",
    "from nltk.tokenize import PunktSentenceTokenizer"
   ]
  },
  {
   "cell_type": "code",
   "execution_count": 38,
   "metadata": {},
   "outputs": [
    {
     "data": {
      "text/plain": [
       "['CorpusView',\n",
       " '__class__',\n",
       " '__delattr__',\n",
       " '__dict__',\n",
       " '__dir__',\n",
       " '__doc__',\n",
       " '__eq__',\n",
       " '__format__',\n",
       " '__ge__',\n",
       " '__getattribute__',\n",
       " '__gt__',\n",
       " '__hash__',\n",
       " '__init__',\n",
       " '__init_subclass__',\n",
       " '__le__',\n",
       " '__lt__',\n",
       " '__module__',\n",
       " '__ne__',\n",
       " '__new__',\n",
       " '__reduce__',\n",
       " '__reduce_ex__',\n",
       " '__repr__',\n",
       " '__setattr__',\n",
       " '__sizeof__',\n",
       " '__str__',\n",
       " '__subclasshook__',\n",
       " '__unicode__',\n",
       " '__weakref__',\n",
       " '_encoding',\n",
       " '_fileids',\n",
       " '_get_root',\n",
       " '_para_block_reader',\n",
       " '_read_para_block',\n",
       " '_read_sent_block',\n",
       " '_read_word_block',\n",
       " '_root',\n",
       " '_sent_tokenizer',\n",
       " '_tagset',\n",
       " '_unload',\n",
       " '_word_tokenizer',\n",
       " 'abspath',\n",
       " 'abspaths',\n",
       " 'citation',\n",
       " 'encoding',\n",
       " 'ensure_loaded',\n",
       " 'fileids',\n",
       " 'license',\n",
       " 'open',\n",
       " 'paras',\n",
       " 'raw',\n",
       " 'readme',\n",
       " 'root',\n",
       " 'sents',\n",
       " 'unicode_repr',\n",
       " 'words']"
      ]
     },
     "execution_count": 38,
     "metadata": {},
     "output_type": "execute_result"
    }
   ],
   "source": [
    "dir(state_union)"
   ]
  },
  {
   "cell_type": "code",
   "execution_count": 21,
   "metadata": {},
   "outputs": [
    {
     "data": {
      "text/plain": [
       "[[['PRESIDENT', 'HARRY', 'S', '.', 'TRUMAN', \"'\", 'S', 'ADDRESS', 'BEFORE', 'A', 'JOINT', 'SESSION', 'OF', 'THE', 'CONGRESS']], [['April', '16', ',', '1945']], ...]"
      ]
     },
     "execution_count": 21,
     "metadata": {},
     "output_type": "execute_result"
    }
   ],
   "source": [
    "state_union.paras()"
   ]
  },
  {
   "cell_type": "code",
   "execution_count": 22,
   "metadata": {},
   "outputs": [],
   "source": [
    "train_text=state_union.raw('2005-GWBush.txt')\n",
    "sample_text=state_union.raw('2006-GWBush.txt')"
   ]
  },
  {
   "cell_type": "code",
   "execution_count": 23,
   "metadata": {},
   "outputs": [
    {
     "name": "stdout",
     "output_type": "stream",
     "text": [
      "PRESIDENT GEORGE W. BUSH'S ADDRESS BEFORE A JOINT SESSION OF THE CONGRESS ON THE STATE OF THE UNION\n",
      " \n",
      "February 2, 2005\n",
      "\n",
      "\n",
      "9:10 P.M. EST \n",
      "\n",
      "THE PRESIDENT: Mr. Speaker, Vice President Cheney, members of Congress, fellow citizens: \n",
      "\n",
      "As a new Congress gathers, all of us in the elected branches of government share a great privilege: We've been placed in office by the votes of the people we serve. And tonight that is a privilege we share with newly-elected leaders of Afghanistan, the Palestinian Territories, Ukraine, and a free and sovereign Iraq. (Applause.) \n",
      "\n",
      "Two weeks ago, I stood on the steps of this Capitol and renewed the commitment of our nation to the guiding ideal of liberty for all. This evening I will set forth policies to advance that ideal at home and around the world. \n",
      "\n",
      "Tonight, with a healthy, growing economy, with more Americans going back to work, with our nation an active force for good in the world -- the state of our union is confident and strong. (Applause.) \n",
      "\n",
      "Our generation has been blessed -- by the expansion of opportunity, by advances in medicine, by the security purchased by our parents' sacrifice. Now, as we see a little gray in the mirror -- or a lot of gray -- (laughter) -- and we watch our children moving into adulthood, we ask the question: What will be the state of their union? Members of Congress, the choices we make together will answer that question. Over the next several months, on issue after issue, let us do what Americans have always done, and build a better world for our children and our grandchildren. (Applause.) \n",
      "\n",
      "First, we must be good stewards of this economy, and renew the great institutions on which millions of our fellow citizens rely. America's economy is the fastest growing of any major industrialized nation. In the past four years, we provided tax relief to every person who pays income taxes, overcome a recession, opened up new markets abroad, prosecuted corporate criminals, raised homeownership to its highest level in history, and in the last year alone, the United States has added 2.3 million new jobs. (Applause.) When action was needed, the Congress delivered -- and the nation is grateful. \n",
      "\n",
      "Now we must add to these achievements. By making our economy more flexible, more innovative, and more competitive, we will keep America the economic leader of the world. (Applause.) \n",
      "\n",
      "America's prosperity requires restraining the spending appetite of the federal government. I welcome the bipartisan enthusiasm for spending discipline. I will send you a budget that holds the growth of discretionary spending below inflation, makes tax relief permanent, and stays on track to cut the deficit in half by 2009. (Applause.) My budget substantially reduces or eliminates more than 150 government programs that are not getting results, or duplicate current efforts, or do not fulfill essential priorities. The principle here is clear: Taxpayer dollars must be spent wisely, or not at all. (Applause.) \n",
      "\n",
      "To make our economy stronger and more dynamic, we must prepare a rising generation to fill the jobs of the 21st century. Under the No Child Left Behind Act, standards are higher, test scores are on the rise, and we're closing the achievement gap for minority students. Now we must demand better results from our high schools, so every high school diploma is a ticket to success. We will help an additional 200,000 workers to get training for a better career, by reforming our job training system and strengthening America's community colleges. And we'll make it easier for Americans to afford a college education, by increasing the size of Pell Grants. (Applause.) \n",
      "\n",
      "To make our economy stronger and more competitive, America must reward, not punish, the efforts and dreams of entrepreneurs. Small business is the path of advancement, especially for women and minorities, so we must free small businesses from needless regulation and protect honest job-creators from junk lawsuits. (Applause.) Justice is distorted, and our economy is held back by irresponsible class-actions and frivolous asbestos claims -- and I urge Congress to pass legal reforms this year. (Applause.) \n",
      "\n",
      "To make our economy stronger and more productive, we must make health care more affordable, and give families greater access to good coverage -- (applause) -- and more control over their health decisions. (Applause.) I ask Congress to move forward on a comprehensive health care agenda with tax credits to help low-income workers buy insurance, a community health center in every poor country, improved information technology to prevent medical error and needless costs, association health plans for small businesses and their employees -- (applause) -- expanded health savings accounts -- (applause) -- and medical liability reform that will reduce health care costs and make sure patients have the doctors and care they need. (Applause.) \n",
      "\n",
      "To keep our economy growing, we also need reliable supplies of affordable, environmentally responsible energy. (Applause.) Nearly four years ago, I submitted a comprehensive energy strategy that encourages conservation, alternative sources, a modernized electricity grid, and more production here at home -- including safe, clean nuclear energy. (Applause.) My Clear Skies legislation will cut power plant pollution and improve the health of our citizens. (Applause.) And my budget provides strong funding for leading-edge technology -- from hydrogen-fueled cars, to clean coal, to renewable sources such as ethanol. (Applause.) Four years of debate is enough: I urge Congress to pass legislation that makes America more secure and less dependent on foreign energy. (Applause.) \n",
      "\n",
      "All these proposals are essential to expand this economy and add new jobs -- but they are just the beginning of our duty. To build the prosperity of future generations, we must update institutions that were created to meet the needs of an earlier time. Year after year, Americans are burdened by an archaic, incoherent federal tax code. I've appointed a bipartisan panel to examine the tax code from top to bottom. And when their recommendations are delivered, you and I will work together to give this nation a tax code that is pro-growth, easy to understand, and fair to all. (Applause.) \n",
      "\n",
      "America's immigration system is also outdated -- unsuited to the needs of our economy and to the values of our country. We should not be content with laws that punish hardworking people who want only to provide for their families, and deny businesses willing workers, and invite chaos at our border. It is time for an immigration policy that permits temporary guest workers to fill jobs Americans will not take, that rejects amnesty, that tells us who is entering and leaving our country, and that closes the border to drug dealers and terrorists. (Applause.) \n",
      "\n",
      "One of America's most important institutions -- a symbol of the trust between generations -- is also in need of wise and effective reform. Social Security was a great moral success of the 20th century, and we must honor its great purposes in this new century. (Applause.) The system, however, on its current path, is headed toward bankruptcy. And so we must join together to strengthen and save Social Security. (Applause.) \n",
      "\n",
      "Today, more than 45 million Americans receive Social Security benefits, and millions more are nearing retirement -- and for them the system is sound and fiscally strong. I have a message for every American who is 55 or older: Do not let anyone mislead you; for you, the Social Security system will not change in any way. (Applause.) For younger workers, the Social Security system has serious problems that will grow worse with time. Social Security was created decades ago, for a very different era. In those days, people did not live as long. Benefits were much lower than they are today. And a half-century ago, about sixteen workers paid into the system for each person drawing benefits. \n",
      "\n",
      "Our society has changed in ways the founders of Social Security could not have foreseen. In today's world, people are living longer and, therefore, drawing benefits longer. And those benefits are scheduled to rise dramatically over the next few decades. And instead of sixteen workers paying in for every beneficiary, right now it's only about three workers. And over the next few decades that number will fall to just two workers per beneficiary. With each passing year, fewer workers are paying ever-higher benefits to an ever-larger number of retirees. \n",
      "\n",
      "So here is the result: Thirteen years from now, in 2018, Social Security will be paying out more than it takes in. And every year afterward will bring a new shortfall, bigger than the year before. For example, in the year 2027, the government will somehow have to come up with an extra $200 billion to keep the system afloat -- and by 2033, the annual shortfall would be more than $300 billion. By the year 2042, the entire system would be exhausted and bankrupt. If steps are not taken to avert that outcome, the only solutions would be dramatically higher taxes, massive new borrowing, or sudden and severe cuts in Social Security benefits or other government programs. \n",
      "\n",
      "I recognize that 2018 and 2042 may seem a long way off. But those dates are not so distant, as any parent will tell you. If you have a five-year-old, you're already concerned about how you'll pay for college tuition 13 years down the road. If you've got children in their 20s, as some of us do, the idea of Social Security collapsing before they retire does not seem like a small matter. And it should not be a small matter to the United States Congress. (Applause.) You and I share a responsibility. We must pass reforms that solve the financial problems of Social Security once and for all. \n",
      "\n",
      "Fixing Social Security permanently will require an open, candid review of the options. Some have suggested limiting benefits for wealthy retirees. Former Congressman Tim Penny has raised the possibility of indexing benefits to prices rather than wages. During the 1990s, my predecessor, President Clinton, spoke of increasing the retirement age. Former Senator John Breaux suggested discouraging early collection of Social Security benefits. The late Senator Daniel Patrick Moynihan recommended changing the way benefits are calculated. All these ideas are on the table. \n",
      "\n",
      "I know that none of these reforms would be easy. But we have to move ahead with courage and honesty, because our children's retirement security is more important than partisan politics. (Applause.) I will work with members of Congress to find the most effective combination of reforms. I will listen to anyone who has a good idea to offer. (Applause.) We must, however, be guided by some basic principles. We must make Social Security permanently sound, not leave that task for another day. We must not jeopardize our economic strength by increasing payroll taxes. We must ensure that lower-income Americans get the help they need to have dignity and peace of mind in their retirement. We must guarantee there is no change for those now retired or nearing retirement. And we must take care that any changes in the system are gradual, so younger workers have years to prepare and plan for their future. \n",
      "\n",
      "As we fix Social Security, we also have the responsibility to make the system a better deal for younger workers. And the best way to reach that goal is through voluntary personal retirement accounts. (Applause.) Here is how the idea works. Right now, a set portion of the money you earn is taken out of your paycheck to pay for the Social Security benefits of today's retirees. If you're a younger worker, I believe you should be able to set aside part of that money in your own retirement account, so you can build a nest egg for your own future. \n",
      "\n",
      "Here's why the personal accounts are a better deal. Your money will grow, over time, at a greater rate than anything the current system can deliver -- and your account will provide money for retirement over and above the check you will receive from Social Security. In addition, you'll be able to pass along the money that accumulates in your personal account, if you wish, to your children and -- or grandchildren. And best of all, the money in the account is yours, and the government can never take it away. (Applause.) \n",
      "\n",
      "The goal here is greater security in retirement, so we will set careful guidelines for personal accounts. We'll make sure the money can only go into a conservative mix of bonds and stock funds. We'll make sure that your earnings are not eaten up by hidden Wall Street fees. We'll make sure there are good options to protect your investments from sudden market swings on the eve of your retirement. We'll make sure a personal account cannot be emptied out all at once, but rather paid out over time, as an addition to traditional Social Security benefits. And we'll make sure this plan is fiscally responsible, by starting personal retirement accounts gradually, and raising the yearly limits on contributions over time, eventually permitting all workers to set aside four percentage points of their payroll taxes in their accounts. \n",
      "\n",
      "Personal retirement accounts should be familiar to federal employees, because you already have something similar, called the Thrift Savings Plan, which lets workers deposit a portion of their paychecks into any of five different broadly-based investment funds. It's time to extend the same security, and choice, and ownership to young Americans. (Applause.) \n",
      "\n",
      "Our second great responsibility to our children and grandchildren is to honor and to pass along the values that sustain a free society. So many of my generation, after a long journey, have come home to family and faith, and are determined to bring up responsible, moral children. Government is not the source of these values, but government should never undermine them. \n",
      "\n",
      "Because marriage is a sacred institution and the foundation of society, it should not be re-defined by activist judges. For the good of families, children, and society, I support a constitutional amendment to protect the institution of marriage. (Applause.) \n",
      "\n",
      "Because a society is measured by how it treats the weak and vulnerable, we must strive to build a culture of life. Medical research can help us reach that goal, by developing treatments and cures that save lives and help people overcome disabilities -- and I thank the Congress for doubling the funding of the National Institutes of Health. (Applause.) To build a culture of life, we must also ensure that scientific advances always serve human dignity, not take advantage of some lives for the benefit of others. We should all be able to agree -- (applause) -- we should all be able to agree on some clear standards. I will work with Congress to ensure that human embryos are not created for experimentation or grown for body parts, and that human life is never bought and sold as a commodity. (Applause.) America will continue to lead the world in medical research that is ambitious, aggressive, and always ethical. \n",
      "\n",
      "Because courts must always deliver impartial justice, judges have a duty to faithfully interpret the law, not legislate from the bench. (Applause.) As President, I have a constitutional responsibility to nominate men and women who understand the role of courts in our democracy, and are well-qualified to serve on the bench -- and I have done so. (Applause.) The Constitution also gives the Senate a responsibility: Every judicial nominee deserves an up or down vote. (Applause.) \n",
      "\n",
      "Because one of the deepest values of our country is compassion, we must never turn away from any citizen who feels isolated from the opportunities of America. Our government will continue to support faith-based and community groups that bring hope to harsh places. Now we need to focus on giving young people, especially young men in our cities, better options than apathy, or gangs, or jail. Tonight I propose a three-year initiative to help organizations keep young people out of gangs, and show young men an ideal of manhood that respects women and rejects violence. (Applause.) Taking on gang life will be one part of a broader outreach to at-risk youth, which involves parents and pastors, coaches and community leaders, in programs ranging from literacy to sports. And I am proud that the leader of this nationwide effort will be our First Lady, Laura Bush. (Applause.) \n",
      "\n",
      "Because HIV/AIDS brings suffering and fear into so many lives, I ask you to reauthorize the Ryan White Act to encourage prevention, and provide care and treatment to the victims of that disease. (Applause.) And as we update this important law, we must focus our efforts on fellow citizens with the highest rates of new cases, African American men and women. (Applause.) \n",
      "\n",
      "Because one of the main sources of our national unity is our belief in equal justice, we need to make sure Americans of all races and backgrounds have confidence in the system that provides justice. In America we must make doubly sure no person is held to account for a crime he or she did not commit -- so we are dramatically expanding the use of DNA evidence to prevent wrongful conviction. (Applause.) Soon I will send to Congress a proposal to fund special training for defense counsel in capital cases, because people on trial for their lives must have competent lawyers by their side. (Applause.) \n",
      "\n",
      "Our third responsibility to future generations is to leave them an America that is safe from danger, and protected by peace. We will pass along to our children all the freedoms we enjoy -- and chief among them is freedom from fear. \n",
      "\n",
      "In the three and a half years since September the 11th, 2001, we have taken unprecedented actions to protect Americans. We've created a new department of government to defend our homeland, focused the FBI on preventing terrorism, begun to reform our intelligence agencies, broken up terror cells across the country, expanded research on defenses against biological and chemical attack, improved border security, and trained more than a half-million first responders. Police and firefighters, air marshals, researchers, and so many others are working every day to make our homeland safer, and we thank them all. (Applause.) \n",
      "\n",
      "Our nation, working with allies and friends, has also confronted the enemy abroad, with measures that are determined, successful, and continuing. The al Qaeda terror network that attacked our country still has leaders -- but many of its top commanders have been removed. There are still governments that sponsor and harbor terrorists -- but their number has declined. There are still regimes seeking weapons of mass destruction -- but no longer without attention and without consequence. Our country is still the target of terrorists who want to kill many, and intimidate us all -- and we will stay on the offensive against them, until the fight is won. (Applause.) \n",
      "\n",
      "Pursuing our enemies is a vital commitment of the war on terror -- and I thank the Congress for providing our servicemen and women with the resources they have needed. During this time of war, we must continue to support our military and give them the tools for victory. (Applause.) \n",
      "\n",
      "Other nations around the globe have stood with us. In Afghanistan, an international force is helping provide security. In Iraq, 28 countries have troops on the ground, the United Nations and the European Union provided technical assistance for the elections, and NATO is leading a mission to help train Iraqi officers. We're cooperating with 60 governments in the Proliferation Security Initiative, to detect and stop the transit of dangerous materials. We're working closely with the governments in Asia to convince North Korea to abandon its nuclear ambitions. Pakistan, Saudi Arabia, and nine other countries have captured or detained al Qaeda terrorists. In the next four years, my administration will continue to build the coalitions that will defeat the dangers of our time. (Applause.) \n",
      "\n",
      "In the long-term, the peace we seek will only be achieved by eliminating the conditions that feed radicalism and ideologies of murder. If whole regions of the world remain in despair and grow in hatred, they will be the recruiting grounds for terror, and that terror will stalk America and other free nations for decades. The only force powerful enough to stop the rise of tyranny and terror, and replace hatred with hope, is the force of human freedom. (Applause.) Our enemies know this, and that is why the terrorist Zarqawi recently declared war on what he called the \"evil principle\" of democracy. And we've declared our own intention: America will stand with the allies of freedom to support democratic movements in the Middle East and beyond, with the ultimate goal of ending tyranny in our world. (Applause.) \n",
      "\n",
      "The United States has no right, no desire, and no intention to impose our form of government on anyone else. That is one of the main differences between us and our enemies. They seek to impose and expand an empire of oppression, in which a tiny group of brutal, self-appointed rulers control every aspect of every life. Our aim is to build and preserve a community of free and independent nations, with governments that answer to their citizens, and reflect their own cultures. And because democracies respect their own people and their neighbors, the advance of freedom will lead to peace. (Applause.) \n",
      "\n",
      "That advance has great momentum in our time -- shown by women voting in Afghanistan, and Palestinians choosing a new direction, and the people of Ukraine asserting their democratic rights and electing a president. We are witnessing landmark events in the history of liberty. And in the coming years, we will add to that story. (Applause.) \n",
      "\n",
      "The beginnings of reform and democracy in the Palestinian territories are now showing the power of freedom to break old patterns of violence and failure. Tomorrow morning, Secretary of State Rice departs on a trip that will take her to Israel and the West Bank for meetings with Prime Minister Sharon and President Abbas. She will discuss with them how we and our friends can help the Palestinian people end terror and build the institutions of a peaceful, independent, democratic state. To promote this democracy, I will ask Congress for $350 million to support Palestinian political, economic, and security reforms. The goal of two democratic states, Israel and Palestine, living side by side in peace, is within reach -- and America will help them achieve that goal. (Applause.) \n",
      "\n",
      "To promote peace and stability in the broader Middle East, the United States will work with our friends in the region to fight the common threat of terror, while we encourage a higher standard of freedom. Hopeful reform is already taking hold in an arc from Morocco to Jordan to Bahrain. The government of Saudi Arabia can demonstrate its leadership in the region by expanding the role of its people in determining their future. And the great and proud nation of Egypt, which showed the way toward peace in the Middle East, can now show the way toward democracy in the Middle East. (Applause.) \n",
      "\n",
      "To promote peace in the broader Middle East, we must confront regimes that continue to harbor terrorists and pursue weapons of mass murder. Syria still allows its territory, and parts of Lebanon, to be used by terrorists who seek to destroy every chance of peace in the region. You have passed, and we are applying, the Syrian Accountability Act -- and we expect the Syrian government to end all support for terror and open the door to freedom. (Applause.) Today, Iran remains the world's primary state sponsor of terror -- pursuing nuclear weapons while depriving its people of the freedom they seek and deserve. We are working with European allies to make clear to the Iranian regime that it must give up its uranium enrichment program and any plutonium reprocessing, and end its support for terror. And to the Iranian people, I say tonight: As you stand for your own liberty, America stands with you. (Applause.) \n",
      "\n",
      "Our generational commitment to the advance of freedom, especially in the Middle East, is now being tested and honored in Iraq. That country is a vital front in the war on terror, which is why the terrorists have chosen to make a stand there. Our men and women in uniform are fighting terrorists in Iraq, so we do not have to face them here at home. (Applause.) And the victory of freedom in Iraq will strengthen a new ally in the war on terror, inspire democratic reformers from Damascus to Tehran, bring more hope and progress to a troubled region, and thereby lift a terrible threat from the lives of our children and grandchildren. \n",
      "\n",
      "We will succeed because the Iraqi people value their own liberty -- as they showed the world last Sunday. (Applause.) Across Iraq, often at great risk, millions of citizens went to the polls and elected 275 men and women to represent them in a new Transitional National Assembly. A young woman in Baghdad told of waking to the sound of mortar fire on election day, and wondering if it might be too dangerous to vote. She said, \"Hearing those explosions, it occurred to me -- the insurgents are weak, they are afraid of democracy, they are losing. So I got my husband, and I got my parents, and we all came out and voted together.\" \n",
      "\n",
      "Americans recognize that spirit of liberty, because we share it. In any nation, casting your vote is an act of civic responsibility; for millions of Iraqis, it was also an act of personal courage, and they have earned the respect of us all. (Applause.) \n",
      "\n",
      "One of Iraq's leading democracy and human rights advocates is Safia Taleb al-Suhail. She says of her country, \"We were occupied for 35 years by Saddam Hussein. That was the real occupation. Thank you to the American people who paid the cost, but most of all, to the soldiers.\" Eleven years ago, Safia's father was assassinated by Saddam's intelligence service. Three days ago in Baghdad, Safia was finally able to vote for the leaders of her country -- and we are honored that she is with us tonight. (Applause.) \n",
      "\n",
      "The terrorists and insurgents are violently opposed to democracy, and will continue to attack it. Yet, the terrorists' most powerful myth is being destroyed. The whole world is seeing that the car bombers and assassins are not only fighting coalition forces, they are trying to destroy the hopes of Iraqis, expressed in free elections. And the whole world now knows that a small group of extremists will not overturn the will of the Iraqi people. (Applause.) \n",
      "\n",
      "We will succeed in Iraq because Iraqis are determined to fight for their own freedom, and to write their own history. As Prime Minister Allawi said in his speech to Congress last September, \"Ordinary Iraqis are anxious to shoulder all the security burdens of our country as quickly as possible.\" That is the natural desire of an independent nation, and it is also the stated mission of our coalition in Iraq. The new political situation in Iraq opens a new phase of our work in that country. \n",
      "\n",
      "At the recommendation of our commanders on the ground, and in consultation with the Iraqi government, we will increasingly focus our efforts on helping prepare more capable Iraqi security forces -- forces with skilled officers and an effective command structure. As those forces become more self-reliant and take on greater security responsibilities, America and its coalition partners will increasingly be in a supporting role. In the end, Iraqis must be able to defend their own country -- and we will help that proud, new nation secure its liberty. \n",
      "\n",
      "Recently an Iraqi interpreter said to a reporter, \"Tell America not to abandon us.\" He and all Iraqis can be certain: While our military strategy is adapting to circumstances, our commitment remains firm and unchanging. We are standing for the freedom of our Iraqi friends, and freedom in Iraq will make America safer for generations to come. (Applause.) We will not set an artificial timetable for leaving Iraq, because that would embolden the terrorists and make them believe they can wait us out. We are in Iraq to achieve a result: A country that is democratic, representative of all its people, at peace with its neighbors, and able to defend itself. And when that result is achieved, our men and women serving in Iraq will return home with the honor they have earned. (Applause.) \n",
      "\n",
      "Right now, Americans in uniform are serving at posts across the world, often taking great risks on my orders. We have given them training and equipment; and they have given us an example of idealism and character that makes every American proud. (Applause.) The volunteers of our military are unrelenting in battle, unwavering in loyalty, unmatched in honor and decency, and every day they're making our nation more secure. Some of our servicemen and women have survived terrible injuries, and this grateful country will do everything we can to help them recover. (Applause.) And we have said farewell to some very good men and women, who died for our freedom, and whose memory this nation will honor forever. \n",
      "\n",
      "One name we honor is Marine Corps Sergeant Byron Norwood of Pflugerville, Texas, who was killed during the assault on Fallujah. His mom, Janet, sent me a letter and told me how much Byron loved being a Marine, and how proud he was to be on the front line against terror. She wrote, \"When Byron was home the last time, I said that I wanted to protect him like I had since he was born. He just hugged me and said, 'You've done your job, Mom. Now it is my turn to protect you.'\" Ladies and gentlemen, with grateful hearts, we honor freedom's defenders, and our military families, represented here this evening by Sergeant Norwood's mom and dad, Janet and Bill Norwood. (Applause.) \n",
      "\n",
      "In these four years, Americans have seen the unfolding of large events. We have known times of sorrow, and hours of uncertainty, and days of victory. In all this history, even when we have disagreed, we have seen threads of purpose that unite us. The attack on freedom in our world has reaffirmed our confidence in freedom's power to change the world. We are all part of a great venture: To extend the promise of freedom in our country, to renew the values that sustain our liberty, and to spread the peace that freedom brings. \n",
      "\n",
      "As Franklin Roosevelt once reminded Americans, \"Each age is a dream that is dying, or one that is coming to birth.\" And we live in the country where the biggest dreams are born. The abolition of slavery was only a dream -- until it was fulfilled. The liberation of Europe from fascism was only a dream -- until it was achieved. The fall of imperial communism was only a dream -- until, one day, it was accomplished. Our generation has dreams of its own, and we also go forward with confidence. The road of Providence is uneven and unpredictable -- yet we know where it leads: It leads to freedom. \n",
      "\n",
      "Thank you, and may God bless America. (Applause.) \n",
      "\n",
      "END 10:03 P.M. EST \n",
      "\n"
     ]
    }
   ],
   "source": [
    "print(train_text)"
   ]
  },
  {
   "cell_type": "code",
   "execution_count": 24,
   "metadata": {},
   "outputs": [
    {
     "name": "stdout",
     "output_type": "stream",
     "text": [
      "31005\n",
      "33411\n"
     ]
    }
   ],
   "source": [
    "print(len(train_text))\n",
    "print(len(sample_text))"
   ]
  },
  {
   "cell_type": "code",
   "execution_count": 25,
   "metadata": {},
   "outputs": [],
   "source": [
    "customized_sent_tokenizer=PunktSentenceTokenizer(train_text)\n"
   ]
  },
  {
   "cell_type": "code",
   "execution_count": 26,
   "metadata": {},
   "outputs": [],
   "source": [
    "tokenized=customized_sent_tokenizer.tokenize(sample_text)"
   ]
  },
  {
   "cell_type": "code",
   "execution_count": 27,
   "metadata": {},
   "outputs": [
    {
     "data": {
      "text/plain": [
       "[\"PRESIDENT GEORGE W. BUSH'S ADDRESS BEFORE A JOINT SESSION OF THE CONGRESS ON THE STATE OF THE UNION\\n \\nJanuary 31, 2006\\n\\nTHE PRESIDENT: Thank you all.\"]"
      ]
     },
     "execution_count": 27,
     "metadata": {},
     "output_type": "execute_result"
    }
   ],
   "source": [
    "tokenized[0:1]"
   ]
  },
  {
   "cell_type": "code",
   "execution_count": 70,
   "metadata": {},
   "outputs": [
    {
     "name": "stdout",
     "output_type": "stream",
     "text": [
      "showing info https://raw.githubusercontent.com/nltk/nltk_data/gh-pages/index.xml\n"
     ]
    },
    {
     "data": {
      "text/plain": [
       "True"
      ]
     },
     "execution_count": 70,
     "metadata": {},
     "output_type": "execute_result"
    }
   ],
   "source": [
    "nltk.download()"
   ]
  },
  {
   "cell_type": "code",
   "execution_count": 28,
   "metadata": {},
   "outputs": [
    {
     "name": "stdout",
     "output_type": "stream",
     "text": [
      "$: dollar\n",
      "    $ -$ --$ A$ C$ HK$ M$ NZ$ S$ U.S.$ US$\n",
      "'': closing quotation mark\n",
      "    ' ''\n",
      "(: opening parenthesis\n",
      "    ( [ {\n",
      "): closing parenthesis\n",
      "    ) ] }\n",
      ",: comma\n",
      "    ,\n",
      "--: dash\n",
      "    --\n",
      ".: sentence terminator\n",
      "    . ! ?\n",
      ":: colon or ellipsis\n",
      "    : ; ...\n",
      "CC: conjunction, coordinating\n",
      "    & 'n and both but either et for less minus neither nor or plus so\n",
      "    therefore times v. versus vs. whether yet\n",
      "CD: numeral, cardinal\n",
      "    mid-1890 nine-thirty forty-two one-tenth ten million 0.5 one forty-\n",
      "    seven 1987 twenty '79 zero two 78-degrees eighty-four IX '60s .025\n",
      "    fifteen 271,124 dozen quintillion DM2,000 ...\n",
      "DT: determiner\n",
      "    all an another any both del each either every half la many much nary\n",
      "    neither no some such that the them these this those\n",
      "EX: existential there\n",
      "    there\n",
      "FW: foreign word\n",
      "    gemeinschaft hund ich jeux habeas Haementeria Herr K'ang-si vous\n",
      "    lutihaw alai je jour objets salutaris fille quibusdam pas trop Monte\n",
      "    terram fiche oui corporis ...\n",
      "IN: preposition or conjunction, subordinating\n",
      "    astride among uppon whether out inside pro despite on by throughout\n",
      "    below within for towards near behind atop around if like until below\n",
      "    next into if beside ...\n",
      "JJ: adjective or numeral, ordinal\n",
      "    third ill-mannered pre-war regrettable oiled calamitous first separable\n",
      "    ectoplasmic battery-powered participatory fourth still-to-be-named\n",
      "    multilingual multi-disciplinary ...\n",
      "JJR: adjective, comparative\n",
      "    bleaker braver breezier briefer brighter brisker broader bumper busier\n",
      "    calmer cheaper choosier cleaner clearer closer colder commoner costlier\n",
      "    cozier creamier crunchier cuter ...\n",
      "JJS: adjective, superlative\n",
      "    calmest cheapest choicest classiest cleanest clearest closest commonest\n",
      "    corniest costliest crassest creepiest crudest cutest darkest deadliest\n",
      "    dearest deepest densest dinkiest ...\n",
      "LS: list item marker\n",
      "    A A. B B. C C. D E F First G H I J K One SP-44001 SP-44002 SP-44005\n",
      "    SP-44007 Second Third Three Two * a b c d first five four one six three\n",
      "    two\n",
      "MD: modal auxiliary\n",
      "    can cannot could couldn't dare may might must need ought shall should\n",
      "    shouldn't will would\n",
      "NN: noun, common, singular or mass\n",
      "    common-carrier cabbage knuckle-duster Casino afghan shed thermostat\n",
      "    investment slide humour falloff slick wind hyena override subhumanity\n",
      "    machinist ...\n",
      "NNP: noun, proper, singular\n",
      "    Motown Venneboerger Czestochwa Ranzer Conchita Trumplane Christos\n",
      "    Oceanside Escobar Kreisler Sawyer Cougar Yvette Ervin ODI Darryl CTCA\n",
      "    Shannon A.K.C. Meltex Liverpool ...\n",
      "NNPS: noun, proper, plural\n",
      "    Americans Americas Amharas Amityvilles Amusements Anarcho-Syndicalists\n",
      "    Andalusians Andes Andruses Angels Animals Anthony Antilles Antiques\n",
      "    Apache Apaches Apocrypha ...\n",
      "NNS: noun, common, plural\n",
      "    undergraduates scotches bric-a-brac products bodyguards facets coasts\n",
      "    divestitures storehouses designs clubs fragrances averages\n",
      "    subjectivists apprehensions muses factory-jobs ...\n",
      "PDT: pre-determiner\n",
      "    all both half many quite such sure this\n",
      "POS: genitive marker\n",
      "    ' 's\n",
      "PRP: pronoun, personal\n",
      "    hers herself him himself hisself it itself me myself one oneself ours\n",
      "    ourselves ownself self she thee theirs them themselves they thou thy us\n",
      "PRP$: pronoun, possessive\n",
      "    her his mine my our ours their thy your\n",
      "RB: adverb\n",
      "    occasionally unabatingly maddeningly adventurously professedly\n",
      "    stirringly prominently technologically magisterially predominately\n",
      "    swiftly fiscally pitilessly ...\n",
      "RBR: adverb, comparative\n",
      "    further gloomier grander graver greater grimmer harder harsher\n",
      "    healthier heavier higher however larger later leaner lengthier less-\n",
      "    perfectly lesser lonelier longer louder lower more ...\n",
      "RBS: adverb, superlative\n",
      "    best biggest bluntest earliest farthest first furthest hardest\n",
      "    heartiest highest largest least less most nearest second tightest worst\n",
      "RP: particle\n",
      "    aboard about across along apart around aside at away back before behind\n",
      "    by crop down ever fast for forth from go high i.e. in into just later\n",
      "    low more off on open out over per pie raising start teeth that through\n",
      "    under unto up up-pp upon whole with you\n",
      "SYM: symbol\n",
      "    % & ' '' ''. ) ). * + ,. < = > @ A[fj] U.S U.S.S.R * ** ***\n",
      "TO: \"to\" as preposition or infinitive marker\n",
      "    to\n",
      "UH: interjection\n",
      "    Goodbye Goody Gosh Wow Jeepers Jee-sus Hubba Hey Kee-reist Oops amen\n",
      "    huh howdy uh dammit whammo shucks heck anyways whodunnit honey golly\n",
      "    man baby diddle hush sonuvabitch ...\n",
      "VB: verb, base form\n",
      "    ask assemble assess assign assume atone attention avoid bake balkanize\n",
      "    bank begin behold believe bend benefit bevel beware bless boil bomb\n",
      "    boost brace break bring broil brush build ...\n",
      "VBD: verb, past tense\n",
      "    dipped pleaded swiped regummed soaked tidied convened halted registered\n",
      "    cushioned exacted snubbed strode aimed adopted belied figgered\n",
      "    speculated wore appreciated contemplated ...\n",
      "VBG: verb, present participle or gerund\n",
      "    telegraphing stirring focusing angering judging stalling lactating\n",
      "    hankerin' alleging veering capping approaching traveling besieging\n",
      "    encrypting interrupting erasing wincing ...\n",
      "VBN: verb, past participle\n",
      "    multihulled dilapidated aerosolized chaired languished panelized used\n",
      "    experimented flourished imitated reunifed factored condensed sheared\n",
      "    unsettled primed dubbed desired ...\n",
      "VBP: verb, present tense, not 3rd person singular\n",
      "    predominate wrap resort sue twist spill cure lengthen brush terminate\n",
      "    appear tend stray glisten obtain comprise detest tease attract\n",
      "    emphasize mold postpone sever return wag ...\n",
      "VBZ: verb, present tense, 3rd person singular\n",
      "    bases reconstructs marks mixes displeases seals carps weaves snatches\n",
      "    slumps stretches authorizes smolders pictures emerges stockpiles\n",
      "    seduces fizzes uses bolsters slaps speaks pleads ...\n",
      "WDT: WH-determiner\n",
      "    that what whatever which whichever\n",
      "WP: WH-pronoun\n",
      "    that what whatever whatsoever which who whom whosoever\n",
      "WP$: WH-pronoun, possessive\n",
      "    whose\n",
      "WRB: Wh-adverb\n",
      "    how however whence whenever where whereby whereever wherein whereof why\n",
      "``: opening quotation mark\n",
      "    ` ``\n"
     ]
    }
   ],
   "source": [
    "nltk.help.upenn_tagset()"
   ]
  },
  {
   "cell_type": "code",
   "execution_count": 30,
   "metadata": {},
   "outputs": [],
   "source": [
    "#lets process the tokenized\n",
    "\n",
    "def process_words():\n",
    "    for i in tokenized[0:5]:\n",
    "        words=nltk.word_tokenize(i)\n",
    "        tagged=nltk.pos_tag(words)\n",
    "        print(tagged)"
   ]
  },
  {
   "cell_type": "code",
   "execution_count": 31,
   "metadata": {},
   "outputs": [
    {
     "name": "stdout",
     "output_type": "stream",
     "text": [
      "[('PRESIDENT', 'NNP'), ('GEORGE', 'NNP'), ('W.', 'NNP'), ('BUSH', 'NNP'), (\"'S\", 'POS'), ('ADDRESS', 'NNP'), ('BEFORE', 'IN'), ('A', 'NNP'), ('JOINT', 'NNP'), ('SESSION', 'NNP'), ('OF', 'IN'), ('THE', 'NNP'), ('CONGRESS', 'NNP'), ('ON', 'NNP'), ('THE', 'NNP'), ('STATE', 'NNP'), ('OF', 'IN'), ('THE', 'NNP'), ('UNION', 'NNP'), ('January', 'NNP'), ('31', 'CD'), (',', ','), ('2006', 'CD'), ('THE', 'NNP'), ('PRESIDENT', 'NNP'), (':', ':'), ('Thank', 'NNP'), ('you', 'PRP'), ('all', 'DT'), ('.', '.')]\n",
      "[('Mr.', 'NNP'), ('Speaker', 'NNP'), (',', ','), ('Vice', 'NNP'), ('President', 'NNP'), ('Cheney', 'NNP'), (',', ','), ('members', 'NNS'), ('of', 'IN'), ('Congress', 'NNP'), (',', ','), ('members', 'NNS'), ('of', 'IN'), ('the', 'DT'), ('Supreme', 'NNP'), ('Court', 'NNP'), ('and', 'CC'), ('diplomatic', 'JJ'), ('corps', 'NN'), (',', ','), ('distinguished', 'JJ'), ('guests', 'NNS'), (',', ','), ('and', 'CC'), ('fellow', 'JJ'), ('citizens', 'NNS'), (':', ':'), ('Today', 'VB'), ('our', 'PRP$'), ('nation', 'NN'), ('lost', 'VBD'), ('a', 'DT'), ('beloved', 'VBN'), (',', ','), ('graceful', 'JJ'), (',', ','), ('courageous', 'JJ'), ('woman', 'NN'), ('who', 'WP'), ('called', 'VBD'), ('America', 'NNP'), ('to', 'TO'), ('its', 'PRP$'), ('founding', 'NN'), ('ideals', 'NNS'), ('and', 'CC'), ('carried', 'VBD'), ('on', 'IN'), ('a', 'DT'), ('noble', 'JJ'), ('dream', 'NN'), ('.', '.')]\n",
      "[('Tonight', 'NN'), ('we', 'PRP'), ('are', 'VBP'), ('comforted', 'VBN'), ('by', 'IN'), ('the', 'DT'), ('hope', 'NN'), ('of', 'IN'), ('a', 'DT'), ('glad', 'JJ'), ('reunion', 'NN'), ('with', 'IN'), ('the', 'DT'), ('husband', 'NN'), ('who', 'WP'), ('was', 'VBD'), ('taken', 'VBN'), ('so', 'RB'), ('long', 'RB'), ('ago', 'RB'), (',', ','), ('and', 'CC'), ('we', 'PRP'), ('are', 'VBP'), ('grateful', 'JJ'), ('for', 'IN'), ('the', 'DT'), ('good', 'JJ'), ('life', 'NN'), ('of', 'IN'), ('Coretta', 'NNP'), ('Scott', 'NNP'), ('King', 'NNP'), ('.', '.')]\n",
      "[('(', '('), ('Applause', 'NNP'), ('.', '.'), (')', ')')]\n",
      "[('President', 'NNP'), ('George', 'NNP'), ('W.', 'NNP'), ('Bush', 'NNP'), ('reacts', 'VBZ'), ('to', 'TO'), ('applause', 'VB'), ('during', 'IN'), ('his', 'PRP$'), ('State', 'NNP'), ('of', 'IN'), ('the', 'DT'), ('Union', 'NNP'), ('Address', 'NNP'), ('at', 'IN'), ('the', 'DT'), ('Capitol', 'NNP'), (',', ','), ('Tuesday', 'NNP'), (',', ','), ('Jan', 'NNP'), ('.', '.')]\n"
     ]
    }
   ],
   "source": [
    "process_words()"
   ]
  },
  {
   "cell_type": "code",
   "execution_count": 32,
   "metadata": {},
   "outputs": [],
   "source": [
    "train_text=state_union.raw('2005-GWBush.txt')\n",
    "sample_text=state_union.raw('2006-GWBush.txt')\n",
    "customized_sent_tokenizer=PunktSentenceTokenizer(train_text)\n",
    "tokienized=customized_sent_tokenizer.tokenize(sample_text)"
   ]
  },
  {
   "cell_type": "code",
   "execution_count": 33,
   "metadata": {},
   "outputs": [],
   "source": [
    "def process_words():\n",
    "    try:\n",
    "        for i in tokenized[0:5]:\n",
    "            words=nltk.word_tokenize(i)\n",
    "            tagged=nltk.pos_tag(words)\n",
    "            #lets use some regular expression\n",
    "            chunkgram=r\"\"\"chunk:{<RB.?>*<VB.?>*<NNP>+<NN>?}\"\"\"\n",
    "            chunkparser=nltk.RegexpParser(chunkgram)\n",
    "            chunked=chunkparser.parse(tagged)\n",
    "            for subtree in chunked.subtrees(filter=lambda t:t.label()=='chunk'):\n",
    "                print(subtree)\n",
    "    except Exception as e:\n",
    "        print(e)"
   ]
  },
  {
   "cell_type": "code",
   "execution_count": 34,
   "metadata": {},
   "outputs": [
    {
     "name": "stdout",
     "output_type": "stream",
     "text": [
      "(chunk PRESIDENT/NNP GEORGE/NNP W./NNP BUSH/NNP)\n",
      "(chunk ADDRESS/NNP)\n",
      "(chunk A/NNP JOINT/NNP SESSION/NNP)\n",
      "(chunk THE/NNP CONGRESS/NNP ON/NNP THE/NNP STATE/NNP)\n",
      "(chunk THE/NNP UNION/NNP January/NNP)\n",
      "(chunk THE/NNP PRESIDENT/NNP)\n",
      "(chunk Thank/NNP)\n",
      "(chunk Mr./NNP Speaker/NNP)\n",
      "(chunk Vice/NNP President/NNP Cheney/NNP)\n",
      "(chunk Congress/NNP)\n",
      "(chunk Supreme/NNP Court/NNP)\n",
      "(chunk called/VBD America/NNP)\n",
      "(chunk Coretta/NNP Scott/NNP King/NNP)\n",
      "(chunk Applause/NNP)\n",
      "(chunk President/NNP George/NNP W./NNP Bush/NNP)\n",
      "(chunk State/NNP)\n",
      "(chunk Union/NNP Address/NNP)\n",
      "(chunk Capitol/NNP)\n",
      "(chunk Tuesday/NNP)\n",
      "(chunk Jan/NNP)\n"
     ]
    }
   ],
   "source": [
    "# now we have all the proper nouns\n",
    "process_words()"
   ]
  },
  {
   "cell_type": "code",
   "execution_count": 35,
   "metadata": {},
   "outputs": [
    {
     "name": "stdout",
     "output_type": "stream",
     "text": [
      "showing info https://raw.githubusercontent.com/nltk/nltk_data/gh-pages/index.xml\n"
     ]
    },
    {
     "data": {
      "text/plain": [
       "True"
      ]
     },
     "execution_count": 35,
     "metadata": {},
     "output_type": "execute_result"
    }
   ],
   "source": [
    "nltk.download()"
   ]
  },
  {
   "cell_type": "code",
   "execution_count": 37,
   "metadata": {},
   "outputs": [],
   "source": [
    "import random\n",
    "from nltk.corpus import movie_reviews"
   ]
  },
  {
   "cell_type": "code",
   "execution_count": 43,
   "metadata": {},
   "outputs": [],
   "source": [
    "#now lets import some moveie reviews\n",
    "documents=[(list(movie_reviews.words(fileid)),category)\n",
    "           for category in movie_reviews.categories()\n",
    "           for fileid in movie_reviews.fileids(category)]"
   ]
  },
  {
   "cell_type": "code",
   "execution_count": 44,
   "metadata": {},
   "outputs": [
    {
     "name": "stdout",
     "output_type": "stream",
     "text": [
      "2000\n"
     ]
    }
   ],
   "source": [
    "print(len(documents))"
   ]
  },
  {
   "cell_type": "code",
   "execution_count": 45,
   "metadata": {},
   "outputs": [],
   "source": [
    "random.shuffle(documents)"
   ]
  },
  {
   "cell_type": "code",
   "execution_count": 46,
   "metadata": {},
   "outputs": [
    {
     "name": "stdout",
     "output_type": "stream",
     "text": [
      "first review: (['this', 'remake', 'of', '\"', 'la', 'cage', 'aux', 'folles', '\"', 'features', 'a', 'gay', 'couple', 'pretending', 'to', 'be', 'straight', 'in', 'order', 'to', 'pull', 'the', 'wool', 'over', 'the', 'eyes', 'of', 'their', 'son', \"'\", 's', 'future', 'in', '-', 'laws', '.', 'the', 'couple', '(', 'robin', 'williams', 'and', 'nathan', 'lane', ')', 'are', 'about', 'as', 'archetypal', ',', 'or', 'as', 'the', 'less', 'kind', 'might', 'put', 'it', '?', 'stereotypical', ',', 'gays', 'possible', '.', 'williams', 'owns', 'a', 'nightclub', 'featuring', 'drag', 'queens', 'where', 'his', 'partner', 'performs', 'as', 'the', 'featured', 'star', '.', 'they', 'live', 'above', 'the', 'club', 'in', 'what', 'could', 'not', 'possibly', 'be', 'mistaken', 'as', 'a', 'heterosexual', 'abode', '.', 'williams', 'is', 'excellent', 'as', 'should', 'be', 'no', 'surprise', '.', 'gene', 'hackman', 'as', 'right', '-', 'wing', 'potential', 'father', '-', 'in', '-', 'law', 'is', 'refreshing', 'in', 'one', 'of', 'his', 'few', 'comedic', 'roles', '.', 'the', 'real', 'star', 'is', 'lane', '.', 'his', 'attempted', 'transformation', 'from', 'one', 'of', 'the', 'most', 'obviously', 'gay', 'men', 'in', 'the', 'world', 'to', 'the', 'straight', '-', 'shooting', 'uncle', 'is', 'hilarious', '.', 'perhaps', 'it', 'is', 'a', 'personal', 'failing', 'on', 'my', 'part', ',', 'but', 'the', 'crying', 'and', 'screaming', 'drag', 'queen', 'faux', 'high', 'drama', 'just', 'grates', 'on', 'my', 'nerves', 'and', 'the', 'first', 'few', 'minutes', 'of', 'this', 'film', 'are', 'filled', 'with', 'it', '.', 'luckily', '(', 'for', 'me', 'at', 'least', ')', ',', 'it', 'doesn', \"'\", 't', 'last', 'long', 'and', 'the', 'rest', 'of', 'the', 'story', 'focuses', 'on', 'the', 'relationship', 'between', 'the', 'men', ',', 'their', 'son', 'and', 'the', 'deception', '.', 'the', 'question', 'of', 'stereotypes', 'is', 'a', 'touchy', 'one', '.', 'these', 'guys', 'personify', 'the', 'homophobic', 'gay', 'image', '.', 'you', 'can', 'almost', 'hear', 'the', 'swishing', '.', 'if', 'you', 'think', 'that', 'they', 'are', 'supposed', 'to', 'be', 'representative', 'of', 'every', 'gay', 'man', 'in', 'the', 'world', ',', 'you', \"'\", 'll', 'be', 'outraged', '.', 'but', 'if', 'you', 'can', 'accept', 'the', 'view', 'is', 'that', 'this', 'is', 'a', 'movie', 'about', 'gay', 'individuals', ',', 'you', \"'\", 'll', 'love', 'it', '.', 'your', 'choice', '.'], 'pos')\n"
     ]
    }
   ],
   "source": [
    "print(\"first review: {}\".format(documents[0]))"
   ]
  },
  {
   "cell_type": "code",
   "execution_count": 47,
   "metadata": {},
   "outputs": [
    {
     "data": {
      "text/plain": [
       "\u001b[1;31mInit signature:\u001b[0m \u001b[0mnltk\u001b[0m\u001b[1;33m.\u001b[0m\u001b[0mFreqDist\u001b[0m\u001b[1;33m(\u001b[0m\u001b[0msamples\u001b[0m\u001b[1;33m=\u001b[0m\u001b[1;32mNone\u001b[0m\u001b[1;33m)\u001b[0m\u001b[1;33m\u001b[0m\u001b[1;33m\u001b[0m\u001b[0m\n",
       "\u001b[1;31mDocstring:\u001b[0m     \n",
       "A frequency distribution for the outcomes of an experiment.  A\n",
       "frequency distribution records the number of times each outcome of\n",
       "an experiment has occurred.  For example, a frequency distribution\n",
       "could be used to record the frequency of each word type in a\n",
       "document.  Formally, a frequency distribution can be defined as a\n",
       "function mapping from each sample to the number of times that\n",
       "sample occurred as an outcome.\n",
       "\n",
       "Frequency distributions are generally constructed by running a\n",
       "number of experiments, and incrementing the count for a sample\n",
       "every time it is an outcome of an experiment.  For example, the\n",
       "following code will produce a frequency distribution that encodes\n",
       "how often each word occurs in a text:\n",
       "\n",
       "    >>> from nltk.tokenize import word_tokenize\n",
       "    >>> from nltk.probability import FreqDist\n",
       "    >>> sent = 'This is an example sentence'\n",
       "    >>> fdist = FreqDist()\n",
       "    >>> for word in word_tokenize(sent):\n",
       "    ...    fdist[word.lower()] += 1\n",
       "\n",
       "An equivalent way to do this is with the initializer:\n",
       "\n",
       "    >>> fdist = FreqDist(word.lower() for word in word_tokenize(sent))\n",
       "\u001b[1;31mInit docstring:\u001b[0m\n",
       "Construct a new frequency distribution.  If ``samples`` is\n",
       "given, then the frequency distribution will be initialized\n",
       "with the count of each object in ``samples``; otherwise, it\n",
       "will be initialized to be empty.\n",
       "\n",
       "In particular, ``FreqDist()`` returns an empty frequency\n",
       "distribution; and ``FreqDist(samples)`` first creates an empty\n",
       "frequency distribution, and then calls ``update`` with the\n",
       "list ``samples``.\n",
       "\n",
       ":param samples: The samples to initialize the frequency\n",
       "    distribution with.\n",
       ":type samples: Sequence\n",
       "\u001b[1;31mFile:\u001b[0m           c:\\programdata\\anaconda3\\lib\\site-packages\\nltk\\probability.py\n",
       "\u001b[1;31mType:\u001b[0m           type\n",
       "\u001b[1;31mSubclasses:\u001b[0m     \n"
      ]
     },
     "metadata": {},
     "output_type": "display_data"
    }
   ],
   "source": [
    "nltk.FreqDist?\n"
   ]
  },
  {
   "cell_type": "code",
   "execution_count": 53,
   "metadata": {},
   "outputs": [
    {
     "name": "stdout",
     "output_type": "stream",
     "text": [
      "Most common words in our reviews are: [(',', 77717), ('the', 76529), ('.', 65876), ('a', 38106), ('and', 35576), ('of', 34123), ('to', 31937), (\"'\", 30585), ('is', 25195), ('in', 21822)]\n"
     ]
    }
   ],
   "source": [
    "all_words=[]\n",
    "for w in movie_reviews.words():\n",
    "    all_words.append(w.lower())\n",
    "all_words=nltk.FreqDist(all_words)\n",
    "print(\"Most common words in our reviews are: {}\".format(all_words.most_common(10)))"
   ]
  },
  {
   "cell_type": "code",
   "execution_count": 54,
   "metadata": {},
   "outputs": [
    {
     "name": "stdout",
     "output_type": "stream",
     "text": [
      "the word happy appears: 215\n"
     ]
    }
   ],
   "source": [
    "#Since FreqDist's output is a dictionary with the word as key and the count as value, we can get the count of a word in this distribution\n",
    "\n",
    "print(\"the word happy appears: {}\".format(all_words[\"happy\"]))"
   ]
  },
  {
   "cell_type": "code",
   "execution_count": 55,
   "metadata": {},
   "outputs": [
    {
     "name": "stdout",
     "output_type": "stream",
     "text": [
      "39768\n"
     ]
    }
   ],
   "source": [
    "print(len(all_words))"
   ]
  },
  {
   "cell_type": "code",
   "execution_count": 56,
   "metadata": {},
   "outputs": [
    {
     "name": "stdout",
     "output_type": "stream",
     "text": [
      "3\n"
     ]
    }
   ],
   "source": [
    "A={\"key1\":1,\"key2\":10,\"key3\":12}\n",
    "print(len(A))\n",
    "# you can see that the length of the all_words above is 39768. this is the count of the unique words or count of the keys. each\n",
    "#key will have its own count and the numbere of total words will be sum of key*value"
   ]
  },
  {
   "cell_type": "code",
   "execution_count": 57,
   "metadata": {},
   "outputs": [],
   "source": [
    "#so, if we have to feed this data to a model, 39768 is the number of features. But for simplicity for now we will consider a reduced value\n",
    "\n",
    "words_features=list(all_words.most_common(4000))"
   ]
  },
  {
   "cell_type": "code",
   "execution_count": 58,
   "metadata": {},
   "outputs": [
    {
     "data": {
      "text/plain": [
       "[(',', 77717),\n",
       " ('the', 76529),\n",
       " ('.', 65876),\n",
       " ('a', 38106),\n",
       " ('and', 35576),\n",
       " ('of', 34123),\n",
       " ('to', 31937),\n",
       " (\"'\", 30585),\n",
       " ('is', 25195),\n",
       " ('in', 21822)]"
      ]
     },
     "execution_count": 58,
     "metadata": {},
     "output_type": "execute_result"
    }
   ],
   "source": [
    "words_features[0:10]"
   ]
  },
  {
   "cell_type": "code",
   "execution_count": 60,
   "metadata": {},
   "outputs": [],
   "source": [
    "# lets go with first 4000 words of the review\n",
    "words_features=list(all_words.keys())[0:4000]"
   ]
  },
  {
   "cell_type": "code",
   "execution_count": 61,
   "metadata": {},
   "outputs": [],
   "source": [
    "#lets build a function which will find out if a review has the words of words_feature or not\n",
    "def find_feature(review):\n",
    "    words=set(review) # remember, the review will already be a tokenized or a list of words\n",
    "    features={}\n",
    "    for w in words_features:\n",
    "        features[w]= (w in words) # return a boolean value, so features will be dictionary with the word as a key and True or False as value\n",
    "    return features\n",
    "        \n",
    "        "
   ]
  },
  {
   "cell_type": "code",
   "execution_count": 70,
   "metadata": {},
   "outputs": [
    {
     "name": "stdout",
     "output_type": "stream",
     "text": [
      "['neg/cv000_29416.txt', 'neg/cv001_19502.txt', 'neg/cv002_17424.txt', 'neg/cv003_12683.txt', 'neg/cv004_12641.txt', 'neg/cv005_29357.txt', 'neg/cv006_17022.txt', 'neg/cv007_4992.txt', 'neg/cv008_29326.txt', 'neg/cv009_29417.txt', 'neg/cv010_29063.txt', 'neg/cv011_13044.txt', 'neg/cv012_29411.txt', 'neg/cv013_10494.txt', 'neg/cv014_15600.txt', 'neg/cv015_29356.txt', 'neg/cv016_4348.txt', 'neg/cv017_23487.txt', 'neg/cv018_21672.txt', 'neg/cv019_16117.txt', 'neg/cv020_9234.txt', 'neg/cv021_17313.txt', 'neg/cv022_14227.txt', 'neg/cv023_13847.txt', 'neg/cv024_7033.txt', 'neg/cv025_29825.txt', 'neg/cv026_29229.txt', 'neg/cv027_26270.txt', 'neg/cv028_26964.txt', 'neg/cv029_19943.txt', 'neg/cv030_22893.txt', 'neg/cv031_19540.txt', 'neg/cv032_23718.txt', 'neg/cv033_25680.txt', 'neg/cv034_29446.txt', 'neg/cv035_3343.txt', 'neg/cv036_18385.txt', 'neg/cv037_19798.txt', 'neg/cv038_9781.txt', 'neg/cv039_5963.txt', 'neg/cv040_8829.txt', 'neg/cv041_22364.txt', 'neg/cv042_11927.txt', 'neg/cv043_16808.txt', 'neg/cv044_18429.txt', 'neg/cv045_25077.txt', 'neg/cv046_10613.txt', 'neg/cv047_18725.txt', 'neg/cv048_18380.txt', 'neg/cv049_21917.txt', 'neg/cv050_12128.txt', 'neg/cv051_10751.txt', 'neg/cv052_29318.txt', 'neg/cv053_23117.txt', 'neg/cv054_4101.txt', 'neg/cv055_8926.txt', 'neg/cv056_14663.txt', 'neg/cv057_7962.txt', 'neg/cv058_8469.txt', 'neg/cv059_28723.txt', 'neg/cv060_11754.txt', 'neg/cv061_9321.txt', 'neg/cv062_24556.txt', 'neg/cv063_28852.txt', 'neg/cv064_25842.txt', 'neg/cv065_16909.txt', 'neg/cv066_11668.txt', 'neg/cv067_21192.txt', 'neg/cv068_14810.txt', 'neg/cv069_11613.txt', 'neg/cv070_13249.txt', 'neg/cv071_12969.txt', 'neg/cv072_5928.txt', 'neg/cv073_23039.txt', 'neg/cv074_7188.txt', 'neg/cv075_6250.txt', 'neg/cv076_26009.txt', 'neg/cv077_23172.txt', 'neg/cv078_16506.txt', 'neg/cv079_12766.txt', 'neg/cv080_14899.txt', 'neg/cv081_18241.txt', 'neg/cv082_11979.txt', 'neg/cv083_25491.txt', 'neg/cv084_15183.txt', 'neg/cv085_15286.txt', 'neg/cv086_19488.txt', 'neg/cv087_2145.txt', 'neg/cv088_25274.txt', 'neg/cv089_12222.txt', 'neg/cv090_0049.txt', 'neg/cv091_7899.txt', 'neg/cv092_27987.txt', 'neg/cv093_15606.txt', 'neg/cv094_27868.txt', 'neg/cv095_28730.txt', 'neg/cv096_12262.txt', 'neg/cv097_26081.txt', 'neg/cv098_17021.txt', 'neg/cv099_11189.txt', 'neg/cv100_12406.txt', 'neg/cv101_10537.txt', 'neg/cv102_8306.txt', 'neg/cv103_11943.txt', 'neg/cv104_19176.txt', 'neg/cv105_19135.txt', 'neg/cv106_18379.txt', 'neg/cv107_25639.txt', 'neg/cv108_17064.txt', 'neg/cv109_22599.txt', 'neg/cv110_27832.txt', 'neg/cv111_12253.txt', 'neg/cv112_12178.txt', 'neg/cv113_24354.txt', 'neg/cv114_19501.txt', 'neg/cv115_26443.txt', 'neg/cv116_28734.txt', 'neg/cv117_25625.txt', 'neg/cv118_28837.txt', 'neg/cv119_9909.txt', 'neg/cv120_3793.txt', 'neg/cv121_18621.txt', 'neg/cv122_7891.txt', 'neg/cv123_12165.txt', 'neg/cv124_3903.txt', 'neg/cv125_9636.txt', 'neg/cv126_28821.txt', 'neg/cv127_16451.txt', 'neg/cv128_29444.txt', 'neg/cv129_18373.txt', 'neg/cv130_18521.txt', 'neg/cv131_11568.txt', 'neg/cv132_5423.txt', 'neg/cv133_18065.txt', 'neg/cv134_23300.txt', 'neg/cv135_12506.txt', 'neg/cv136_12384.txt', 'neg/cv137_17020.txt', 'neg/cv138_13903.txt', 'neg/cv139_14236.txt', 'neg/cv140_7963.txt', 'neg/cv141_17179.txt', 'neg/cv142_23657.txt', 'neg/cv143_21158.txt', 'neg/cv144_5010.txt', 'neg/cv145_12239.txt', 'neg/cv146_19587.txt', 'neg/cv147_22625.txt', 'neg/cv148_18084.txt', 'neg/cv149_17084.txt', 'neg/cv150_14279.txt', 'neg/cv151_17231.txt', 'neg/cv152_9052.txt', 'neg/cv153_11607.txt', 'neg/cv154_9562.txt', 'neg/cv155_7845.txt', 'neg/cv156_11119.txt', 'neg/cv157_29302.txt', 'neg/cv158_10914.txt', 'neg/cv159_29374.txt', 'neg/cv160_10848.txt', 'neg/cv161_12224.txt', 'neg/cv162_10977.txt', 'neg/cv163_10110.txt', 'neg/cv164_23451.txt', 'neg/cv165_2389.txt', 'neg/cv166_11959.txt', 'neg/cv167_18094.txt', 'neg/cv168_7435.txt', 'neg/cv169_24973.txt', 'neg/cv170_29808.txt', 'neg/cv171_15164.txt', 'neg/cv172_12037.txt', 'neg/cv173_4295.txt', 'neg/cv174_9735.txt', 'neg/cv175_7375.txt', 'neg/cv176_14196.txt', 'neg/cv177_10904.txt', 'neg/cv178_14380.txt', 'neg/cv179_9533.txt', 'neg/cv180_17823.txt', 'neg/cv181_16083.txt', 'neg/cv182_7791.txt', 'neg/cv183_19826.txt', 'neg/cv184_26935.txt', 'neg/cv185_28372.txt', 'neg/cv186_2396.txt', 'neg/cv187_14112.txt', 'neg/cv188_20687.txt', 'neg/cv189_24248.txt', 'neg/cv190_27176.txt', 'neg/cv191_29539.txt', 'neg/cv192_16079.txt', 'neg/cv193_5393.txt', 'neg/cv194_12855.txt', 'neg/cv195_16146.txt', 'neg/cv196_28898.txt', 'neg/cv197_29271.txt', 'neg/cv198_19313.txt', 'neg/cv199_9721.txt', 'neg/cv200_29006.txt', 'neg/cv201_7421.txt', 'neg/cv202_11382.txt', 'neg/cv203_19052.txt', 'neg/cv204_8930.txt', 'neg/cv205_9676.txt', 'neg/cv206_15893.txt', 'neg/cv207_29141.txt', 'neg/cv208_9475.txt', 'neg/cv209_28973.txt', 'neg/cv210_9557.txt', 'neg/cv211_9955.txt', 'neg/cv212_10054.txt', 'neg/cv213_20300.txt', 'neg/cv214_13285.txt', 'neg/cv215_23246.txt', 'neg/cv216_20165.txt', 'neg/cv217_28707.txt', 'neg/cv218_25651.txt', 'neg/cv219_19874.txt', 'neg/cv220_28906.txt', 'neg/cv221_27081.txt', 'neg/cv222_18720.txt', 'neg/cv223_28923.txt', 'neg/cv224_18875.txt', 'neg/cv225_29083.txt', 'neg/cv226_26692.txt', 'neg/cv227_25406.txt', 'neg/cv228_5644.txt', 'neg/cv229_15200.txt', 'neg/cv230_7913.txt', 'neg/cv231_11028.txt', 'neg/cv232_16768.txt', 'neg/cv233_17614.txt', 'neg/cv234_22123.txt', 'neg/cv235_10704.txt', 'neg/cv236_12427.txt', 'neg/cv237_20635.txt', 'neg/cv238_14285.txt', 'neg/cv239_29828.txt', 'neg/cv240_15948.txt', 'neg/cv241_24602.txt', 'neg/cv242_11354.txt', 'neg/cv243_22164.txt', 'neg/cv244_22935.txt', 'neg/cv245_8938.txt', 'neg/cv246_28668.txt', 'neg/cv247_14668.txt', 'neg/cv248_15672.txt', 'neg/cv249_12674.txt', 'neg/cv250_26462.txt', 'neg/cv251_23901.txt', 'neg/cv252_24974.txt', 'neg/cv253_10190.txt', 'neg/cv254_5870.txt', 'neg/cv255_15267.txt', 'neg/cv256_16529.txt', 'neg/cv257_11856.txt', 'neg/cv258_5627.txt', 'neg/cv259_11827.txt', 'neg/cv260_15652.txt', 'neg/cv261_11855.txt', 'neg/cv262_13812.txt', 'neg/cv263_20693.txt', 'neg/cv264_14108.txt', 'neg/cv265_11625.txt', 'neg/cv266_26644.txt', 'neg/cv267_16618.txt', 'neg/cv268_20288.txt', 'neg/cv269_23018.txt', 'neg/cv270_5873.txt', 'neg/cv271_15364.txt', 'neg/cv272_20313.txt', 'neg/cv273_28961.txt', 'neg/cv274_26379.txt', 'neg/cv275_28725.txt', 'neg/cv276_17126.txt', 'neg/cv277_20467.txt', 'neg/cv278_14533.txt', 'neg/cv279_19452.txt', 'neg/cv280_8651.txt', 'neg/cv281_24711.txt', 'neg/cv282_6833.txt', 'neg/cv283_11963.txt', 'neg/cv284_20530.txt', 'neg/cv285_18186.txt', 'neg/cv286_26156.txt', 'neg/cv287_17410.txt', 'neg/cv288_20212.txt', 'neg/cv289_6239.txt', 'neg/cv290_11981.txt', 'neg/cv291_26844.txt', 'neg/cv292_7804.txt', 'neg/cv293_29731.txt', 'neg/cv294_12695.txt', 'neg/cv295_17060.txt', 'neg/cv296_13146.txt', 'neg/cv297_10104.txt', 'neg/cv298_24487.txt', 'neg/cv299_17950.txt', 'neg/cv300_23302.txt', 'neg/cv301_13010.txt', 'neg/cv302_26481.txt', 'neg/cv303_27366.txt', 'neg/cv304_28489.txt', 'neg/cv305_9937.txt', 'neg/cv306_10859.txt', 'neg/cv307_26382.txt', 'neg/cv308_5079.txt', 'neg/cv309_23737.txt', 'neg/cv310_14568.txt', 'neg/cv311_17708.txt', 'neg/cv312_29308.txt', 'neg/cv313_19337.txt', 'neg/cv314_16095.txt', 'neg/cv315_12638.txt', 'neg/cv316_5972.txt', 'neg/cv317_25111.txt', 'neg/cv318_11146.txt', 'neg/cv319_16459.txt', 'neg/cv320_9693.txt', 'neg/cv321_14191.txt', 'neg/cv322_21820.txt', 'neg/cv323_29633.txt', 'neg/cv324_7502.txt', 'neg/cv325_18330.txt', 'neg/cv326_14777.txt', 'neg/cv327_21743.txt', 'neg/cv328_10908.txt', 'neg/cv329_29293.txt', 'neg/cv330_29675.txt', 'neg/cv331_8656.txt', 'neg/cv332_17997.txt', 'neg/cv333_9443.txt', 'neg/cv334_0074.txt', 'neg/cv335_16299.txt', 'neg/cv336_10363.txt', 'neg/cv337_29061.txt', 'neg/cv338_9183.txt', 'neg/cv339_22452.txt', 'neg/cv340_14776.txt', 'neg/cv341_25667.txt', 'neg/cv342_20917.txt', 'neg/cv343_10906.txt', 'neg/cv344_5376.txt', 'neg/cv345_9966.txt', 'neg/cv346_19198.txt', 'neg/cv347_14722.txt', 'neg/cv348_19207.txt', 'neg/cv349_15032.txt', 'neg/cv350_22139.txt', 'neg/cv351_17029.txt', 'neg/cv352_5414.txt', 'neg/cv353_19197.txt', 'neg/cv354_8573.txt', 'neg/cv355_18174.txt', 'neg/cv356_26170.txt', 'neg/cv357_14710.txt', 'neg/cv358_11557.txt', 'neg/cv359_6751.txt', 'neg/cv360_8927.txt', 'neg/cv361_28738.txt', 'neg/cv362_16985.txt', 'neg/cv363_29273.txt', 'neg/cv364_14254.txt', 'neg/cv365_12442.txt', 'neg/cv366_10709.txt', 'neg/cv367_24065.txt', 'neg/cv368_11090.txt', 'neg/cv369_14245.txt', 'neg/cv370_5338.txt', 'neg/cv371_8197.txt', 'neg/cv372_6654.txt', 'neg/cv373_21872.txt', 'neg/cv374_26455.txt', 'neg/cv375_9932.txt', 'neg/cv376_20883.txt', 'neg/cv377_8440.txt', 'neg/cv378_21982.txt', 'neg/cv379_23167.txt', 'neg/cv380_8164.txt', 'neg/cv381_21673.txt', 'neg/cv382_8393.txt', 'neg/cv383_14662.txt', 'neg/cv384_18536.txt', 'neg/cv385_29621.txt', 'neg/cv386_10229.txt', 'neg/cv387_12391.txt', 'neg/cv388_12810.txt', 'neg/cv389_9611.txt', 'neg/cv390_12187.txt', 'neg/cv391_11615.txt', 'neg/cv392_12238.txt', 'neg/cv393_29234.txt', 'neg/cv394_5311.txt', 'neg/cv395_11761.txt', 'neg/cv396_19127.txt', 'neg/cv397_28890.txt', 'neg/cv398_17047.txt', 'neg/cv399_28593.txt', 'neg/cv400_20631.txt', 'neg/cv401_13758.txt', 'neg/cv402_16097.txt', 'neg/cv403_6721.txt', 'neg/cv404_21805.txt', 'neg/cv405_21868.txt', 'neg/cv406_22199.txt', 'neg/cv407_23928.txt', 'neg/cv408_5367.txt', 'neg/cv409_29625.txt', 'neg/cv410_25624.txt', 'neg/cv411_16799.txt', 'neg/cv412_25254.txt', 'neg/cv413_7893.txt', 'neg/cv414_11161.txt', 'neg/cv415_23674.txt', 'neg/cv416_12048.txt', 'neg/cv417_14653.txt', 'neg/cv418_16562.txt', 'neg/cv419_14799.txt', 'neg/cv420_28631.txt', 'neg/cv421_9752.txt', 'neg/cv422_9632.txt', 'neg/cv423_12089.txt', 'neg/cv424_9268.txt', 'neg/cv425_8603.txt', 'neg/cv426_10976.txt', 'neg/cv427_11693.txt', 'neg/cv428_12202.txt', 'neg/cv429_7937.txt', 'neg/cv430_18662.txt', 'neg/cv431_7538.txt', 'neg/cv432_15873.txt', 'neg/cv433_10443.txt', 'neg/cv434_5641.txt', 'neg/cv435_24355.txt', 'neg/cv436_20564.txt', 'neg/cv437_24070.txt', 'neg/cv438_8500.txt', 'neg/cv439_17633.txt', 'neg/cv440_16891.txt', 'neg/cv441_15276.txt', 'neg/cv442_15499.txt', 'neg/cv443_22367.txt', 'neg/cv444_9975.txt', 'neg/cv445_26683.txt', 'neg/cv446_12209.txt', 'neg/cv447_27334.txt', 'neg/cv448_16409.txt', 'neg/cv449_9126.txt', 'neg/cv450_8319.txt', 'neg/cv451_11502.txt', 'neg/cv452_5179.txt', 'neg/cv453_10911.txt', 'neg/cv454_21961.txt', 'neg/cv455_28866.txt', 'neg/cv456_20370.txt', 'neg/cv457_19546.txt', 'neg/cv458_9000.txt', 'neg/cv459_21834.txt', 'neg/cv460_11723.txt', 'neg/cv461_21124.txt', 'neg/cv462_20788.txt', 'neg/cv463_10846.txt', 'neg/cv464_17076.txt', 'neg/cv465_23401.txt', 'neg/cv466_20092.txt', 'neg/cv467_26610.txt', 'neg/cv468_16844.txt', 'neg/cv469_21998.txt', 'neg/cv470_17444.txt', 'neg/cv471_18405.txt', 'neg/cv472_29140.txt', 'neg/cv473_7869.txt', 'neg/cv474_10682.txt', 'neg/cv475_22978.txt', 'neg/cv476_18402.txt', 'neg/cv477_23530.txt', 'neg/cv478_15921.txt', 'neg/cv479_5450.txt', 'neg/cv480_21195.txt', 'neg/cv481_7930.txt', 'neg/cv482_11233.txt', 'neg/cv483_18103.txt', 'neg/cv484_26169.txt', 'neg/cv485_26879.txt', 'neg/cv486_9788.txt', 'neg/cv487_11058.txt', 'neg/cv488_21453.txt', 'neg/cv489_19046.txt', 'neg/cv490_18986.txt', 'neg/cv491_12992.txt', 'neg/cv492_19370.txt', 'neg/cv493_14135.txt', 'neg/cv494_18689.txt', 'neg/cv495_16121.txt', 'neg/cv496_11185.txt', 'neg/cv497_27086.txt', 'neg/cv498_9288.txt', 'neg/cv499_11407.txt', 'neg/cv500_10722.txt', 'neg/cv501_12675.txt', 'neg/cv502_10970.txt', 'neg/cv503_11196.txt', 'neg/cv504_29120.txt', 'neg/cv505_12926.txt', 'neg/cv506_17521.txt', 'neg/cv507_9509.txt', 'neg/cv508_17742.txt', 'neg/cv509_17354.txt', 'neg/cv510_24758.txt', 'neg/cv511_10360.txt', 'neg/cv512_17618.txt', 'neg/cv513_7236.txt', 'neg/cv514_12173.txt', 'neg/cv515_18484.txt', 'neg/cv516_12117.txt', 'neg/cv517_20616.txt', 'neg/cv518_14798.txt', 'neg/cv519_16239.txt', 'neg/cv520_13297.txt', 'neg/cv521_1730.txt', 'neg/cv522_5418.txt', 'neg/cv523_18285.txt', 'neg/cv524_24885.txt', 'neg/cv525_17930.txt', 'neg/cv526_12868.txt', 'neg/cv527_10338.txt', 'neg/cv528_11669.txt', 'neg/cv529_10972.txt', 'neg/cv530_17949.txt', 'neg/cv531_26838.txt', 'neg/cv532_6495.txt', 'neg/cv533_9843.txt', 'neg/cv534_15683.txt', 'neg/cv535_21183.txt', 'neg/cv536_27221.txt', 'neg/cv537_13516.txt', 'neg/cv538_28485.txt', 'neg/cv539_21865.txt', 'neg/cv540_3092.txt', 'neg/cv541_28683.txt', 'neg/cv542_20359.txt', 'neg/cv543_5107.txt', 'neg/cv544_5301.txt', 'neg/cv545_12848.txt', 'neg/cv546_12723.txt', 'neg/cv547_18043.txt', 'neg/cv548_18944.txt', 'neg/cv549_22771.txt', 'neg/cv550_23226.txt', 'neg/cv551_11214.txt', 'neg/cv552_0150.txt', 'neg/cv553_26965.txt', 'neg/cv554_14678.txt', 'neg/cv555_25047.txt', 'neg/cv556_16563.txt', 'neg/cv557_12237.txt', 'neg/cv558_29376.txt', 'neg/cv559_0057.txt', 'neg/cv560_18608.txt', 'neg/cv561_9484.txt', 'neg/cv562_10847.txt', 'neg/cv563_18610.txt', 'neg/cv564_12011.txt', 'neg/cv565_29403.txt', 'neg/cv566_8967.txt', 'neg/cv567_29420.txt', 'neg/cv568_17065.txt', 'neg/cv569_26750.txt', 'neg/cv570_28960.txt', 'neg/cv571_29292.txt', 'neg/cv572_20053.txt', 'neg/cv573_29384.txt', 'neg/cv574_23191.txt', 'neg/cv575_22598.txt', 'neg/cv576_15688.txt', 'neg/cv577_28220.txt', 'neg/cv578_16825.txt', 'neg/cv579_12542.txt', 'neg/cv580_15681.txt', 'neg/cv581_20790.txt', 'neg/cv582_6678.txt', 'neg/cv583_29465.txt', 'neg/cv584_29549.txt', 'neg/cv585_23576.txt', 'neg/cv586_8048.txt', 'neg/cv587_20532.txt', 'neg/cv588_14467.txt', 'neg/cv589_12853.txt', 'neg/cv590_20712.txt', 'neg/cv591_24887.txt', 'neg/cv592_23391.txt', 'neg/cv593_11931.txt', 'neg/cv594_11945.txt', 'neg/cv595_26420.txt', 'neg/cv596_4367.txt', 'neg/cv597_26744.txt', 'neg/cv598_18184.txt', 'neg/cv599_22197.txt', 'neg/cv600_25043.txt', 'neg/cv601_24759.txt', 'neg/cv602_8830.txt', 'neg/cv603_18885.txt', 'neg/cv604_23339.txt', 'neg/cv605_12730.txt', 'neg/cv606_17672.txt', 'neg/cv607_8235.txt', 'neg/cv608_24647.txt', 'neg/cv609_25038.txt', 'neg/cv610_24153.txt', 'neg/cv611_2253.txt', 'neg/cv612_5396.txt', 'neg/cv613_23104.txt', 'neg/cv614_11320.txt', 'neg/cv615_15734.txt', 'neg/cv616_29187.txt', 'neg/cv617_9561.txt', 'neg/cv618_9469.txt', 'neg/cv619_13677.txt', 'neg/cv620_2556.txt', 'neg/cv621_15984.txt', 'neg/cv622_8583.txt', 'neg/cv623_16988.txt', 'neg/cv624_11601.txt', 'neg/cv625_13518.txt', 'neg/cv626_7907.txt', 'neg/cv627_12603.txt', 'neg/cv628_20758.txt', 'neg/cv629_16604.txt', 'neg/cv630_10152.txt', 'neg/cv631_4782.txt', 'neg/cv632_9704.txt', 'neg/cv633_29730.txt', 'neg/cv634_11989.txt', 'neg/cv635_0984.txt', 'neg/cv636_16954.txt', 'neg/cv637_13682.txt', 'neg/cv638_29394.txt', 'neg/cv639_10797.txt', 'neg/cv640_5380.txt', 'neg/cv641_13412.txt', 'neg/cv642_29788.txt', 'neg/cv643_29282.txt', 'neg/cv644_18551.txt', 'neg/cv645_17078.txt', 'neg/cv646_16817.txt', 'neg/cv647_15275.txt', 'neg/cv648_17277.txt', 'neg/cv649_13947.txt', 'neg/cv650_15974.txt', 'neg/cv651_11120.txt', 'neg/cv652_15653.txt', 'neg/cv653_2107.txt', 'neg/cv654_19345.txt', 'neg/cv655_12055.txt', 'neg/cv656_25395.txt', 'neg/cv657_25835.txt', 'neg/cv658_11186.txt', 'neg/cv659_21483.txt', 'neg/cv660_23140.txt', 'neg/cv661_25780.txt', 'neg/cv662_14791.txt', 'neg/cv663_14484.txt', 'neg/cv664_4264.txt', 'neg/cv665_29386.txt', 'neg/cv666_20301.txt', 'neg/cv667_19672.txt', 'neg/cv668_18848.txt', 'neg/cv669_24318.txt', 'neg/cv670_2666.txt', 'neg/cv671_5164.txt', 'neg/cv672_27988.txt', 'neg/cv673_25874.txt', 'neg/cv674_11593.txt', 'neg/cv675_22871.txt', 'neg/cv676_22202.txt', 'neg/cv677_18938.txt', 'neg/cv678_14887.txt', 'neg/cv679_28221.txt', 'neg/cv680_10533.txt', 'neg/cv681_9744.txt', 'neg/cv682_17947.txt', 'neg/cv683_13047.txt', 'neg/cv684_12727.txt', 'neg/cv685_5710.txt', 'neg/cv686_15553.txt', 'neg/cv687_22207.txt', 'neg/cv688_7884.txt', 'neg/cv689_13701.txt', 'neg/cv690_5425.txt', 'neg/cv691_5090.txt', 'neg/cv692_17026.txt', 'neg/cv693_19147.txt', 'neg/cv694_4526.txt', 'neg/cv695_22268.txt', 'neg/cv696_29619.txt', 'neg/cv697_12106.txt', 'neg/cv698_16930.txt', 'neg/cv699_7773.txt', 'neg/cv700_23163.txt', 'neg/cv701_15880.txt', 'neg/cv702_12371.txt', 'neg/cv703_17948.txt', 'neg/cv704_17622.txt', 'neg/cv705_11973.txt', 'neg/cv706_25883.txt', 'neg/cv707_11421.txt', 'neg/cv708_28539.txt', 'neg/cv709_11173.txt', 'neg/cv710_23745.txt', 'neg/cv711_12687.txt', 'neg/cv712_24217.txt', 'neg/cv713_29002.txt', 'neg/cv714_19704.txt', 'neg/cv715_19246.txt', 'neg/cv716_11153.txt', 'neg/cv717_17472.txt', 'neg/cv718_12227.txt', 'neg/cv719_5581.txt', 'neg/cv720_5383.txt', 'neg/cv721_28993.txt', 'neg/cv722_7571.txt', 'neg/cv723_9002.txt', 'neg/cv724_15265.txt', 'neg/cv725_10266.txt', 'neg/cv726_4365.txt', 'neg/cv727_5006.txt', 'neg/cv728_17931.txt', 'neg/cv729_10475.txt', 'neg/cv730_10729.txt', 'neg/cv731_3968.txt', 'neg/cv732_13092.txt', 'neg/cv733_9891.txt', 'neg/cv734_22821.txt', 'neg/cv735_20218.txt', 'neg/cv736_24947.txt', 'neg/cv737_28733.txt', 'neg/cv738_10287.txt', 'neg/cv739_12179.txt', 'neg/cv740_13643.txt', 'neg/cv741_12765.txt', 'neg/cv742_8279.txt', 'neg/cv743_17023.txt', 'neg/cv744_10091.txt', 'neg/cv745_14009.txt', 'neg/cv746_10471.txt', 'neg/cv747_18189.txt', 'neg/cv748_14044.txt', 'neg/cv749_18960.txt', 'neg/cv750_10606.txt', 'neg/cv751_17208.txt', 'neg/cv752_25330.txt', 'neg/cv753_11812.txt', 'neg/cv754_7709.txt', 'neg/cv755_24881.txt', 'neg/cv756_23676.txt', 'neg/cv757_10668.txt', 'neg/cv758_9740.txt', 'neg/cv759_15091.txt', 'neg/cv760_8977.txt', 'neg/cv761_13769.txt', 'neg/cv762_15604.txt', 'neg/cv763_16486.txt', 'neg/cv764_12701.txt', 'neg/cv765_20429.txt', 'neg/cv766_7983.txt', 'neg/cv767_15673.txt', 'neg/cv768_12709.txt', 'neg/cv769_8565.txt', 'neg/cv770_11061.txt', 'neg/cv771_28466.txt', 'neg/cv772_12971.txt', 'neg/cv773_20264.txt', 'neg/cv774_15488.txt', 'neg/cv775_17966.txt', 'neg/cv776_21934.txt', 'neg/cv777_10247.txt', 'neg/cv778_18629.txt', 'neg/cv779_18989.txt', 'neg/cv780_8467.txt', 'neg/cv781_5358.txt', 'neg/cv782_21078.txt', 'neg/cv783_14724.txt', 'neg/cv784_16077.txt', 'neg/cv785_23748.txt', 'neg/cv786_23608.txt', 'neg/cv787_15277.txt', 'neg/cv788_26409.txt', 'neg/cv789_12991.txt', 'neg/cv790_16202.txt', 'neg/cv791_17995.txt', 'neg/cv792_3257.txt', 'neg/cv793_15235.txt', 'neg/cv794_17353.txt', 'neg/cv795_10291.txt', 'neg/cv796_17243.txt', 'neg/cv797_7245.txt', 'neg/cv798_24779.txt', 'neg/cv799_19812.txt', 'neg/cv800_13494.txt', 'neg/cv801_26335.txt', 'neg/cv802_28381.txt', 'neg/cv803_8584.txt', 'neg/cv804_11763.txt', 'neg/cv805_21128.txt', 'neg/cv806_9405.txt', 'neg/cv807_23024.txt', 'neg/cv808_13773.txt', 'neg/cv809_5012.txt', 'neg/cv810_13660.txt', 'neg/cv811_22646.txt', 'neg/cv812_19051.txt', 'neg/cv813_6649.txt', 'neg/cv814_20316.txt', 'neg/cv815_23466.txt', 'neg/cv816_15257.txt', 'neg/cv817_3675.txt', 'neg/cv818_10698.txt', 'neg/cv819_9567.txt', 'neg/cv820_24157.txt', 'neg/cv821_29283.txt', 'neg/cv822_21545.txt', 'neg/cv823_17055.txt', 'neg/cv824_9335.txt', 'neg/cv825_5168.txt', 'neg/cv826_12761.txt', 'neg/cv827_19479.txt', 'neg/cv828_21392.txt', 'neg/cv829_21725.txt', 'neg/cv830_5778.txt', 'neg/cv831_16325.txt', 'neg/cv832_24713.txt', 'neg/cv833_11961.txt', 'neg/cv834_23192.txt', 'neg/cv835_20531.txt', 'neg/cv836_14311.txt', 'neg/cv837_27232.txt', 'neg/cv838_25886.txt', 'neg/cv839_22807.txt', 'neg/cv840_18033.txt', 'neg/cv841_3367.txt', 'neg/cv842_5702.txt', 'neg/cv843_17054.txt', 'neg/cv844_13890.txt', 'neg/cv845_15886.txt', 'neg/cv846_29359.txt', 'neg/cv847_20855.txt', 'neg/cv848_10061.txt', 'neg/cv849_17215.txt', 'neg/cv850_18185.txt', 'neg/cv851_21895.txt', 'neg/cv852_27512.txt', 'neg/cv853_29119.txt', 'neg/cv854_18955.txt', 'neg/cv855_22134.txt', 'neg/cv856_28882.txt', 'neg/cv857_17527.txt', 'neg/cv858_20266.txt', 'neg/cv859_15689.txt', 'neg/cv860_15520.txt', 'neg/cv861_12809.txt', 'neg/cv862_15924.txt', 'neg/cv863_7912.txt', 'neg/cv864_3087.txt', 'neg/cv865_28796.txt', 'neg/cv866_29447.txt', 'neg/cv867_18362.txt', 'neg/cv868_12799.txt', 'neg/cv869_24782.txt', 'neg/cv870_18090.txt', 'neg/cv871_25971.txt', 'neg/cv872_13710.txt', 'neg/cv873_19937.txt', 'neg/cv874_12182.txt', 'neg/cv875_5622.txt', 'neg/cv876_9633.txt', 'neg/cv877_29132.txt', 'neg/cv878_17204.txt', 'neg/cv879_16585.txt', 'neg/cv880_29629.txt', 'neg/cv881_14767.txt', 'neg/cv882_10042.txt', 'neg/cv883_27621.txt', 'neg/cv884_15230.txt', 'neg/cv885_13390.txt', 'neg/cv886_19210.txt', 'neg/cv887_5306.txt', 'neg/cv888_25678.txt', 'neg/cv889_22670.txt', 'neg/cv890_3515.txt', 'neg/cv891_6035.txt', 'neg/cv892_18788.txt', 'neg/cv893_26731.txt', 'neg/cv894_22140.txt', 'neg/cv895_22200.txt', 'neg/cv896_17819.txt', 'neg/cv897_11703.txt', 'neg/cv898_1576.txt', 'neg/cv899_17812.txt', 'neg/cv900_10800.txt', 'neg/cv901_11934.txt', 'neg/cv902_13217.txt', 'neg/cv903_18981.txt', 'neg/cv904_25663.txt', 'neg/cv905_28965.txt', 'neg/cv906_12332.txt', 'neg/cv907_3193.txt', 'neg/cv908_17779.txt', 'neg/cv909_9973.txt', 'neg/cv910_21930.txt', 'neg/cv911_21695.txt', 'neg/cv912_5562.txt', 'neg/cv913_29127.txt', 'neg/cv914_2856.txt', 'neg/cv915_9342.txt', 'neg/cv916_17034.txt', 'neg/cv917_29484.txt', 'neg/cv918_27080.txt', 'neg/cv919_18155.txt', 'neg/cv920_29423.txt', 'neg/cv921_13988.txt', 'neg/cv922_10185.txt', 'neg/cv923_11951.txt', 'neg/cv924_29397.txt', 'neg/cv925_9459.txt', 'neg/cv926_18471.txt', 'neg/cv927_11471.txt', 'neg/cv928_9478.txt', 'neg/cv929_1841.txt', 'neg/cv930_14949.txt', 'neg/cv931_18783.txt', 'neg/cv932_14854.txt', 'neg/cv933_24953.txt', 'neg/cv934_20426.txt', 'neg/cv935_24977.txt', 'neg/cv936_17473.txt', 'neg/cv937_9816.txt', 'neg/cv938_10706.txt', 'neg/cv939_11247.txt', 'neg/cv940_18935.txt', 'neg/cv941_10718.txt', 'neg/cv942_18509.txt', 'neg/cv943_23547.txt', 'neg/cv944_15042.txt', 'neg/cv945_13012.txt', 'neg/cv946_20084.txt', 'neg/cv947_11316.txt', 'neg/cv948_25870.txt', 'neg/cv949_21565.txt', 'neg/cv950_13478.txt', 'neg/cv951_11816.txt', 'neg/cv952_26375.txt', 'neg/cv953_7078.txt', 'neg/cv954_19932.txt', 'neg/cv955_26154.txt', 'neg/cv956_12547.txt', 'neg/cv957_9059.txt', 'neg/cv958_13020.txt', 'neg/cv959_16218.txt', 'neg/cv960_28877.txt', 'neg/cv961_5578.txt', 'neg/cv962_9813.txt', 'neg/cv963_7208.txt', 'neg/cv964_5794.txt', 'neg/cv965_26688.txt', 'neg/cv966_28671.txt', 'neg/cv967_5626.txt', 'neg/cv968_25413.txt', 'neg/cv969_14760.txt', 'neg/cv970_19532.txt', 'neg/cv971_11790.txt', 'neg/cv972_26837.txt', 'neg/cv973_10171.txt', 'neg/cv974_24303.txt', 'neg/cv975_11920.txt', 'neg/cv976_10724.txt', 'neg/cv977_4776.txt', 'neg/cv978_22192.txt', 'neg/cv979_2029.txt', 'neg/cv980_11851.txt', 'neg/cv981_16679.txt', 'neg/cv982_22209.txt', 'neg/cv983_24219.txt', 'neg/cv984_14006.txt', 'neg/cv985_5964.txt', 'neg/cv986_15092.txt', 'neg/cv987_7394.txt', 'neg/cv988_20168.txt', 'neg/cv989_17297.txt', 'neg/cv990_12443.txt', 'neg/cv991_19973.txt', 'neg/cv992_12806.txt', 'neg/cv993_29565.txt', 'neg/cv994_13229.txt', 'neg/cv995_23113.txt', 'neg/cv996_12447.txt', 'neg/cv997_5152.txt', 'neg/cv998_15691.txt', 'neg/cv999_14636.txt', 'pos/cv000_29590.txt', 'pos/cv001_18431.txt', 'pos/cv002_15918.txt', 'pos/cv003_11664.txt', 'pos/cv004_11636.txt', 'pos/cv005_29443.txt', 'pos/cv006_15448.txt', 'pos/cv007_4968.txt', 'pos/cv008_29435.txt', 'pos/cv009_29592.txt', 'pos/cv010_29198.txt', 'pos/cv011_12166.txt', 'pos/cv012_29576.txt', 'pos/cv013_10159.txt', 'pos/cv014_13924.txt', 'pos/cv015_29439.txt', 'pos/cv016_4659.txt', 'pos/cv017_22464.txt', 'pos/cv018_20137.txt', 'pos/cv019_14482.txt', 'pos/cv020_8825.txt', 'pos/cv021_15838.txt', 'pos/cv022_12864.txt', 'pos/cv023_12672.txt', 'pos/cv024_6778.txt', 'pos/cv025_3108.txt', 'pos/cv026_29325.txt', 'pos/cv027_25219.txt', 'pos/cv028_26746.txt', 'pos/cv029_18643.txt', 'pos/cv030_21593.txt', 'pos/cv031_18452.txt', 'pos/cv032_22550.txt', 'pos/cv033_24444.txt', 'pos/cv034_29647.txt', 'pos/cv035_3954.txt', 'pos/cv036_16831.txt', 'pos/cv037_18510.txt', 'pos/cv038_9749.txt', 'pos/cv039_6170.txt', 'pos/cv040_8276.txt', 'pos/cv041_21113.txt', 'pos/cv042_10982.txt', 'pos/cv043_15013.txt', 'pos/cv044_16969.txt', 'pos/cv045_23923.txt', 'pos/cv046_10188.txt', 'pos/cv047_1754.txt', 'pos/cv048_16828.txt', 'pos/cv049_20471.txt', 'pos/cv050_11175.txt', 'pos/cv051_10306.txt', 'pos/cv052_29378.txt', 'pos/cv053_21822.txt', 'pos/cv054_4230.txt', 'pos/cv055_8338.txt', 'pos/cv056_13133.txt', 'pos/cv057_7453.txt', 'pos/cv058_8025.txt', 'pos/cv059_28885.txt', 'pos/cv060_10844.txt', 'pos/cv061_8837.txt', 'pos/cv062_23115.txt', 'pos/cv063_28997.txt', 'pos/cv064_24576.txt', 'pos/cv065_15248.txt', 'pos/cv066_10821.txt', 'pos/cv067_19774.txt', 'pos/cv068_13400.txt', 'pos/cv069_10801.txt', 'pos/cv070_12289.txt', 'pos/cv071_12095.txt', 'pos/cv072_6169.txt', 'pos/cv073_21785.txt', 'pos/cv074_6875.txt', 'pos/cv075_6500.txt', 'pos/cv076_24945.txt', 'pos/cv077_22138.txt', 'pos/cv078_14730.txt', 'pos/cv079_11933.txt', 'pos/cv080_13465.txt', 'pos/cv081_16582.txt', 'pos/cv082_11080.txt', 'pos/cv083_24234.txt', 'pos/cv084_13566.txt', 'pos/cv085_1381.txt', 'pos/cv086_18371.txt', 'pos/cv087_1989.txt', 'pos/cv088_24113.txt', 'pos/cv089_11418.txt', 'pos/cv090_0042.txt', 'pos/cv091_7400.txt', 'pos/cv092_28017.txt', 'pos/cv093_13951.txt', 'pos/cv094_27889.txt', 'pos/cv095_28892.txt', 'pos/cv096_11474.txt', 'pos/cv097_24970.txt', 'pos/cv098_15435.txt', 'pos/cv099_10534.txt', 'pos/cv100_11528.txt', 'pos/cv101_10175.txt', 'pos/cv102_7846.txt', 'pos/cv103_11021.txt', 'pos/cv104_18134.txt', 'pos/cv105_17990.txt', 'pos/cv106_16807.txt', 'pos/cv107_24319.txt', 'pos/cv108_15571.txt', 'pos/cv109_21172.txt', 'pos/cv110_27788.txt', 'pos/cv111_11473.txt', 'pos/cv112_11193.txt', 'pos/cv113_23102.txt', 'pos/cv114_18398.txt', 'pos/cv115_25396.txt', 'pos/cv116_28942.txt', 'pos/cv117_24295.txt', 'pos/cv118_28980.txt', 'pos/cv119_9867.txt', 'pos/cv120_4111.txt', 'pos/cv121_17302.txt', 'pos/cv122_7392.txt', 'pos/cv123_11182.txt', 'pos/cv124_4122.txt', 'pos/cv125_9391.txt', 'pos/cv126_28971.txt', 'pos/cv127_14711.txt', 'pos/cv128_29627.txt', 'pos/cv129_16741.txt', 'pos/cv130_17083.txt', 'pos/cv131_10713.txt', 'pos/cv132_5618.txt', 'pos/cv133_16336.txt', 'pos/cv134_22246.txt', 'pos/cv135_11603.txt', 'pos/cv136_11505.txt', 'pos/cv137_15422.txt', 'pos/cv138_12721.txt', 'pos/cv139_12873.txt', 'pos/cv140_7479.txt', 'pos/cv141_15686.txt', 'pos/cv142_22516.txt', 'pos/cv143_19666.txt', 'pos/cv144_5007.txt', 'pos/cv145_11472.txt', 'pos/cv146_18458.txt', 'pos/cv147_21193.txt', 'pos/cv148_16345.txt', 'pos/cv149_15670.txt', 'pos/cv150_12916.txt', 'pos/cv151_15771.txt', 'pos/cv152_8736.txt', 'pos/cv153_10779.txt', 'pos/cv154_9328.txt', 'pos/cv155_7308.txt', 'pos/cv156_10481.txt', 'pos/cv157_29372.txt', 'pos/cv158_10390.txt', 'pos/cv159_29505.txt', 'pos/cv160_10362.txt', 'pos/cv161_11425.txt', 'pos/cv162_10424.txt', 'pos/cv163_10052.txt', 'pos/cv164_22447.txt', 'pos/cv165_22619.txt', 'pos/cv166_11052.txt', 'pos/cv167_16376.txt', 'pos/cv168_7050.txt', 'pos/cv169_23778.txt', 'pos/cv170_3006.txt', 'pos/cv171_13537.txt', 'pos/cv172_11131.txt', 'pos/cv173_4471.txt', 'pos/cv174_9659.txt', 'pos/cv175_6964.txt', 'pos/cv176_12857.txt', 'pos/cv177_10367.txt', 'pos/cv178_12972.txt', 'pos/cv179_9228.txt', 'pos/cv180_16113.txt', 'pos/cv181_14401.txt', 'pos/cv182_7281.txt', 'pos/cv183_18612.txt', 'pos/cv184_2673.txt', 'pos/cv185_28654.txt', 'pos/cv186_2269.txt', 'pos/cv187_12829.txt', 'pos/cv188_19226.txt', 'pos/cv189_22934.txt', 'pos/cv190_27052.txt', 'pos/cv191_29719.txt', 'pos/cv192_14395.txt', 'pos/cv193_5416.txt', 'pos/cv194_12079.txt', 'pos/cv195_14528.txt', 'pos/cv196_29027.txt', 'pos/cv197_29328.txt', 'pos/cv198_18180.txt', 'pos/cv199_9629.txt', 'pos/cv200_2915.txt', 'pos/cv201_6997.txt', 'pos/cv202_10654.txt', 'pos/cv203_17986.txt', 'pos/cv204_8451.txt', 'pos/cv205_9457.txt', 'pos/cv206_14293.txt', 'pos/cv207_29284.txt', 'pos/cv208_9020.txt', 'pos/cv209_29118.txt', 'pos/cv210_9312.txt', 'pos/cv211_9953.txt', 'pos/cv212_10027.txt', 'pos/cv213_18934.txt', 'pos/cv214_12294.txt', 'pos/cv215_22240.txt', 'pos/cv216_18738.txt', 'pos/cv217_28842.txt', 'pos/cv218_24352.txt', 'pos/cv219_18626.txt', 'pos/cv220_29059.txt', 'pos/cv221_2695.txt', 'pos/cv222_17395.txt', 'pos/cv223_29066.txt', 'pos/cv224_17661.txt', 'pos/cv225_29224.txt', 'pos/cv226_2618.txt', 'pos/cv227_24215.txt', 'pos/cv228_5806.txt', 'pos/cv229_13611.txt', 'pos/cv230_7428.txt', 'pos/cv231_10425.txt', 'pos/cv232_14991.txt', 'pos/cv233_15964.txt', 'pos/cv234_20643.txt', 'pos/cv235_10217.txt', 'pos/cv236_11565.txt', 'pos/cv237_19221.txt', 'pos/cv238_12931.txt', 'pos/cv239_3385.txt', 'pos/cv240_14336.txt', 'pos/cv241_23130.txt', 'pos/cv242_10638.txt', 'pos/cv243_20728.txt', 'pos/cv244_21649.txt', 'pos/cv245_8569.txt', 'pos/cv246_28807.txt', 'pos/cv247_13142.txt', 'pos/cv248_13987.txt', 'pos/cv249_11640.txt', 'pos/cv250_25616.txt', 'pos/cv251_22636.txt', 'pos/cv252_23779.txt', 'pos/cv253_10077.txt', 'pos/cv254_6027.txt', 'pos/cv255_13683.txt', 'pos/cv256_14740.txt', 'pos/cv257_10975.txt', 'pos/cv258_5792.txt', 'pos/cv259_10934.txt', 'pos/cv260_13959.txt', 'pos/cv261_10954.txt', 'pos/cv262_12649.txt', 'pos/cv263_19259.txt', 'pos/cv264_12801.txt', 'pos/cv265_10814.txt', 'pos/cv266_25779.txt', 'pos/cv267_14952.txt', 'pos/cv268_18834.txt', 'pos/cv269_21732.txt', 'pos/cv270_6079.txt', 'pos/cv271_13837.txt', 'pos/cv272_18974.txt', 'pos/cv273_29112.txt', 'pos/cv274_25253.txt', 'pos/cv275_28887.txt', 'pos/cv276_15684.txt', 'pos/cv277_19091.txt', 'pos/cv278_13041.txt', 'pos/cv279_18329.txt', 'pos/cv280_8267.txt', 'pos/cv281_23253.txt', 'pos/cv282_6653.txt', 'pos/cv283_11055.txt', 'pos/cv284_19119.txt', 'pos/cv285_16494.txt', 'pos/cv286_25050.txt', 'pos/cv287_15900.txt', 'pos/cv288_18791.txt', 'pos/cv289_6463.txt', 'pos/cv290_11084.txt', 'pos/cv291_26635.txt', 'pos/cv292_7282.txt', 'pos/cv293_29856.txt', 'pos/cv294_11684.txt', 'pos/cv295_15570.txt', 'pos/cv296_12251.txt', 'pos/cv297_10047.txt', 'pos/cv298_23111.txt', 'pos/cv299_16214.txt', 'pos/cv300_22284.txt', 'pos/cv301_12146.txt', 'pos/cv302_25649.txt', 'pos/cv303_27520.txt', 'pos/cv304_28706.txt', 'pos/cv305_9946.txt', 'pos/cv306_10364.txt', 'pos/cv307_25270.txt', 'pos/cv308_5016.txt', 'pos/cv309_22571.txt', 'pos/cv310_13091.txt', 'pos/cv311_16002.txt', 'pos/cv312_29377.txt', 'pos/cv313_18198.txt', 'pos/cv314_14422.txt', 'pos/cv315_11629.txt', 'pos/cv316_6370.txt', 'pos/cv317_24049.txt', 'pos/cv318_10493.txt', 'pos/cv319_14727.txt', 'pos/cv320_9530.txt', 'pos/cv321_12843.txt', 'pos/cv322_20318.txt', 'pos/cv323_29805.txt', 'pos/cv324_7082.txt', 'pos/cv325_16629.txt', 'pos/cv326_13295.txt', 'pos/cv327_20292.txt', 'pos/cv328_10373.txt', 'pos/cv329_29370.txt', 'pos/cv330_29809.txt', 'pos/cv331_8273.txt', 'pos/cv332_16307.txt', 'pos/cv333_8916.txt', 'pos/cv334_10001.txt', 'pos/cv335_14665.txt', 'pos/cv336_10143.txt', 'pos/cv337_29181.txt', 'pos/cv338_8821.txt', 'pos/cv339_21119.txt', 'pos/cv340_13287.txt', 'pos/cv341_24430.txt', 'pos/cv342_19456.txt', 'pos/cv343_10368.txt', 'pos/cv344_5312.txt', 'pos/cv345_9954.txt', 'pos/cv346_18168.txt', 'pos/cv347_13194.txt', 'pos/cv348_18176.txt', 'pos/cv349_13507.txt', 'pos/cv350_20670.txt', 'pos/cv351_15458.txt', 'pos/cv352_5524.txt', 'pos/cv353_18159.txt', 'pos/cv354_8132.txt', 'pos/cv355_16413.txt', 'pos/cv356_25163.txt', 'pos/cv357_13156.txt', 'pos/cv358_10691.txt', 'pos/cv359_6647.txt', 'pos/cv360_8398.txt', 'pos/cv361_28944.txt', 'pos/cv362_15341.txt', 'pos/cv363_29332.txt', 'pos/cv364_12901.txt', 'pos/cv365_11576.txt', 'pos/cv366_10221.txt', 'pos/cv367_22792.txt', 'pos/cv368_10466.txt', 'pos/cv369_12886.txt', 'pos/cv370_5221.txt', 'pos/cv371_7630.txt', 'pos/cv372_6552.txt', 'pos/cv373_20404.txt', 'pos/cv374_25436.txt', 'pos/cv375_9929.txt', 'pos/cv376_19435.txt', 'pos/cv377_7946.txt', 'pos/cv378_20629.txt', 'pos/cv379_21963.txt', 'pos/cv380_7574.txt', 'pos/cv381_20172.txt', 'pos/cv382_7897.txt', 'pos/cv383_13116.txt', 'pos/cv384_17140.txt', 'pos/cv385_29741.txt', 'pos/cv386_10080.txt', 'pos/cv387_11507.txt', 'pos/cv388_12009.txt', 'pos/cv389_9369.txt', 'pos/cv390_11345.txt', 'pos/cv391_10802.txt', 'pos/cv392_11458.txt', 'pos/cv393_29327.txt', 'pos/cv394_5137.txt', 'pos/cv395_10849.txt', 'pos/cv396_17989.txt', 'pos/cv397_29023.txt', 'pos/cv398_15537.txt', 'pos/cv399_2877.txt', 'pos/cv400_19220.txt', 'pos/cv401_12605.txt', 'pos/cv402_14425.txt', 'pos/cv403_6621.txt', 'pos/cv404_20315.txt', 'pos/cv405_20399.txt', 'pos/cv406_21020.txt', 'pos/cv407_22637.txt', 'pos/cv408_5297.txt', 'pos/cv409_29786.txt', 'pos/cv410_24266.txt', 'pos/cv411_15007.txt', 'pos/cv412_24095.txt', 'pos/cv413_7398.txt', 'pos/cv414_10518.txt', 'pos/cv415_22517.txt', 'pos/cv416_11136.txt', 'pos/cv417_13115.txt', 'pos/cv418_14774.txt', 'pos/cv419_13394.txt', 'pos/cv420_28795.txt', 'pos/cv421_9709.txt', 'pos/cv422_9381.txt', 'pos/cv423_11155.txt', 'pos/cv424_8831.txt', 'pos/cv425_8250.txt', 'pos/cv426_10421.txt', 'pos/cv427_10825.txt', 'pos/cv428_11347.txt', 'pos/cv429_7439.txt', 'pos/cv430_17351.txt', 'pos/cv431_7085.txt', 'pos/cv432_14224.txt', 'pos/cv433_10144.txt', 'pos/cv434_5793.txt', 'pos/cv435_23110.txt', 'pos/cv436_19179.txt', 'pos/cv437_22849.txt', 'pos/cv438_8043.txt', 'pos/cv439_15970.txt', 'pos/cv440_15243.txt', 'pos/cv441_13711.txt', 'pos/cv442_13846.txt', 'pos/cv443_21118.txt', 'pos/cv444_9974.txt', 'pos/cv445_25882.txt', 'pos/cv446_11353.txt', 'pos/cv447_27332.txt', 'pos/cv448_14695.txt', 'pos/cv449_8785.txt', 'pos/cv450_7890.txt', 'pos/cv451_10690.txt', 'pos/cv452_5088.txt', 'pos/cv453_10379.txt', 'pos/cv454_2053.txt', 'pos/cv455_29000.txt', 'pos/cv456_18985.txt', 'pos/cv457_18453.txt', 'pos/cv458_8604.txt', 'pos/cv459_20319.txt', 'pos/cv460_10842.txt', 'pos/cv461_19600.txt', 'pos/cv462_19350.txt', 'pos/cv463_10343.txt', 'pos/cv464_15650.txt', 'pos/cv465_22431.txt', 'pos/cv466_18722.txt', 'pos/cv467_25773.txt', 'pos/cv468_15228.txt', 'pos/cv469_20630.txt', 'pos/cv470_15952.txt', 'pos/cv471_16858.txt', 'pos/cv472_29280.txt', 'pos/cv473_7367.txt', 'pos/cv474_10209.txt', 'pos/cv475_21692.txt', 'pos/cv476_16856.txt', 'pos/cv477_22479.txt', 'pos/cv478_14309.txt', 'pos/cv479_5649.txt', 'pos/cv480_19817.txt', 'pos/cv481_7436.txt', 'pos/cv482_10580.txt', 'pos/cv483_16378.txt', 'pos/cv484_25054.txt', 'pos/cv485_26649.txt', 'pos/cv486_9799.txt', 'pos/cv487_10446.txt', 'pos/cv488_19856.txt', 'pos/cv489_17906.txt', 'pos/cv490_17872.txt', 'pos/cv491_12145.txt', 'pos/cv492_18271.txt', 'pos/cv493_12839.txt', 'pos/cv494_17389.txt', 'pos/cv495_14518.txt', 'pos/cv496_10530.txt', 'pos/cv497_26980.txt', 'pos/cv498_8832.txt', 'pos/cv499_10658.txt', 'pos/cv500_10251.txt', 'pos/cv501_11657.txt', 'pos/cv502_10406.txt', 'pos/cv503_10558.txt', 'pos/cv504_29243.txt', 'pos/cv505_12090.txt', 'pos/cv506_15956.txt', 'pos/cv507_9220.txt', 'pos/cv508_16006.txt', 'pos/cv509_15888.txt', 'pos/cv510_23360.txt', 'pos/cv511_10132.txt', 'pos/cv512_15965.txt', 'pos/cv513_6923.txt', 'pos/cv514_11187.txt', 'pos/cv515_17069.txt', 'pos/cv516_11172.txt', 'pos/cv517_19219.txt', 'pos/cv518_13331.txt', 'pos/cv519_14661.txt', 'pos/cv520_12295.txt', 'pos/cv521_15828.txt', 'pos/cv522_5583.txt', 'pos/cv523_16615.txt', 'pos/cv524_23627.txt', 'pos/cv525_16122.txt', 'pos/cv526_12083.txt', 'pos/cv527_10123.txt', 'pos/cv528_10822.txt', 'pos/cv529_10420.txt', 'pos/cv530_16212.txt', 'pos/cv531_26486.txt', 'pos/cv532_6522.txt', 'pos/cv533_9821.txt', 'pos/cv534_14083.txt', 'pos/cv535_19728.txt', 'pos/cv536_27134.txt', 'pos/cv537_12370.txt', 'pos/cv538_28667.txt', 'pos/cv539_20347.txt', 'pos/cv540_3421.txt', 'pos/cv541_28835.txt', 'pos/cv542_18980.txt', 'pos/cv543_5045.txt', 'pos/cv544_5108.txt', 'pos/cv545_12014.txt', 'pos/cv546_11767.txt', 'pos/cv547_16324.txt', 'pos/cv548_17731.txt', 'pos/cv549_21443.txt', 'pos/cv550_22211.txt', 'pos/cv551_10565.txt', 'pos/cv552_10016.txt', 'pos/cv553_26915.txt', 'pos/cv554_13151.txt', 'pos/cv555_23922.txt', 'pos/cv556_14808.txt', 'pos/cv557_11449.txt', 'pos/cv558_29507.txt', 'pos/cv559_0050.txt', 'pos/cv560_17175.txt', 'pos/cv561_9201.txt', 'pos/cv562_10359.txt', 'pos/cv563_17257.txt', 'pos/cv564_11110.txt', 'pos/cv565_29572.txt', 'pos/cv566_8581.txt', 'pos/cv567_29611.txt', 'pos/cv568_15638.txt', 'pos/cv569_26381.txt', 'pos/cv570_29082.txt', 'pos/cv571_29366.txt', 'pos/cv572_18657.txt', 'pos/cv573_29525.txt', 'pos/cv574_22156.txt', 'pos/cv575_21150.txt', 'pos/cv576_14094.txt', 'pos/cv577_28549.txt', 'pos/cv578_15094.txt', 'pos/cv579_11605.txt', 'pos/cv580_14064.txt', 'pos/cv581_19381.txt', 'pos/cv582_6559.txt', 'pos/cv583_29692.txt', 'pos/cv584_29722.txt', 'pos/cv585_22496.txt', 'pos/cv586_7543.txt', 'pos/cv587_19162.txt', 'pos/cv588_13008.txt', 'pos/cv589_12064.txt', 'pos/cv590_19290.txt', 'pos/cv591_23640.txt', 'pos/cv592_22315.txt', 'pos/cv593_10987.txt', 'pos/cv594_11039.txt', 'pos/cv595_25335.txt', 'pos/cv596_28311.txt', 'pos/cv597_26360.txt', 'pos/cv598_16452.txt', 'pos/cv599_20988.txt', 'pos/cv600_23878.txt', 'pos/cv601_23453.txt', 'pos/cv602_8300.txt', 'pos/cv603_17694.txt', 'pos/cv604_2230.txt', 'pos/cv605_11800.txt', 'pos/cv606_15985.txt', 'pos/cv607_7717.txt', 'pos/cv608_23231.txt', 'pos/cv609_23877.txt', 'pos/cv610_2287.txt', 'pos/cv611_21120.txt', 'pos/cv612_5461.txt', 'pos/cv613_21796.txt', 'pos/cv614_10626.txt', 'pos/cv615_14182.txt', 'pos/cv616_29319.txt', 'pos/cv617_9322.txt', 'pos/cv618_8974.txt', 'pos/cv619_12462.txt', 'pos/cv620_24265.txt', 'pos/cv621_14368.txt', 'pos/cv622_8147.txt', 'pos/cv623_15356.txt', 'pos/cv624_10744.txt', 'pos/cv625_12440.txt', 'pos/cv626_7410.txt', 'pos/cv627_11620.txt', 'pos/cv628_19325.txt', 'pos/cv629_14909.txt', 'pos/cv630_10057.txt', 'pos/cv631_4967.txt', 'pos/cv632_9610.txt', 'pos/cv633_29837.txt', 'pos/cv634_11101.txt', 'pos/cv635_10022.txt', 'pos/cv636_15279.txt', 'pos/cv637_1250.txt', 'pos/cv638_2953.txt', 'pos/cv639_10308.txt', 'pos/cv640_5378.txt', 'pos/cv641_12349.txt', 'pos/cv642_29867.txt', 'pos/cv643_29349.txt', 'pos/cv644_17154.txt', 'pos/cv645_15668.txt', 'pos/cv646_15065.txt', 'pos/cv647_13691.txt', 'pos/cv648_15792.txt', 'pos/cv649_12735.txt', 'pos/cv650_14340.txt', 'pos/cv651_10492.txt', 'pos/cv652_13972.txt', 'pos/cv653_19583.txt', 'pos/cv654_18246.txt', 'pos/cv655_11154.txt', 'pos/cv656_24201.txt', 'pos/cv657_24513.txt', 'pos/cv658_10532.txt', 'pos/cv659_19944.txt', 'pos/cv660_21893.txt', 'pos/cv661_2450.txt', 'pos/cv662_13320.txt', 'pos/cv663_13019.txt', 'pos/cv664_4389.txt', 'pos/cv665_29538.txt', 'pos/cv666_18963.txt', 'pos/cv667_18467.txt', 'pos/cv668_17604.txt', 'pos/cv669_22995.txt', 'pos/cv670_25826.txt', 'pos/cv671_5054.txt', 'pos/cv672_28083.txt', 'pos/cv673_24714.txt', 'pos/cv674_10732.txt', 'pos/cv675_21588.txt', 'pos/cv676_21090.txt', 'pos/cv677_17715.txt', 'pos/cv678_13419.txt', 'pos/cv679_28559.txt', 'pos/cv680_10160.txt', 'pos/cv681_9692.txt', 'pos/cv682_16139.txt', 'pos/cv683_12167.txt', 'pos/cv684_11798.txt', 'pos/cv685_5947.txt', 'pos/cv686_13900.txt', 'pos/cv687_21100.txt', 'pos/cv688_7368.txt', 'pos/cv689_12587.txt', 'pos/cv690_5619.txt', 'pos/cv691_5043.txt', 'pos/cv692_15451.txt', 'pos/cv693_18063.txt', 'pos/cv694_4876.txt', 'pos/cv695_21108.txt', 'pos/cv696_29740.txt', 'pos/cv697_11162.txt', 'pos/cv698_15253.txt', 'pos/cv699_7223.txt', 'pos/cv700_21947.txt', 'pos/cv701_14252.txt', 'pos/cv702_11500.txt', 'pos/cv703_16143.txt', 'pos/cv704_15969.txt', 'pos/cv705_11059.txt', 'pos/cv706_24716.txt', 'pos/cv707_10678.txt', 'pos/cv708_28729.txt', 'pos/cv709_10529.txt', 'pos/cv710_22577.txt', 'pos/cv711_11665.txt', 'pos/cv712_22920.txt', 'pos/cv713_29155.txt', 'pos/cv714_18502.txt', 'pos/cv715_18179.txt', 'pos/cv716_10514.txt', 'pos/cv717_15953.txt', 'pos/cv718_11434.txt', 'pos/cv719_5713.txt', 'pos/cv720_5389.txt', 'pos/cv721_29121.txt', 'pos/cv722_7110.txt', 'pos/cv723_8648.txt', 'pos/cv724_13681.txt', 'pos/cv725_10103.txt', 'pos/cv726_4719.txt', 'pos/cv727_4978.txt', 'pos/cv728_16133.txt', 'pos/cv729_10154.txt', 'pos/cv730_10279.txt', 'pos/cv731_4136.txt', 'pos/cv732_12245.txt', 'pos/cv733_9839.txt', 'pos/cv734_21568.txt', 'pos/cv735_18801.txt', 'pos/cv736_23670.txt', 'pos/cv737_28907.txt', 'pos/cv738_10116.txt', 'pos/cv739_11209.txt', 'pos/cv740_12445.txt', 'pos/cv741_11890.txt', 'pos/cv742_7751.txt', 'pos/cv743_15449.txt', 'pos/cv744_10038.txt', 'pos/cv745_12773.txt', 'pos/cv746_10147.txt', 'pos/cv747_16556.txt', 'pos/cv748_12786.txt', 'pos/cv749_17765.txt', 'pos/cv750_10180.txt', 'pos/cv751_15719.txt', 'pos/cv752_24155.txt', 'pos/cv753_10875.txt', 'pos/cv754_7216.txt', 'pos/cv755_23616.txt', 'pos/cv756_22540.txt', 'pos/cv757_10189.txt', 'pos/cv758_9671.txt', 'pos/cv759_13522.txt', 'pos/cv760_8597.txt', 'pos/cv761_12620.txt', 'pos/cv762_13927.txt', 'pos/cv763_14729.txt', 'pos/cv764_11739.txt', 'pos/cv765_19037.txt', 'pos/cv766_7540.txt', 'pos/cv767_14062.txt', 'pos/cv768_11751.txt', 'pos/cv769_8123.txt', 'pos/cv770_10451.txt', 'pos/cv771_28665.txt', 'pos/cv772_12119.txt', 'pos/cv773_18817.txt', 'pos/cv774_13845.txt', 'pos/cv775_16237.txt', 'pos/cv776_20529.txt', 'pos/cv777_10094.txt', 'pos/cv778_17330.txt', 'pos/cv779_17881.txt', 'pos/cv780_7984.txt', 'pos/cv781_5262.txt', 'pos/cv782_19526.txt', 'pos/cv783_13227.txt', 'pos/cv784_14394.txt', 'pos/cv785_22600.txt', 'pos/cv786_22497.txt', 'pos/cv787_13743.txt', 'pos/cv788_25272.txt', 'pos/cv789_12136.txt', 'pos/cv790_14600.txt', 'pos/cv791_16302.txt', 'pos/cv792_3832.txt', 'pos/cv793_13650.txt', 'pos/cv794_15868.txt', 'pos/cv795_10122.txt', 'pos/cv796_15782.txt', 'pos/cv797_6957.txt', 'pos/cv798_23531.txt', 'pos/cv799_18543.txt', 'pos/cv800_12368.txt', 'pos/cv801_25228.txt', 'pos/cv802_28664.txt', 'pos/cv803_8207.txt', 'pos/cv804_10862.txt', 'pos/cv805_19601.txt', 'pos/cv806_8842.txt', 'pos/cv807_21740.txt', 'pos/cv808_12635.txt', 'pos/cv809_5009.txt', 'pos/cv810_12458.txt', 'pos/cv811_21386.txt', 'pos/cv812_17924.txt', 'pos/cv813_6534.txt', 'pos/cv814_18975.txt', 'pos/cv815_22456.txt', 'pos/cv816_13655.txt', 'pos/cv817_4041.txt', 'pos/cv818_10211.txt', 'pos/cv819_9364.txt', 'pos/cv820_22892.txt', 'pos/cv821_29364.txt', 'pos/cv822_20049.txt', 'pos/cv823_15569.txt', 'pos/cv824_8838.txt', 'pos/cv825_5063.txt', 'pos/cv826_11834.txt', 'pos/cv827_18331.txt', 'pos/cv828_19831.txt', 'pos/cv829_20289.txt', 'pos/cv830_6014.txt', 'pos/cv831_14689.txt', 'pos/cv832_23275.txt', 'pos/cv833_11053.txt', 'pos/cv834_22195.txt', 'pos/cv835_19159.txt', 'pos/cv836_12968.txt', 'pos/cv837_27325.txt', 'pos/cv838_24728.txt', 'pos/cv839_21467.txt', 'pos/cv840_16321.txt', 'pos/cv841_3967.txt', 'pos/cv842_5866.txt', 'pos/cv843_15544.txt', 'pos/cv844_12690.txt', 'pos/cv845_14290.txt', 'pos/cv846_29497.txt', 'pos/cv847_1941.txt', 'pos/cv848_10036.txt', 'pos/cv849_15729.txt', 'pos/cv850_16466.txt', 'pos/cv851_20469.txt', 'pos/cv852_27523.txt', 'pos/cv853_29233.txt', 'pos/cv854_17740.txt', 'pos/cv855_20661.txt', 'pos/cv856_29013.txt', 'pos/cv857_15958.txt', 'pos/cv858_18819.txt', 'pos/cv859_14107.txt', 'pos/cv860_13853.txt', 'pos/cv861_1198.txt', 'pos/cv862_14324.txt', 'pos/cv863_7424.txt', 'pos/cv864_3416.txt', 'pos/cv865_2895.txt', 'pos/cv866_29691.txt', 'pos/cv867_16661.txt', 'pos/cv868_11948.txt', 'pos/cv869_23611.txt', 'pos/cv870_16348.txt', 'pos/cv871_24888.txt', 'pos/cv872_12591.txt', 'pos/cv873_18636.txt', 'pos/cv874_11236.txt', 'pos/cv875_5754.txt', 'pos/cv876_9390.txt', 'pos/cv877_29274.txt', 'pos/cv878_15694.txt', 'pos/cv879_14903.txt', 'pos/cv880_29800.txt', 'pos/cv881_13254.txt', 'pos/cv882_10026.txt', 'pos/cv883_27751.txt', 'pos/cv884_13632.txt', 'pos/cv885_12318.txt', 'pos/cv886_18177.txt', 'pos/cv887_5126.txt', 'pos/cv888_24435.txt', 'pos/cv889_21430.txt', 'pos/cv890_3977.txt', 'pos/cv891_6385.txt', 'pos/cv892_17576.txt', 'pos/cv893_26269.txt', 'pos/cv894_2068.txt', 'pos/cv895_21022.txt', 'pos/cv896_16071.txt', 'pos/cv897_10837.txt', 'pos/cv898_14187.txt', 'pos/cv899_16014.txt', 'pos/cv900_10331.txt', 'pos/cv901_11017.txt', 'pos/cv902_12256.txt', 'pos/cv903_17822.txt', 'pos/cv904_24353.txt', 'pos/cv905_29114.txt', 'pos/cv906_11491.txt', 'pos/cv907_3541.txt', 'pos/cv908_16009.txt', 'pos/cv909_9960.txt', 'pos/cv910_20488.txt', 'pos/cv911_20260.txt', 'pos/cv912_5674.txt', 'pos/cv913_29252.txt', 'pos/cv914_28742.txt', 'pos/cv915_8841.txt', 'pos/cv916_15467.txt', 'pos/cv917_29715.txt', 'pos/cv918_2693.txt', 'pos/cv919_16380.txt', 'pos/cv920_29622.txt', 'pos/cv921_12747.txt', 'pos/cv922_10073.txt', 'pos/cv923_11051.txt', 'pos/cv924_29540.txt', 'pos/cv925_8969.txt', 'pos/cv926_17059.txt', 'pos/cv927_10681.txt', 'pos/cv928_9168.txt', 'pos/cv929_16908.txt', 'pos/cv930_13475.txt', 'pos/cv931_17563.txt', 'pos/cv932_13401.txt', 'pos/cv933_23776.txt', 'pos/cv934_19027.txt', 'pos/cv935_23841.txt', 'pos/cv936_15954.txt', 'pos/cv937_9811.txt', 'pos/cv938_10220.txt', 'pos/cv939_10583.txt', 'pos/cv940_17705.txt', 'pos/cv941_10246.txt', 'pos/cv942_17082.txt', 'pos/cv943_22488.txt', 'pos/cv944_13521.txt', 'pos/cv945_12160.txt', 'pos/cv946_18658.txt', 'pos/cv947_10601.txt', 'pos/cv948_24606.txt', 'pos/cv949_20112.txt', 'pos/cv950_12350.txt', 'pos/cv951_10926.txt', 'pos/cv952_25240.txt', 'pos/cv953_6836.txt', 'pos/cv954_18628.txt', 'pos/cv955_25001.txt', 'pos/cv956_11609.txt', 'pos/cv957_8737.txt', 'pos/cv958_12162.txt', 'pos/cv959_14611.txt', 'pos/cv960_29007.txt', 'pos/cv961_5682.txt', 'pos/cv962_9803.txt', 'pos/cv963_6895.txt', 'pos/cv964_6021.txt', 'pos/cv965_26071.txt', 'pos/cv966_28832.txt', 'pos/cv967_5788.txt', 'pos/cv968_24218.txt', 'pos/cv969_13250.txt', 'pos/cv970_18450.txt', 'pos/cv971_10874.txt', 'pos/cv972_26417.txt', 'pos/cv973_10066.txt', 'pos/cv974_22941.txt', 'pos/cv975_10981.txt', 'pos/cv976_10267.txt', 'pos/cv977_4938.txt', 'pos/cv978_20929.txt', 'pos/cv979_18921.txt', 'pos/cv980_10953.txt', 'pos/cv981_14989.txt', 'pos/cv982_21103.txt', 'pos/cv983_22928.txt', 'pos/cv984_12767.txt', 'pos/cv985_6359.txt', 'pos/cv986_13527.txt', 'pos/cv987_6965.txt', 'pos/cv988_18740.txt', 'pos/cv989_15824.txt', 'pos/cv990_11591.txt', 'pos/cv991_18645.txt', 'pos/cv992_11962.txt', 'pos/cv993_29737.txt', 'pos/cv994_12270.txt', 'pos/cv995_21821.txt', 'pos/cv996_11592.txt', 'pos/cv997_5046.txt', 'pos/cv998_14111.txt', 'pos/cv999_13106.txt']\n"
     ]
    }
   ],
   "source": [
    "print(movie_reviews.fileids())\n",
    "# Lets see what all are there in movie_reviews, the above command will give us the fileids of the files (or the reviews)."
   ]
  },
  {
   "cell_type": "code",
   "execution_count": 84,
   "metadata": {},
   "outputs": [
    {
     "name": "stdout",
     "output_type": "stream",
     "text": [
      "{'plot': False, ':': False, 'two': False, 'teen': False, 'couples': False, 'go': False, 'to': False, 'a': False, 'church': False, 'party': False, ',': False, 'drink': False, 'and': False, 'then': False, 'drive': False, '.': True, 'they': False, 'get': False, 'into': False, 'an': False, 'accident': False, 'one': False, 'of': False, 'the': False, 'guys': False, 'dies': False, 'but': False, 'his': False, 'girlfriend': False, 'continues': False, 'see': False, 'him': False, 'in': False, 'her': False, 'life': False, 'has': False, 'nightmares': False, 'what': False, \"'\": False, 's': False, 'deal': False, '?': False, 'watch': False, 'movie': False, '\"': False, 'sorta': False, 'find': False, 'out': False, 'critique': False, 'mind': False, '-': False, 'fuck': False, 'for': False, 'generation': False, 'that': False, 'touches': False, 'on': False, 'very': False, 'cool': False, 'idea': False, 'presents': False, 'it': False, 'bad': False, 'package': False, 'which': False, 'is': False, 'makes': False, 'this': False, 'review': False, 'even': False, 'harder': False, 'write': False, 'since': False, 'i': False, 'generally': False, 'applaud': False, 'films': False, 'attempt': False, 'break': False, 'mold': False, 'mess': False, 'with': False, 'your': False, 'head': False, 'such': False, '(': False, 'lost': False, 'highway': False, '&': False, 'memento': False, ')': False, 'there': False, 'are': False, 'good': False, 'ways': False, 'making': False, 'all': False, 'types': False, 'these': False, 'folks': False, 'just': False, 'didn': False, 't': True, 'snag': False, 'correctly': False, 'seem': False, 'have': False, 'taken': False, 'pretty': False, 'neat': False, 'concept': False, 'executed': False, 'terribly': False, 'so': False, 'problems': False, 'well': False, 'its': False, 'main': False, 'problem': False, 'simply': False, 'too': False, 'jumbled': False, 'starts': False, 'off': False, 'normal': False, 'downshifts': False, 'fantasy': False, 'world': False, 'you': False, 'as': False, 'audience': False, 'member': False, 'no': False, 'going': False, 'dreams': False, 'characters': False, 'coming': False, 'back': False, 'from': False, 'dead': False, 'others': False, 'who': False, 'look': False, 'like': False, 'strange': False, 'apparitions': False, 'disappearances': False, 'looooot': False, 'chase': False, 'scenes': False, 'tons': False, 'weird': False, 'things': False, 'happen': False, 'most': False, 'not': False, 'explained': False, 'now': False, 'personally': False, 'don': False, 'trying': False, 'unravel': False, 'film': False, 'every': False, 'when': False, 'does': False, 'give': False, 'me': False, 'same': False, 'clue': False, 'over': False, 'again': False, 'kind': False, 'fed': False, 'up': False, 'after': False, 'while': False, 'biggest': False, 'obviously': False, 'got': False, 'big': False, 'secret': False, 'hide': False, 'seems': False, 'want': False, 'completely': False, 'until': False, 'final': False, 'five': False, 'minutes': False, 'do': False, 'make': False, 'entertaining': False, 'thrilling': False, 'or': False, 'engaging': False, 'meantime': False, 'really': False, 'sad': False, 'part': False, 'arrow': False, 'both': False, 'dig': False, 'flicks': False, 'we': False, 'actually': False, 'figured': False, 'by': False, 'half': False, 'way': False, 'point': False, 'strangeness': False, 'did': False, 'start': False, 'little': False, 'bit': False, 'sense': False, 'still': False, 'more': False, 'guess': False, 'bottom': False, 'line': False, 'movies': False, 'should': False, 'always': False, 'sure': False, 'before': False, 'given': False, 'password': False, 'enter': False, 'understanding': False, 'mean': False, 'showing': False, 'melissa': False, 'sagemiller': False, 'running': False, 'away': False, 'visions': False, 'about': False, '20': False, 'throughout': False, 'plain': False, 'lazy': False, '!': False, 'okay': False, 'people': False, 'chasing': False, 'know': False, 'need': False, 'how': False, 'giving': False, 'us': False, 'different': False, 'offering': False, 'further': False, 'insight': False, 'down': False, 'apparently': False, 'studio': False, 'took': False, 'director': False, 'chopped': False, 'themselves': False, 'shows': False, 'might': False, 've': False, 'been': False, 'decent': False, 'here': False, 'somewhere': False, 'suits': False, 'decided': False, 'turning': False, 'music': False, 'video': False, 'edge': False, 'would': False, 'actors': False, 'although': False, 'wes': False, 'bentley': False, 'seemed': False, 'be': False, 'playing': False, 'exact': False, 'character': False, 'he': False, 'american': False, 'beauty': False, 'only': False, 'new': False, 'neighborhood': False, 'my': False, 'kudos': False, 'holds': False, 'own': False, 'entire': False, 'feeling': False, 'unraveling': False, 'overall': False, 'doesn': False, 'stick': False, 'because': False, 'entertain': False, 'confusing': False, 'rarely': False, 'excites': False, 'feels': False, 'redundant': False, 'runtime': False, 'despite': False, 'ending': False, 'explanation': False, 'craziness': False, 'came': False, 'oh': False, 'horror': False, 'slasher': False, 'flick': False, 'packaged': False, 'someone': False, 'assuming': False, 'genre': False, 'hot': False, 'kids': False, 'also': False, 'wrapped': False, 'production': False, 'years': False, 'ago': False, 'sitting': False, 'shelves': False, 'ever': False, 'whatever': False, 'skip': False, 'where': False, 'joblo': False, 'nightmare': False, 'elm': False, 'street': False, '3': False, '7': False, '/': True, '10': False, 'blair': False, 'witch': False, '2': True, 'crow': False, '9': True, 'salvation': False, '4': True, 'stir': False, 'echoes': False, '8': False, 'happy': False, 'bastard': False, 'quick': False, 'damn': False, 'y2k': False, 'bug': False, 'starring': False, 'jamie': False, 'lee': False, 'curtis': False, 'another': False, 'baldwin': False, 'brother': False, 'william': False, 'time': False, 'story': False, 'regarding': False, 'crew': False, 'tugboat': False, 'comes': False, 'across': False, 'deserted': False, 'russian': False, 'tech': False, 'ship': False, 'kick': False, 'power': False, 'within': False, 'gore': False, 'bringing': False, 'few': False, 'action': False, 'sequences': False, 'virus': False, 'empty': False, 'flash': False, 'substance': False, 'why': False, 'was': False, 'middle': False, 'nowhere': False, 'origin': False, 'pink': False, 'flashy': False, 'thing': False, 'hit': False, 'mir': False, 'course': False, 'donald': False, 'sutherland': False, 'stumbling': False, 'around': False, 'drunkenly': False, 'hey': False, 'let': False, 'some': False, 'robots': False, 'acting': False, 'below': False, 'average': False, 'likes': False, 're': False, 'likely': False, 'work': False, 'halloween': False, 'h20': False, 'wasted': False, 'real': False, 'star': False, 'stan': False, 'winston': False, 'robot': False, 'design': False, 'schnazzy': False, 'cgi': False, 'occasional': False, 'shot': False, 'picking': False, 'brain': False, 'if': False, 'body': False, 'parts': False, 'turn': False, 'otherwise': False, 'much': False, 'sunken': False, 'jaded': False, 'viewer': False, 'thankful': False, 'invention': False, 'timex': False, 'indiglo': False, 'based': False, 'late': False, '1960': False, 'television': False, 'show': False, 'name': False, 'mod': False, 'squad': False, 'tells': False, 'tale': False, 'three': False, 'reformed': False, 'criminals': False, 'under': False, 'employ': False, 'police': False, 'undercover': False, 'however': False, 'wrong': False, 'evidence': False, 'gets': False, 'stolen': False, 'immediately': False, 'suspicion': False, 'ads': False, 'cuts': False, 'claire': False, 'dane': False, 'nice': False, 'hair': False, 'cute': False, 'outfits': False, 'car': False, 'chases': False, 'stuff': False, 'blowing': False, 'sounds': False, 'first': False, 'fifteen': False, 'quickly': False, 'becomes': False, 'apparent': False, 'certainly': False, 'slick': False, 'looking': False, 'complete': False, 'costumes': False, 'isn': False, 'enough': False, 'best': False, 'described': False, 'cross': False, 'between': False, 'hour': False, 'long': False, 'cop': False, 'stretched': False, 'span': False, 'single': False, 'clich': False, 'matter': False, 'elements': False, 'recycled': False, 'everything': False, 'already': False, 'seen': False, 'nothing': False, 'spectacular': False, 'sometimes': False, 'bordering': False, 'wooden': False, 'danes': False, 'omar': False, 'epps': False, 'deliver': False, 'their': False, 'lines': False, 'bored': False, 'transfers': False, 'onto': False, 'escape': False, 'relatively': False, 'unscathed': False, 'giovanni': False, 'ribisi': False, 'plays': False, 'resident': False, 'crazy': False, 'man': False, 'ultimately': False, 'being': False, 'worth': False, 'watching': False, 'unfortunately': False, 'save': False, 'convoluted': False, 'apart': False, 'occupying': False, 'screen': False, 'young': False, 'cast': False, 'clothes': False, 'hip': False, 'soundtrack': False, 'appears': False, 'geared': False, 'towards': False, 'teenage': False, 'mindset': False, 'r': False, 'rating': False, 'content': False, 'justify': False, 'juvenile': False, 'older': False, 'information': False, 'literally': False, 'spoon': False, 'hard': False, 'instead': False, 'telling': False, 'dialogue': False, 'poorly': False, 'written': False, 'extremely': False, 'predictable': False, 'progresses': False, 'won': False, 'care': False, 'heroes': False, 'any': False, 'jeopardy': False, 'll': False, 'aren': False, 'basing': False, 'nobody': False, 'remembers': False, 'questionable': False, 'wisdom': False, 'especially': False, 'considers': False, 'target': False, 'fact': False, 'number': False, 'memorable': False, 'can': False, 'counted': False, 'hand': False, 'missing': False, 'finger': False, 'times': False, 'checked': False, 'six': False, 'clear': False, 'indication': False, 'them': False, 'than': False, 'cash': False, 'spending': False, 'dollar': False, 'judging': False, 'rash': False, 'awful': False, 'seeing': False, 'avoid': False, 'at': False, 'costs': False, 'quest': False, 'camelot': False, 'warner': False, 'bros': False, 'feature': False, 'length': False, 'fully': False, 'animated': False, 'steal': False, 'clout': False, 'disney': False, 'cartoon': False, 'empire': False, 'mouse': False, 'reason': False, 'worried': False, 'other': False, 'recent': False, 'challenger': False, 'throne': False, 'last': False, 'fall': False, 'promising': False, 'flawed': False, '20th': False, 'century': False, 'fox': False, 'anastasia': False, 'hercules': False, 'lively': False, 'colorful': False, 'palate': False, 'had': False, 'beat': False, 'hands': False, 'crown': False, '1997': False, 'piece': False, 'animation': False, 'year': False, 'contest': False, 'arrival': False, 'magic': False, 'kingdom': False, 'mediocre': False, '--': False, 'd': False, 'pocahontas': False, 'those': False, 'keeping': False, 'score': False, 'nearly': False, 'dull': False, 'revolves': False, 'adventures': False, 'free': False, 'spirited': False, 'kayley': False, 'voiced': False, 'jessalyn': False, 'gilsig': False, 'early': False, 'daughter': False, 'belated': False, 'knight': False, 'king': False, 'arthur': False, 'round': False, 'table': False, 'dream': False, 'follow': False, 'father': False, 'footsteps': False, 'she': False, 'chance': False, 'evil': False, 'warlord': False, 'ruber': False, 'gary': False, 'oldman': False, 'ex': False, 'gone': False, 'steals': False, 'magical': False, 'sword': False, 'excalibur': False, 'accidentally': False, 'loses': False, 'dangerous': False, 'booby': False, 'trapped': False, 'forest': False, 'help': False, 'hunky': False, 'blind': False, 'timberland': False, 'dweller': False, 'garrett': False, 'carey': False, 'elwes': False, 'headed': False, 'dragon': False, 'eric': False, 'idle': False, 'rickles': False, 'arguing': False, 'itself': False, 'able': False, 'medieval': False, 'sexist': False, 'prove': False, 'fighter': False, 'side': False, 'pure': False, 'showmanship': False, 'essential': False, 'element': False, 'expected': False, 'climb': False, 'high': False, 'ranks': False, 'differentiates': False, 'something': False, 'saturday': False, 'morning': False, 'subpar': False, 'instantly': False, 'forgettable': False, 'songs': False, 'integrated': False, 'computerized': False, 'footage': False, 'compare': False, 'run': False, 'angry': False, 'ogre': False, 'herc': False, 'battle': False, 'hydra': False, 'rest': False, 'case': False, 'stink': False, 'none': False, 'remotely': False, 'interesting': False, 'race': False, 'bland': False, 'end': False, 'tie': False, 'win': False, 'comedy': False, 'shtick': False, 'awfully': False, 'cloying': False, 'least': False, 'signs': False, 'pulse': False, 'fans': False, \"-'\": False, '90s': False, 'tgif': False, 'will': False, 'thrilled': False, 'jaleel': False, 'urkel': False, 'white': False, 'bronson': False, 'balki': False, 'pinchot': False, 'sharing': False, 'nicely': False, 'realized': False, 'though': False, 'm': False, 'loss': False, 'recall': False, 'specific': False, 'providing': False, 'voice': False, 'talent': False, 'enthusiastic': False, 'paired': False, 'singers': False, 'sound': False, 'musical': False, 'moments': False, 'jane': False, 'seymour': False, 'celine': False, 'dion': False, 'must': False, 'strain': False, 'through': False, 'aside': False, 'children': False, 'probably': False, 'adults': False, 'grievous': False, 'error': False, 'lack': False, 'personality': False, 'learn': False, 'goes': False, 'synopsis': False, 'mentally': False, 'unstable': False, 'undergoing': False, 'psychotherapy': False, 'saves': False, 'boy': False, 'potentially': False, 'fatal': False, 'falls': False, 'love': False, 'mother': False, 'fledgling': False, 'restauranteur': False, 'unsuccessfully': False, 'attempting': False, 'gain': False, 'woman': False, 'favor': False, 'takes': False, 'pictures': False, 'kills': False, 'comments': False, 'stalked': False, 'yet': False, 'seemingly': False, 'endless': False, 'string': False, 'spurned': False, 'psychos': False, 'getting': False, 'revenge': False, 'type': False, 'stable': False, 'category': False, '1990s': False, 'industry': False, 'theatrical': False, 'direct': False, 'proliferation': False, 'may': False, 'due': False, 'typically': False, 'inexpensive': False, 'produce': False, 'special': False, 'effects': False, 'stars': False, 'serve': False, 'vehicles': False, 'nudity': False, 'allowing': False, 'frequent': False, 'night': False, 'cable': False, 'wavers': False, 'slightly': False, 'norm': False, 'respect': False, 'psycho': False, 'never': False, 'affair': False, ';': False, 'contrary': False, 'rejected': False, 'rather': False, 'lover': False, 'wife': False, 'husband': False, 'entry': False, 'doomed': False, 'collect': False, 'dust': False, 'viewed': False, 'midnight': False, 'provide': False, 'suspense': False, 'sets': False, 'interspersed': False, 'opening': False, 'credits': False, 'instance': False, 'serious': False, 'sounding': False, 'narrator': False, 'spouts': False, 'statistics': False, 'stalkers': False, 'ponders': False, 'cause': False, 'stalk': False, 'implicitly': False, 'implied': False, 'men': False, 'shown': False, 'snapshot': False, 'actor': False, 'jay': False, 'underwood': False, 'states': False, 'daryl': False, 'gleason': False, 'stalker': False, 'brooke': False, 'daniels': False, 'meant': False, 'called': False, 'guesswork': False, 'required': False, 'proceeds': False, 'begins': False, 'obvious': False, 'sequence': False, 'contrived': False, 'quite': False, 'brings': False, 'victim': False, 'together': False, 'obsesses': False, 'follows': False, 'tries': False, 'woo': False, 'plans': False, 'become': False, 'desperate': False, 'elaborate': False, 'include': False, 'cliche': False, 'murdered': False, 'pet': False, 'require': False, 'found': False, 'exception': False, 'cat': False, 'shower': False, 'events': False, 'lead': False, 'inevitable': False, 'showdown': False, 'survives': False, 'invariably': False, 'conclusion': False, 'turkey': False, 'uniformly': False, 'adequate': False, 'anything': False, 'home': False, 'either': False, 'turns': False, 'toward': False, 'melodrama': False, 'overdoes': False, 'words': False, 'manages': False, 'creepy': False, 'pass': False, 'demands': False, 'maryam': False, 'abo': False, 'close': False, 'played': False, 'bond': False, 'chick': False, 'living': False, 'daylights': False, 'equally': False, 'title': False, 'ditzy': False, 'strong': False, 'independent': False, 'business': False, 'owner': False, 'needs': False, 'proceed': False, 'example': False, 'suspicions': False, 'ensure': False, 'use': False, 'excuse': False, 'decides': False, 'return': False, 'toolbox': False, 'left': False, 'place': False, 'house': False, 'leave': False, 'door': False, 'answers': False, 'opens': False, 'wanders': False, 'returns': False, 'enters': False, 'our': False, 'heroine': False, 'danger': False, 'somehow': False, 'parked': False, 'front': False, 'right': False, 'oblivious': False, 'presence': False, 'inside': False, 'whole': False, 'episode': False, 'places': False, 'incredible': False, 'suspension': False, 'disbelief': False, 'questions': False, 'validity': False, 'intelligence': False, 'receives': False, 'highly': False, 'derivative': False, 'somewhat': False, 'boring': False, 'cannot': False, 'watched': False, 'rated': False, 'mostly': False, 'several': False, 'murder': False, 'brief': False, 'strip': False, 'bar': False, 'offensive': False, 'many': False, 'thrillers': False, 'mood': False, 'stake': False, 'else': False, 'capsule': False, '2176': False, 'planet': False, 'mars': False, 'taking': False, 'custody': False, 'accused': False, 'murderer': False, 'face': False, 'menace': False, 'lot': False, 'fighting': False, 'john': False, 'carpenter': False, 'reprises': False, 'ideas': False, 'previous': False, 'assault': False, 'precinct': False, '13': False, 'homage': False, 'himself': False, '0': True, '+': False, 'believes': False, 'fight': False, 'horrible': False, 'writer': False, 'supposedly': False, 'expert': False, 'mistake': False, 'ghosts': False, 'drawn': False, 'humans': False, 'surprisingly': False, 'low': False, 'powered': False, 'alien': False, 'addition': False, 'anybody': False, 'made': False, 'grounds': False, 'sue': False, 'chock': False, 'full': False, 'pieces': False, 'prince': False, 'darkness': False, 'surprising': False, 'managed': False, 'fit': False, 'admittedly': False, 'novel': False, 'science': False, 'fiction': False, 'experience': False, 'terraformed': False, 'walk': False, 'surface': False, 'without': False, 'breathing': False, 'gear': False, 'budget': False, 'mentioned': False, 'gravity': False, 'increased': False, 'earth': False, 'easier': False, 'society': False, 'changed': False, 'advanced': False, 'culture': False, 'women': False, 'positions': False, 'control': False, 'view': False, 'stagnated': False, 'female': False, 'beyond': False, 'minor': False, 'technological': False, 'advances': False, 'less': False, '175': False, 'expect': False, 'change': False, 'ten': False, 'basic': False, 'common': False, 'except': False, 'yes': False, 'replaced': False, 'tacky': False, 'rundown': False, 'martian': False, 'mining': False, 'colony': False, 'having': False, 'criminal': False, 'napolean': False, 'wilson': False, 'desolation': False, 'williams': False, 'facing': False, 'hoodlums': False, 'automatic': False, 'weapons': False, 'nature': False, 'behave': False, 'manner': False, 'essentially': False, 'human': False, 'savages': False, 'lapse': False, 'imagination': False, 'told': False, 'flashback': False, 'entirely': False, 'filmed': False, 'almost': False, 'tones': False, 'red': False, 'yellow': False, 'black': False, 'powerful': False, 'scene': False, 'train': False, 'rushing': False, 'heavy': False, 'sadly': False, 'buildup': False, 'terror': False, 'creates': False, 'looks': False, 'fugitive': False, 'wannabes': False, 'rock': False, 'band': False, 'kiss': False, 'building': False, 'bunch': False, 'sudden': False, 'jump': False, 'sucker': False, 'thinking': False, 'scary': False, 'happening': False, 'standard': False, 'haunted': False, 'shock': False, 'great': False, 'newer': False, 'unimpressive': False, 'digital': False, 'decapitations': False, 'fights': False, 'short': False, 'stretch': False, 'release': False, 'mission': False, 'panned': False, 'reviewers': False, 'better': False, 'rate': False, 'scale': False, 'following': False, 'showed': False, 'liked': False, 'moderately': False, 'classic': False, 'comment': False, 'twice': False, 'ask': False, 'yourself': False, '8mm': False, 'eight': False, 'millimeter': False, 'wholesome': False, 'surveillance': False, 'sight': False, 'values': False, 'becoming': False, 'enmeshed': False, 'seedy': False, 'sleazy': False, 'underworld': False, 'hardcore': False, 'pornography': False, 'bubbling': False, 'beneath': False, 'town': False, 'americana': False, 'sordid': False, 'sick': False, 'depraved': False, 'necessarily': False, 'stop': False, 'order': False, 'satisfy': False, 'twisted': False, 'desires': False, 'position': False, 'influence': False, 'kinds': False, 'demented': False, 'talking': False, 'snuff': False, 'supposed': False, 'documentaries': False, 'victims': False, 'brutalized': False, 'killed': False, 'camera': False, 'joel': False, 'schumacher': False, 'credit': False, 'batman': False, 'robin': False, 'kill': False, 'forever': False, 'client': False, 'thirds': False, 'unwind': False, 'fairly': False, 'conventional': False, 'persons': False, 'drama': False, 'albeit': False, 'particularly': False, 'unsavory': False, 'core': False, 'threatening': False, 'along': False, 'explodes': False, 'violence': False, 'think': False, 'finally': False, 'tags': False, 'ridiculous': False, 'self': False, 'righteous': False, 'finale': False, 'drags': False, 'unpleasant': False, 'trust': False, 'waste': False, 'hours': False, 'nicolas': False, 'snake': False, 'eyes': False, 'cage': False, 'private': False, 'investigator': False, 'tom': False, 'welles': False, 'hired': False, 'wealthy': False, 'philadelphia': False, 'widow': False, 'determine': False, 'whether': False, 'reel': False, 'safe': False, 'documents': False, 'girl': False, 'assignment': False, 'factly': False, 'puzzle': False, 'neatly': False, 'specialized': False, 'skills': False, 'training': False, 'easy': False, 'cops': False, 'toilet': False, 'tanks': False, 'clues': False, 'deeper': False, 'digs': False, 'investigation': False, 'obsessed': False, 'george': False, 'c': True, 'scott': False, 'paul': False, 'schrader': False, 'occasionally': False, 'flickering': False, 'whirs': False, 'sprockets': False, 'winding': False, 'projector': False, 'reminding': False, 'task': False, 'hints': False, 'toll': False, 'lovely': False, 'catherine': False, 'keener': False, 'frustrated': False, 'cleveland': False, 'ugly': False, 'split': False, 'level': False, 'harrisburg': False, 'pa': False, 'condemn': False, 'condone': False, 'subject': False, 'exploits': False, 'irony': False, 'seven': False, 'scribe': False, 'andrew': False, 'kevin': False, 'walker': False, 'vision': False, 'lane': False, 'limited': False, 'hollywood': False, 'product': False, 'snippets': False, 'covering': False, 'later': False, 'joaquin': False, 'phoenix': False, 'far': False, 'adult': False, 'bookstore': False, 'flunky': False, 'max': False, 'california': False, 'cover': False, 'horrid': False, 'screened': False, 'familiar': False, 'revelation': False, 'sexual': False, 'deviants': False, 'indeed': False, 'monsters': False, 'everyday': False, 'neither': False, 'super': False, 'nor': False, 'shocking': False, 'banality': False, 'exactly': False, 'felt': False, 'weren': False, 'nine': False, 'laughs': False, 'months': False, 'terrible': False, 'mr': False, 'hugh': False, 'grant': False, 'huge': False, 'dork': False, 'oral': False, 'sex': False, 'prostitution': False, 'referring': False, 'bugs': False, 'annoying': False, 'adam': False, 'sandler': False, 'jim': False, 'carrey': False, 'eye': False, 'flutters': False, 'nervous': False, 'smiles': False, 'slapstick': False, 'fistfight': False, 'delivery': False, 'room': False, 'culminating': False, 'joan': False, 'cusack': False, 'lap': False, 'paid': False, '$': False, '60': False, 'included': False, 'obscene': False, 'double': False, 'entendres': False, 'obstetrician': False, 'pregnant': False, 'pussy': False, 'size': False, 'hairs': False, 'coat': False, 'nonetheless': False, 'exchange': False, 'cookie': False, 'cutter': False, 'originality': False, 'humor': False, 'successful': False, 'child': False, 'psychiatrist': False, 'psychologist': False, 'scriptwriters': False, 'could': False, 'inject': False, 'unfunny': False, 'kid': False, 'dad': False, 'asshole': False, 'eyelashes': False, 'offers': False, 'smile': False, 'responds': False, 'english': False, 'accent': False, 'attitude': False, 'possibly': False, '_huge_': False, 'beside': False, 'includes': False, 'needlessly': False, 'stupid': False, 'jokes': False, 'olds': False, 'everyone': False, 'shakes': False, 'anyway': False, 'finds': False, 'usual': False, 'reaction': False, 'fluttered': False, 'paves': False, 'possible': False, 'pregnancy': False, 'birth': False, 'gag': False, 'book': False, 'friend': False, 'arnold': False, 'provides': False, 'cacophonous': False, 'funny': False, 'beats': False, 'costumed': False, 'arnie': False, 'dinosaur': False, 'draw': False, 'parallels': False, 'toy': False, 'store': False, 'jeff': False, 'goldblum': False, 'hid': False, 'dreadful': False, 'hideaway': False, 'artist': False, 'fear': False, 'simultaneous': False, 'longing': False, 'commitment': False, 'doctor': False, 'recently': False, 'switch': False, 'veterinary': False, 'medicine': False, 'obstetrics': False, 'joke': False, 'old': False, 'foreign': False, 'guy': False, 'mispronounces': False, 'stereotype': False, 'say': False, 'yakov': False, 'smirnov': False, 'favorite': False, 'vodka': False, 'hence': False, 'take': False, 'volvo': False, 'nasty': False, 'unamusing': False, 'heads': False, 'simultaneously': False, 'groan': False, 'failure': False, 'loud': False, 'failed': False, 'uninspired': False, 'lunacy': False, 'sunset': False, 'boulevard': False, 'arrest': False, 'please': False, 'caught': False, 'pants': False, 'bring': False, 'theaters': False, 'faces': False, '90': False, 'forced': False, 'unauthentic': False, 'anyone': False, 'q': False, '80': False, 'sorry': False, 'money': False, 'unfulfilled': False, 'desire': False, 'spend': False, 'bucks': False, 'call': False, 'road': False, 'trip': False, 'walking': False, 'wounded': False, 'stellan': False, 'skarsg': False, 'rd': False, 'convincingly': False, 'zombified': False, 'drunken': False, 'loser': False, 'difficult': False, 'smelly': False, 'boozed': False, 'reliable': False, 'swedish': False, 'adds': False, 'depth': False, 'significance': False, 'plodding': False, 'aberdeen': False, 'sentimental': False, 'painfully': False, 'mundane': False, 'european': False, 'playwright': False, 'august': False, 'strindberg': False, 'built': False, 'career': False, 'families': False, 'relationships': False, 'paralyzed': False, 'secrets': False, 'unable': False, 'express': False, 'longings': False, 'accurate': False, 'reflection': False, 'strives': False, 'focusing': False, 'pairing': False, 'alcoholic': False, 'tomas': False, 'alienated': False, 'openly': False, 'hostile': False, 'yuppie': False, 'kaisa': False, 'lena': False, 'headey': False, 'gossip': False, 'haven': False, 'spoken': False, 'wouldn': False, 'norway': False, 'scotland': False, 'automobile': False, 'charlotte': False, 'rampling': False, 'sand': False, 'rotting': False, 'hospital': False, 'bed': False, 'cancer': False, 'soap': False, 'opera': False, 'twist': False, 'days': False, 'live': False, 'blitzed': False, 'step': False, 'foot': False, 'plane': False, 'hits': False, 'open': False, 'loathing': False, 'each': False, 'periodic': False, 'stops': False, 'puke': False, 'dashboard': False, 'whenever': False, 'muttering': False, 'rotten': False, 'turned': False, 'sloshed': False, 'viewpoint': False, 'recognizes': False, 'apple': False, 'hasn': False, 'fallen': False, 'tree': False, 'nosebleeds': False, 'snorting': False, 'coke': False, 'sabotages': False, 'personal': False, 'indifference': False, 'restrain': False, 'vindictive': False, 'temper': False, 'ain': False, 'pair': False, 'true': False, 'notes': False, 'unspoken': False, 'familial': False, 'empathy': False, 'note': False, 'repetitively': False, 'bitchy': False, 'screenwriters': False, 'kristin': False, 'amundsen': False, 'hans': False, 'petter': False, 'moland': False, 'fabricate': False, 'series': False, 'contrivances': False, 'propel': False, 'forward': False, 'roving': False, 'hooligans': False, 'drunks': False, 'nosy': False, 'flat': False, 'tires': False, 'figure': False, 'schematic': False, 'convenient': False, 'narrative': False, 'reach': False, 'unveil': False, 'dark': False, 'past': False, 'simplistic': False, 'devices': False, 'trivialize': False, 'conflict': False, 'mainstays': False, 'wannabe': False, 'exists': False, 'purely': False, 'sake': False, 'weak': False, 'unimaginative': False, 'casting': False, 'thwarts': False, 'pivotal': False, 'role': False, 'were': False, 'stronger': False, 'actress': False, 'perhaps': False, 'coast': False, 'performances': False, 'moody': False, 'haunting': False, 'cinematography': False, 'rendering': False, 'pastoral': False, 'ghost': False, 'reference': False, 'certain': False, 'superior': False, 'indie': False, 'intentional': False, 'busy': False, 'using': False, 'furrowed': False, 'brow': False, 'convey': False, 'twitch': False, 'insouciance': False, 'paying': False, 'attention': False, 'maybe': False, 'doing': False, 'reveal': False, 'worthwhile': False, 'earlier': False, 'released': False, '2001': False, 'jonathan': False, 'nossiter': False, 'captivating': False, 'wonders': False, 'disturbed': False, 'parental': False, 'figures': False, 'bound': False, 'ceremonial': False, 'wedlock': False, 'differences': False, 'presented': False, 'significant': False, 'luminous': False, 'diva': False, 'preening': False, 'static': False, 'solid': False, 'performance': False, 'pathetic': False, 'drunk': False, 'emote': False, 'besides': False, 'catatonic': False, 'sorrow': False, 'genuine': False, 'ferocity': False, 'sexually': False, 'charged': False, 'frisson': False, 'during': False, 'understated': False, 'confrontations': False, 'suggest': False, 'gray': False, 'zone': False, 'complications': False, 'accompany': False, 'torn': False, 'romance': False, 'stifled': False, 'curiosity': False, 'thoroughly': False, 'explores': False, 'neurotic': False, 'territory': False, 'delving': False, 'americanization': False, 'greece': False, 'mysticism': False, 'illusion': False, 'deflect': False, 'pain': False, 'overloaded': False, 'willing': False, 'come': False, 'traditional': False, 'ambitious': False, 'sleepwalk': False, 'rhythms': False, 'timing': False, 'driven': False, 'stories': False, 'complexities': False, 'depressing': False, 'answer': False, 'lawrence': False, 'kasdan': False, 'trite': False, 'useful': False, 'grand': False, 'canyon': False, 'steve': False, 'martin': False, 'mogul': False, 'pronounces': False, 'riddles': False, 'answered': False, 'advice': False, 'heart': False, 'french': False, 'sees': False, 'parents': False, 'tim': False, 'roth': False, 'oops': False, 'vows': False, 'taught': False, 'musketeer': False, 'dude': False, 'used': False, 'fourteen': False, 'arrgh': False, 'swish': False, 'zzzzzzz': False, 'original': False, 'lacks': False, 'energy': False, 'next': False, 'hmmmm': False, 'justin': False, 'chambers': False, 'basically': False, 'uncharismatic': False, 'version': False, 'chris': False, 'o': False, 'donnell': False, 'range': False, 'mena': False, 'suvari': False, 'thora': False, 'birch': False, 'dungeons': False, 'dragons': False, 'miscast': False, 'deliveries': False, 'piss': False, 'poor': False, 'ms': False, 'fault': False, 'definitely': False, 'higher': False, 'semi': False, 'saving': False, 'grace': False, 'wise': False, 'irrepressible': False, 'once': False, 'thousand': False, 'god': False, 'beg': False, 'agent': False, 'marketplace': False, 'modern': False, 'day': False, 'roles': False, 'romantic': False, 'gunk': False, 'alright': False, 'yeah': False, 'yikes': False, 'notches': False, 'fellas': False, 'blares': False, 'ear': False, 'accentuate': False, 'annoy': False, 'important': False, 'behind': False, 'recognize': False, 'epic': False, 'fluffy': False, 'rehashed': False, 'cake': False, 'created': False, 'shrewd': False, 'advantage': False, 'kung': False, 'fu': False, 'phenomenon': False, 'test': False, 'dudes': False, 'keep': False, 'reading': False, 'editing': False, 'shoddy': False, 'banal': False, 'stilted': False, 'plentiful': False, 'top': False, 'horse': False, 'carriage': False, 'stand': False, 'opponent': False, 'scampering': False, 'cut': False, 'mouseketeer': False, 'rope': False, 'tower': False, 'jumping': False, 'chords': False, 'hanging': False, 'says': False, '14': False, 'shirt': False, 'strayed': False, 'championing': False, 'fun': False, 'stretches': False, 'atrocious': False, 'lake': False, 'reminded': False, 'school': False, 'cringe': False, 'musketeers': False, 'fat': False, 'raison': False, 'etre': False, 'numbers': False, 'hoping': False, 'packed': False, 'stuntwork': False, 'promoted': False, 'trailer': False, 'major': False, 'swashbuckling': False, 'beginning': False, 'finishes': False, 'juggling': False, 'ladders': False, 'ladder': False, 'definite': False, 'keeper': False, 'regurgitated': False, 'crap': False, 'tell': False, 'deneuve': False, 'placed': False, 'hullo': False, 'barely': False, 'ugh': False, 'small': False, 'annoyed': False, 'trash': False, 'gang': False, 'vow': False, 'stay': False, 'thank': False, 'outlaws': False, '5': False, 'crouching': False, 'tiger': False, 'hidden': False, 'matrix': False, 'replacement': False, 'killers': False, '6': True, 'romeo': False, 'die': False, 'shanghai': False, 'noon': False, 'remembered': False, 'dr': False, 'hannibal': False, 'lecter': False, 'michael': False, 'mann': False, 'forensics': False, 'thriller': False, 'manhunter': False, 'scottish': False, 'brian': False, 'cox': False, 'works': False, 'usually': False, 'schlock': False, 'halfway': False, 'goodnight': False, 'meaty': False, 'substantial': False, 'brilliant': False, 'check': False, 'dogged': False, 'inspector': False, 'opposite': False, 'frances': False, 'mcdormand': False, 'ken': False, 'loach': False, 'agenda': False, 'harrigan': False, 'disturbing': False, 'l': False, 'e': True, '47': False, 'picked': False, 'sundance': False, 'distributors': False, 'scared': False, 'budge': False, 'dares': False, 'speak': False, 'expresses': False, 'seeking': False, 'adolescents': False, 'pad': False, 'bothered': False, 'members': False, 'presentation': False, 'oddly': False, 'empathetic': False, 'light': False, 'tempered': False, 'robust': False, 'listens': False, 'opposed': False, 'friends': False, 'wire': False, 'act': False, 'confused': False, 'lives': False, 'pay': False, 'courtship': False, 'charming': False, 'temptations': False, 'grown': False, 'stands': False, 'island': False, 'expressway': False, 'slices': False, 'malls': False, 'class': False, 'homes': False, 'suburbia': False, 'filmmaker': False, 'cuesta': False, 'uses': False, 'transparent': False, 'metaphor': False, '15': False, 'protagonist': False, 'howie': False, 'franklin': False, 'dano': False, 'reveals': False, 'morbid': False, 'preoccupation': False, 'death': False, 'citing': False, 'deaths': False, 'alan': False, 'j': False, 'pakula': False, 'songwriter': False, 'harry': False, 'chapin': False, 'exit': False, '52': False, 'fascinated': False, 'feelings': False, 'projected': False, 'bright': False, 'move': False, 'force': False, 'complex': False, 'molesters': False, 'beast': False, 'ashamed': False, 'worked': False, 'ill': False, 'advised': False, 'foray': False, 'unnecessary': False, 'padding': False, 'miserable': False, 'bruce': False, 'altman': False, 'seat': False, 'collar': False, 'crime': False, 'degenerate': False, 'youngsters': False, 'kicks': False, 'robbing': False, 'houses': False, 'homoerotic': False, 'shenanigans': False, 'ass': False, 'terrio': False, 'billy': False, 'kay': False, 'handsome': False, 'artful': False, 'dodger': False, 'add': False, 'themes': False, 'suburban': False, 'ennui': False, 'needed': False, 'awkward': False, 'subplots': False, 'concurrently': False, 'relationship': False, 'evenly': False, 'paced': False, 'exceptionally': False, 'acted': False, 'sporting': False, 'baseball': False, 'cap': False, 'faded': False, 'marine': False, 'tattoo': False, 'bluff': False, 'bluster': False, 'quiet': False, 'glance': False, 'withdrawn': False, 'whose': False, 'dramatic': False, 'choices': False, 'broad': False, 'calling': False, 'haley': False, 'restraint': False, 'admirable': False, 'screenplay': False, 'material': False, 'reads': False, 'walt': False, 'whitman': False, 'poem': False, 'moment': False, 'precious': False, 'lingers': False, 'ecstatic': False, 'hearing': False, 'glenn': False, 'gould': False, 'performing': False, 'bach': False, 'goldberg': False, 'variations': False, 'involving': False, 'walter': False, 'masterson': False, 'jealous': False, 'newbie': False, 'thread': False, 'predictably': False, 'leads': False, 'observational': False, 'portrait': False, 'alienation': False, 'royally': False, 'screwed': False, 'terry': False, 'zwigoff': False, 'superb': False, 'confidence': False, 'ambivalent': False, 'typical': False, 'cinema': False, 'wrap': False, 'bullet': False, 'sparing': False, 'writers': False, 'philosophical': False, 'regard': False, 'countless': False, 'share': False, 'blockbuster': False, 'solved': False, 'obstacle': False, 'removed': False, 'often': False, 'extend': False, 'question': False, 'striving': False, 'realism': False, 'destroy': False, 'janeane': False, 'garofalo': False, 'couple': False, 'truth': False, 'cats': False, 'dogs': False, 'excruciating': False, 'matchmaker': False, 'books': False, 'plods': False, 'predestined': False, 'surprises': False, 'jumps': False, 'popular': False, 'political': False, 'satire': False, 'bandwagon': False, 'campaign': False, 'aide': False, 'massacusetts': False, 'senator': False, 'sanders': False, 'reelection': False, 'denis': False, 'leary': False, 'stereotypical': False, 'strategist': False, 'ethics': False, 'scandal': False, 'plagued': False, 'play': False, 'irish': False, 'roots': False, 'boston': False, 'roman': False, 'catholic': False, 'democrat': False, 'contingent': False, 'kennedy': False, 'family': False, 'orders': False, 'ireland': False, 'relatives': False, 'exploit': False, 'soon': False, 'learns': False, 'said': False, 'done': False, 'mantra': False, 'tiny': False, 'misses': False, 'bus': False, 'hotel': False, 'ends': False, 'smallest': False, 'trashiest': False, 'dog': False, 'luggage': False, 'roger': False, 'ebert': False, 'calls': False, 'meet': False, 'happens': False, 'unconventional': False, 'cinematic': False, 'walks': False, 'bathroom': False, 'nude': False, 'sean': False, 'david': False, 'hara': False, 'bathtub': False, 'points': False, 'guessing': False, 'water': False, 'hates': False, 'instant': False, 'saw': False, 'irishman': False, 'hate': False, 'awhile': False, 'succumb': False, 'charms': False, 'happily': False, 'superficial': False, 'detail': False, 'throw': False, 'turmoil': False, 'reconcile': False, 'tune': False, 'annual': False, 'matchmaking': False, 'festival': False, 'lonely': False, 'county': False, 'future': False, 'bliss': False, 'milo': False, 'shea': False, 'snyder': False, 'pops': False, 'onscreen': False, 'spew': False, 'souls': False, 'assured': False, 'match': False, 'utter': False, 'predictability': False, 'message': False, 'respectable': False, 'person': False, 'comedic': False, 'distinction': False, 'sell': False, 'script': False, 'excited': False, 'stays': False, 'stateside': False, 'yelling': False, 'phone': False, 'undoes': False, 'microphone': False, 'speech': False, 'known': False, 'flying': False, 'hong': False, 'kong': False, 'style': False, 'filmmaking': False, 'classics': False, 'nod': False, 'asia': False, 'france': False, 'lukewarm': False, 'dumas': False, 'asian': False, 'stunt': False, 'coordinator': False, 'xing': False, 'xiong': False, 'prior': False, 'attempts': False, 'choreography': False, 'laughable': False, 'van': False, 'damme': False, 'vehicle': False, 'team': False, 'dennis': False, 'rodman': False, 'simon': False, 'sez': False, 'thrown': False, 'air': False, 'result': False, 'tepid': False, 'adventure': False, 'rip': False, 'stinks': False, 'indiana': False, 'jones': False, 'simple': False, 'grandmother': False, 'adapted': False, 'artagnan': False, 'vengeful': False, 'son': False, 'slain': False, 'travels': False, 'paris': False, 'join': False, 'royal': False, 'meets': False, 'cunning': False, 'cardinal': False, 'richelieu': False, 'stephen': False, 'rea': False, 'overthrow': False, 'associate': False, 'febre': False, 'killer': False, 'disbanded': False, 'rounds': False, 'aramis': False, 'nick': False, 'moran': False, 'athos': False, 'jan': False, 'gregor': False, 'kremp': False, 'porthos': False, 'steven': False, 'spiers': False, 'wrongfully': False, 'imprisoned': False, 'leader': False, 'treville': False, 'prison': False, 'frisky': False, 'interest': False, 'chambermaid': False, 'francesca': False, 'footsy': False, 'coo': False, 'hunts': False, 'queen': False, 'captured': False, 'menancing': False, 'forcing': False, 'regroup': False, 'leading': False, 'charge': False, 'peter': False, 'hyams': False, 'wanted': False, 'blend': False, 'eastern': False, 'western': False, 'styles': False, 'disaster': False, 'reality': False, 'ones': False, 'jet': False, 'li': False, 'risk': False, 'ironically': False, 'swordplay': False, 'spread': False, 'carry': False, 'bulk': False, '30': False, 'minute': False, 'picture': False, 'weighs': False, 'monotonous': False, 'gene': False, 'quintano': False, 'prosaic': False, 'wedding': False, 'planner': False, 'mousy': False, 'artangnan': False, 'hyam': False, 'candles': False, 'torches': False, 'grime': False, 'filth': False, '17th': False, 'noted': False, 'standout': False, 'mortal': False, 'kombat': False, 'annihilation': False, 'reviewed': False, 'multiple': False, 'levels': False, 'rampant': False, 'usage': False, 'randian': False, 'subtext': False, 'pervades': False, 'occasionaly': False, 'ironic': False, 'depreciating': False, 'remark': False, 'tosses': False, 'clearly': False, 'marxist': False, 'imagery': False, 'kidding': False, 'seriousness': False, 'fair': False, '*': False, 'necessary': False, 'viewpoints': False, 'watcher': False, 'unfamiliar': False, 'marginally': False, 'fan': False, 'games': False, '1995': False, 'concerned': False, 'martial': False, 'arts': False, 'tournament': False, 'decide': False, 'fate': False, 'billion': False, 'inhabitants': False, 'mortals': False, 'theory': False, 'prevented': False, 'emperor': False, 'shao': False, 'khan': False, 'arriving': False, 'ready': False, 'assumed': False, 'stance': False, 'extraordinarily': False, 'myself': False, 'game': False, 'enjoyed': False, 'directors': False, 'knew': False, 'limitations': False, 'try': False, 'overachieve': False, 'accompanying': False, 'intersperesed': False, 'distracting': False, 'non': False, 'intrusive': False, 'bits': False, 'fluff': False, 'passing': False, 'smashing': False, 'success': False, 'box': False, 'office': False, 'picks': False, 'precisely': False, 'introductory': False, 'exposition': False, 'anyways': False, 'hell': False, 'silly': False, 'rule': False, 'winning': False, 'thereafter': False, 'approximately': False, '85': False, 'alternates': False, 'general': False, 'impression': False, 'producers': False, 'thought': False, 'formula': False, 'volumes': False, 'truly': False, 'sandra': False, 'hess': False, 'sonya': False, 'blade': False, 'execrable': False, 'convince': False, 'loved': False, 'johnny': False, 'greased': False, 'worst': False, 'mis': False, 'james': False, 'remar': False, 'raiden': False, 'thunder': False, 'christopher': False, 'lambert': False, 'japanese': False, 'revered': False, 'chinese': False, 'mystics': False, 'against': False, 'lister': False, 'jr': False, 'president': False, 'u': False, 'fifth': False, 'utility': False, 'totally': False, 'luxury': False, 'amused': False, 'awareness': False, 'introduced': False, 'meaningless': False, 'sidetracks': False, 'including': False, 'muddled': False, 'liu': False, 'kang': False, 'shou': False, 'seeks': False, 'nightwolf': False, 'litefoot': False, 'mystical': False, 'hallucination': False, 'jade': False, 'irina': False, 'pantaeva': False, 'reasons': False, 'unless': False, 'critiques': False, 'apply': False, 'worse': False, 'bridgette': False, 'convincing': False, 'looked': False, 'mimicing': False, 'movements': False, 'choreographer': False, 'knows': False, 'puts': False, 'believable': False, 'jax': False, 'earthquake': False, 'animality': False, 'bonus': False, 'similar': False, 'moves': False, 'mistakenly': False, 'hang': False, 'lamest': False, 'involved': False, 'mud': False, 'wrestling': False, 'lame': False, 'politically': False, 'incorrect': False, 'noticed': False, 'remarked': False, 'upon': False, 'emporer': False, 'perform': False, 'animalities': False, 'motaro': False, 'sheeva': False, 'lifelike': False, 'goro': False, 'enjoy': False, 'femme': False, 'la': False, 'nikita': False, 'backdraft': False, 'sliver': False, 'cindy': False, 'crawford': False, 'anne': False, 'parillaud': False, 'conspire': False, 'shattered': False, 'image': False, 'hooey': False, 'stallone': False, 'stone': False, 'specialist': False, 'poses': False, 'recurring': False, 'assassin': False, 'honeymooning': False, 'jamaica': False, 'believe': False, 'runs': False, 'painful': False, 'pedestrian': False, 'siouxsie': False, 'sioux': False, 'wig': False, 'emotionless': False, 'leather': False, 'clothing': False, 'seattle': False, 'moping': False, 'karen': False, 'endlessly': False, 'complicated': False, 'plots': False, 'helps': False, 'crisp': False, 'modicum': False, 'shakespearean': False, 'begin': False, 'saddled': False, 'leaden': False, 'zero': False, 'breaking': False, 'cardboard': False, 'confines': False, 'insist': False, 'couldn': False, 'huh': False, 'wonderful': False, 'interchange': False, 'charm': False, 'faster': False, 'learned': False, 'cereal': False, 'crybaby': False, 'imagines': False, 'stranger': False, 'sends': False, 'flowers': False, 'chromium': False, 'tough': False, 'nails': False, 'crack': False, 'killing': False, 'machine': False, 'shoots': False, 'mirrors': False, 'stock': False, 'interested': False, 'nest': False, 'egg': False, 'pave': False, 'paradise': False, 'put': False, 'parking': False, 'graham': False, 'greene': False, 'barbet': False, 'schroeder': False, 'reversal': False, 'fortune': False, 'co': False, 'produced': False, 'agonizingly': False, 'b': False, 'york': False, 'vampires': False, 'latest': False, 'opus': False, 'bent': False, 'outing': False, 'aptly': False, 'titled': False, 'suppose': False, 'went': False, 'prefixed': False, 'possessive': False, 'unashamed': False, 'punctuated': False, 'above': False, 'storyline': False, 'borders': False, 'idiotic': False, 'chaotic': False, 'dormant': False, 'martians': False, 'swirling': False, 'gases': False, 'awakened': False, 'meddling': False, 'possess': False, 'hapless': False, 'colonists': False, 'testy': False, 'marilyn': False, 'manson': False, 'lookalikes': False, 'pooh': False, 'bah': False, 'counsel': False, 'official': False, 'melanie': False, 'ballard': False, 'natasha': False, 'henstridge': False, 'sub': False, 'species': False, 'returnee': False, 'officer': False, 'incarcerated': False, 'felon': False, 'second': False, 'blonde': False, 'pulled': False, 'tightly': False, 'awkwardly': False, 'ponytail': False, 'ice': False, 'cube': False, 'appropriately': False, 'named': False, 'pam': False, 'grier': False, 'briefly': False, 'whom': False, 'wonder': False, 'host': False, 'extras': False, 'therefore': False, 'bird': False, 'shots': False, 'sprawling': False, 'metropolis': False, 'reddish': False, 'state': False, 'art': False, 'trademark': False, 'finding': False, 'department': False, 'lock': False, 'laughing': False, 'barrel': False, 'fare': False, 'dingy': False, 'interiors': False, 'cluttered': False, 'exteriors': False, 'inane': False, 'lots': False, 'scarred': False, 'crazed': False, 'aliens': False, 'weaponry': False, 'warfare': False, 'warning': False, 'spontaneously': False, 'stupidly': False, 'villains': False, 'border': False, 'conflicts': False, 'shootouts': False, 'minus': False, 'hissing': False, 'plissken': False, 'miss': False, 'dubbed': False, 'minimalist': False, 'soundtracks': False, 'graduated': False, 'effective': False, 'scoring': False, 'highlighting': False, 'screeching': False, 'guitar': False, 'fortunately': False, 'drowns': False, 'er': False, 'audible': False, 'priceless': False, 'proven': False, 'infertile': False, 'breeding': False, 'ground': False, 'stillborn': False, 'val': False, 'kilmer': False, 'disappointing': False, 'weekend': False, 'overshadowed': False, 'sequels': False, 'among': False, 'pie': False, 'rush': False, 'absent': False, 'references': False, 'set': False, 'perth': False, 'amboys': False, 'closest': False, 'neighbor': False, 'slap': False, 'upside': False, '1': True, 'keeps': False, 'miraculously': False, 'pretend': False, 'means': False, 'intelligent': False, 'grade': False, 'sci': False, 'fi': False, 'singularly': False, 'luck': False, 'starting': False, 'alicia': False, 'silverstone': False, 'beautiful': False, 'creatures': False, 'green': False, 'critic': False, 'large': False, 'choosing': False, 'strikes': False, 'crush': False, 'slow': False, 'moving': False, 'horrific': False, 'adaptation': False, 'clueless': False, 'mailed': False, 'saying': False, 'theater': False, 'expecting': False, 'preview': False, 'crazymadinlove': False, 'whiny': False, 'unlikable': False, 'wasn': False, 'yelled': False, 'f': False, '$&#': False, 'laugh': False, 'agreement': False, 'walked': False, 'babysitter': False, 'inner': False, 'compulsion': False, 'understand': False, 'rent': False, 'regret': False, 'paragraph': False, 'competition': False, 'criticizing': False, 'thin': False, 'shred': False, 'slower': False, 'glacier': False, 'writing': False, 'appeal': False, 'whatsoever': False, 'pointlessly': False, 'concluded': False, 'violent': False, 'plus': False, 'equals': False, 'spends': False, 'twenty': False, 'bubble': False, 'bath': False, 'joined': False, 'four': False, 'features': False, 'settle': False, 'friday': False, 'cocktail': False, 'automatically': False, 'nights': False, 'trods': False, 'discover': False, 'silent': False, 'object': False, 'male': False, 'fantasies': False, 'thinks': False, 'recapture': False, 'youth': False, 'boyfriend': False, 'lets': False, 'wild': False, 'spying': False, 'outside': False, 'prepubescent': False, 'keyhole': False, 'aged': False, 'counterpart': False, 'asked': False, '200': False, 'pound': False, 'silk': False, 'teddy': False, 'fanatasies': False, 'realm': False, 'pg': False, 'imagine': False, 'cinemax': False, 'staple': False, 'absolutely': False, 'pointed': False, 'classify': False, 'mix': False, 'various': False, 'encounters': False, 'third': False, 'space': False, 'odyssey': False, 'apollo': False, 'contact': False, 'hope': False, 'melange': False, 'considering': False, 'disastrous': False, 'results': False, 'sucks': False, 'rescue': False, 'astronauts': False, 'sent': False, '2020': False, 'unknown': False, 'aviators': False, 'visit': False, 'underwhelming': False, 'describe': False, 'uneven': False, 'promise': False, 'buzz': False, 'neutral': False, 'cherry': False, 'colored': False, 'nerdies': False, 'techie': False, 'jargon': False, 'practically': False, 'yawning': False, 'excitement': False, 'premise': False, 'joins': False, 'misadventures': False, 'crux': False, 'journey': False, 'eventually': False, 'settles': False, 'anti': False, 'climactic': False, 'endings': False, 'shrug': False, 'shoulders': False, 'frivolous': False, 'ditty': False, 'remember': False, 'computer': False, 'generated': False, 'friggin': False, 'wondering': False, 'brass': False, 'crappiness': False, 'read': False, 'cheezy': False, 'depalma': False, 'helm': False, 'blame': False, 'inclusion': False, 'jerry': False, 'connell': False, 'fine': False, 'thespians': False, 'nuff': False, 'cranking': False, 'juice': False, 'presumably': False, 'wake': False, 'wow': False, 'yawn': False, 'ears': False, 'hurt': False, 'salvageable': False, 'sinise': False, 'job': False, 'cheadle': False, 'bore': False, 'slowly': False, 'twister': False, 'effect': False, 'commercial': False, 'admire': False, 'filmmakers': False, 'devious': False, 'placement': False, 'strategies': False, 'am': False, 'disgusted': False, 'delivers': False, 'actual': False, 'masked': False, 'mumbo': False, 'jumbo': False, 'pretends': False, 'deep': False, 'sappy': False, 'presenting': False, 'graphic': False, 'gives': False, 'dreck': False, 'ninth': False, 'gate': False, 'worrying': False, 'proverbial': False, '12': False, 'uninterrupted': False, 'crappy': False, 'law': False, 'crowd': False, 'pleasing': False, 'regular': False, 'reader': False, 'mine': False, 'heard': False, 'hart': False, 'abc': False, 'sabrina': False, 'stud': False, 'basketball': False, 'adrien': False, 'grenier': False, 'grungy': False, 'broken': False, 'activist': False, 'wants': False, 'dance': False, 'date': False, 'popularity': False, 'scheme': False, 'resurgence': False, 'terms': False, 'hardly': False, 'wait': False, 'lesser': False, 'extent': False, 'kissed': False, 'realize': False, 'scripts': False, 'accordingly': False, 'intention': False, 'smart': False, 'teens': False, 'whining': False, 'shut': False, 'honesty': False, 'normally': False, 'followed': False, 'obligatory': False, 'britney': False, 'spears': False, 'titular': False, 'song': False, 'jingle': False, 'burger': False, 'joint': False, 'rendition': False, 'preceded': False, 'appearances': False, 'collins': False, 'trek': False, 'motion': False, 'faye': False, 'tv': False, 'miniseries': False, 'v': True, '[': False, ']': False, 'mighty': False, 'joe': False, 'blunders': False, 'gorilla': False, 'entrance': False, 'trees': False, 'leaps': False, 'gargantuan': False, 'imposing': False, 'volkswagen': False, 'feet': False, 'larger': False, 'pro': False, 'player': False, 'bellows': False, 'poachers': False, 'millions': False, 'dollars': False, 'ape': False, 'fields': False, 'cars': False, 'stares': False, 'pensively': False, 'breaks': False, 'clumsiness': False, 'hold': False, 'register': False, 'limp': False, 'entertainment': False, 'stamp': False, 'quality': False, 'pretending': False, 'remake': False, '1949': False, 'strictly': False, 'formality': False, 'jill': False, 'charlize': False, 'theron': False, 'gorillas': False, 'witnessed': False, 'group': False, 'jungle': False, 'protect': False, 'wildlife': False, 'specifically': False, 'giant': False, 'childhood': False, 'zoologist': False, 'gregg': False, 'bill': False, 'paxton': False, 'discovers': False, 'realizes': False, 'hunter': False, 'strasser': False, 'rade': False, 'sherbedgia': False, 'effort': False, 'preserve': False, 'benevolent': False, 'pretext': False, 'examples': False, 'stupidity': False, 'fulfills': False, 'competent': False, 'nifty': False, 'digitized': False, 'dumb': False, 'satisfying': False, 'visuals': False, 'quote': False, 'phrases': False, 'word': False, 'present': False, 'talented': False, 'performers': False, 'deserve': False, 'wastes': False, 'clever': False, 'surfacing': False, 'memory': False, 'held': False, 'doubt': False, 'spawn': False, 'bloody': False, 'clad': False, 'gun': False, 'gooey': False, 'healing': False, 'holes': False, 'scatological': False, 'eating': False, 'monster': False, 'tailor': False, 'swarm': False, 'boys': False, 'truckload': False, 'forces': False, 'create': False, 'lurches': False, 'plight': False, 'al': False, 'simmons': False, 'jai': False, 'government': False, 'operative': False, 'diabolical': False, 'boss': False, 'jason': False, 'wynn': False, 'sheen': False, 'oscar': False, 'clip': False, 'north': False, 'korean': False, 'biological': False, 'plant': False, 'satan': False, 'agrees': False, 'command': False, 'devil': False, 'army': False, 'overtake': False, 'allowed': False, 'wanda': False, 'underused': False, 'theresa': False, 'randle': False, 'cyan': False, 'sydni': False, 'beaudoin': False, 'passed': False, 'married': False, 'partner': False, 'sweeney': False, 'uh': False, 'shoulder': False, 'cry': False, 'form': False, 'clown': False, 'leguizamo': False, 'disgustingly': False, 'disproportioned': False, 'minion': False, 'manipulates': False, 'superhuman': False, 'league': False, 'dealing': False, 'threat': False, 'undergoes': False, 'operation': False, 'bomb': False, 'beating': False, 'cities': False, 'detonate': False, 'causing': False, 'leak': False, 'disease': False, 'ebola': False, 'skin': False, 'phew': False, 'dismiss': False, 'fx': False, 'pics': False, 'plenty': False, 'acts': False, 'healthy': False, 'afforded': False, 'mouth': False, 'talks': False, 'enormous': False, 'flowing': False, 'cape': False, 'reliance': False, 'razzle': False, 'dazzle': False, 'acceptable': False, 'somebody': False, 'root': False, 'funky': False, 'alter': False, 'ego': False, 'underdeveloped': False, 'luke': False, 'skywalker': False, 'kleenex': False, 'starred': False, 'february': False, 'pest': False, 'overacts': False, 'extreme': False, 'opportunity': False, 'taste': False, 'punchline': False, 'farts': False, 'mist': False, 'munches': False, 'pizza': False, 'slice': False, 'covered': False, 'maggots': False, 'dons': False, 'mini': False, 'skirt': False, 'performs': False, 'cheerleader': False, 'routine': False, 'grey': False, 'demon': False, 'wong': False, 'foo': False, 'thanks': False, 'julie': False, 'newmar': False, 'wasting': False, 'summer': False, 'comic': False, 'catching': False, 'comparison': False, 'minds': False, 'compelling': False, 'religious': False, 'overtones': False, 'debut': False, 'african': False, 'superhero': False, 'anywhere': False, 'near': False, 'trout': False, 'awake': False, 'bizarre': False, 'visual': False, 'clairvoyant': False, 'madman': False, 'lures': False, 'girls': False, 'untimely': False, 'source': False, 'potential': False, 'sleeplessness': False, 'lies': False, 'brutally': False, 'squandered': False, 'tired': False, 'serial': False, 'standards': False, 'letdown': False, 'realization': False, '100': False, 'scratcher': False, 'masterminded': False, 'neil': False, 'jordan': False, 'crying': False, 'weirdness': False, 'nutty': False, 'nonsense': False, 'pushes': False, 'envelope': False, 'cinematographer': False, 'darius': False, 'khondji': False, 'stunning': False, 'guiding': False, 'viewers': False, 'bowels': False, 'underwater': False, 'prologue': False, 'establishes': False, 'notably': False, 'grim': False, 'tone': False, 'bat': False, 'eerie': False, 'opulence': False, 'remains': False, 'dazzling': False, 'display': False, 'macabre': False, 'photographs': False, 'rustic': False, 'innocent': False, 'england': False, 'autumn': False, 'polish': False, 'knock': False, 'foolish': False, 'annette': False, 'bening': False, 'asset': False, 'shouldn': False, 'lucky': False, 'boast': False, 'increasingly': False, 'cooper': False, 'massachusetts': False, 'illustrator': False, 'terrifying': False, 'kidnaped': False, 'knell': False, 'committed': False, 'crimes': False, 'ho': False, 'hum': False, 'aidan': False, 'quinn': False, 'hummer': False, 'muster': False, 'seriously': False, 'delves': False, 'madness': False, 'compassion': False, 'authorities': False, 'claims': False, 'trades': False, 'supernatural': False, 'chills': False, 'allegedly': False, 'spooky': False, 'jolts': False, 'refuse': False, 'pile': False, 'wreck': False, 'appear': False, 'disappear': False, 'robert': False, 'downey': False, 'vivian': False, 'issues': False, 'mama': False, 'norman': False, 'bates': False, 'reaches': False, 'absurdist': False, 'zenith': False, 'climax': False, 'mumbled': False, 'revelations': False, 'twists': False, 'garbage': False, 'disposal': False, 'retching': False, 'applesauce': False, 'drawings': False, 'wall': False, 'blood': False, 'paint': False, 'cranked': False, 'andrews': False, 'sisters': False, 'cd': False, 'caused': False, 'swing': False, 'gift': False, 'telekinesis': False, 'powers': False, 'continually': False, 'endanger': False, 'ultimate': False, 'plan': False, 'australia': False, 'integral': False, 'aforementioned': False, 'flooded': False, 'city': False, 'function': False, '_really_': False, 'sigh': False, 'cheap': False, 'thus': False, '1998': False, 'alas': False, 'jean': False, 'claude': False, 'designer': False, 'jeans': False, 'executive': False, 'supplying': False, 'cheaper': False, 'goods': False, 'rob': False, 'schneider': False, 'rochon': False, 'sort': False, 'popped': False, 'jackie': False, 'chan': False, 'endearing': False, 'wimp': False, 'basis': False, 'actions': False, 'directed': False, 'experiment': False, 'horribly': False, 'tsui': False, 'hark': False, 'exaggeration': False, 'treated': False, 'entering': False, 'shoe': False, 'fabulous': False, 'conventions': False, 'carried': False, 'sam': False, 'raimi': False, 'inventive': False, 'grasp': False, 'outrageous': False, 'angles': False, 'caliber': False, 'inexplicable': False, 'aspect': False, 'cared': False, 'inconsistent': False, 'drives': False, 'window': False, 'slams': False, 'wheel': False, 'destroyed': False, 'seconds': False, 'speed': False, 'suspending': False, 'mark': False, 'everyman': False, 'relief': False, 'assume': False, 'sorvino': False, 'decade': False, 'inept': False, 'redeeming': False, 'factors': False, 'print': False, 'burned': False, 'erased': False, 'aggravating': False, 'unbelievably': False, 'greeted': False, 'fanfare': False, 'brauvara': False, 'talents': False, 'sole': False, 'subtlety': False, 'handled': False, 'complexly': False, 'intensely': False, 'hall': False, 'fame': False, 'assedness': False, 'deservedly': False, 'eighth': False, 'circles': False, 'advertised': False, 'kurosawa': False, 'rashomon': False, 'perspectives': False, 'steadicam': False, 'crooked': False, 'atlantic': False, 'detective': False, 'rick': False, 'santoro': False, 'boxing': False, 'cell': False, 'interupts': False, 'per': False, 'event': False, 'gambler': False, 'arena': False, 'pumped': False, 'sits': False, 'bud': False, 'dunne': False, 'dunn': False, 'watches': False, 'secretary': False, 'defense': False, 'charles': False, 'kirkland': False, 'fabiani': False, 'heavyweight': False, 'champion': False, 'lincoln': False, 'tyler': False, 'shaw': False, 'knocked': False, 'herrings': False, 'possibilities': False, 'happened': False, 'examination': False, 'total': False, 'deconstruction': False, 'asks': False, 'possibility': False, 'conspiracy': False, 'carla': False, 'gugino': False, 'flees': False, 'panic': False, 'adjacent': False, 'casino': False, 'blocked': False, 'doors': False, 'witness': False, 'dandy': False, 'mystery': False, 'herring': False, 'cliched': False, 'rely': False, 'ran': False, 'guts': False, 'credible': False, 'proposterous': False, 'offender': False, 'mysteries': False, 'deux': False, 'machina': False, 'intereference': False, 'hurricane': False, 'ball': False, 'adorned': False, 'screenwriter': False, 'koepp': False, 'respective': False, 'complexity': False, 'idolizes': False, 'hitchcock': False, 'masterpiece': False, 'blow': False, 'soundman': False, 'uncover': False, 'granted': False, 'intriguing': False, 'ups': False, 'pans': False, 'rooms': False, 'forgetting': False, 'boundaries': False, 'direction': False, 'partly': False, 'ability': False, 'flaws': False, 'carlito': False, 'dove': False, 'examined': False, 'assed': False, 'redemption': False, 'formulaic': False, 'decision': False, 'cheapened': False, 'emotional': False, 'promises': False, 'disection': False, 'pulls': False, 'rug': False, 'convinced': False, 'unearthed': False, 'choice': False, 'machinas': False, 'disasterous': False, 'autopilot': False, 'stale': False, 'forgive': False, 'fevered': False, 'criticism': False, 'fervor': False, 'crucible': False, 'infects': False, '1692': False, 'salem': False, 'passionately': False, 'singing': False, 'dancing': False, 'boiling': False, 'cauldron': False, 'glow': False, 'moon': False, 'beckon': False, 'names': False, 'targets': False, 'spells': False, 'sheds': False, 'outdone': False, 'regain': False, 'proctor': False, 'daniel': False, 'lewis': False, 'abigail': False, 'winona': False, 'ryder': False, 'suddenly': False, 'seizes': False, 'chicken': False, 'smears': False, 'lips': False, 'fresh': False, 'adolescent': False, 'hormone': False, 'surges': False, 'account': False, 'surely': False, 'bashing': False, 'excessive': False, 'prim': False, 'puritan': False, 'sensibilities': False, 'coven': False, 'witches': False, 'errs': False, 'miller': False, 'summoned': False, 'harmless': False, 'shaky': False, 'morality': False, 'describes': False, 'tense': False, 'exchanges': False, 'veracity': False, 'accusation': False, 'reply': False, 'atmosphere': False, 'unintentional': False, 'pandora': False, 'credulity': False, 'obsession': False, 'spotlighted': False, 'cautionary': False, 'fable': False, 'obsessive': False, 'malevolent': False, 'rabbit': False, 'pot': False, 'nighttime': False, 'frenzy': False, 'unnoticed': False, 'fail': False, 'invoked': False, 'eager': False, 'questioned': False, 'confession': False, 'guilt': False, 'accompanied': False, 'announcement': False, 'converted': False, 'immaculate': False, 'witnesses': False, 'led': False, 'lustfully': False, 'alarming': False, 'synchronicity': False, 'hormonally': False, 'advantaged': False, 'zealously': False, 'gesture': False, 'accusing': False, 'fingers': False, 'innocents': False, 'constant': False, 'reminders': False, 'passion': False, 'inexorable': False, 'rid': False, 'herself': False, 'rival': False, 'elizabeth': False, 'allen': False, 'witchcraft': False, 'narrow': False, 'waisted': False, 'equipped': False, 'distractingly': False, 'teeth': False, 'deteriorate': False, 'murky': False, 'dashing': False, 'moral': False, 'hero': False, 'earnestness': False, 'longs': False, 'nicholas': False, 'hytner': False, 'guilty': False, 'encouraging': False, 'foaming': False, 'fervour': False, 'stare': False, 'mounted': False, 'pedestal': False, 'admiration': False, 'unremarkable': False, 'consistent': False, 'swings': False, 'fits': False, 'energetic': False, 'quieter': False, 'revels': False, 'newfound': False, 'fails': False, 'haughty': False, 'haughtiness': False, 'spare': False, 'scofield': False, 'overzealous': False, 'judge': False, 'danforth': False, 'incessant': False, 'posturings': False, 'recurrent': False, 'histrionics': False, 'pricks': False, 'nerves': False, 'refuge': False, 'amidst': False, 'huffing': False, 'puffing': False, 'sympathetic': False, 'featuring': False, 'conversation': False, 'undeniably': False, 'reprieve': False, 'bantering': False, 'consequences': False, 'revealed': False, 'increases': False, 'urge': False, 'pontificate': False, 'urgency': False, 'situation': False, 'wish': False, 'delicacy': False, 'fewer': False, 'diversions': False, 'imperfect': False, 'creature': False, 'distractions': False, 'clumsy': False, 'muddle': False, 'ceaselessly': False, 'banged': False, 'piousness': False, 'handed': False, 'wholly': False, 'gallows': False, 'beckoned': False, 'sweet': False, 'bewitching': False, 'tests': False, 'patience': False, 'cathartic': False, 'viewing': False, 'luc': False, 'godard': False, 'founding': False, 'influential': False, 'wave': False, 'esteemed': False, 'lending': False, 'historical': False, 'perspective': False, 'creation': False, 'praise': False, 'exasperating': False, 'abstract': False, 'merit': False, 'dissect': False, 'categories': False, 'meeting': False, 'physical': False, 'quarrels': False, 'reconciliation': False, 'universal': False, 'truths': False, 'elderly': False, 'edgar': False, 'bruno': False, 'putzulu': False, 'appointed': False, 'capture': False, 'breakup': False, 'define': False, 'central': False, 'project': False, 'undecided': False, 'thesis': False, 'value': False, 'ensues': False, 'repetitive': False, 'vignettes': False, 'easily': False, 'fret': False, 'sleep': False, 'sections': False, 'fellow': False, 'critics': False, 'nodded': False, 'missed': False, 'background': False, 'conversations': False, 'repeated': False, 'failures': False, 'lose': False, 'speeches': False, 'frame': False, 'starkly': False, 'track': False, 'mountain': False, 'ponder': False, 'poignant': False, 'angrier': False, 'numerous': False, 'opportunities': False, 'environments': False, 'country': False, 'impeccably': False, 'complements': False, 'pillage': False, 'photographic': False, 'randomly': False, 'cutting': False, 'chapter': False, 'headings': False, 'cryptic': False, 'composed': False, 'nauseating': False, 'hyper': False, 'color': False, 'blurs': False, 'feel': False, 'straight': False, 'scanners': False, 'complains': False, 'united': False, 'bastardizing': False, 'history': False, 'spielberg': False, 'particular': False, 'tend': False, 'shy': False, 'pointless': False, 'focus': False, 'purports': False, 'articulate': False, 'qualities': False, 'couplehood': False, 'storyteller': False, 'breathless': False, 'america': False, 'loves': False, 'convenience': False, 'invented': False, '24': False, 'atm': False, 'beloved': False, 'remote': False, 'pill': False, 'poppin': False, 'squadron': False, 'retrieve': False, 'demolition': False, 'trial': False, 'comrades': False}\n"
     ]
    }
   ],
   "source": [
    "# Lets select the first file in the above list and run our find_feature function\n",
    "\n",
    "print(find_feature(\"neg/cv000_29416.txt\"))"
   ]
  },
  {
   "cell_type": "code",
   "execution_count": 85,
   "metadata": {},
   "outputs": [],
   "source": [
    "#lets build a function which will find out if a review has the words of words_feature or not\n",
    "def find_feature(review):\n",
    "    words=set(review) # remember, the review will already be a tokenized or a list of words\n",
    "    features={}\n",
    "    for w in words_features:\n",
    "        features[w]= (w in words) # return a boolean value, so features will be dictionary with the word as a key and True or False as value\n",
    "    return features"
   ]
  },
  {
   "cell_type": "code",
   "execution_count": 93,
   "metadata": {},
   "outputs": [
    {
     "name": "stdout",
     "output_type": "stream",
     "text": [
      "plot : two teen couples go to a church party , drink and then drive . they get into an accident one of the guys dies but his girlfriend continues see him in her life has nightmares what ' s deal ? watch movie \" sorta find out critique mind - fuck for generation that touches on very cool idea presents it bad package which is makes this review even harder write since i generally applaud films attempt break mold mess with your head such ( lost highway & memento ) there are good ways making all types these folks just didn t snag correctly seem have taken pretty neat concept executed terribly so problems well its main problem simply too jumbled starts off normal downshifts fantasy world you as audience member no going dreams characters coming back from dead others who look like strange apparitions disappearances looooot chase scenes tons weird things happen most not explained now personally don trying unravel film every when does give me same clue over again kind fed up after while biggest obviously got big secret hide seems want completely until final five minutes do make entertaining thrilling or engaging meantime really sad part arrow both dig flicks we actually figured by half way point strangeness did start little bit sense still more guess bottom line movies should always sure before given password enter understanding mean showing melissa sagemiller running away visions about 20 throughout plain lazy ! okay people chasing know need how giving us different offering further insight down apparently studio took director chopped themselves shows might ve been decent here somewhere suits decided turning music video edge would actors although wes bentley seemed be playing exact character he american beauty only new neighborhood my kudos holds own entire feeling unraveling overall doesn stick because entertain confusing rarely excites feels redundant runtime despite ending explanation craziness came oh horror slasher flick packaged someone assuming genre hot kids also wrapped production years ago sitting shelves ever whatever skip where joblo nightmare elm street 3 7 / 10 blair witch 2 crow 9 salvation 4 stir echoes 8 "
     ]
    }
   ],
   "source": [
    "# Now lets print out the words which has the value of True\n",
    "features=find_feature(movie_reviews.words(\"neg/cv000_29416.txt\"))\n",
    "for key, value in features.items():\n",
    "    if value==True:\n",
    "        print (key,end=\" \")"
   ]
  },
  {
   "cell_type": "code",
   "execution_count": null,
   "metadata": {},
   "outputs": [],
   "source": []
  },
  {
   "cell_type": "code",
   "execution_count": 75,
   "metadata": {},
   "outputs": [
    {
     "data": {
      "text/plain": [
       "dict"
      ]
     },
     "execution_count": 75,
     "metadata": {},
     "output_type": "execute_result"
    }
   ],
   "source": [
    "type(features)"
   ]
  },
  {
   "cell_type": "code",
   "execution_count": 94,
   "metadata": {},
   "outputs": [
    {
     "data": {
      "text/plain": [
       "dict_items([('plot', True), (':', True), ('two', True), ('teen', True), ('couples', True), ('go', True), ('to', True), ('a', True), ('church', True), ('party', True), (',', True), ('drink', True), ('and', True), ('then', True), ('drive', True), ('.', True), ('they', True), ('get', True), ('into', True), ('an', True), ('accident', True), ('one', True), ('of', True), ('the', True), ('guys', True), ('dies', True), ('but', True), ('his', True), ('girlfriend', True), ('continues', True), ('see', True), ('him', True), ('in', True), ('her', True), ('life', True), ('has', True), ('nightmares', True), ('what', True), (\"'\", True), ('s', True), ('deal', True), ('?', True), ('watch', True), ('movie', True), ('\"', True), ('sorta', True), ('find', True), ('out', True), ('critique', True), ('mind', True), ('-', True), ('fuck', True), ('for', True), ('generation', True), ('that', True), ('touches', True), ('on', True), ('very', True), ('cool', True), ('idea', True), ('presents', True), ('it', True), ('bad', True), ('package', True), ('which', True), ('is', True), ('makes', True), ('this', True), ('review', True), ('even', True), ('harder', True), ('write', True), ('since', True), ('i', True), ('generally', True), ('applaud', True), ('films', True), ('attempt', True), ('break', True), ('mold', True), ('mess', True), ('with', True), ('your', True), ('head', True), ('such', True), ('(', True), ('lost', True), ('highway', True), ('&', True), ('memento', True), (')', True), ('there', True), ('are', True), ('good', True), ('ways', True), ('making', True), ('all', True), ('types', True), ('these', True), ('folks', True), ('just', True), ('didn', True), ('t', True), ('snag', True), ('correctly', True), ('seem', True), ('have', True), ('taken', True), ('pretty', True), ('neat', True), ('concept', True), ('executed', True), ('terribly', True), ('so', True), ('problems', True), ('well', True), ('its', True), ('main', True), ('problem', True), ('simply', True), ('too', True), ('jumbled', True), ('starts', True), ('off', True), ('normal', True), ('downshifts', True), ('fantasy', True), ('world', True), ('you', True), ('as', True), ('audience', True), ('member', True), ('no', True), ('going', True), ('dreams', True), ('characters', True), ('coming', True), ('back', True), ('from', True), ('dead', True), ('others', True), ('who', True), ('look', True), ('like', True), ('strange', True), ('apparitions', True), ('disappearances', True), ('looooot', True), ('chase', True), ('scenes', True), ('tons', True), ('weird', True), ('things', True), ('happen', True), ('most', True), ('not', True), ('explained', True), ('now', True), ('personally', True), ('don', True), ('trying', True), ('unravel', True), ('film', True), ('every', True), ('when', True), ('does', True), ('give', True), ('me', True), ('same', True), ('clue', True), ('over', True), ('again', True), ('kind', True), ('fed', True), ('up', True), ('after', True), ('while', True), ('biggest', True), ('obviously', True), ('got', True), ('big', True), ('secret', True), ('hide', True), ('seems', True), ('want', True), ('completely', True), ('until', True), ('final', True), ('five', True), ('minutes', True), ('do', True), ('make', True), ('entertaining', True), ('thrilling', True), ('or', True), ('engaging', True), ('meantime', True), ('really', True), ('sad', True), ('part', True), ('arrow', True), ('both', True), ('dig', True), ('flicks', True), ('we', True), ('actually', True), ('figured', True), ('by', True), ('half', True), ('way', True), ('point', True), ('strangeness', True), ('did', True), ('start', True), ('little', True), ('bit', True), ('sense', True), ('still', True), ('more', True), ('guess', True), ('bottom', True), ('line', True), ('movies', True), ('should', True), ('always', True), ('sure', True), ('before', True), ('given', True), ('password', True), ('enter', True), ('understanding', True), ('mean', True), ('showing', True), ('melissa', True), ('sagemiller', True), ('running', True), ('away', True), ('visions', True), ('about', True), ('20', True), ('throughout', True), ('plain', True), ('lazy', True), ('!', True), ('okay', True), ('people', True), ('chasing', True), ('know', True), ('need', True), ('how', True), ('giving', True), ('us', True), ('different', True), ('offering', True), ('further', True), ('insight', True), ('down', True), ('apparently', True), ('studio', True), ('took', True), ('director', True), ('chopped', True), ('themselves', True), ('shows', True), ('might', True), ('ve', True), ('been', True), ('decent', True), ('here', True), ('somewhere', True), ('suits', True), ('decided', True), ('turning', True), ('music', True), ('video', True), ('edge', True), ('would', True), ('actors', True), ('although', True), ('wes', True), ('bentley', True), ('seemed', True), ('be', True), ('playing', True), ('exact', True), ('character', True), ('he', True), ('american', True), ('beauty', True), ('only', True), ('new', True), ('neighborhood', True), ('my', True), ('kudos', True), ('holds', True), ('own', True), ('entire', True), ('feeling', True), ('unraveling', True), ('overall', True), ('doesn', True), ('stick', True), ('because', True), ('entertain', True), ('confusing', True), ('rarely', True), ('excites', True), ('feels', True), ('redundant', True), ('runtime', True), ('despite', True), ('ending', True), ('explanation', True), ('craziness', True), ('came', True), ('oh', True), ('horror', True), ('slasher', True), ('flick', True), ('packaged', True), ('someone', True), ('assuming', True), ('genre', True), ('hot', True), ('kids', True), ('also', True), ('wrapped', True), ('production', True), ('years', True), ('ago', True), ('sitting', True), ('shelves', True), ('ever', True), ('whatever', True), ('skip', True), ('where', True), ('joblo', True), ('nightmare', True), ('elm', True), ('street', True), ('3', True), ('7', True), ('/', True), ('10', True), ('blair', True), ('witch', True), ('2', True), ('crow', True), ('9', True), ('salvation', True), ('4', True), ('stir', True), ('echoes', True), ('8', True), ('happy', False), ('bastard', False), ('quick', False), ('damn', False), ('y2k', False), ('bug', False), ('starring', False), ('jamie', False), ('lee', False), ('curtis', False), ('another', False), ('baldwin', False), ('brother', False), ('william', False), ('time', False), ('story', False), ('regarding', False), ('crew', False), ('tugboat', False), ('comes', False), ('across', False), ('deserted', False), ('russian', False), ('tech', False), ('ship', False), ('kick', False), ('power', False), ('within', False), ('gore', False), ('bringing', False), ('few', False), ('action', False), ('sequences', False), ('virus', False), ('empty', False), ('flash', False), ('substance', False), ('why', False), ('was', False), ('middle', False), ('nowhere', False), ('origin', False), ('pink', False), ('flashy', False), ('thing', False), ('hit', False), ('mir', False), ('course', False), ('donald', False), ('sutherland', False), ('stumbling', False), ('around', False), ('drunkenly', False), ('hey', False), ('let', False), ('some', False), ('robots', False), ('acting', False), ('below', False), ('average', False), ('likes', False), ('re', False), ('likely', False), ('work', False), ('halloween', False), ('h20', False), ('wasted', False), ('real', False), ('star', False), ('stan', False), ('winston', False), ('robot', False), ('design', False), ('schnazzy', False), ('cgi', False), ('occasional', False), ('shot', False), ('picking', False), ('brain', False), ('if', False), ('body', False), ('parts', False), ('turn', False), ('otherwise', False), ('much', False), ('sunken', False), ('jaded', False), ('viewer', False), ('thankful', False), ('invention', False), ('timex', False), ('indiglo', False), ('based', False), ('late', False), ('1960', False), ('television', False), ('show', False), ('name', False), ('mod', False), ('squad', False), ('tells', False), ('tale', False), ('three', False), ('reformed', False), ('criminals', False), ('under', False), ('employ', False), ('police', False), ('undercover', False), ('however', False), ('wrong', False), ('evidence', False), ('gets', False), ('stolen', False), ('immediately', False), ('suspicion', False), ('ads', False), ('cuts', False), ('claire', False), ('dane', False), ('nice', False), ('hair', False), ('cute', False), ('outfits', False), ('car', False), ('chases', False), ('stuff', False), ('blowing', False), ('sounds', False), ('first', False), ('fifteen', False), ('quickly', False), ('becomes', False), ('apparent', False), ('certainly', False), ('slick', False), ('looking', False), ('complete', False), ('costumes', False), ('isn', False), ('enough', False), ('best', False), ('described', False), ('cross', False), ('between', False), ('hour', False), ('long', False), ('cop', False), ('stretched', False), ('span', False), ('single', False), ('clich', False), ('matter', False), ('elements', False), ('recycled', False), ('everything', False), ('already', False), ('seen', False), ('nothing', False), ('spectacular', False), ('sometimes', False), ('bordering', False), ('wooden', False), ('danes', False), ('omar', False), ('epps', False), ('deliver', False), ('their', False), ('lines', False), ('bored', False), ('transfers', False), ('onto', False), ('escape', False), ('relatively', False), ('unscathed', False), ('giovanni', False), ('ribisi', False), ('plays', False), ('resident', False), ('crazy', False), ('man', False), ('ultimately', False), ('being', False), ('worth', False), ('watching', False), ('unfortunately', False), ('save', False), ('convoluted', False), ('apart', False), ('occupying', False), ('screen', False), ('young', False), ('cast', False), ('clothes', False), ('hip', False), ('soundtrack', False), ('appears', False), ('geared', False), ('towards', False), ('teenage', False), ('mindset', False), ('r', False), ('rating', False), ('content', False), ('justify', False), ('juvenile', False), ('older', False), ('information', False), ('literally', False), ('spoon', False), ('hard', False), ('instead', False), ('telling', False), ('dialogue', False), ('poorly', False), ('written', False), ('extremely', False), ('predictable', False), ('progresses', False), ('won', False), ('care', False), ('heroes', False), ('any', False), ('jeopardy', False), ('ll', False), ('aren', False), ('basing', False), ('nobody', False), ('remembers', False), ('questionable', False), ('wisdom', False), ('especially', False), ('considers', False), ('target', False), ('fact', False), ('number', False), ('memorable', False), ('can', False), ('counted', False), ('hand', False), ('missing', False), ('finger', False), ('times', False), ('checked', False), ('six', False), ('clear', False), ('indication', False), ('them', False), ('than', False), ('cash', False), ('spending', False), ('dollar', False), ('judging', False), ('rash', False), ('awful', False), ('seeing', False), ('avoid', False), ('at', False), ('costs', False), ('quest', False), ('camelot', False), ('warner', False), ('bros', False), ('feature', False), ('length', False), ('fully', False), ('animated', False), ('steal', False), ('clout', False), ('disney', False), ('cartoon', False), ('empire', False), ('mouse', False), ('reason', False), ('worried', False), ('other', False), ('recent', False), ('challenger', False), ('throne', False), ('last', False), ('fall', False), ('promising', False), ('flawed', False), ('20th', False), ('century', False), ('fox', False), ('anastasia', False), ('hercules', False), ('lively', False), ('colorful', False), ('palate', False), ('had', False), ('beat', False), ('hands', False), ('crown', False), ('1997', False), ('piece', False), ('animation', False), ('year', False), ('contest', False), ('arrival', False), ('magic', False), ('kingdom', False), ('mediocre', False), ('--', False), ('d', False), ('pocahontas', False), ('those', False), ('keeping', False), ('score', False), ('nearly', False), ('dull', False), ('revolves', False), ('adventures', False), ('free', False), ('spirited', False), ('kayley', False), ('voiced', False), ('jessalyn', False), ('gilsig', False), ('early', False), ('daughter', False), ('belated', False), ('knight', False), ('king', False), ('arthur', False), ('round', False), ('table', False), ('dream', False), ('follow', False), ('father', False), ('footsteps', False), ('she', False), ('chance', False), ('evil', False), ('warlord', False), ('ruber', False), ('gary', False), ('oldman', False), ('ex', False), ('gone', False), ('steals', False), ('magical', False), ('sword', False), ('excalibur', False), ('accidentally', False), ('loses', False), ('dangerous', False), ('booby', False), ('trapped', False), ('forest', False), ('help', False), ('hunky', False), ('blind', False), ('timberland', False), ('dweller', False), ('garrett', False), ('carey', False), ('elwes', False), ('headed', False), ('dragon', False), ('eric', False), ('idle', False), ('rickles', False), ('arguing', False), ('itself', False), ('able', False), ('medieval', False), ('sexist', False), ('prove', False), ('fighter', False), ('side', False), ('pure', False), ('showmanship', False), ('essential', False), ('element', False), ('expected', False), ('climb', False), ('high', False), ('ranks', False), ('differentiates', False), ('something', False), ('saturday', False), ('morning', False), ('subpar', False), ('instantly', False), ('forgettable', False), ('songs', False), ('integrated', False), ('computerized', False), ('footage', False), ('compare', False), ('run', False), ('angry', False), ('ogre', False), ('herc', False), ('battle', False), ('hydra', False), ('rest', False), ('case', False), ('stink', False), ('none', False), ('remotely', False), ('interesting', False), ('race', False), ('bland', False), ('end', False), ('tie', False), ('win', False), ('comedy', False), ('shtick', False), ('awfully', False), ('cloying', False), ('least', False), ('signs', False), ('pulse', False), ('fans', False), (\"-'\", False), ('90s', False), ('tgif', False), ('will', False), ('thrilled', False), ('jaleel', False), ('urkel', False), ('white', False), ('bronson', False), ('balki', False), ('pinchot', False), ('sharing', False), ('nicely', False), ('realized', False), ('though', False), ('m', False), ('loss', False), ('recall', False), ('specific', False), ('providing', False), ('voice', False), ('talent', False), ('enthusiastic', False), ('paired', False), ('singers', False), ('sound', False), ('musical', False), ('moments', False), ('jane', False), ('seymour', False), ('celine', False), ('dion', False), ('must', False), ('strain', False), ('through', False), ('aside', False), ('children', False), ('probably', False), ('adults', False), ('grievous', False), ('error', False), ('lack', False), ('personality', False), ('learn', False), ('goes', False), ('synopsis', False), ('mentally', False), ('unstable', False), ('undergoing', False), ('psychotherapy', False), ('saves', False), ('boy', False), ('potentially', False), ('fatal', False), ('falls', False), ('love', False), ('mother', False), ('fledgling', False), ('restauranteur', False), ('unsuccessfully', False), ('attempting', False), ('gain', False), ('woman', False), ('favor', False), ('takes', False), ('pictures', False), ('kills', False), ('comments', False), ('stalked', False), ('yet', False), ('seemingly', False), ('endless', False), ('string', False), ('spurned', False), ('psychos', False), ('getting', False), ('revenge', False), ('type', False), ('stable', False), ('category', False), ('1990s', False), ('industry', False), ('theatrical', False), ('direct', False), ('proliferation', False), ('may', False), ('due', False), ('typically', False), ('inexpensive', False), ('produce', False), ('special', False), ('effects', False), ('stars', False), ('serve', False), ('vehicles', False), ('nudity', False), ('allowing', False), ('frequent', False), ('night', False), ('cable', False), ('wavers', False), ('slightly', False), ('norm', False), ('respect', False), ('psycho', False), ('never', False), ('affair', False), (';', False), ('contrary', False), ('rejected', False), ('rather', False), ('lover', False), ('wife', False), ('husband', False), ('entry', False), ('doomed', False), ('collect', False), ('dust', False), ('viewed', False), ('midnight', False), ('provide', False), ('suspense', False), ('sets', False), ('interspersed', False), ('opening', False), ('credits', False), ('instance', False), ('serious', False), ('sounding', False), ('narrator', False), ('spouts', False), ('statistics', False), ('stalkers', False), ('ponders', False), ('cause', False), ('stalk', False), ('implicitly', False), ('implied', False), ('men', False), ('shown', False), ('snapshot', False), ('actor', False), ('jay', False), ('underwood', False), ('states', False), ('daryl', False), ('gleason', False), ('stalker', False), ('brooke', False), ('daniels', False), ('meant', False), ('called', False), ('guesswork', False), ('required', False), ('proceeds', False), ('begins', False), ('obvious', False), ('sequence', False), ('contrived', False), ('quite', False), ('brings', False), ('victim', False), ('together', False), ('obsesses', False), ('follows', False), ('tries', False), ('woo', False), ('plans', False), ('become', False), ('desperate', False), ('elaborate', False), ('include', False), ('cliche', False), ('murdered', False), ('pet', False), ('require', False), ('found', False), ('exception', False), ('cat', False), ('shower', False), ('events', False), ('lead', False), ('inevitable', False), ('showdown', False), ('survives', False), ('invariably', False), ('conclusion', False), ('turkey', False), ('uniformly', False), ('adequate', False), ('anything', False), ('home', False), ('either', False), ('turns', False), ('toward', False), ('melodrama', False), ('overdoes', False), ('words', False), ('manages', False), ('creepy', False), ('pass', False), ('demands', False), ('maryam', False), ('abo', False), ('close', False), ('played', False), ('bond', False), ('chick', False), ('living', False), ('daylights', False), ('equally', False), ('title', False), ('ditzy', False), ('strong', False), ('independent', False), ('business', False), ('owner', False), ('needs', False), ('proceed', False), ('example', False), ('suspicions', False), ('ensure', False), ('use', False), ('excuse', False), ('decides', False), ('return', False), ('toolbox', False), ('left', False), ('place', False), ('house', False), ('leave', False), ('door', False), ('answers', False), ('opens', False), ('wanders', False), ('returns', False), ('enters', False), ('our', False), ('heroine', False), ('danger', False), ('somehow', False), ('parked', False), ('front', False), ('right', False), ('oblivious', False), ('presence', False), ('inside', False), ('whole', False), ('episode', False), ('places', False), ('incredible', False), ('suspension', False), ('disbelief', False), ('questions', False), ('validity', False), ('intelligence', False), ('receives', False), ('highly', False), ('derivative', False), ('somewhat', False), ('boring', False), ('cannot', False), ('watched', False), ('rated', False), ('mostly', False), ('several', False), ('murder', False), ('brief', False), ('strip', False), ('bar', False), ('offensive', False), ('many', False), ('thrillers', False), ('mood', False), ('stake', False), ('else', False), ('capsule', False), ('2176', False), ('planet', False), ('mars', False), ('taking', False), ('custody', False), ('accused', False), ('murderer', False), ('face', False), ('menace', False), ('lot', False), ('fighting', False), ('john', False), ('carpenter', False), ('reprises', False), ('ideas', False), ('previous', False), ('assault', False), ('precinct', False), ('13', False), ('homage', False), ('himself', False), ('0', False), ('+', False), ('believes', False), ('fight', False), ('horrible', False), ('writer', False), ('supposedly', False), ('expert', False), ('mistake', False), ('ghosts', False), ('drawn', False), ('humans', False), ('surprisingly', False), ('low', False), ('powered', False), ('alien', False), ('addition', False), ('anybody', False), ('made', False), ('grounds', False), ('sue', False), ('chock', False), ('full', False), ('pieces', False), ('prince', False), ('darkness', False), ('surprising', False), ('managed', False), ('fit', False), ('admittedly', False), ('novel', False), ('science', False), ('fiction', False), ('experience', False), ('terraformed', False), ('walk', False), ('surface', False), ('without', False), ('breathing', False), ('gear', False), ('budget', False), ('mentioned', False), ('gravity', False), ('increased', False), ('earth', False), ('easier', False), ('society', False), ('changed', False), ('advanced', False), ('culture', False), ('women', False), ('positions', False), ('control', False), ('view', False), ('stagnated', False), ('female', False), ('beyond', False), ('minor', False), ('technological', False), ('advances', False), ('less', False), ('175', False), ('expect', False), ('change', False), ('ten', False), ('basic', False), ('common', False), ('except', False), ('yes', False), ('replaced', False), ('tacky', False), ('rundown', False), ('martian', False), ('mining', False), ('colony', False), ('having', False), ('criminal', False), ('napolean', False), ('wilson', False), ('desolation', False), ('williams', False), ('facing', False), ('hoodlums', False), ('automatic', False), ('weapons', False), ('nature', False), ('behave', False), ('manner', False), ('essentially', False), ('human', False), ('savages', False), ('lapse', False), ('imagination', False), ('told', False), ('flashback', False), ('entirely', False), ('filmed', False), ('almost', False), ('tones', False), ('red', False), ('yellow', False), ('black', False), ('powerful', False), ('scene', False), ('train', False), ('rushing', False), ('heavy', False), ('sadly', False), ('buildup', False), ('terror', False), ('creates', False), ('looks', False), ('fugitive', False), ('wannabes', False), ('rock', False), ('band', False), ('kiss', False), ('building', False), ('bunch', False), ('sudden', False), ('jump', False), ('sucker', False), ('thinking', False), ('scary', False), ('happening', False), ('standard', False), ('haunted', False), ('shock', False), ('great', False), ('newer', False), ('unimpressive', False), ('digital', False), ('decapitations', False), ('fights', False), ('short', False), ('stretch', False), ('release', False), ('mission', False), ('panned', False), ('reviewers', False), ('better', False), ('rate', False), ('scale', False), ('following', False), ('showed', False), ('liked', False), ('moderately', False), ('classic', False), ('comment', False), ('twice', False), ('ask', False), ('yourself', False), ('8mm', False), ('eight', False), ('millimeter', False), ('wholesome', False), ('surveillance', False), ('sight', False), ('values', False), ('becoming', False), ('enmeshed', False), ('seedy', False), ('sleazy', False), ('underworld', False), ('hardcore', False), ('pornography', False), ('bubbling', False), ('beneath', False), ('town', False), ('americana', False), ('sordid', False), ('sick', False), ('depraved', False), ('necessarily', False), ('stop', False), ('order', False), ('satisfy', False), ('twisted', False), ('desires', False), ('position', False), ('influence', False), ('kinds', False), ('demented', False), ('talking', False), ('snuff', False), ('supposed', False), ('documentaries', False), ('victims', False), ('brutalized', False), ('killed', False), ('camera', False), ('joel', False), ('schumacher', False), ('credit', False), ('batman', False), ('robin', False), ('kill', False), ('forever', False), ('client', False), ('thirds', False), ('unwind', False), ('fairly', False), ('conventional', False), ('persons', False), ('drama', False), ('albeit', False), ('particularly', False), ('unsavory', False), ('core', False), ('threatening', False), ('along', False), ('explodes', False), ('violence', False), ('think', False), ('finally', False), ('tags', False), ('ridiculous', False), ('self', False), ('righteous', False), ('finale', False), ('drags', False), ('unpleasant', False), ('trust', False), ('waste', False), ('hours', False), ('nicolas', False), ('snake', False), ('eyes', False), ('cage', False), ('private', False), ('investigator', False), ('tom', False), ('welles', False), ('hired', False), ('wealthy', False), ('philadelphia', False), ('widow', False), ('determine', False), ('whether', False), ('reel', False), ('safe', False), ('documents', False), ('girl', False), ('assignment', False), ('factly', False), ('puzzle', False), ('neatly', False), ('specialized', False), ('skills', False), ('training', False), ('easy', False), ('cops', False), ('toilet', False), ('tanks', False), ('clues', False), ('deeper', False), ('digs', False), ('investigation', False), ('obsessed', False), ('george', False), ('c', False), ('scott', False), ('paul', False), ('schrader', False), ('occasionally', False), ('flickering', False), ('whirs', False), ('sprockets', False), ('winding', False), ('projector', False), ('reminding', False), ('task', False), ('hints', False), ('toll', False), ('lovely', False), ('catherine', False), ('keener', False), ('frustrated', False), ('cleveland', False), ('ugly', False), ('split', False), ('level', False), ('harrisburg', False), ('pa', False), ('condemn', False), ('condone', False), ('subject', False), ('exploits', False), ('irony', False), ('seven', False), ('scribe', False), ('andrew', False), ('kevin', False), ('walker', False), ('vision', False), ('lane', False), ('limited', False), ('hollywood', False), ('product', False), ('snippets', False), ('covering', False), ('later', False), ('joaquin', False), ('phoenix', False), ('far', False), ('adult', False), ('bookstore', False), ('flunky', False), ('max', False), ('california', False), ('cover', False), ('horrid', False), ('screened', False), ('familiar', False), ('revelation', False), ('sexual', False), ('deviants', False), ('indeed', False), ('monsters', False), ('everyday', False), ('neither', False), ('super', False), ('nor', False), ('shocking', False), ('banality', False), ('exactly', False), ('felt', False), ('weren', False), ('nine', False), ('laughs', False), ('months', False), ('terrible', False), ('mr', False), ('hugh', False), ('grant', False), ('huge', False), ('dork', False), ('oral', False), ('sex', False), ('prostitution', False), ('referring', False), ('bugs', False), ('annoying', False), ('adam', False), ('sandler', False), ('jim', False), ('carrey', False), ('eye', False), ('flutters', False), ('nervous', False), ('smiles', False), ('slapstick', False), ('fistfight', False), ('delivery', False), ('room', False), ('culminating', False), ('joan', False), ('cusack', False), ('lap', False), ('paid', False), ('$', False), ('60', False), ('included', False), ('obscene', False), ('double', False), ('entendres', False), ('obstetrician', False), ('pregnant', False), ('pussy', False), ('size', False), ('hairs', False), ('coat', False), ('nonetheless', False), ('exchange', False), ('cookie', False), ('cutter', False), ('originality', False), ('humor', False), ('successful', False), ('child', False), ('psychiatrist', False), ('psychologist', False), ('scriptwriters', False), ('could', False), ('inject', False), ('unfunny', False), ('kid', False), ('dad', False), ('asshole', False), ('eyelashes', False), ('offers', False), ('smile', False), ('responds', False), ('english', False), ('accent', False), ('attitude', False), ('possibly', False), ('_huge_', False), ('beside', False), ('includes', False), ('needlessly', False), ('stupid', False), ('jokes', False), ('olds', False), ('everyone', False), ('shakes', False), ('anyway', False), ('finds', False), ('usual', False), ('reaction', False), ('fluttered', False), ('paves', False), ('possible', False), ('pregnancy', False), ('birth', False), ('gag', False), ('book', False), ('friend', False), ('arnold', False), ('provides', False), ('cacophonous', False), ('funny', False), ('beats', False), ('costumed', False), ('arnie', False), ('dinosaur', False), ('draw', False), ('parallels', False), ('toy', False), ('store', False), ('jeff', False), ('goldblum', False), ('hid', False), ('dreadful', False), ('hideaway', False), ('artist', False), ('fear', False), ('simultaneous', False), ('longing', False), ('commitment', False), ('doctor', False), ('recently', False), ('switch', False), ('veterinary', False), ('medicine', False), ('obstetrics', False), ('joke', False), ('old', False), ('foreign', False), ('guy', False), ('mispronounces', False), ('stereotype', False), ('say', False), ('yakov', False), ('smirnov', False), ('favorite', False), ('vodka', False), ('hence', False), ('take', False), ('volvo', False), ('nasty', False), ('unamusing', False), ('heads', False), ('simultaneously', False), ('groan', False), ('failure', False), ('loud', False), ('failed', False), ('uninspired', False), ('lunacy', False), ('sunset', False), ('boulevard', False), ('arrest', False), ('please', False), ('caught', False), ('pants', False), ('bring', False), ('theaters', False), ('faces', False), ('90', False), ('forced', False), ('unauthentic', False), ('anyone', False), ('q', False), ('80', False), ('sorry', False), ('money', False), ('unfulfilled', False), ('desire', False), ('spend', False), ('bucks', False), ('call', False), ('road', False), ('trip', False), ('walking', False), ('wounded', False), ('stellan', False), ('skarsg', False), ('rd', False), ('convincingly', False), ('zombified', False), ('drunken', False), ('loser', False), ('difficult', False), ('smelly', False), ('boozed', False), ('reliable', False), ('swedish', False), ('adds', False), ('depth', False), ('significance', False), ('plodding', False), ('aberdeen', False), ('sentimental', False), ('painfully', False), ('mundane', False), ('european', False), ('playwright', False), ('august', False), ('strindberg', False), ('built', False), ('career', False), ('families', False), ('relationships', False), ('paralyzed', False), ('secrets', False), ('unable', False), ('express', False), ('longings', False), ('accurate', False), ('reflection', False), ('strives', False), ('focusing', False), ('pairing', False), ('alcoholic', False), ('tomas', False), ('alienated', False), ('openly', False), ('hostile', False), ('yuppie', False), ('kaisa', False), ('lena', False), ('headey', False), ('gossip', False), ('haven', False), ('spoken', False), ('wouldn', False), ('norway', False), ('scotland', False), ('automobile', False), ('charlotte', False), ('rampling', False), ('sand', False), ('rotting', False), ('hospital', False), ('bed', False), ('cancer', False), ('soap', False), ('opera', False), ('twist', False), ('days', False), ('live', False), ('blitzed', False), ('step', False), ('foot', False), ('plane', False), ('hits', False), ('open', False), ('loathing', False), ('each', False), ('periodic', False), ('stops', False), ('puke', False), ('dashboard', False), ('whenever', False), ('muttering', False), ('rotten', False), ('turned', False), ('sloshed', False), ('viewpoint', False), ('recognizes', False), ('apple', False), ('hasn', False), ('fallen', False), ('tree', False), ('nosebleeds', False), ('snorting', False), ('coke', False), ('sabotages', False), ('personal', False), ('indifference', False), ('restrain', False), ('vindictive', False), ('temper', False), ('ain', False), ('pair', False), ('true', False), ('notes', False), ('unspoken', False), ('familial', False), ('empathy', False), ('note', False), ('repetitively', False), ('bitchy', False), ('screenwriters', False), ('kristin', False), ('amundsen', False), ('hans', False), ('petter', False), ('moland', False), ('fabricate', False), ('series', False), ('contrivances', False), ('propel', False), ('forward', False), ('roving', False), ('hooligans', False), ('drunks', False), ('nosy', False), ('flat', False), ('tires', False), ('figure', False), ('schematic', False), ('convenient', False), ('narrative', False), ('reach', False), ('unveil', False), ('dark', False), ('past', False), ('simplistic', False), ('devices', False), ('trivialize', False), ('conflict', False), ('mainstays', False), ('wannabe', False), ('exists', False), ('purely', False), ('sake', False), ('weak', False), ('unimaginative', False), ('casting', False), ('thwarts', False), ('pivotal', False), ('role', False), ('were', False), ('stronger', False), ('actress', False), ('perhaps', False), ('coast', False), ('performances', False), ('moody', False), ('haunting', False), ('cinematography', False), ('rendering', False), ('pastoral', False), ('ghost', False), ('reference', False), ('certain', False), ('superior', False), ('indie', False), ('intentional', False), ('busy', False), ('using', False), ('furrowed', False), ('brow', False), ('convey', False), ('twitch', False), ('insouciance', False), ('paying', False), ('attention', False), ('maybe', False), ('doing', False), ('reveal', False), ('worthwhile', False), ('earlier', False), ('released', False), ('2001', False), ('jonathan', False), ('nossiter', False), ('captivating', False), ('wonders', False), ('disturbed', False), ('parental', False), ('figures', False), ('bound', False), ('ceremonial', False), ('wedlock', False), ('differences', False), ('presented', False), ('significant', False), ('luminous', False), ('diva', False), ('preening', False), ('static', False), ('solid', False), ('performance', False), ('pathetic', False), ('drunk', False), ('emote', False), ('besides', False), ('catatonic', False), ('sorrow', False), ('genuine', False), ('ferocity', False), ('sexually', False), ('charged', False), ('frisson', False), ('during', False), ('understated', False), ('confrontations', False), ('suggest', False), ('gray', False), ('zone', False), ('complications', False), ('accompany', False), ('torn', False), ('romance', False), ('stifled', False), ('curiosity', False), ('thoroughly', False), ('explores', False), ('neurotic', False), ('territory', False), ('delving', False), ('americanization', False), ('greece', False), ('mysticism', False), ('illusion', False), ('deflect', False), ('pain', False), ('overloaded', False), ('willing', False), ('come', False), ('traditional', False), ('ambitious', False), ('sleepwalk', False), ('rhythms', False), ('timing', False), ('driven', False), ('stories', False), ('complexities', False), ('depressing', False), ('answer', False), ('lawrence', False), ('kasdan', False), ('trite', False), ('useful', False), ('grand', False), ('canyon', False), ('steve', False), ('martin', False), ('mogul', False), ('pronounces', False), ('riddles', False), ('answered', False), ('advice', False), ('heart', False), ('french', False), ('sees', False), ('parents', False), ('tim', False), ('roth', False), ('oops', False), ('vows', False), ('taught', False), ('musketeer', False), ('dude', False), ('used', False), ('fourteen', False), ('arrgh', False), ('swish', False), ('zzzzzzz', False), ('original', False), ('lacks', False), ('energy', False), ('next', False), ('hmmmm', False), ('justin', False), ('chambers', False), ('basically', False), ('uncharismatic', False), ('version', False), ('chris', False), ('o', False), ('donnell', False), ('range', False), ('mena', False), ('suvari', False), ('thora', False), ('birch', False), ('dungeons', False), ('dragons', False), ('miscast', False), ('deliveries', False), ('piss', False), ('poor', False), ('ms', False), ('fault', False), ('definitely', False), ('higher', False), ('semi', False), ('saving', False), ('grace', False), ('wise', False), ('irrepressible', False), ('once', False), ('thousand', False), ('god', False), ('beg', False), ('agent', False), ('marketplace', False), ('modern', False), ('day', False), ('roles', False), ('romantic', False), ('gunk', False), ('alright', False), ('yeah', False), ('yikes', False), ('notches', False), ('fellas', False), ('blares', False), ('ear', False), ('accentuate', False), ('annoy', False), ('important', False), ('behind', False), ('recognize', False), ('epic', False), ('fluffy', False), ('rehashed', False), ('cake', False), ('created', False), ('shrewd', False), ('advantage', False), ('kung', False), ('fu', False), ('phenomenon', False), ('test', False), ('dudes', False), ('keep', False), ('reading', False), ('editing', False), ('shoddy', False), ('banal', False), ('stilted', False), ('plentiful', False), ('top', False), ('horse', False), ('carriage', False), ('stand', False), ('opponent', False), ('scampering', False), ('cut', False), ('mouseketeer', False), ('rope', False), ('tower', False), ('jumping', False), ('chords', False), ('hanging', False), ('says', False), ('14', False), ('shirt', False), ('strayed', False), ('championing', False), ('fun', False), ('stretches', False), ('atrocious', False), ('lake', False), ('reminded', False), ('school', False), ('cringe', False), ('musketeers', False), ('fat', False), ('raison', False), ('etre', False), ('numbers', False), ('hoping', False), ('packed', False), ('stuntwork', False), ('promoted', False), ('trailer', False), ('major', False), ('swashbuckling', False), ('beginning', False), ('finishes', False), ('juggling', False), ('ladders', False), ('ladder', False), ('definite', False), ('keeper', False), ('regurgitated', False), ('crap', False), ('tell', False), ('deneuve', False), ('placed', False), ('hullo', False), ('barely', False), ('ugh', False), ('small', False), ('annoyed', False), ('trash', False), ('gang', False), ('vow', False), ('stay', False), ('thank', False), ('outlaws', False), ('5', False), ('crouching', False), ('tiger', False), ('hidden', False), ('matrix', False), ('replacement', False), ('killers', False), ('6', False), ('romeo', False), ('die', False), ('shanghai', False), ('noon', False), ('remembered', False), ('dr', False), ('hannibal', False), ('lecter', False), ('michael', False), ('mann', False), ('forensics', False), ('thriller', False), ('manhunter', False), ('scottish', False), ('brian', False), ('cox', False), ('works', False), ('usually', False), ('schlock', False), ('halfway', False), ('goodnight', False), ('meaty', False), ('substantial', False), ('brilliant', False), ('check', False), ('dogged', False), ('inspector', False), ('opposite', False), ('frances', False), ('mcdormand', False), ('ken', False), ('loach', False), ('agenda', False), ('harrigan', False), ('disturbing', False), ('l', False), ('e', False), ('47', False), ('picked', False), ('sundance', False), ('distributors', False), ('scared', False), ('budge', False), ('dares', False), ('speak', False), ('expresses', False), ('seeking', False), ('adolescents', False), ('pad', False), ('bothered', False), ('members', False), ('presentation', False), ('oddly', False), ('empathetic', False), ('light', False), ('tempered', False), ('robust', False), ('listens', False), ('opposed', False), ('friends', False), ('wire', False), ('act', False), ('confused', False), ('lives', False), ('pay', False), ('courtship', False), ('charming', False), ('temptations', False), ('grown', False), ('stands', False), ('island', False), ('expressway', False), ('slices', False), ('malls', False), ('class', False), ('homes', False), ('suburbia', False), ('filmmaker', False), ('cuesta', False), ('uses', False), ('transparent', False), ('metaphor', False), ('15', False), ('protagonist', False), ('howie', False), ('franklin', False), ('dano', False), ('reveals', False), ('morbid', False), ('preoccupation', False), ('death', False), ('citing', False), ('deaths', False), ('alan', False), ('j', False), ('pakula', False), ('songwriter', False), ('harry', False), ('chapin', False), ('exit', False), ('52', False), ('fascinated', False), ('feelings', False), ('projected', False), ('bright', False), ('move', False), ('force', False), ('complex', False), ('molesters', False), ('beast', False), ('ashamed', False), ('worked', False), ('ill', False), ('advised', False), ('foray', False), ('unnecessary', False), ('padding', False), ('miserable', False), ('bruce', False), ('altman', False), ('seat', False), ('collar', False), ('crime', False), ('degenerate', False), ('youngsters', False), ('kicks', False), ('robbing', False), ('houses', False), ('homoerotic', False), ('shenanigans', False), ('ass', False), ('terrio', False), ('billy', False), ('kay', False), ('handsome', False), ('artful', False), ('dodger', False), ('add', False), ('themes', False), ('suburban', False), ('ennui', False), ('needed', False), ('awkward', False), ('subplots', False), ('concurrently', False), ('relationship', False), ('evenly', False), ('paced', False), ('exceptionally', False), ('acted', False), ('sporting', False), ('baseball', False), ('cap', False), ('faded', False), ('marine', False), ('tattoo', False), ('bluff', False), ('bluster', False), ('quiet', False), ('glance', False), ('withdrawn', False), ('whose', False), ('dramatic', False), ('choices', False), ('broad', False), ('calling', False), ('haley', False), ('restraint', False), ('admirable', False), ('screenplay', False), ('material', False), ('reads', False), ('walt', False), ('whitman', False), ('poem', False), ('moment', False), ('precious', False), ('lingers', False), ('ecstatic', False), ('hearing', False), ('glenn', False), ('gould', False), ('performing', False), ('bach', False), ('goldberg', False), ('variations', False), ('involving', False), ('walter', False), ('masterson', False), ('jealous', False), ('newbie', False), ('thread', False), ('predictably', False), ('leads', False), ('observational', False), ('portrait', False), ('alienation', False), ('royally', False), ('screwed', False), ('terry', False), ('zwigoff', False), ('superb', False), ('confidence', False), ('ambivalent', False), ('typical', False), ('cinema', False), ('wrap', False), ('bullet', False), ('sparing', False), ('writers', False), ('philosophical', False), ('regard', False), ('countless', False), ('share', False), ('blockbuster', False), ('solved', False), ('obstacle', False), ('removed', False), ('often', False), ('extend', False), ('question', False), ('striving', False), ('realism', False), ('destroy', False), ('janeane', False), ('garofalo', False), ('couple', False), ('truth', False), ('cats', False), ('dogs', False), ('excruciating', False), ('matchmaker', False), ('books', False), ('plods', False), ('predestined', False), ('surprises', False), ('jumps', False), ('popular', False), ('political', False), ('satire', False), ('bandwagon', False), ('campaign', False), ('aide', False), ('massacusetts', False), ('senator', False), ('sanders', False), ('reelection', False), ('denis', False), ('leary', False), ('stereotypical', False), ('strategist', False), ('ethics', False), ('scandal', False), ('plagued', False), ('play', False), ('irish', False), ('roots', False), ('boston', False), ('roman', False), ('catholic', False), ('democrat', False), ('contingent', False), ('kennedy', False), ('family', False), ('orders', False), ('ireland', False), ('relatives', False), ('exploit', False), ('soon', False), ('learns', False), ('said', False), ('done', False), ('mantra', False), ('tiny', False), ('misses', False), ('bus', False), ('hotel', False), ('ends', False), ('smallest', False), ('trashiest', False), ('dog', False), ('luggage', False), ('roger', False), ('ebert', False), ('calls', False), ('meet', False), ('happens', False), ('unconventional', False), ('cinematic', False), ('walks', False), ('bathroom', False), ('nude', False), ('sean', False), ('david', False), ('hara', False), ('bathtub', False), ('points', False), ('guessing', False), ('water', False), ('hates', False), ('instant', False), ('saw', False), ('irishman', False), ('hate', False), ('awhile', False), ('succumb', False), ('charms', False), ('happily', False), ('superficial', False), ('detail', False), ('throw', False), ('turmoil', False), ('reconcile', False), ('tune', False), ('annual', False), ('matchmaking', False), ('festival', False), ('lonely', False), ('county', False), ('future', False), ('bliss', False), ('milo', False), ('shea', False), ('snyder', False), ('pops', False), ('onscreen', False), ('spew', False), ('souls', False), ('assured', False), ('match', False), ('utter', False), ('predictability', False), ('message', False), ('respectable', False), ('person', False), ('comedic', False), ('distinction', False), ('sell', False), ('script', False), ('excited', False), ('stays', False), ('stateside', False), ('yelling', False), ('phone', False), ('undoes', False), ('microphone', False), ('speech', False), ('known', False), ('flying', False), ('hong', False), ('kong', False), ('style', False), ('filmmaking', False), ('classics', False), ('nod', False), ('asia', False), ('france', False), ('lukewarm', False), ('dumas', False), ('asian', False), ('stunt', False), ('coordinator', False), ('xing', False), ('xiong', False), ('prior', False), ('attempts', False), ('choreography', False), ('laughable', False), ('van', False), ('damme', False), ('vehicle', False), ('team', False), ('dennis', False), ('rodman', False), ('simon', False), ('sez', False), ('thrown', False), ('air', False), ('result', False), ('tepid', False), ('adventure', False), ('rip', False), ('stinks', False), ('indiana', False), ('jones', False), ('simple', False), ('grandmother', False), ('adapted', False), ('artagnan', False), ('vengeful', False), ('son', False), ('slain', False), ('travels', False), ('paris', False), ('join', False), ('royal', False), ('meets', False), ('cunning', False), ('cardinal', False), ('richelieu', False), ('stephen', False), ('rea', False), ('overthrow', False), ('associate', False), ('febre', False), ('killer', False), ('disbanded', False), ('rounds', False), ('aramis', False), ('nick', False), ('moran', False), ('athos', False), ('jan', False), ('gregor', False), ('kremp', False), ('porthos', False), ('steven', False), ('spiers', False), ('wrongfully', False), ('imprisoned', False), ('leader', False), ('treville', False), ('prison', False), ('frisky', False), ('interest', False), ('chambermaid', False), ('francesca', False), ('footsy', False), ('coo', False), ('hunts', False), ('queen', False), ('captured', False), ('menancing', False), ('forcing', False), ('regroup', False), ('leading', False), ('charge', False), ('peter', False), ('hyams', False), ('wanted', False), ('blend', False), ('eastern', False), ('western', False), ('styles', False), ('disaster', False), ('reality', False), ('ones', False), ('jet', False), ('li', False), ('risk', False), ('ironically', False), ('swordplay', False), ('spread', False), ('carry', False), ('bulk', False), ('30', False), ('minute', False), ('picture', False), ('weighs', False), ('monotonous', False), ('gene', False), ('quintano', False), ('prosaic', False), ('wedding', False), ('planner', False), ('mousy', False), ('artangnan', False), ('hyam', False), ('candles', False), ('torches', False), ('grime', False), ('filth', False), ('17th', False), ('noted', False), ('standout', False), ('mortal', False), ('kombat', False), ('annihilation', False), ('reviewed', False), ('multiple', False), ('levels', False), ('rampant', False), ('usage', False), ('randian', False), ('subtext', False), ('pervades', False), ('occasionaly', False), ('ironic', False), ('depreciating', False), ('remark', False), ('tosses', False), ('clearly', False), ('marxist', False), ('imagery', False), ('kidding', False), ('seriousness', False), ('fair', False), ('*', False), ('necessary', False), ('viewpoints', False), ('watcher', False), ('unfamiliar', False), ('marginally', False), ('fan', False), ('games', False), ('1995', False), ('concerned', False), ('martial', False), ('arts', False), ('tournament', False), ('decide', False), ('fate', False), ('billion', False), ('inhabitants', False), ('mortals', False), ('theory', False), ('prevented', False), ('emperor', False), ('shao', False), ('khan', False), ('arriving', False), ('ready', False), ('assumed', False), ('stance', False), ('extraordinarily', False), ('myself', False), ('game', False), ('enjoyed', False), ('directors', False), ('knew', False), ('limitations', False), ('try', False), ('overachieve', False), ('accompanying', False), ('intersperesed', False), ('distracting', False), ('non', False), ('intrusive', False), ('bits', False), ('fluff', False), ('passing', False), ('smashing', False), ('success', False), ('box', False), ('office', False), ('picks', False), ('precisely', False), ('introductory', False), ('exposition', False), ('anyways', False), ('hell', False), ('silly', False), ('rule', False), ('winning', False), ('thereafter', False), ('approximately', False), ('85', False), ('alternates', False), ('general', False), ('impression', False), ('producers', False), ('thought', False), ('formula', False), ('volumes', False), ('truly', False), ('sandra', False), ('hess', False), ('sonya', False), ('blade', False), ('execrable', False), ('convince', False), ('loved', False), ('johnny', False), ('greased', False), ('worst', False), ('mis', False), ('james', False), ('remar', False), ('raiden', False), ('thunder', False), ('christopher', False), ('lambert', False), ('japanese', False), ('revered', False), ('chinese', False), ('mystics', False), ('against', False), ('lister', False), ('jr', False), ('president', False), ('u', False), ('fifth', False), ('utility', False), ('totally', False), ('luxury', False), ('amused', False), ('awareness', False), ('introduced', False), ('meaningless', False), ('sidetracks', False), ('including', False), ('muddled', False), ('liu', False), ('kang', False), ('shou', False), ('seeks', False), ('nightwolf', False), ('litefoot', False), ('mystical', False), ('hallucination', False), ('jade', False), ('irina', False), ('pantaeva', False), ('reasons', False), ('unless', False), ('critiques', False), ('apply', False), ('worse', False), ('bridgette', False), ('convincing', False), ('looked', False), ('mimicing', False), ('movements', False), ('choreographer', False), ('knows', False), ('puts', False), ('believable', False), ('jax', False), ('earthquake', False), ('animality', False), ('bonus', False), ('similar', False), ('moves', False), ('mistakenly', False), ('hang', False), ('lamest', False), ('involved', False), ('mud', False), ('wrestling', False), ('lame', False), ('politically', False), ('incorrect', False), ('noticed', False), ('remarked', False), ('upon', False), ('emporer', False), ('perform', False), ('animalities', False), ('motaro', False), ('sheeva', False), ('lifelike', False), ('goro', False), ('enjoy', False), ('femme', False), ('la', False), ('nikita', False), ('backdraft', False), ('sliver', False), ('cindy', False), ('crawford', False), ('anne', False), ('parillaud', False), ('conspire', False), ('shattered', False), ('image', False), ('hooey', False), ('stallone', False), ('stone', False), ('specialist', False), ('poses', False), ('recurring', False), ('assassin', False), ('honeymooning', False), ('jamaica', False), ('believe', False), ('runs', False), ('painful', False), ('pedestrian', False), ('siouxsie', False), ('sioux', False), ('wig', False), ('emotionless', False), ('leather', False), ('clothing', False), ('seattle', False), ('moping', False), ('karen', False), ('endlessly', False), ('complicated', False), ('plots', False), ('helps', False), ('crisp', False), ('modicum', False), ('shakespearean', False), ('begin', False), ('saddled', False), ('leaden', False), ('zero', False), ('breaking', False), ('cardboard', False), ('confines', False), ('insist', False), ('couldn', False), ('huh', False), ('wonderful', False), ('interchange', False), ('charm', False), ('faster', False), ('learned', False), ('cereal', False), ('crybaby', False), ('imagines', False), ('stranger', False), ('sends', False), ('flowers', False), ('chromium', False), ('tough', False), ('nails', False), ('crack', False), ('killing', False), ('machine', False), ('shoots', False), ('mirrors', False), ('stock', False), ('interested', False), ('nest', False), ('egg', False), ('pave', False), ('paradise', False), ('put', False), ('parking', False), ('graham', False), ('greene', False), ('barbet', False), ('schroeder', False), ('reversal', False), ('fortune', False), ('co', False), ('produced', False), ('agonizingly', False), ('b', False), ('york', False), ('vampires', False), ('latest', False), ('opus', False), ('bent', False), ('outing', False), ('aptly', False), ('titled', False), ('suppose', False), ('went', False), ('prefixed', False), ('possessive', False), ('unashamed', False), ('punctuated', False), ('above', False), ('storyline', False), ('borders', False), ('idiotic', False), ('chaotic', False), ('dormant', False), ('martians', False), ('swirling', False), ('gases', False), ('awakened', False), ('meddling', False), ('possess', False), ('hapless', False), ('colonists', False), ('testy', False), ('marilyn', False), ('manson', False), ('lookalikes', False), ('pooh', False), ('bah', False), ('counsel', False), ('official', False), ('melanie', False), ('ballard', False), ('natasha', False), ('henstridge', False), ('sub', False), ('species', False), ('returnee', False), ('officer', False), ('incarcerated', False), ('felon', False), ('second', False), ('blonde', False), ('pulled', False), ('tightly', False), ('awkwardly', False), ('ponytail', False), ('ice', False), ('cube', False), ('appropriately', False), ('named', False), ('pam', False), ('grier', False), ('briefly', False), ('whom', False), ('wonder', False), ('host', False), ('extras', False), ('therefore', False), ('bird', False), ('shots', False), ('sprawling', False), ('metropolis', False), ('reddish', False), ('state', False), ('art', False), ('trademark', False), ('finding', False), ('department', False), ('lock', False), ('laughing', False), ('barrel', False), ('fare', False), ('dingy', False), ('interiors', False), ('cluttered', False), ('exteriors', False), ('inane', False), ('lots', False), ('scarred', False), ('crazed', False), ('aliens', False), ('weaponry', False), ('warfare', False), ('warning', False), ('spontaneously', False), ('stupidly', False), ('villains', False), ('border', False), ('conflicts', False), ('shootouts', False), ('minus', False), ('hissing', False), ('plissken', False), ('miss', False), ('dubbed', False), ('minimalist', False), ('soundtracks', False), ('graduated', False), ('effective', False), ('scoring', False), ('highlighting', False), ('screeching', False), ('guitar', False), ('fortunately', False), ('drowns', False), ('er', False), ('audible', False), ('priceless', False), ('proven', False), ('infertile', False), ('breeding', False), ('ground', False), ('stillborn', False), ('val', False), ('kilmer', False), ('disappointing', False), ('weekend', False), ('overshadowed', False), ('sequels', False), ('among', False), ('pie', False), ('rush', False), ('absent', False), ('references', False), ('set', False), ('perth', False), ('amboys', False), ('closest', False), ('neighbor', False), ('slap', False), ('upside', False), ('1', False), ('keeps', False), ('miraculously', False), ('pretend', False), ('means', False), ('intelligent', False), ('grade', False), ('sci', False), ('fi', False), ('singularly', False), ('luck', False), ('starting', False), ('alicia', False), ('silverstone', False), ('beautiful', False), ('creatures', False), ('green', False), ('critic', False), ('large', False), ('choosing', False), ('strikes', False), ('crush', False), ('slow', False), ('moving', False), ('horrific', False), ('adaptation', False), ('clueless', False), ('mailed', False), ('saying', False), ('theater', False), ('expecting', False), ('preview', False), ('crazymadinlove', False), ('whiny', False), ('unlikable', False), ('wasn', False), ('yelled', False), ('f', False), ('$&#', False), ('laugh', False), ('agreement', False), ('walked', False), ('babysitter', False), ('inner', False), ('compulsion', False), ('understand', False), ('rent', False), ('regret', False), ('paragraph', False), ('competition', False), ('criticizing', False), ('thin', False), ('shred', False), ('slower', False), ('glacier', False), ('writing', False), ('appeal', False), ('whatsoever', False), ('pointlessly', False), ('concluded', False), ('violent', False), ('plus', False), ('equals', False), ('spends', False), ('twenty', False), ('bubble', False), ('bath', False), ('joined', False), ('four', False), ('features', False), ('settle', False), ('friday', False), ('cocktail', False), ('automatically', False), ('nights', False), ('trods', False), ('discover', False), ('silent', False), ('object', False), ('male', False), ('fantasies', False), ('thinks', False), ('recapture', False), ('youth', False), ('boyfriend', False), ('lets', False), ('wild', False), ('spying', False), ('outside', False), ('prepubescent', False), ('keyhole', False), ('aged', False), ('counterpart', False), ('asked', False), ('200', False), ('pound', False), ('silk', False), ('teddy', False), ('fanatasies', False), ('realm', False), ('pg', False), ('imagine', False), ('cinemax', False), ('staple', False), ('absolutely', False), ('pointed', False), ('classify', False), ('mix', False), ('various', False), ('encounters', False), ('third', False), ('space', False), ('odyssey', False), ('apollo', False), ('contact', False), ('hope', False), ('melange', False), ('considering', False), ('disastrous', False), ('results', False), ('sucks', False), ('rescue', False), ('astronauts', False), ('sent', False), ('2020', False), ('unknown', False), ('aviators', False), ('visit', False), ('underwhelming', False), ('describe', False), ('uneven', False), ('promise', False), ('buzz', False), ('neutral', False), ('cherry', False), ('colored', False), ('nerdies', False), ('techie', False), ('jargon', False), ('practically', False), ('yawning', False), ('excitement', False), ('premise', False), ('joins', False), ('misadventures', False), ('crux', False), ('journey', False), ('eventually', False), ('settles', False), ('anti', False), ('climactic', False), ('endings', False), ('shrug', False), ('shoulders', False), ('frivolous', False), ('ditty', False), ('remember', False), ('computer', False), ('generated', False), ('friggin', False), ('wondering', False), ('brass', False), ('crappiness', False), ('read', False), ('cheezy', False), ('depalma', False), ('helm', False), ('blame', False), ('inclusion', False), ('jerry', False), ('connell', False), ('fine', False), ('thespians', False), ('nuff', False), ('cranking', False), ('juice', False), ('presumably', False), ('wake', False), ('wow', False), ('yawn', False), ('ears', False), ('hurt', False), ('salvageable', False), ('sinise', False), ('job', False), ('cheadle', False), ('bore', False), ('slowly', False), ('twister', False), ('effect', False), ('commercial', False), ('admire', False), ('filmmakers', False), ('devious', False), ('placement', False), ('strategies', False), ('am', False), ('disgusted', False), ('delivers', False), ('actual', False), ('masked', False), ('mumbo', False), ('jumbo', False), ('pretends', False), ('deep', False), ('sappy', False), ('presenting', False), ('graphic', False), ('gives', False), ('dreck', False), ('ninth', False), ('gate', False), ('worrying', False), ('proverbial', False), ('12', False), ('uninterrupted', False), ('crappy', False), ('law', False), ('crowd', False), ('pleasing', False), ('regular', False), ('reader', False), ('mine', False), ('heard', False), ('hart', False), ('abc', False), ('sabrina', False), ('stud', False), ('basketball', False), ('adrien', False), ('grenier', False), ('grungy', False), ('broken', False), ('activist', False), ('wants', False), ('dance', False), ('date', False), ('popularity', False), ('scheme', False), ('resurgence', False), ('terms', False), ('hardly', False), ('wait', False), ('lesser', False), ('extent', False), ('kissed', False), ('realize', False), ('scripts', False), ('accordingly', False), ('intention', False), ('smart', False), ('teens', False), ('whining', False), ('shut', False), ('honesty', False), ('normally', False), ('followed', False), ('obligatory', False), ('britney', False), ('spears', False), ('titular', False), ('song', False), ('jingle', False), ('burger', False), ('joint', False), ('rendition', False), ('preceded', False), ('appearances', False), ('collins', False), ('trek', False), ('motion', False), ('faye', False), ('tv', False), ('miniseries', False), ('v', False), ('[', False), (']', False), ('mighty', False), ('joe', False), ('blunders', False), ('gorilla', False), ('entrance', False), ('trees', False), ('leaps', False), ('gargantuan', False), ('imposing', False), ('volkswagen', False), ('feet', False), ('larger', False), ('pro', False), ('player', False), ('bellows', False), ('poachers', False), ('millions', False), ('dollars', False), ('ape', False), ('fields', False), ('cars', False), ('stares', False), ('pensively', False), ('breaks', False), ('clumsiness', False), ('hold', False), ('register', False), ('limp', False), ('entertainment', False), ('stamp', False), ('quality', False), ('pretending', False), ('remake', False), ('1949', False), ('strictly', False), ('formality', False), ('jill', False), ('charlize', False), ('theron', False), ('gorillas', False), ('witnessed', False), ('group', False), ('jungle', False), ('protect', False), ('wildlife', False), ('specifically', False), ('giant', False), ('childhood', False), ('zoologist', False), ('gregg', False), ('bill', False), ('paxton', False), ('discovers', False), ('realizes', False), ('hunter', False), ('strasser', False), ('rade', False), ('sherbedgia', False), ('effort', False), ('preserve', False), ('benevolent', False), ('pretext', False), ('examples', False), ('stupidity', False), ('fulfills', False), ('competent', False), ('nifty', False), ('digitized', False), ('dumb', False), ('satisfying', False), ('visuals', False), ('quote', False), ('phrases', False), ('word', False), ('present', False), ('talented', False), ('performers', False), ('deserve', False), ('wastes', False), ('clever', False), ('surfacing', False), ('memory', False), ('held', False), ('doubt', False), ('spawn', False), ('bloody', False), ('clad', False), ('gun', False), ('gooey', False), ('healing', False), ('holes', False), ('scatological', False), ('eating', False), ('monster', False), ('tailor', False), ('swarm', False), ('boys', False), ('truckload', False), ('forces', False), ('create', False), ('lurches', False), ('plight', False), ('al', False), ('simmons', False), ('jai', False), ('government', False), ('operative', False), ('diabolical', False), ('boss', False), ('jason', False), ('wynn', False), ('sheen', False), ('oscar', False), ('clip', False), ('north', False), ('korean', False), ('biological', False), ('plant', False), ('satan', False), ('agrees', False), ('command', False), ('devil', False), ('army', False), ('overtake', False), ('allowed', False), ('wanda', False), ('underused', False), ('theresa', False), ('randle', False), ('cyan', False), ('sydni', False), ('beaudoin', False), ('passed', False), ('married', False), ('partner', False), ('sweeney', False), ('uh', False), ('shoulder', False), ('cry', False), ('form', False), ('clown', False), ('leguizamo', False), ('disgustingly', False), ('disproportioned', False), ('minion', False), ('manipulates', False), ('superhuman', False), ('league', False), ('dealing', False), ('threat', False), ('undergoes', False), ('operation', False), ('bomb', False), ('beating', False), ('cities', False), ('detonate', False), ('causing', False), ('leak', False), ('disease', False), ('ebola', False), ('skin', False), ('phew', False), ('dismiss', False), ('fx', False), ('pics', False), ('plenty', False), ('acts', False), ('healthy', False), ('afforded', False), ('mouth', False), ('talks', False), ('enormous', False), ('flowing', False), ('cape', False), ('reliance', False), ('razzle', False), ('dazzle', False), ('acceptable', False), ('somebody', False), ('root', False), ('funky', False), ('alter', False), ('ego', False), ('underdeveloped', False), ('luke', False), ('skywalker', False), ('kleenex', False), ('starred', False), ('february', False), ('pest', False), ('overacts', False), ('extreme', False), ('opportunity', False), ('taste', False), ('punchline', False), ('farts', False), ('mist', False), ('munches', False), ('pizza', False), ('slice', False), ('covered', False), ('maggots', False), ('dons', False), ('mini', False), ('skirt', False), ('performs', False), ('cheerleader', False), ('routine', False), ('grey', False), ('demon', False), ('wong', False), ('foo', False), ('thanks', False), ('julie', False), ('newmar', False), ('wasting', False), ('summer', False), ('comic', False), ('catching', False), ('comparison', False), ('minds', False), ('compelling', False), ('religious', False), ('overtones', False), ('debut', False), ('african', False), ('superhero', False), ('anywhere', False), ('near', False), ('trout', False), ('awake', False), ('bizarre', False), ('visual', False), ('clairvoyant', False), ('madman', False), ('lures', False), ('girls', False), ('untimely', False), ('source', False), ('potential', False), ('sleeplessness', False), ('lies', False), ('brutally', False), ('squandered', False), ('tired', False), ('serial', False), ('standards', False), ('letdown', False), ('realization', False), ('100', False), ('scratcher', False), ('masterminded', False), ('neil', False), ('jordan', False), ('crying', False), ('weirdness', False), ('nutty', False), ('nonsense', False), ('pushes', False), ('envelope', False), ('cinematographer', False), ('darius', False), ('khondji', False), ('stunning', False), ('guiding', False), ('viewers', False), ('bowels', False), ('underwater', False), ('prologue', False), ('establishes', False), ('notably', False), ('grim', False), ('tone', False), ('bat', False), ('eerie', False), ('opulence', False), ('remains', False), ('dazzling', False), ('display', False), ('macabre', False), ('photographs', False), ('rustic', False), ('innocent', False), ('england', False), ('autumn', False), ('polish', False), ('knock', False), ('foolish', False), ('annette', False), ('bening', False), ('asset', False), ('shouldn', False), ('lucky', False), ('boast', False), ('increasingly', False), ('cooper', False), ('massachusetts', False), ('illustrator', False), ('terrifying', False), ('kidnaped', False), ('knell', False), ('committed', False), ('crimes', False), ('ho', False), ('hum', False), ('aidan', False), ('quinn', False), ('hummer', False), ('muster', False), ('seriously', False), ('delves', False), ('madness', False), ('compassion', False), ('authorities', False), ('claims', False), ('trades', False), ('supernatural', False), ('chills', False), ('allegedly', False), ('spooky', False), ('jolts', False), ('refuse', False), ('pile', False), ('wreck', False), ('appear', False), ('disappear', False), ('robert', False), ('downey', False), ('vivian', False), ('issues', False), ('mama', False), ('norman', False), ('bates', False), ('reaches', False), ('absurdist', False), ('zenith', False), ('climax', False), ('mumbled', False), ('revelations', False), ('twists', False), ('garbage', False), ('disposal', False), ('retching', False), ('applesauce', False), ('drawings', False), ('wall', False), ('blood', False), ('paint', False), ('cranked', False), ('andrews', False), ('sisters', False), ('cd', False), ('caused', False), ('swing', False), ('gift', False), ('telekinesis', False), ('powers', False), ('continually', False), ('endanger', False), ('ultimate', False), ('plan', False), ('australia', False), ('integral', False), ('aforementioned', False), ('flooded', False), ('city', False), ('function', False), ('_really_', False), ('sigh', False), ('cheap', False), ('thus', False), ('1998', False), ('alas', False), ('jean', False), ('claude', False), ('designer', False), ('jeans', False), ('executive', False), ('supplying', False), ('cheaper', False), ('goods', False), ('rob', False), ('schneider', False), ('rochon', False), ('sort', False), ('popped', False), ('jackie', False), ('chan', False), ('endearing', False), ('wimp', False), ('basis', False), ('actions', False), ('directed', False), ('experiment', False), ('horribly', False), ('tsui', False), ('hark', False), ('exaggeration', False), ('treated', False), ('entering', False), ('shoe', False), ('fabulous', False), ('conventions', False), ('carried', False), ('sam', False), ('raimi', False), ('inventive', False), ('grasp', False), ('outrageous', False), ('angles', False), ('caliber', False), ('inexplicable', False), ('aspect', False), ('cared', False), ('inconsistent', False), ('drives', False), ('window', False), ('slams', False), ('wheel', False), ('destroyed', False), ('seconds', False), ('speed', False), ('suspending', False), ('mark', False), ('everyman', False), ('relief', False), ('assume', False), ('sorvino', False), ('decade', False), ('inept', False), ('redeeming', False), ('factors', False), ('print', False), ('burned', False), ('erased', False), ('aggravating', False), ('unbelievably', False), ('greeted', False), ('fanfare', False), ('brauvara', False), ('talents', False), ('sole', False), ('subtlety', False), ('handled', False), ('complexly', False), ('intensely', False), ('hall', False), ('fame', False), ('assedness', False), ('deservedly', False), ('eighth', False), ('circles', False), ('advertised', False), ('kurosawa', False), ('rashomon', False), ('perspectives', False), ('steadicam', False), ('crooked', False), ('atlantic', False), ('detective', False), ('rick', False), ('santoro', False), ('boxing', False), ('cell', False), ('interupts', False), ('per', False), ('event', False), ('gambler', False), ('arena', False), ('pumped', False), ('sits', False), ('bud', False), ('dunne', False), ('dunn', False), ('watches', False), ('secretary', False), ('defense', False), ('charles', False), ('kirkland', False), ('fabiani', False), ('heavyweight', False), ('champion', False), ('lincoln', False), ('tyler', False), ('shaw', False), ('knocked', False), ('herrings', False), ('possibilities', False), ('happened', False), ('examination', False), ('total', False), ('deconstruction', False), ('asks', False), ('possibility', False), ('conspiracy', False), ('carla', False), ('gugino', False), ('flees', False), ('panic', False), ('adjacent', False), ('casino', False), ('blocked', False), ('doors', False), ('witness', False), ('dandy', False), ('mystery', False), ('herring', False), ('cliched', False), ('rely', False), ('ran', False), ('guts', False), ('credible', False), ('proposterous', False), ('offender', False), ('mysteries', False), ('deux', False), ('machina', False), ('intereference', False), ('hurricane', False), ('ball', False), ('adorned', False), ('screenwriter', False), ('koepp', False), ('respective', False), ('complexity', False), ('idolizes', False), ('hitchcock', False), ('masterpiece', False), ('blow', False), ('soundman', False), ('uncover', False), ('granted', False), ('intriguing', False), ('ups', False), ('pans', False), ('rooms', False), ('forgetting', False), ('boundaries', False), ('direction', False), ('partly', False), ('ability', False), ('flaws', False), ('carlito', False), ('dove', False), ('examined', False), ('assed', False), ('redemption', False), ('formulaic', False), ('decision', False), ('cheapened', False), ('emotional', False), ('promises', False), ('disection', False), ('pulls', False), ('rug', False), ('convinced', False), ('unearthed', False), ('choice', False), ('machinas', False), ('disasterous', False), ('autopilot', False), ('stale', False), ('forgive', False), ('fevered', False), ('criticism', False), ('fervor', False), ('crucible', False), ('infects', False), ('1692', False), ('salem', False), ('passionately', False), ('singing', False), ('dancing', False), ('boiling', False), ('cauldron', False), ('glow', False), ('moon', False), ('beckon', False), ('names', False), ('targets', False), ('spells', False), ('sheds', False), ('outdone', False), ('regain', False), ('proctor', False), ('daniel', False), ('lewis', False), ('abigail', False), ('winona', False), ('ryder', False), ('suddenly', False), ('seizes', False), ('chicken', False), ('smears', False), ('lips', False), ('fresh', False), ('adolescent', False), ('hormone', False), ('surges', False), ('account', False), ('surely', False), ('bashing', False), ('excessive', False), ('prim', False), ('puritan', False), ('sensibilities', False), ('coven', False), ('witches', False), ('errs', False), ('miller', False), ('summoned', False), ('harmless', False), ('shaky', False), ('morality', False), ('describes', False), ('tense', False), ('exchanges', False), ('veracity', False), ('accusation', False), ('reply', False), ('atmosphere', False), ('unintentional', False), ('pandora', False), ('credulity', False), ('obsession', False), ('spotlighted', False), ('cautionary', False), ('fable', False), ('obsessive', False), ('malevolent', False), ('rabbit', False), ('pot', False), ('nighttime', False), ('frenzy', False), ('unnoticed', False), ('fail', False), ('invoked', False), ('eager', False), ('questioned', False), ('confession', False), ('guilt', False), ('accompanied', False), ('announcement', False), ('converted', False), ('immaculate', False), ('witnesses', False), ('led', False), ('lustfully', False), ('alarming', False), ('synchronicity', False), ('hormonally', False), ('advantaged', False), ('zealously', False), ('gesture', False), ('accusing', False), ('fingers', False), ('innocents', False), ('constant', False), ('reminders', False), ('passion', False), ('inexorable', False), ('rid', False), ('herself', False), ('rival', False), ('elizabeth', False), ('allen', False), ('witchcraft', False), ('narrow', False), ('waisted', False), ('equipped', False), ('distractingly', False), ('teeth', False), ('deteriorate', False), ('murky', False), ('dashing', False), ('moral', False), ('hero', False), ('earnestness', False), ('longs', False), ('nicholas', False), ('hytner', False), ('guilty', False), ('encouraging', False), ('foaming', False), ('fervour', False), ('stare', False), ('mounted', False), ('pedestal', False), ('admiration', False), ('unremarkable', False), ('consistent', False), ('swings', False), ('fits', False), ('energetic', False), ('quieter', False), ('revels', False), ('newfound', False), ('fails', False), ('haughty', False), ('haughtiness', False), ('spare', False), ('scofield', False), ('overzealous', False), ('judge', False), ('danforth', False), ('incessant', False), ('posturings', False), ('recurrent', False), ('histrionics', False), ('pricks', False), ('nerves', False), ('refuge', False), ('amidst', False), ('huffing', False), ('puffing', False), ('sympathetic', False), ('featuring', False), ('conversation', False), ('undeniably', False), ('reprieve', False), ('bantering', False), ('consequences', False), ('revealed', False), ('increases', False), ('urge', False), ('pontificate', False), ('urgency', False), ('situation', False), ('wish', False), ('delicacy', False), ('fewer', False), ('diversions', False), ('imperfect', False), ('creature', False), ('distractions', False), ('clumsy', False), ('muddle', False), ('ceaselessly', False), ('banged', False), ('piousness', False), ('handed', False), ('wholly', False), ('gallows', False), ('beckoned', False), ('sweet', False), ('bewitching', False), ('tests', False), ('patience', False), ('cathartic', False), ('viewing', False), ('luc', False), ('godard', False), ('founding', False), ('influential', False), ('wave', False), ('esteemed', False), ('lending', False), ('historical', False), ('perspective', False), ('creation', False), ('praise', False), ('exasperating', False), ('abstract', False), ('merit', False), ('dissect', False), ('categories', False), ('meeting', False), ('physical', False), ('quarrels', False), ('reconciliation', False), ('universal', False), ('truths', False), ('elderly', False), ('edgar', False), ('bruno', False), ('putzulu', False), ('appointed', False), ('capture', False), ('breakup', False), ('define', False), ('central', False), ('project', False), ('undecided', False), ('thesis', False), ('value', False), ('ensues', False), ('repetitive', False), ('vignettes', False), ('easily', False), ('fret', False), ('sleep', False), ('sections', False), ('fellow', False), ('critics', False), ('nodded', False), ('missed', False), ('background', False), ('conversations', False), ('repeated', False), ('failures', False), ('lose', False), ('speeches', False), ('frame', False), ('starkly', False), ('track', False), ('mountain', False), ('ponder', False), ('poignant', False), ('angrier', False), ('numerous', False), ('opportunities', False), ('environments', False), ('country', False), ('impeccably', False), ('complements', False), ('pillage', False), ('photographic', False), ('randomly', False), ('cutting', False), ('chapter', False), ('headings', False), ('cryptic', False), ('composed', False), ('nauseating', False), ('hyper', False), ('color', False), ('blurs', False), ('feel', False), ('straight', False), ('scanners', False), ('complains', False), ('united', False), ('bastardizing', False), ('history', False), ('spielberg', False), ('particular', False), ('tend', False), ('shy', False), ('pointless', False), ('focus', False), ('purports', False), ('articulate', False), ('qualities', False), ('couplehood', False), ('storyteller', False), ('breathless', False), ('america', False), ('loves', False), ('convenience', False), ('invented', False), ('24', False), ('atm', False), ('beloved', False), ('remote', False), ('pill', False), ('poppin', False), ('squadron', False), ('retrieve', False), ('demolition', False), ('trial', False), ('comrades', False)])"
      ]
     },
     "execution_count": 94,
     "metadata": {},
     "output_type": "execute_result"
    }
   ],
   "source": [
    "features.items()"
   ]
  },
  {
   "cell_type": "code",
   "execution_count": 76,
   "metadata": {},
   "outputs": [
    {
     "name": "stdout",
     "output_type": "stream",
     "text": [
      "4000\n"
     ]
    }
   ],
   "source": [
    "print(len(features))"
   ]
  },
  {
   "cell_type": "code",
   "execution_count": 96,
   "metadata": {},
   "outputs": [
    {
     "name": "stdout",
     "output_type": "stream",
     "text": [
      "2000\n"
     ]
    }
   ],
   "source": [
    "print(len(documents))"
   ]
  },
  {
   "cell_type": "code",
   "execution_count": 97,
   "metadata": {},
   "outputs": [],
   "source": [
    "featureset=[(find_feature(rev),category) for rev, category in documents]"
   ]
  },
  {
   "cell_type": "code",
   "execution_count": 98,
   "metadata": {},
   "outputs": [
    {
     "data": {
      "text/plain": [
       "list"
      ]
     },
     "execution_count": 98,
     "metadata": {},
     "output_type": "execute_result"
    }
   ],
   "source": [
    "type(featureset)"
   ]
  },
  {
   "cell_type": "code",
   "execution_count": 99,
   "metadata": {},
   "outputs": [
    {
     "name": "stdout",
     "output_type": "stream",
     "text": [
      "2000\n"
     ]
    }
   ],
   "source": [
    "print(len(featureset))"
   ]
  },
  {
   "cell_type": "code",
   "execution_count": 112,
   "metadata": {},
   "outputs": [
    {
     "name": "stdout",
     "output_type": "stream",
     "text": [
      "4000\n"
     ]
    }
   ],
   "source": [
    "print(len(featureset[0][0]))"
   ]
  },
  {
   "cell_type": "code",
   "execution_count": 115,
   "metadata": {},
   "outputs": [],
   "source": [
    "#now lets split the dataset into train and test\n",
    "from sklearn.model_selection import train_test_split\n",
    "seed=1\n",
    "train,test=train_test_split(featureset,test_size=0.25,random_state=seed)"
   ]
  },
  {
   "cell_type": "code",
   "execution_count": 117,
   "metadata": {},
   "outputs": [
    {
     "name": "stdout",
     "output_type": "stream",
     "text": [
      "1500\n",
      "500\n"
     ]
    }
   ],
   "source": [
    "print(len(train))\n",
    "print(len(test))"
   ]
  },
  {
   "cell_type": "code",
   "execution_count": 119,
   "metadata": {},
   "outputs": [],
   "source": [
    "#now we will see how sklean and nltk can work to gether\n",
    "from nltk.classify.scikitlearn import SklearnClassifier\n",
    "from sklearn.svm import SVC"
   ]
  },
  {
   "cell_type": "code",
   "execution_count": 121,
   "metadata": {},
   "outputs": [],
   "source": [
    "# Read more about SklearnClassifier\n",
    "# Interestingly now we will pass our SVC model as an argument to the SklearnClassifier\n",
    "# The nltk.classify.scikitlearn.SklearnClassifier is a wrapper around the sklearn.svc.SVM\n",
    "# we can use other sklearn clasifiers as well such as kmean,randomforest,decison tree, xgboost etc\n",
    "\n",
    "model=SklearnClassifier(SVC(kernel='linear'))\n",
    "#Now we are ready to train the model"
   ]
  },
  {
   "cell_type": "code",
   "execution_count": 122,
   "metadata": {},
   "outputs": [
    {
     "data": {
      "text/plain": [
       "<SklearnClassifier(SVC(C=1.0, break_ties=False, cache_size=200, class_weight=None, coef0=0.0,\n",
       "    decision_function_shape='ovr', degree=3, gamma='scale', kernel='linear',\n",
       "    max_iter=-1, probability=False, random_state=None, shrinking=True,\n",
       "    tol=0.001, verbose=False))>"
      ]
     },
     "execution_count": 122,
     "metadata": {},
     "output_type": "execute_result"
    }
   ],
   "source": [
    "# pls note our train data has the reviews labelled as pos or neg\n",
    "model.train(train)"
   ]
  },
  {
   "cell_type": "code",
   "execution_count": 123,
   "metadata": {},
   "outputs": [
    {
     "name": "stdout",
     "output_type": "stream",
     "text": [
      "the accuracy of svc: 0.796\n"
     ]
    }
   ],
   "source": [
    "# Test on the test data\n",
    "accuracy=nltk.classify.accuracy(model,test)\n",
    "print('the accuracy of svc: {}'.format(accuracy))\n"
   ]
  },
  {
   "cell_type": "code",
   "execution_count": 124,
   "metadata": {},
   "outputs": [
    {
     "name": "stdout",
     "output_type": "stream",
     "text": [
      "C:\\WINDOWS\\system32\n"
     ]
    }
   ],
   "source": [
    "import os\n",
    "print(os.getcwd())"
   ]
  },
  {
   "cell_type": "code",
   "execution_count": null,
   "metadata": {},
   "outputs": [],
   "source": []
  }
 ],
 "metadata": {
  "kernelspec": {
   "display_name": "Python 3",
   "language": "python",
   "name": "python3"
  },
  "language_info": {
   "codemirror_mode": {
    "name": "ipython",
    "version": 3
   },
   "file_extension": ".py",
   "mimetype": "text/x-python",
   "name": "python",
   "nbconvert_exporter": "python",
   "pygments_lexer": "ipython3",
   "version": "3.7.6"
  }
 },
 "nbformat": 4,
 "nbformat_minor": 4
}
