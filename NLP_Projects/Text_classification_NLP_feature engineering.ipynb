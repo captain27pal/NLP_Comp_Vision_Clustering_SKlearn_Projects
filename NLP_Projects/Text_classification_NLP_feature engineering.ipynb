{
 "cells": [
  {
   "cell_type": "code",
   "execution_count": 1,
   "metadata": {},
   "outputs": [
    {
     "name": "stdout",
     "output_type": "stream",
     "text": [
      "3.5\n"
     ]
    }
   ],
   "source": [
    "#Spam filteting\n",
    "import nltk\n",
    "print(nltk.__version__)"
   ]
  },
  {
   "cell_type": "code",
   "execution_count": 60,
   "metadata": {},
   "outputs": [
    {
     "name": "stdout",
     "output_type": "stream",
     "text": [
      "numpy version: 1.19.0\n",
      "pandas version: 1.0.5\n",
      "sklearn version: 0.23.1\n",
      "sys version: 3.7.6 (default, Jan  8 2020, 20:23:39) [MSC v.1916 64 bit (AMD64)]\n"
     ]
    }
   ],
   "source": [
    "import numpy as np\n",
    "import pandas as pd\n",
    "import sys\n",
    "import sklearn\n",
    "print(\"numpy version: {}\".format(np.__version__))\n",
    "print(\"pandas version: {}\".format(pd.__version__))\n",
    "print(\"sklearn version: {}\".format(sklearn.__version__))\n",
    "print(\"sys version: {}\".format(sys.version))\n"
   ]
  },
  {
   "cell_type": "markdown",
   "metadata": {},
   "source": [
    "## 1.Load the dataset"
   ]
  },
  {
   "cell_type": "code",
   "execution_count": 61,
   "metadata": {},
   "outputs": [
    {
     "name": "stdout",
     "output_type": "stream",
     "text": [
      "<class 'pandas.core.frame.DataFrame'>\n",
      "<class 'pandas.core.frame.DataFrame'>\n",
      "RangeIndex: 5572 entries, 0 to 5571\n",
      "Data columns (total 2 columns):\n",
      " #   Column  Non-Null Count  Dtype \n",
      "---  ------  --------------  ----- \n",
      " 0   0       5572 non-null   object\n",
      " 1   1       5572 non-null   object\n",
      "dtypes: object(2)\n",
      "memory usage: 87.2+ KB\n",
      "______\n",
      "      0                                                  1\n",
      "0   ham  Go until jurong point, crazy.. Available only ...\n",
      "1   ham                      Ok lar... Joking wif u oni...\n",
      "2  spam  Free entry in 2 a wkly comp to win FA Cup fina...\n",
      "3   ham  U dun say so early hor... U c already then say...\n",
      "4   ham  Nah I don't think he goes to usf, he lives aro...\n"
     ]
    }
   ],
   "source": [
    "#dounble # highlights the markdown cell. for the above cell\n",
    "#nowe lets read the file \n",
    "df = pd.read_table('SMSSpamCollection',header= None, encoding = 'utf-8')\n",
    "# If we do not pass headee r = None, pandas will read from the second line.\n",
    "print(type(df))\n",
    "\n",
    "df.info()\n",
    "print('______')\n",
    "print(df.head())"
   ]
  },
  {
   "cell_type": "code",
   "execution_count": 62,
   "metadata": {},
   "outputs": [
    {
     "data": {
      "text/plain": [
       "3    2\n",
       "2    2\n",
       "1    2\n",
       "4    1\n",
       "Name: 0, dtype: int64"
      ]
     },
     "execution_count": 62,
     "metadata": {},
     "output_type": "execute_result"
    }
   ],
   "source": [
    "A=np.array([1,1,2,3,2,3,4,])\n",
    "df9=pd.DataFrame(A)\n",
    "df9[0].value_counts() # .value_counts() works on series and not on the dataframe"
   ]
  },
  {
   "cell_type": "code",
   "execution_count": 63,
   "metadata": {},
   "outputs": [
    {
     "data": {
      "text/plain": [
       "ham     4825\n",
       "spam     747\n",
       "Name: 0, dtype: int64"
      ]
     },
     "execution_count": 63,
     "metadata": {},
     "output_type": "execute_result"
    }
   ],
   "source": [
    "#Lets check out the count of ham and spam\n",
    "\n",
    "classes = df[0] # I tried to use class, came to know that it is a reserved key word\n",
    "\n",
    "classes.value_counts()"
   ]
  },
  {
   "cell_type": "markdown",
   "metadata": {},
   "source": [
    "# it is a skewed distribution\n",
    "### 2. Pre-processing the data"
   ]
  },
  {
   "cell_type": "code",
   "execution_count": 64,
   "metadata": {},
   "outputs": [
    {
     "name": "stdout",
     "output_type": "stream",
     "text": [
      "[0 0 1 0 0 1 0 0 1 1]\n"
     ]
    }
   ],
   "source": [
    "from sklearn.preprocessing import LabelEncoder\n",
    "encoder = LabelEncoder()\n",
    "\n",
    "Y = encoder.fit_transform(classes)\n",
    "print(Y[:10])\n",
    "# NOw ew have converted the classed intp binaries"
   ]
  },
  {
   "cell_type": "code",
   "execution_count": 65,
   "metadata": {},
   "outputs": [
    {
     "data": {
      "text/plain": [
       "0    Go until jurong point, crazy.. Available only ...\n",
       "1                        Ok lar... Joking wif u oni...\n",
       "2    Free entry in 2 a wkly comp to win FA Cup fina...\n",
       "3    U dun say so early hor... U c already then say...\n",
       "4    Nah I don't think he goes to usf, he lives aro...\n",
       "5    FreeMsg Hey there darling it's been 3 week's n...\n",
       "6    Even my brother is not like to speak with me. ...\n",
       "7    As per your request 'Melle Melle (Oru Minnamin...\n",
       "8    WINNER!! As a valued network customer you have...\n",
       "9    Had your mobile 11 months or more? U R entitle...\n",
       "Name: 1, dtype: object"
      ]
     },
     "execution_count": 65,
     "metadata": {},
     "output_type": "execute_result"
    }
   ],
   "source": [
    "text_msg = df[1]\n",
    "text_msg[0:10]"
   ]
  },
  {
   "cell_type": "markdown",
   "metadata": {},
   "source": [
    "## Some transformation of the data such as \n",
    "# i) we want to replace any email as 'email'\n",
    "# ii) any url with 'url' \n",
    "# iii) phone numbers\n",
    "# iv ) currency symbols"
   ]
  },
  {
   "cell_type": "code",
   "execution_count": 66,
   "metadata": {},
   "outputs": [
    {
     "name": "stdout",
     "output_type": "stream",
     "text": [
      "WINNER!! As a valued network customer you have been selected to receivea moneysymbnumbr prize reward! To claim call numbr. Claim code KLnumbr. Valid numbr hours only.\n"
     ]
    }
   ],
   "source": [
    "\n",
    "\n",
    "# use regular expressions to replace email addresses, URLs, phone numbers, other numbers\n",
    "\n",
    "# Replace email addresses with 'email'\n",
    "processed = text_msg.str.replace(r'^.+@[^\\.].*\\.[a-z]{2,}$',\n",
    "                                 'emailaddress')\n",
    "\n",
    "# Replace URLs with 'webaddress'\n",
    "processed = processed.str.replace(r'^http\\://[a-zA-Z0-9\\-\\.]+\\.[a-zA-Z]{2,3}(/\\S*)?$',\n",
    "                                  'webaddress')\n",
    "\n",
    "# Replace money symbols with 'moneysymb' (£ can by typed with ALT key + 156)\n",
    "processed = processed.str.replace(r'£|\\$', 'moneysymb')\n",
    "    \n",
    "# Replace 10 digit phone numbers (formats include paranthesis, spaces, no spaces, dashes) with 'phonenumber'\n",
    "processed = processed.str.replace(r'^\\(?[\\d]{3}\\)?[\\s-]?[\\d]{3}[\\s-]?[\\d]{4}$',\n",
    "                                  'phonenumbr')\n",
    "    \n",
    "# Replace numbers with 'numbr'\n",
    "processed = processed.str.replace(r'\\d+(\\.\\d+)?', 'numbr')\n",
    "\n",
    "print(processed[8])\n"
   ]
  },
  {
   "cell_type": "code",
   "execution_count": 67,
   "metadata": {},
   "outputs": [],
   "source": [
    "\n",
    "\n",
    "# Remove punctuation\n",
    "processed = processed.str.replace(r'[^\\w\\d\\s]', ' ')\n",
    "\n",
    "# Replace whitespace between terms with a single space\n",
    "processed = processed.str.replace(r'\\s+', ' ')\n",
    "\n",
    "# Remove leading and trailing whitespace\n",
    "processed = processed.str.replace(r'^\\s+|\\s+?$', '')\n",
    "\n"
   ]
  },
  {
   "cell_type": "code",
   "execution_count": 68,
   "metadata": {},
   "outputs": [
    {
     "data": {
      "text/plain": [
       "'Free entry in numbr a wkly comp to win FA Cup final tkts numbrst May numbr Text FA to numbr to receive entry question std txt rate T C s apply numbrovernumbr s'"
      ]
     },
     "execution_count": 68,
     "metadata": {},
     "output_type": "execute_result"
    }
   ],
   "source": [
    "processed[2]"
   ]
  },
  {
   "cell_type": "markdown",
   "metadata": {},
   "source": [
    "## Change all the corpus to lower case"
   ]
  },
  {
   "cell_type": "code",
   "execution_count": 69,
   "metadata": {},
   "outputs": [
    {
     "name": "stdout",
     "output_type": "stream",
     "text": [
      "0       go until jurong point crazy available only in ...\n",
      "1                                 ok lar joking wif u oni\n",
      "2       free entry in numbr a wkly comp to win fa cup ...\n",
      "3             u dun say so early hor u c already then say\n",
      "4       nah i don t think he goes to usf he lives arou...\n",
      "                              ...                        \n",
      "5567    this is the numbrnd time we have tried numbr c...\n",
      "5568                  will ü b going to esplanade fr home\n",
      "5569    pity was in mood for that so any other suggest...\n",
      "5570    the guy did some bitching but i acted like i d...\n",
      "5571                            rofl its true to its name\n",
      "Name: 1, Length: 5572, dtype: object\n"
     ]
    }
   ],
   "source": [
    "processed = processed.str.lower()\n",
    "print(processed)"
   ]
  },
  {
   "cell_type": "code",
   "execution_count": 70,
   "metadata": {},
   "outputs": [
    {
     "name": "stdout",
     "output_type": "stream",
     "text": [
      "{'between', 'ours', \"wouldn't\", 'here', \"you're\", 'won', 'when', 'myself', 'through', 'were', 'theirs', 'doing', \"mightn't\", \"needn't\", 'this', 'very', 'by', 'then', 'themselves', 'whom', 'you', 'himself', 'own', 'or', 'i', 'can', 'nor', 'should', 'out', \"wasn't\", 'weren', 'mustn', 'his', \"hadn't\", \"didn't\", \"hasn't\", 'don', 'have', 'he', 'hadn', 'our', 'her', 'those', 'wouldn', 'such', 'my', 'was', 'before', 'only', 'm', 'they', 'is', \"aren't\", \"that'll\", \"don't\", 'a', 'with', \"you'll\", 'again', 'why', 'each', 'd', \"you've\", \"shouldn't\", \"should've\", 'will', 'if', \"shan't\", 'few', 'its', 'some', 'most', 'over', 'other', 'which', 'had', 'but', 'further', 'does', 'in', \"she's\", 'while', 'there', 've', 'she', 'an', 'ma', 'both', \"it's\", 'any', 'above', 'and', 'during', 'it', 'off', 'all', 'did', 's', 'o', 'these', 'more', 'who', 'hasn', 'yourselves', 'their', 'on', 'them', 'him', 'yours', 'hers', 'shan', 'ain', 'once', 'shouldn', 'how', \"doesn't\", 'until', \"isn't\", 'having', 'about', 'just', 'into', 'so', 'am', 'we', 'from', 't', 'doesn', 'herself', 'wasn', 'that', 'after', 'aren', 'of', 'not', 'below', 'because', 'than', 'the', 'didn', \"couldn't\", \"haven't\", 'isn', \"won't\", 'are', 'same', \"you'd\", 'been', 'haven', 'as', 'needn', 'for', 'what', 'where', 'mightn', 'up', 'to', 'your', 'against', 're', 'now', 'itself', 'at', 'ourselves', 'being', 'under', 'yourself', 'no', 'me', 'y', 'do', \"mustn't\", \"weren't\", 'couldn', 'too', 'down', 'll', 'has', 'be'} <class 'set'>\n"
     ]
    }
   ],
   "source": [
    "# Remove the stopwords\n",
    "from nltk.corpus import stopwords\n",
    "# print(stopwords)\n",
    "stopwords = set(stopwords.words('english'))\n",
    "\n",
    "print(stopwords, end= ' ')\n",
    "print(type(stopwords))"
   ]
  },
  {
   "cell_type": "code",
   "execution_count": 71,
   "metadata": {},
   "outputs": [],
   "source": [
    "from nltk.tokenize import sent_tokenize,word_tokenize"
   ]
  },
  {
   "cell_type": "code",
   "execution_count": 72,
   "metadata": {},
   "outputs": [],
   "source": [
    "def filter(sent):\n",
    "    filtered = dict()\n",
    "    for i in processed:\n",
    "        words = word_tokenize(i)\n",
    "\n",
    "        for word in words:\n",
    "            rmv=[]\n",
    "            if word not in stopwords:\n",
    "                rmv.append(word)\n",
    "                filtered[i]= rmv\n",
    "                rmv=[]\n",
    "    return filtered\n",
    "    "
   ]
  },
  {
   "cell_type": "code",
   "execution_count": 73,
   "metadata": {},
   "outputs": [],
   "source": [
    "# filter(processed[1])"
   ]
  },
  {
   "cell_type": "code",
   "execution_count": 74,
   "metadata": {},
   "outputs": [],
   "source": [
    "processed_rm_stopwords = list(map(lambda x: ' '.join(term for term in x.split() if term not in stopwords),processed))\n",
    "processed_rm_s= processed.apply(lambda x: ' '.join(term for term in x.split() if term not in stopwords))"
   ]
  },
  {
   "cell_type": "markdown",
   "metadata": {},
   "source": [
    "## The above and the below cell demonstrates that we can apply the map function to remove the stopwords in two ways. or by using map function in two ways"
   ]
  },
  {
   "cell_type": "code",
   "execution_count": 75,
   "metadata": {},
   "outputs": [
    {
     "name": "stdout",
     "output_type": "stream",
     "text": [
      "['go jurong point crazy available bugis n great world la e buffet cine got amore wat', 'ok lar joking wif u oni', 'free entry numbr wkly comp win fa cup final tkts numbrst may numbr text fa numbr receive entry question std txt rate c apply numbrovernumbr', 'u dun say early hor u c already say', 'nah think goes usf lives around though']\n",
      "0    go jurong point crazy available bugis n great ...\n",
      "1                              ok lar joking wif u oni\n",
      "2    free entry numbr wkly comp win fa cup final tk...\n",
      "3                  u dun say early hor u c already say\n",
      "4               nah think goes usf lives around though\n",
      "Name: 1, dtype: object\n",
      "processed_rm_s: <class 'pandas.core.series.Series'>\n",
      "processed_rm_stopwords<class 'list'>\n",
      "<class 'pandas.core.frame.DataFrame'>\n",
      "                                                   0\n",
      "0  go jurong point crazy available bugis n great ...\n",
      "1                            ok lar joking wif u oni\n",
      "2  free entry numbr wkly comp win fa cup final tk...\n",
      "3                u dun say early hor u c already say\n",
      "4             nah think goes usf lives around though\n"
     ]
    }
   ],
   "source": [
    "print(processed_rm_stopwords[0:5])\n",
    "print(processed_rm_s[0:5])\n",
    "print(f\"processed_rm_s: {type(processed_rm_s)}\")\n",
    "print(f\"processed_rm_stopwords{type(processed_rm_stopwords)}\")\n",
    "df_new=pd.DataFrame(processed_rm_stopwords)\n",
    "print(type(df_new))\n",
    "print(df_new[0:5])\n"
   ]
  },
  {
   "cell_type": "markdown",
   "metadata": {},
   "source": [
    "# After removing the stopwords lets do stemming using a porter stemmer"
   ]
  },
  {
   "cell_type": "code",
   "execution_count": 76,
   "metadata": {},
   "outputs": [
    {
     "name": "stdout",
     "output_type": "stream",
     "text": [
      "['go jurong point crazi avail bugi n great world la e buffet cine got amor wat', 'ok lar joke wif u oni', 'free entri numbr wkli comp win fa cup final tkt numbrst may numbr text fa numbr receiv entri question std txt rate c appli numbrovernumbr', 'u dun say earli hor u c alreadi say', 'nah think goe usf live around though']\n",
      "                                                      0\n",
      "0     go jurong point crazi avail bugi n great world...\n",
      "1                                 ok lar joke wif u oni\n",
      "2     free entri numbr wkli comp win fa cup final tk...\n",
      "3                   u dun say earli hor u c alreadi say\n",
      "4                  nah think goe usf live around though\n",
      "...                                                 ...\n",
      "5567  numbrnd time tri numbr contact u u moneysymbnu...\n",
      "5568                            ü b go esplanad fr home\n",
      "5569                                  piti mood suggest\n",
      "5570  guy bitch act like interest buy someth els nex...\n",
      "5571                                     rofl true name\n",
      "\n",
      "[5572 rows x 1 columns]\n"
     ]
    }
   ],
   "source": [
    "ps = nltk.PorterStemmer()\n",
    "stemmed = list(map(lambda x: \" \".join(ps.stem(term) for term in x.split()), processed_rm_stopwords))\n",
    "print(stemmed[0:5])\n",
    "df_new_stemmed = pd.DataFrame(stemmed)\n",
    "print(df_new_stemmed)"
   ]
  },
  {
   "cell_type": "markdown",
   "metadata": {},
   "source": [
    "# Now we can move on with generating features by tokenizing each sentence or each message"
   ]
  },
  {
   "cell_type": "code",
   "execution_count": 77,
   "metadata": {},
   "outputs": [],
   "source": [
    "# Creating a bag of words\n",
    "all_words =[] # this will have all the words in our dataframe (processed)\n",
    "\n",
    "for item in stemmed:\n",
    "    \n",
    "    words  = word_tokenize(item)\n",
    "    for word in words:\n",
    "        all_words.append(word)\n",
    "    \n",
    "all_words = nltk.FreqDist(all_words) # unique words\n"
   ]
  },
  {
   "cell_type": "code",
   "execution_count": 78,
   "metadata": {},
   "outputs": [
    {
     "data": {
      "text/plain": [
       "6579"
      ]
     },
     "execution_count": 78,
     "metadata": {},
     "output_type": "execute_result"
    }
   ],
   "source": [
    "len(all_words)"
   ]
  },
  {
   "cell_type": "code",
   "execution_count": 79,
   "metadata": {},
   "outputs": [
    {
     "name": "stdout",
     "output_type": "stream",
     "text": [
      "most common words [('numbr', 2648), ('u', 1207), ('call', 674), ('go', 456), ('get', 451), ('ur', 391), ('gt', 318), ('lt', 316), ('come', 304), ('moneysymbnumbr', 303)]\n"
     ]
    }
   ],
   "source": [
    "# Lets find out some common words\n",
    "print(\"most common words {}\".format(all_words.most_common(10)))"
   ]
  },
  {
   "cell_type": "code",
   "execution_count": 80,
   "metadata": {},
   "outputs": [
    {
     "name": "stdout",
     "output_type": "stream",
     "text": [
      "['numbr', 'u', 'call', 'go', 'get', 'ur', 'gt', 'lt', 'come', 'moneysymbnumbr', 'ok', 'free', 'day', 'know', 'love', 'like', 'got', 'time', 'good', 'want', 'text', 'send', 'txt', 'need', 'one', 'today', 'take', 'ü', 'see', 'stop', 'home', 'think', 'repli', 'r', 'lor', 'sorri', 'still', 'tell', 'n', 'numbrp', 'back', 'mobil', 'da', 'dont', 'make', 'k', 'week', 'pleas', 'phone', 'say', 'hi', 'work', 'new', 'pl', 'later', 'hope', 'miss', 'ask', 'co', 'meet', 'msg', 'messag', 'night', 'dear', 'c', 'wait', 'happi', 'well', 'tri', 'give', 'great', 'much', 'thing', 'claim', 'oh', 'min', 'wat', 'hey', 'number', 'na', 'friend', 'thank', 'ye', 'way', 'www', 'let', 'e', 'prize', 'feel', 'even', 'right', 'tomorrow', 'wan', 'alreadi', 'pick', 'cash', 'said', 'care', 'b', 'amp', 'yeah', 'im', 'leav', 'realli', 'tone', 'babe', 'win', 'life', 'morn', 'find', 'last', 'sleep', 'servic', 'keep', 'sure', 'use', 'anyth', 'uk', 'buy', 'would', 'year', 'start', 'contact', 'lol', 'also', 'urgent', 'nokia', 'wish', 'look', 'everi', 'smile', 'sent', 'watch', 'someth', 'show', 'com', 'end', 'finish', 'us', 'award', 'gud', 'place', 'cant', 'first', 'special', 'someon', 'person', 'guy', 'custom', 'tonight', 'next', 'nice', 'went', 'around', 'word', 'soon', 'talk', 'help', 'late', 'chat', 'could', 'money', 'collect', 'gon', 'mani', 'per', 'alway', 'plan', 'ya', 'live', 'x', 'sm', 'check', 'lot', 'minut', 'dun', 'name', 'v', 'shop', 'told', 'hello', 'mean', 'may', 'fine', 'girl', 'heart', 'hour', 'reach', 'peopl', 'guarante', 'haha', 'done', 'offer', 'yet', 'happen', 'thk', 'month', 'thought', 'god', 'best', 'play', 'class', 'holiday', 'line', 'fuck', 'receiv', 'stuff', 'lunch', 'car', 'man', 'bit', 'eat', 'mayb', 'never', 'job', 'draw', 'hous', 'ill', 'enjoy', 'worri', 'cs', 'problem', 'yup', 'that', 'cool', 'better', 'account', 'readi', 'mind', 'rate', 'date', 'wk', 'long', 'drive', 'guess', 'dat', 'numbrst', 'chanc', 'cost', 'pay', 'rington', 'weekend', 'boy', 'world', 'latest', 'wonder', 'numbrppm', 'luv', 'game', 'quit', 'room', 'half', 'real', 'yo', 'sir', 'book', 'bring', 'lar', 'camera', 'sweet', 'box', 'noth', 'voucher', 'pic', 'charg', 'anoth', 'join', 'bt', 'liao', 'big', 'shit', 'question', 'select', 'dinner', 'ah', 'po', 'birthday', 'landlin', 'stay', 'kiss', 'put', 'xxx', 'speak', 'rememb', 'ju', 'g', 'video', 'might', 'ever', 'appli', 'wont', 'numbrth', 'anyway', 'actual', 'point', 'final', 'earli', 'network', 'run', 'di', 'hear', 'pa', 'hurt', 'chang', 'aight', 'dream', 'tv', 'babi', 'two', 'orang', 'probabl', 'fun', 'left', 'numbrpm', 'part', 'bed', 'forgot', 'answer', 'thanx', 'shall', 'sat', 'offic', 'den', 'bad', 'princess', 'code', 'pain', 'easi', 'walk', 'wake', 'made', 'dunno', 'numbrnd', 'frnd', 'mail', 'littl', 'leh', 'sound', 'face', 'everyth', 'didnt', 'wife', 'dad', 'enough', 'bu', 'afternoon', 'movi', 'school', 'true', 'detail', 'bore', 'town', 'mate', 'pound', 'numbrhr', 'without', 'tmr', 'lose', 'read', 'post', 'gift', 'await', 'wif', 'though', 'credit', 'decid', 'sinc', 'came', 'okay', 'test', 'must', 'sexi', 'xma', 'import', 'poli', 'entri', 'goe', 'set', 'colour', 'lesson', 'mob', 'close', 'abt', 'price', 'til', 'smoke', 'abl', 'hav', 'wot', 'drink', 'updat', 'wen', 'juz', 'enter', 'bath', 'decim', 'music', 'plz', 'de', 'away', 'plu', 'valid', 'alright', 'till', 'saw', 'yesterday', 'doubl', 'hair', 'havent', 'els', 'busi', 'top', 'hand', 'order', 'weekli', 'dude', 'beauti', 'drop', 'net', 'invit', 'trip', 'food', 'coz', 'id', 'oso', 'head', 'friendship', 'attempt', 'onlin', 'lei', 'search', 'nation', 'ard', 'deliveri', 'address', 'inform', 'player', 'yr', 'open', 'nite', 'hold', 'ring', 'hot', 'haf', 'either', 'sch', 'famili', 'goin', 'brother', 'http', 'mom', 'second', 'bonu', 'caus', 'nt', 'complet', 'believ', 'si', 'touch', 'stori', 'wid', 'full', 'tot', 'sae', 'togeth', 'sad', 'forget', 'old', 'match', 'studi', 'noe', 'club', 'oki', 'row', 'chikku', 'reason', 'huh', 'eve', 'land', 'listen', 'mum', 'train', 'email', 'murder', 'treat', 'news', 'aft', 'fri', 'tomo', 'congrat', 'took', 'ta', 'privat', 'expir', 'dog', 'age', 'everyon', 'parent', 'content', 'grnumbr', 'awesom', 'break', 'die', 'wil', 'park', 'unsubscrib', 'pm', 'simpl', 'pub', 'rite', 'anyon', 'avail', 'caller', 'valu', 'tho', 'move', 'xx', 'download', 'prob', 'statement', 'fanci', 'tc', 'compani', 'reveal', 'angri', 'choos', 'sort', 'card', 'sister', 'valentin', 'current', 'gd', 'opt', 'bnumbr', 'mine', 'neva', 'laugh', 'sell', 'auction', 'joke', 'numbram', 'seem', 'pass', 'lucki', 'ticket', 'type', 'what', 'bank', 'carlo', 'worth', 'found', 'colleg', 'w', 'forward', 'visit', 'whatev', 'knw', 'gal', 'understand', 'alon', 'winner', 'pobox', 'ha', 'smth', 'saturday', 'usual', 'song', 'save', 'oper', 'gone', 'hit', 'friday', 'uncl', 'identifi', 'ninumbr', 'ltd', 'hard', 'log', 'boytoy', 'bill', 'exam', 'secret', 'congratul', 'anytim', 'boxnumbr', 'far', 'fone', 'return', 'mobileupdnumbr', 'bout', 'welcom', 'kind', 'outsid', 'fast', 'sun', 'sit', 'parti', 'surpris', 'how', 'crazi', 'info', 'confirm', 'camcord', 'cut', 'follow', 'rain', 'mu', 'quiz', 'wit', 'mrng', 'darlin', 'rs', 'goodmorn', 'oredi', 'case', 'tel', 'mnumbr', 'light', 'interest', 'suitenumbr', 'numbrland', 'project', 'th', 'differ', 'remov', 'cum', 'nope', 'pretti', 'sea', 'clean', 'drug', 'poboxnumbr', 'wrong', 'nyt', 'chennai', 'tht', 'wkli', 'freemsg', 'numbrday', 'sunday', 'hungri', 'whole', 'correct', 'comput', 'hmm', 'tire', 'spend', 'f', 'cours', 'ga', 'meant', 'fr', 'fix', 'cd', 'unlimit', 'blue', 'numbrmth', 'jay', 'rock', 'ad', 'ten', 'suppos', 'scream', 'term', 'frm', 'savamob', 'sub', 'kid', 'snow', 'least', 'earlier', 'support', 'press', 'reward', 'promis', 'turn', 'catch', 'almost', 'etc', 'hee', 'load', 'shower', 'mah', 'felt', 'pray', 'wine', 'joy', 'hmmm', 'mr', 'balanc', 'march', 'side', 'dnt', 'singl', 'stupid', 'bslvyl', 'normal', 'lost', 'christma', 'figur', 'ago', 'moment', 'st', 'motorola', 'coupl', 'ass', 'india', 'fight', 'within', 'un', 'redeem', 'marri', 'yar', 'area', 'paper', 'sex', 'eye', 'store', 'knew', 'gn', 'film', 'luck', 'john', 'fren', 'father', 'comp', 'eh', 'cheer', 'crave', 'hospit', 'wow', 'ac', 'red', 'complimentari', 'stand', 'askd', 'direct', 'activ', 'sometim', 'safe', 'deal', 'connect', 'semest', 'bcoz', 'teach', 'laptop', 'disturb', 'swing', 'ge', 'numbru', 'via', 'met', 'callnumbroptout', 'seen', 'slow', 'rental', 'doin', 'rent', 'ipod', 'ladi', 'remind', 'gym', 'darren', 'an', 'ugh', 'extra', 'photo', 'heard', 'fill', 'grin', 'difficult', 'hr', 'std', 'usf', 'request', 'copi', 'wap', 'link', 'eg', 'comin', 'abiola', 'rpli', 'includ', 'loan', 'page', 'txting', 'lovabl', 'muz', 'orchard', 'kate', 'regist', 'road', 'expect', 'lover', 'wana', 'somebodi', 'rest', 'pete', 'small', 'weed', 'ex', 'hg', 'wnumbrjnumbrhl', 'discount', 'share', 'yep', 'monday', 'silent', 'member', 'blood', 'warm', 'door', 'noon', 'idea', 'possibl', 'fall', 'whenev', 'asap', 'truth', 'convey', 'p', 'cancel', 'nobodi', 'fantasi', 'fact', 'slowli', 'polic', 'nah', 'callertun', 'bless', 'england', 'sick', 'oop', 'numbrw', 'situat', 'forev', 'short', 'recent', 'il', 'repres', 'gave', 'men', 'apart', 'quot', 'del', 'soni', 'wast', 'trust', 'sign', 'street', 'kick', 'admir', 'deep', 'hmv', 'tonit', 'somewher', 'merri', 'record', 'immedi', 'access', 'custcar', 'rakhesh', 'woke', 'mistak', 'mm', 'voic', 'ldn', 'style', 'water', 'near', 'opinion', 'less', 'children', 'across', 'agenumbr', 'cheap', 'em', 'indian', 'ts', 'ho', 'king', 'gap', 'fantast', 'glad', 'summer', 'getz', 'bag', 'gettin', 'wed', 'poor', 'otherwis', 'ntt', 'sale', 'regard', 'doctor', 'energi', 'numbrnit', 'write', 'cover', 'numbri', 'hw', 'excus', 'cook', 'med', 'empti', 'cup', 'serious', 'mark', 'ice', 'password', 'coffe', 'boss', 'flight', 'app', 'sunshin', 'lazi', 'lect', 'becom', 'doesnt', 'lift', 'especi', 'dead', 'mrt', 'ive', 'appreci', 'flirt', 'goodnight', 'ldew', 'definit', 'unless', 'teas', 'rose', 'sport', 'accept', 'power', 'cake', 'round', 'urself', 'basic', 'bluetooth', 'refer', 'al', 'none', 'kinda', 'result', 'numbrt', 'depend', 'meh', 'self', 'hotel', 'hurri', 'xy', 'add', 'subscrib', 'bid', 'comuk', 'chariti', 'tampa', 'user', 'mid', 'greet', 'gay', 'iam', 'mo', 'wear', 'hiya', 'digit', 'deliv', 'mon', 'mode', 'other', 'bb', 'moral', 'total', 'natur', 'arriv', 'excel', 'list', 'thinkin', 'flag', 'colleagu', 'sofa', 'tear', 'entitl', 'anymor', 'team', 'pizza', 'egg', 'clear', 'quick', 'learn', 'roommat', 'letter', 'nigeria', 'cinema', 'bxnumbr', 'ipnumbr', 'spent', 'pleasur', 'troubl', 'ave', 'umma', 'weight', 'inc', 'bother', 'bak', 'dvd', 'sp', 'swt', 'shirt', 'goto', 'moneysymb', 'experi', 'freephon', 'howev', 'settl', 'success', 'slept', 'file', 'tnc', 'numbrmin', 'lemm', 'celebr', 'sens', 'imagin', 'rcvd', 'wiv', 'practic', 'fault', 'pictur', 'facebook', 'fullonsm', 'logo', 'yahoo', 'aha', 'funni', 'respond', 'din', 'thru', 'reali', 'fat', 'finger', 'workin', 'daddi', 'present', 'ar', 'futur', 'alex', 'offici', 'longer', 'pc', 'tuesday', 'bedroom', 'student', 'librari', 'space', 'slave', 'omg', 'nonumbr', 'moon', 'travel', 'medic', 'numbrg', 'miracl', 'j', 'process', 'black', 'cute', 'honey', 'vl', 'south', 'respons', 'insid', 'wednesday', 'manag', 'pix', 'mood', 'issu', 'bugi', 'la', 'cine', 'darl', 'cri', 'click', 'naughti', 'suck', 'tea', 'pack', 'ahead', 'kept', 'weak', 'realiz', 'kill', 'wun', 'respect', 'locat', 'cuz', 'lie', 'eatin', 'countri', 'arrang', 'excit', 'internet', 'menu', 'hop', 'discuss', 'hell', 'toward', 'buck', 'past', 'system', 'biz', 'numbrgbp', 'batteri', 'kalli', 'cal', 'ship', 'horni', 'nake', 'qualiti', 'sim', 'loyalti', 'high', 'key', 'advanc', 'kb', 'yoga', 'insur', 'maxim', 'cold', 'sigh', 'relax', 'irrit', 'lac', 'dollar', 'tough', 'transfer', 'notic', 'tenerif', 'sec', 'condit', 'somenumbr', 'charact', 'tat', 'mpnumbr', 'unsub', 'lnumbrr', 'malaria', 'lead', 'rather', 'omw', 'gee', 'bare', 'marriag', 'izzit', 'spree', 'announc', 'imma', 'shuhui', 'weather', 'paid', 'pop', 'login', 'fetch', 'awak', 'torch', 'bold', 'dey', 'holla', 'yest', 'damn', 'sing', 'model', 'mother', 'matter', 'hai', 'bird', 'midnight', 'januari', 'piss', 'sknumbrxh', 'score', 'heavi', 'nxt', 'flower', 'numbryr', 'receipt', 'onumbr', 'onto', 'station', 'tuition', 'strong', 'doc', 'cell', 'alrit', 'shd', 'croydon', 'crnumbr', 'numbrwb', 'lmao', 'vomit', 'except', 'prefer', 'instead', 'buzz', 'titl', 'sight', 'remain', 'mth', 'thnk', 'costa', 'sol', 'role', 'vikki', 'wors', 'sky', 'maid', 'behind', 'feb', 'ignor', 'hug', 'tm', 'mell', 'hl', 'stock', 'subscript', 'inch', 'tyler', 'fyi', 'review', 'coin', 'kano', 'simpli', 'verifi', 'hol', 'consid', 'directli', 'standard', 'q', 'local', 'begin', 'qatar', 'delet', 'spoke', 'bye', 'straight', 'partner', 'career', 'star', 'argument', 'websit', 'childish', 'handset', 'dint', 'sunni', 'anybodi', 'throw', 'hang', 'track', 'report', 'surf', 'yiju', 'num', 'ish', 'cc', 'air', 'cuddl', 'will', 'bodi', 'guid', 'pilat', 'numbrish', 'competit', 'aathi', 'wnt', 'vri', 'vari', 'askin', 'group', 'ttyl', 'isnt', 'decis', 'moan', 'fb', 'matur', 'jst', 'numbrgb', 'pin', 'adult', 'campu', 'confid', 'aiyo', 'daili', 'suit', 'vodafon', 'holder', 'earth', 'evng', 'envelop', 'prepar', 'numbrd', 'law', 'wer', 'aftr', 'exactli', 'yay', 'txtauction', 'wnumbrwq', 'normnumbrp', 'boo', 'hunni', 'numbra', 'zed', 'green', 'skype', 'five', 'version', 'sup', 'attend', 'ate', 'wherev', 'expens', 'brand', 'contract', 'kerala', 'asleep', 'loverboy', 'fool', 'seriou', 'april', 'bitch', 'sipix', 'aiyah', 'urawinn', 'howz', 'choic', 'arm', 'tour', 'super', 'girlfrnd', 'cafe', 'vote', 'bought', 'freak', 'london', 'lookin', 'hook', 'arcad', 'creat', 'beer', 'hate', 'toclaim', 'stockport', 'costmoneysymbnumbr', 'maxnumbrmin', 'relat', 'theatr', 'ahmad', 'armand', 'nimya', 'sed', 'pussi', 'solv', 'budget', 'random', 'er', 'plenti', 'amaz', 'cancer', 'bro', 'tariff', 'tick', 'tb', 'spell', 'wet', 'goal', 'convinc', 'burn', 'ride', 'embarass', 'plane', 'urgnt', 'appoint', 'boston', 'truli', 'scare', 'knumbr', 'tt', 'cabin', 'voda', 'predict', 'laid', 'ecnumbra', 'interview', 'avoid', 'satisfi', 'suggest', 'transact', 'can', 'not', 'sen', 'atm', 'romant', 'numbroptout', 'cross', 'sam', 'print', 'argu', 'bcum', 'affect', 'h', 'ray', 'bf', 'meal', 'themob', 'enemi', 'pongal', 'decemb', 'cud', 'ppl', 'allah', 'breath', 'sonyericsson', 'geeee', 'bar', 'lick', 'intro', 'yan', 'jiu', 'l', 'poboxnumbrwnumbrwq', 'hostel', 'express', 'hv', 'amt', 'concentr', 'acc', 'woman', 'flat', 'villag', 'spl', 'stylish', 'prabha', 'passion', 'english', 'btw', 'numbrmrw', 'jazz', 'yogasana', 'numbrxnumbrp', 'exhaust', 'somethin', 'euronumbr', 'aunti', 'thursday', 'cartoon', 'gentl', 'hella', 'belli', 'peac', 'lone', 'build', 'purchas', 'harri', 'alert', 'stress', 'assum', 'mad', 'twice', 'opportun', 'clock', 'act', 'citi', 'meetin', 'ti', 'polyphon', 'piec', 'xxxx', 'sura', 'sn', 'numbrk', 'unsold', 'fail', 'due', 'derek', 'white', 'cheaper', 'ym', 'diet', 'wnumbr', 'bowl', 'site', 'salari', 'videophon', 'videochat', 'java', 'dload', 'nolin', 'rentl', 'yun'] "
     ]
    }
   ],
   "source": [
    "# Our feature will have words from these most common words. Lets use 1500 most common words as features. Now for every word in every msg\n",
    "# we will have to create a vector of dimension 1500 (rows) with 1 in the word present and o elsewhere.\n",
    "all_words_common = all_words.most_common(1500)\n",
    "# all_words.keys()\n",
    "features = all_words_common[0:1500]\n",
    "features_list=[ key for  key, val in features]\n",
    "print(features_list, end = ' ')"
   ]
  },
  {
   "cell_type": "markdown",
   "metadata": {},
   "source": [
    "## NOW ! since we have defined the features, the next thing is to find whether the feature is there or not in our processed messages. We need to define a function to find whether each word in the message is thers in the feature list of not"
   ]
  },
  {
   "cell_type": "code",
   "execution_count": 118,
   "metadata": {},
   "outputs": [
    {
     "name": "stdout",
     "output_type": "stream",
     "text": [
      "go\n",
      "got\n",
      "n\n",
      "great\n",
      "wat\n",
      "e\n",
      "world\n",
      "point\n",
      "avail\n",
      "crazi\n",
      "bugi\n",
      "la\n",
      "cine\n"
     ]
    }
   ],
   "source": [
    "# lets define feature finding function\n",
    "def find_feature(message):\n",
    "    \n",
    "    words = word_tokenize(message)\n",
    "    \n",
    "    feature= dict()\n",
    "    \n",
    "    for word in features_list:\n",
    "        \n",
    "        feature[word]=word in words\n",
    "    return feature\n",
    "        \n",
    "features = find_feature(stemmed[0])\n",
    "# print(features)\n",
    "# print(len(features))\n",
    "\n",
    "\n",
    "for key, val in features.items():\n",
    "    if val == True:\n",
    "        print (key)\n",
    "    "
   ]
  },
  {
   "cell_type": "code",
   "execution_count": 119,
   "metadata": {},
   "outputs": [
    {
     "name": "stdout",
     "output_type": "stream",
     "text": [
      "go jurong point crazi avail bugi n great world la e buffet cine got amor wat\n"
     ]
    }
   ],
   "source": [
    "print(stemmed[0])"
   ]
  },
  {
   "cell_type": "code",
   "execution_count": 120,
   "metadata": {},
   "outputs": [],
   "source": [
    "messages = list(zip(stemmed,Y))\n",
    "# list(messages)"
   ]
  },
  {
   "cell_type": "code",
   "execution_count": 121,
   "metadata": {},
   "outputs": [
    {
     "name": "stdout",
     "output_type": "stream",
     "text": [
      "<class 'pandas.core.frame.DataFrame'>\n"
     ]
    }
   ],
   "source": [
    "df_N = pd.DataFrame(messages)\n",
    "df_N.head\n",
    "print(type(df_N))"
   ]
  },
  {
   "cell_type": "code",
   "execution_count": 122,
   "metadata": {},
   "outputs": [
    {
     "ename": "SyntaxError",
     "evalue": "invalid syntax (<ipython-input-122-a3ee52950953>, line 1)",
     "output_type": "error",
     "traceback": [
      "\u001b[1;36m  File \u001b[1;32m\"<ipython-input-122-a3ee52950953>\"\u001b[1;36m, line \u001b[1;32m1\u001b[0m\n\u001b[1;33m    [key, label for (key, label) in df_N[0:5]]\u001b[0m\n\u001b[1;37m                  ^\u001b[0m\n\u001b[1;31mSyntaxError\u001b[0m\u001b[1;31m:\u001b[0m invalid syntax\n"
     ]
    }
   ],
   "source": [
    "[key, label for (key, label) in df_N[0:5]]"
   ]
  },
  {
   "cell_type": "code",
   "execution_count": 123,
   "metadata": {},
   "outputs": [],
   "source": [
    "#define a seed \n",
    "\n",
    "seed = 1\n",
    "np.random.seed =seed\n",
    "np.random.shuffle(messages)\n",
    "# print(df_N[0:5])"
   ]
  },
  {
   "cell_type": "code",
   "execution_count": 124,
   "metadata": {},
   "outputs": [],
   "source": [
    "featureset = [(find_feature(text),label) for (text, label) in messages]"
   ]
  },
  {
   "cell_type": "code",
   "execution_count": 125,
   "metadata": {},
   "outputs": [
    {
     "name": "stdout",
     "output_type": "stream",
     "text": [
      "<class 'list'>\n",
      "5572\n"
     ]
    }
   ],
   "source": [
    "print(type(featureset))\n",
    "print(len(featureset))"
   ]
  },
  {
   "cell_type": "markdown",
   "metadata": {},
   "source": [
    "## Preparing train and test data"
   ]
  },
  {
   "cell_type": "code",
   "execution_count": 126,
   "metadata": {},
   "outputs": [],
   "source": [
    "from sklearn.model_selection import train_test_split"
   ]
  },
  {
   "cell_type": "code",
   "execution_count": 127,
   "metadata": {},
   "outputs": [],
   "source": [
    "training, testing = train_test_split(featureset, test_size=0.2, random_state = seed)"
   ]
  },
  {
   "cell_type": "code",
   "execution_count": 128,
   "metadata": {},
   "outputs": [
    {
     "name": "stdout",
     "output_type": "stream",
     "text": [
      "4457\n",
      "<class 'list'>\n"
     ]
    }
   ],
   "source": [
    "print(len(training))\n",
    "print(type(training))"
   ]
  },
  {
   "cell_type": "code",
   "execution_count": 129,
   "metadata": {},
   "outputs": [
    {
     "name": "stdout",
     "output_type": "stream",
     "text": [
      "length of training set: 4457\n",
      "length of testing set: 1115\n"
     ]
    }
   ],
   "source": [
    "print(\"length of training set: {}\".format(len(training)))\n",
    "print(\"length of testing set: {}\".format(len(testing)))"
   ]
  },
  {
   "cell_type": "code",
   "execution_count": 130,
   "metadata": {},
   "outputs": [
    {
     "data": {
      "text/plain": [
       "({'numbr': False,\n",
       "  'u': False,\n",
       "  'call': False,\n",
       "  'go': False,\n",
       "  'get': False,\n",
       "  'ur': False,\n",
       "  'gt': False,\n",
       "  'lt': False,\n",
       "  'come': False,\n",
       "  'moneysymbnumbr': False,\n",
       "  'ok': False,\n",
       "  'free': False,\n",
       "  'day': False,\n",
       "  'know': False,\n",
       "  'love': False,\n",
       "  'like': False,\n",
       "  'got': False,\n",
       "  'time': False,\n",
       "  'good': False,\n",
       "  'want': False,\n",
       "  'text': False,\n",
       "  'send': False,\n",
       "  'txt': False,\n",
       "  'need': False,\n",
       "  'one': False,\n",
       "  'today': False,\n",
       "  'take': False,\n",
       "  'ü': False,\n",
       "  'see': False,\n",
       "  'stop': False,\n",
       "  'home': False,\n",
       "  'think': False,\n",
       "  'repli': False,\n",
       "  'r': False,\n",
       "  'lor': False,\n",
       "  'sorri': False,\n",
       "  'still': False,\n",
       "  'tell': False,\n",
       "  'n': False,\n",
       "  'numbrp': False,\n",
       "  'back': False,\n",
       "  'mobil': False,\n",
       "  'da': False,\n",
       "  'dont': False,\n",
       "  'make': True,\n",
       "  'k': False,\n",
       "  'week': False,\n",
       "  'pleas': False,\n",
       "  'phone': False,\n",
       "  'say': False,\n",
       "  'hi': False,\n",
       "  'work': False,\n",
       "  'new': False,\n",
       "  'pl': False,\n",
       "  'later': False,\n",
       "  'hope': False,\n",
       "  'miss': False,\n",
       "  'ask': False,\n",
       "  'co': False,\n",
       "  'meet': False,\n",
       "  'msg': False,\n",
       "  'messag': False,\n",
       "  'night': False,\n",
       "  'dear': False,\n",
       "  'c': False,\n",
       "  'wait': False,\n",
       "  'happi': False,\n",
       "  'well': False,\n",
       "  'tri': False,\n",
       "  'give': False,\n",
       "  'great': False,\n",
       "  'much': False,\n",
       "  'thing': False,\n",
       "  'claim': False,\n",
       "  'oh': True,\n",
       "  'min': False,\n",
       "  'wat': False,\n",
       "  'hey': False,\n",
       "  'number': False,\n",
       "  'na': False,\n",
       "  'friend': False,\n",
       "  'thank': False,\n",
       "  'ye': False,\n",
       "  'way': False,\n",
       "  'www': False,\n",
       "  'let': False,\n",
       "  'e': False,\n",
       "  'prize': False,\n",
       "  'feel': False,\n",
       "  'even': False,\n",
       "  'right': False,\n",
       "  'tomorrow': False,\n",
       "  'wan': False,\n",
       "  'alreadi': False,\n",
       "  'pick': False,\n",
       "  'cash': False,\n",
       "  'said': False,\n",
       "  'care': False,\n",
       "  'b': False,\n",
       "  'amp': False,\n",
       "  'yeah': False,\n",
       "  'im': False,\n",
       "  'leav': False,\n",
       "  'realli': True,\n",
       "  'tone': False,\n",
       "  'babe': False,\n",
       "  'win': False,\n",
       "  'life': False,\n",
       "  'morn': False,\n",
       "  'find': False,\n",
       "  'last': False,\n",
       "  'sleep': False,\n",
       "  'servic': False,\n",
       "  'keep': False,\n",
       "  'sure': False,\n",
       "  'use': False,\n",
       "  'anyth': False,\n",
       "  'uk': False,\n",
       "  'buy': False,\n",
       "  'would': False,\n",
       "  'year': False,\n",
       "  'start': False,\n",
       "  'contact': False,\n",
       "  'lol': False,\n",
       "  'also': False,\n",
       "  'urgent': False,\n",
       "  'nokia': False,\n",
       "  'wish': False,\n",
       "  'look': False,\n",
       "  'everi': False,\n",
       "  'smile': False,\n",
       "  'sent': False,\n",
       "  'watch': False,\n",
       "  'someth': False,\n",
       "  'show': False,\n",
       "  'com': False,\n",
       "  'end': False,\n",
       "  'finish': False,\n",
       "  'us': False,\n",
       "  'award': False,\n",
       "  'gud': False,\n",
       "  'place': False,\n",
       "  'cant': False,\n",
       "  'first': False,\n",
       "  'special': False,\n",
       "  'someon': False,\n",
       "  'person': False,\n",
       "  'guy': False,\n",
       "  'custom': False,\n",
       "  'tonight': False,\n",
       "  'next': False,\n",
       "  'nice': False,\n",
       "  'went': False,\n",
       "  'around': False,\n",
       "  'word': False,\n",
       "  'soon': False,\n",
       "  'talk': False,\n",
       "  'help': False,\n",
       "  'late': False,\n",
       "  'chat': False,\n",
       "  'could': False,\n",
       "  'money': False,\n",
       "  'collect': False,\n",
       "  'gon': False,\n",
       "  'mani': False,\n",
       "  'per': False,\n",
       "  'alway': False,\n",
       "  'plan': False,\n",
       "  'ya': False,\n",
       "  'live': False,\n",
       "  'x': False,\n",
       "  'sm': False,\n",
       "  'check': False,\n",
       "  'lot': False,\n",
       "  'minut': False,\n",
       "  'dun': False,\n",
       "  'name': False,\n",
       "  'v': False,\n",
       "  'shop': False,\n",
       "  'told': False,\n",
       "  'hello': False,\n",
       "  'mean': False,\n",
       "  'may': False,\n",
       "  'fine': False,\n",
       "  'girl': False,\n",
       "  'heart': False,\n",
       "  'hour': False,\n",
       "  'reach': False,\n",
       "  'peopl': False,\n",
       "  'guarante': False,\n",
       "  'haha': False,\n",
       "  'done': False,\n",
       "  'offer': False,\n",
       "  'yet': False,\n",
       "  'happen': False,\n",
       "  'thk': False,\n",
       "  'month': False,\n",
       "  'thought': False,\n",
       "  'god': False,\n",
       "  'best': False,\n",
       "  'play': False,\n",
       "  'class': False,\n",
       "  'holiday': False,\n",
       "  'line': False,\n",
       "  'fuck': False,\n",
       "  'receiv': False,\n",
       "  'stuff': False,\n",
       "  'lunch': False,\n",
       "  'car': False,\n",
       "  'man': False,\n",
       "  'bit': False,\n",
       "  'eat': False,\n",
       "  'mayb': False,\n",
       "  'never': False,\n",
       "  'job': False,\n",
       "  'draw': False,\n",
       "  'hous': False,\n",
       "  'ill': False,\n",
       "  'enjoy': False,\n",
       "  'worri': False,\n",
       "  'cs': False,\n",
       "  'problem': False,\n",
       "  'yup': False,\n",
       "  'that': False,\n",
       "  'cool': False,\n",
       "  'better': False,\n",
       "  'account': False,\n",
       "  'readi': False,\n",
       "  'mind': False,\n",
       "  'rate': False,\n",
       "  'date': False,\n",
       "  'wk': False,\n",
       "  'long': False,\n",
       "  'drive': False,\n",
       "  'guess': False,\n",
       "  'dat': False,\n",
       "  'numbrst': False,\n",
       "  'chanc': False,\n",
       "  'cost': False,\n",
       "  'pay': False,\n",
       "  'rington': False,\n",
       "  'weekend': False,\n",
       "  'boy': False,\n",
       "  'world': False,\n",
       "  'latest': False,\n",
       "  'wonder': False,\n",
       "  'numbrppm': False,\n",
       "  'luv': False,\n",
       "  'game': False,\n",
       "  'quit': False,\n",
       "  'room': False,\n",
       "  'half': False,\n",
       "  'real': False,\n",
       "  'yo': False,\n",
       "  'sir': False,\n",
       "  'book': False,\n",
       "  'bring': False,\n",
       "  'lar': False,\n",
       "  'camera': False,\n",
       "  'sweet': False,\n",
       "  'box': False,\n",
       "  'noth': False,\n",
       "  'voucher': False,\n",
       "  'pic': False,\n",
       "  'charg': False,\n",
       "  'anoth': False,\n",
       "  'join': False,\n",
       "  'bt': False,\n",
       "  'liao': False,\n",
       "  'big': False,\n",
       "  'shit': False,\n",
       "  'question': False,\n",
       "  'select': False,\n",
       "  'dinner': False,\n",
       "  'ah': False,\n",
       "  'po': False,\n",
       "  'birthday': False,\n",
       "  'landlin': False,\n",
       "  'stay': False,\n",
       "  'kiss': False,\n",
       "  'put': False,\n",
       "  'xxx': False,\n",
       "  'speak': False,\n",
       "  'rememb': False,\n",
       "  'ju': False,\n",
       "  'g': False,\n",
       "  'video': False,\n",
       "  'might': False,\n",
       "  'ever': False,\n",
       "  'appli': False,\n",
       "  'wont': False,\n",
       "  'numbrth': False,\n",
       "  'anyway': False,\n",
       "  'actual': False,\n",
       "  'point': False,\n",
       "  'final': False,\n",
       "  'earli': False,\n",
       "  'network': False,\n",
       "  'run': False,\n",
       "  'di': False,\n",
       "  'hear': False,\n",
       "  'pa': False,\n",
       "  'hurt': False,\n",
       "  'chang': False,\n",
       "  'aight': False,\n",
       "  'dream': False,\n",
       "  'tv': False,\n",
       "  'babi': False,\n",
       "  'two': False,\n",
       "  'orang': False,\n",
       "  'probabl': False,\n",
       "  'fun': False,\n",
       "  'left': False,\n",
       "  'numbrpm': False,\n",
       "  'part': False,\n",
       "  'bed': False,\n",
       "  'forgot': False,\n",
       "  'answer': False,\n",
       "  'thanx': False,\n",
       "  'shall': False,\n",
       "  'sat': False,\n",
       "  'offic': False,\n",
       "  'den': False,\n",
       "  'bad': False,\n",
       "  'princess': False,\n",
       "  'code': False,\n",
       "  'pain': False,\n",
       "  'easi': False,\n",
       "  'walk': False,\n",
       "  'wake': False,\n",
       "  'made': False,\n",
       "  'dunno': False,\n",
       "  'numbrnd': False,\n",
       "  'frnd': False,\n",
       "  'mail': False,\n",
       "  'littl': False,\n",
       "  'leh': False,\n",
       "  'sound': False,\n",
       "  'face': False,\n",
       "  'everyth': False,\n",
       "  'didnt': False,\n",
       "  'wife': False,\n",
       "  'dad': False,\n",
       "  'enough': False,\n",
       "  'bu': False,\n",
       "  'afternoon': False,\n",
       "  'movi': False,\n",
       "  'school': False,\n",
       "  'true': False,\n",
       "  'detail': False,\n",
       "  'bore': False,\n",
       "  'town': False,\n",
       "  'mate': False,\n",
       "  'pound': False,\n",
       "  'numbrhr': False,\n",
       "  'without': False,\n",
       "  'tmr': False,\n",
       "  'lose': False,\n",
       "  'read': False,\n",
       "  'post': False,\n",
       "  'gift': False,\n",
       "  'await': False,\n",
       "  'wif': False,\n",
       "  'though': False,\n",
       "  'credit': False,\n",
       "  'decid': False,\n",
       "  'sinc': False,\n",
       "  'came': False,\n",
       "  'okay': False,\n",
       "  'test': False,\n",
       "  'must': False,\n",
       "  'sexi': False,\n",
       "  'xma': False,\n",
       "  'import': False,\n",
       "  'poli': False,\n",
       "  'entri': False,\n",
       "  'goe': False,\n",
       "  'set': False,\n",
       "  'colour': False,\n",
       "  'lesson': False,\n",
       "  'mob': False,\n",
       "  'close': False,\n",
       "  'abt': False,\n",
       "  'price': False,\n",
       "  'til': False,\n",
       "  'smoke': False,\n",
       "  'abl': False,\n",
       "  'hav': False,\n",
       "  'wot': False,\n",
       "  'drink': False,\n",
       "  'updat': False,\n",
       "  'wen': False,\n",
       "  'juz': False,\n",
       "  'enter': False,\n",
       "  'bath': False,\n",
       "  'decim': False,\n",
       "  'music': False,\n",
       "  'plz': False,\n",
       "  'de': False,\n",
       "  'away': False,\n",
       "  'plu': False,\n",
       "  'valid': False,\n",
       "  'alright': False,\n",
       "  'till': False,\n",
       "  'saw': False,\n",
       "  'yesterday': False,\n",
       "  'doubl': False,\n",
       "  'hair': False,\n",
       "  'havent': False,\n",
       "  'els': False,\n",
       "  'busi': False,\n",
       "  'top': False,\n",
       "  'hand': False,\n",
       "  'order': False,\n",
       "  'weekli': False,\n",
       "  'dude': False,\n",
       "  'beauti': False,\n",
       "  'drop': False,\n",
       "  'net': False,\n",
       "  'invit': False,\n",
       "  'trip': False,\n",
       "  'food': False,\n",
       "  'coz': False,\n",
       "  'id': False,\n",
       "  'oso': False,\n",
       "  'head': False,\n",
       "  'friendship': False,\n",
       "  'attempt': False,\n",
       "  'onlin': False,\n",
       "  'lei': False,\n",
       "  'search': False,\n",
       "  'nation': False,\n",
       "  'ard': False,\n",
       "  'deliveri': False,\n",
       "  'address': False,\n",
       "  'inform': False,\n",
       "  'player': False,\n",
       "  'yr': False,\n",
       "  'open': False,\n",
       "  'nite': False,\n",
       "  'hold': False,\n",
       "  'ring': False,\n",
       "  'hot': False,\n",
       "  'haf': False,\n",
       "  'either': False,\n",
       "  'sch': False,\n",
       "  'famili': False,\n",
       "  'goin': False,\n",
       "  'brother': False,\n",
       "  'http': False,\n",
       "  'mom': False,\n",
       "  'second': False,\n",
       "  'bonu': False,\n",
       "  'caus': False,\n",
       "  'nt': False,\n",
       "  'complet': False,\n",
       "  'believ': False,\n",
       "  'si': False,\n",
       "  'touch': False,\n",
       "  'stori': False,\n",
       "  'wid': False,\n",
       "  'full': False,\n",
       "  'tot': False,\n",
       "  'sae': False,\n",
       "  'togeth': False,\n",
       "  'sad': False,\n",
       "  'forget': False,\n",
       "  'old': False,\n",
       "  'match': False,\n",
       "  'studi': False,\n",
       "  'noe': False,\n",
       "  'club': False,\n",
       "  'oki': False,\n",
       "  'row': False,\n",
       "  'chikku': False,\n",
       "  'reason': False,\n",
       "  'huh': False,\n",
       "  'eve': False,\n",
       "  'land': False,\n",
       "  'listen': False,\n",
       "  'mum': False,\n",
       "  'train': False,\n",
       "  'email': False,\n",
       "  'murder': False,\n",
       "  'treat': False,\n",
       "  'news': False,\n",
       "  'aft': False,\n",
       "  'fri': False,\n",
       "  'tomo': False,\n",
       "  'congrat': False,\n",
       "  'took': False,\n",
       "  'ta': False,\n",
       "  'privat': False,\n",
       "  'expir': False,\n",
       "  'dog': False,\n",
       "  'age': False,\n",
       "  'everyon': False,\n",
       "  'parent': False,\n",
       "  'content': False,\n",
       "  'grnumbr': False,\n",
       "  'awesom': False,\n",
       "  'break': False,\n",
       "  'die': False,\n",
       "  'wil': False,\n",
       "  'park': False,\n",
       "  'unsubscrib': False,\n",
       "  'pm': False,\n",
       "  'simpl': False,\n",
       "  'pub': False,\n",
       "  'rite': False,\n",
       "  'anyon': False,\n",
       "  'avail': False,\n",
       "  'caller': False,\n",
       "  'valu': False,\n",
       "  'tho': False,\n",
       "  'move': False,\n",
       "  'xx': False,\n",
       "  'download': False,\n",
       "  'prob': False,\n",
       "  'statement': False,\n",
       "  'fanci': False,\n",
       "  'tc': False,\n",
       "  'compani': False,\n",
       "  'reveal': False,\n",
       "  'angri': False,\n",
       "  'choos': False,\n",
       "  'sort': False,\n",
       "  'card': False,\n",
       "  'sister': False,\n",
       "  'valentin': False,\n",
       "  'current': False,\n",
       "  'gd': False,\n",
       "  'opt': False,\n",
       "  'bnumbr': False,\n",
       "  'mine': False,\n",
       "  'neva': False,\n",
       "  'laugh': False,\n",
       "  'sell': False,\n",
       "  'auction': False,\n",
       "  'joke': False,\n",
       "  'numbram': False,\n",
       "  'seem': False,\n",
       "  'pass': False,\n",
       "  'lucki': False,\n",
       "  'ticket': False,\n",
       "  'type': False,\n",
       "  'what': False,\n",
       "  'bank': False,\n",
       "  'carlo': False,\n",
       "  'worth': False,\n",
       "  'found': False,\n",
       "  'colleg': False,\n",
       "  'w': False,\n",
       "  'forward': False,\n",
       "  'visit': False,\n",
       "  'whatev': False,\n",
       "  'knw': False,\n",
       "  'gal': False,\n",
       "  'understand': False,\n",
       "  'alon': False,\n",
       "  'winner': False,\n",
       "  'pobox': False,\n",
       "  'ha': False,\n",
       "  'smth': False,\n",
       "  'saturday': False,\n",
       "  'usual': False,\n",
       "  'song': False,\n",
       "  'save': False,\n",
       "  'oper': False,\n",
       "  'gone': False,\n",
       "  'hit': False,\n",
       "  'friday': False,\n",
       "  'uncl': False,\n",
       "  'identifi': False,\n",
       "  'ninumbr': False,\n",
       "  'ltd': False,\n",
       "  'hard': False,\n",
       "  'log': False,\n",
       "  'boytoy': False,\n",
       "  'bill': False,\n",
       "  'exam': False,\n",
       "  'secret': False,\n",
       "  'congratul': False,\n",
       "  'anytim': False,\n",
       "  'boxnumbr': False,\n",
       "  'far': False,\n",
       "  'fone': False,\n",
       "  'return': False,\n",
       "  'mobileupdnumbr': False,\n",
       "  'bout': False,\n",
       "  'welcom': False,\n",
       "  'kind': False,\n",
       "  'outsid': False,\n",
       "  'fast': False,\n",
       "  'sun': False,\n",
       "  'sit': False,\n",
       "  'parti': False,\n",
       "  'surpris': False,\n",
       "  'how': False,\n",
       "  'crazi': False,\n",
       "  'info': False,\n",
       "  'confirm': False,\n",
       "  'camcord': False,\n",
       "  'cut': False,\n",
       "  'follow': False,\n",
       "  'rain': False,\n",
       "  'mu': False,\n",
       "  'quiz': False,\n",
       "  'wit': False,\n",
       "  'mrng': False,\n",
       "  'darlin': False,\n",
       "  'rs': False,\n",
       "  'goodmorn': False,\n",
       "  'oredi': False,\n",
       "  'case': False,\n",
       "  'tel': False,\n",
       "  'mnumbr': False,\n",
       "  'light': False,\n",
       "  'interest': False,\n",
       "  'suitenumbr': False,\n",
       "  'numbrland': False,\n",
       "  'project': False,\n",
       "  'th': False,\n",
       "  'differ': False,\n",
       "  'remov': False,\n",
       "  'cum': False,\n",
       "  'nope': False,\n",
       "  'pretti': False,\n",
       "  'sea': False,\n",
       "  'clean': False,\n",
       "  'drug': False,\n",
       "  'poboxnumbr': False,\n",
       "  'wrong': False,\n",
       "  'nyt': False,\n",
       "  'chennai': False,\n",
       "  'tht': False,\n",
       "  'wkli': False,\n",
       "  'freemsg': False,\n",
       "  'numbrday': False,\n",
       "  'sunday': False,\n",
       "  'hungri': False,\n",
       "  'whole': False,\n",
       "  'correct': False,\n",
       "  'comput': False,\n",
       "  'hmm': False,\n",
       "  'tire': False,\n",
       "  'spend': False,\n",
       "  'f': False,\n",
       "  'cours': False,\n",
       "  'ga': False,\n",
       "  'meant': False,\n",
       "  'fr': False,\n",
       "  'fix': False,\n",
       "  'cd': False,\n",
       "  'unlimit': False,\n",
       "  'blue': False,\n",
       "  'numbrmth': False,\n",
       "  'jay': False,\n",
       "  'rock': False,\n",
       "  'ad': False,\n",
       "  'ten': False,\n",
       "  'suppos': False,\n",
       "  'scream': False,\n",
       "  'term': False,\n",
       "  'frm': False,\n",
       "  'savamob': False,\n",
       "  'sub': False,\n",
       "  'kid': False,\n",
       "  'snow': False,\n",
       "  'least': False,\n",
       "  'earlier': False,\n",
       "  'support': False,\n",
       "  'press': False,\n",
       "  'reward': False,\n",
       "  'promis': False,\n",
       "  'turn': False,\n",
       "  'catch': False,\n",
       "  'almost': False,\n",
       "  'etc': False,\n",
       "  'hee': False,\n",
       "  'load': False,\n",
       "  'shower': False,\n",
       "  'mah': False,\n",
       "  'felt': False,\n",
       "  'pray': False,\n",
       "  'wine': False,\n",
       "  'joy': False,\n",
       "  'hmmm': False,\n",
       "  'mr': False,\n",
       "  'balanc': False,\n",
       "  'march': False,\n",
       "  'side': False,\n",
       "  'dnt': False,\n",
       "  'singl': False,\n",
       "  'stupid': False,\n",
       "  'bslvyl': False,\n",
       "  'normal': False,\n",
       "  'lost': False,\n",
       "  'christma': False,\n",
       "  'figur': False,\n",
       "  'ago': False,\n",
       "  'moment': False,\n",
       "  'st': False,\n",
       "  'motorola': False,\n",
       "  'coupl': False,\n",
       "  'ass': False,\n",
       "  'india': False,\n",
       "  'fight': False,\n",
       "  'within': False,\n",
       "  'un': False,\n",
       "  'redeem': False,\n",
       "  'marri': False,\n",
       "  'yar': False,\n",
       "  'area': False,\n",
       "  'paper': False,\n",
       "  'sex': False,\n",
       "  'eye': False,\n",
       "  'store': False,\n",
       "  'knew': False,\n",
       "  'gn': False,\n",
       "  'film': False,\n",
       "  'luck': False,\n",
       "  'john': False,\n",
       "  'fren': False,\n",
       "  'father': False,\n",
       "  'comp': False,\n",
       "  'eh': False,\n",
       "  'cheer': False,\n",
       "  'crave': False,\n",
       "  'hospit': False,\n",
       "  'wow': False,\n",
       "  'ac': False,\n",
       "  'red': False,\n",
       "  'complimentari': False,\n",
       "  'stand': False,\n",
       "  'askd': False,\n",
       "  'direct': False,\n",
       "  'activ': False,\n",
       "  'sometim': False,\n",
       "  'safe': False,\n",
       "  'deal': False,\n",
       "  'connect': False,\n",
       "  'semest': False,\n",
       "  'bcoz': False,\n",
       "  'teach': False,\n",
       "  'laptop': False,\n",
       "  'disturb': False,\n",
       "  'swing': False,\n",
       "  'ge': False,\n",
       "  'numbru': False,\n",
       "  'via': False,\n",
       "  'met': False,\n",
       "  'callnumbroptout': False,\n",
       "  'seen': False,\n",
       "  'slow': False,\n",
       "  'rental': False,\n",
       "  'doin': False,\n",
       "  'rent': False,\n",
       "  'ipod': False,\n",
       "  'ladi': False,\n",
       "  'remind': False,\n",
       "  'gym': False,\n",
       "  'darren': False,\n",
       "  'an': False,\n",
       "  'ugh': False,\n",
       "  'extra': False,\n",
       "  'photo': False,\n",
       "  'heard': False,\n",
       "  'fill': False,\n",
       "  'grin': False,\n",
       "  'difficult': False,\n",
       "  'hr': False,\n",
       "  'std': False,\n",
       "  'usf': False,\n",
       "  'request': False,\n",
       "  'copi': False,\n",
       "  'wap': False,\n",
       "  'link': False,\n",
       "  'eg': False,\n",
       "  'comin': False,\n",
       "  'abiola': False,\n",
       "  'rpli': False,\n",
       "  'includ': False,\n",
       "  'loan': False,\n",
       "  'page': False,\n",
       "  'txting': False,\n",
       "  'lovabl': False,\n",
       "  'muz': False,\n",
       "  'orchard': False,\n",
       "  'kate': False,\n",
       "  'regist': False,\n",
       "  'road': False,\n",
       "  'expect': False,\n",
       "  'lover': False,\n",
       "  'wana': False,\n",
       "  'somebodi': False,\n",
       "  'rest': False,\n",
       "  'pete': False,\n",
       "  'small': False,\n",
       "  'weed': False,\n",
       "  'ex': False,\n",
       "  'hg': False,\n",
       "  'wnumbrjnumbrhl': False,\n",
       "  'discount': False,\n",
       "  'share': False,\n",
       "  'yep': False,\n",
       "  'monday': False,\n",
       "  'silent': False,\n",
       "  'member': False,\n",
       "  'blood': False,\n",
       "  'warm': False,\n",
       "  'door': False,\n",
       "  'noon': False,\n",
       "  'idea': False,\n",
       "  'possibl': False,\n",
       "  'fall': False,\n",
       "  'whenev': False,\n",
       "  'asap': False,\n",
       "  'truth': False,\n",
       "  'convey': False,\n",
       "  'p': False,\n",
       "  'cancel': False,\n",
       "  'nobodi': False,\n",
       "  'fantasi': False,\n",
       "  'fact': False,\n",
       "  'slowli': False,\n",
       "  'polic': False,\n",
       "  'nah': False,\n",
       "  'callertun': False,\n",
       "  'bless': False,\n",
       "  'england': False,\n",
       "  'sick': False,\n",
       "  'oop': False,\n",
       "  'numbrw': False,\n",
       "  'situat': False,\n",
       "  'forev': False,\n",
       "  'short': False,\n",
       "  'recent': False,\n",
       "  'il': False,\n",
       "  'repres': False,\n",
       "  'gave': False,\n",
       "  'men': False,\n",
       "  'apart': False,\n",
       "  'quot': False,\n",
       "  'del': False,\n",
       "  'soni': False,\n",
       "  'wast': False,\n",
       "  'trust': False,\n",
       "  'sign': False,\n",
       "  'street': False,\n",
       "  'kick': False,\n",
       "  'admir': False,\n",
       "  'deep': False,\n",
       "  'hmv': False,\n",
       "  'tonit': False,\n",
       "  'somewher': False,\n",
       "  'merri': False,\n",
       "  'record': False,\n",
       "  'immedi': False,\n",
       "  'access': False,\n",
       "  'custcar': False,\n",
       "  'rakhesh': False,\n",
       "  'woke': False,\n",
       "  'mistak': False,\n",
       "  'mm': False,\n",
       "  'voic': False,\n",
       "  'ldn': False,\n",
       "  'style': False,\n",
       "  'water': False,\n",
       "  'near': False,\n",
       "  'opinion': False,\n",
       "  'less': False,\n",
       "  'children': False,\n",
       "  'across': False,\n",
       "  'agenumbr': False,\n",
       "  'cheap': False,\n",
       "  'em': False,\n",
       "  'indian': False,\n",
       "  'ts': False,\n",
       "  'ho': False,\n",
       "  'king': False,\n",
       "  'gap': False,\n",
       "  'fantast': False,\n",
       "  'glad': False,\n",
       "  'summer': False,\n",
       "  'getz': False,\n",
       "  'bag': False,\n",
       "  'gettin': False,\n",
       "  'wed': False,\n",
       "  'poor': False,\n",
       "  'otherwis': False,\n",
       "  'ntt': False,\n",
       "  'sale': False,\n",
       "  'regard': False,\n",
       "  'doctor': False,\n",
       "  'energi': False,\n",
       "  'numbrnit': False,\n",
       "  'write': False,\n",
       "  'cover': False,\n",
       "  'numbri': False,\n",
       "  'hw': False,\n",
       "  'excus': False,\n",
       "  'cook': False,\n",
       "  'med': False,\n",
       "  'empti': False,\n",
       "  'cup': False,\n",
       "  'serious': False,\n",
       "  'mark': False,\n",
       "  'ice': False,\n",
       "  'password': False,\n",
       "  'coffe': False,\n",
       "  'boss': False,\n",
       "  'flight': False,\n",
       "  'app': False,\n",
       "  'sunshin': False,\n",
       "  'lazi': False,\n",
       "  'lect': False,\n",
       "  'becom': False,\n",
       "  'doesnt': False,\n",
       "  'lift': False,\n",
       "  'especi': False,\n",
       "  'dead': False,\n",
       "  'mrt': False,\n",
       "  'ive': False,\n",
       "  'appreci': False,\n",
       "  'flirt': False,\n",
       "  'goodnight': False,\n",
       "  'ldew': False,\n",
       "  'definit': False,\n",
       "  'unless': False,\n",
       "  'teas': False,\n",
       "  'rose': False,\n",
       "  'sport': False,\n",
       "  'accept': False,\n",
       "  'power': False,\n",
       "  'cake': False,\n",
       "  'round': False,\n",
       "  'urself': False,\n",
       "  'basic': False,\n",
       "  'bluetooth': False,\n",
       "  'refer': False,\n",
       "  'al': False,\n",
       "  'none': False,\n",
       "  'kinda': False,\n",
       "  'result': False,\n",
       "  'numbrt': False,\n",
       "  'depend': False,\n",
       "  'meh': False,\n",
       "  'self': False,\n",
       "  'hotel': False,\n",
       "  'hurri': False,\n",
       "  'xy': False,\n",
       "  'add': False,\n",
       "  'subscrib': False,\n",
       "  'bid': False,\n",
       "  'comuk': False,\n",
       "  'chariti': False,\n",
       "  'tampa': False,\n",
       "  'user': False,\n",
       "  'mid': False,\n",
       "  'greet': False,\n",
       "  'gay': False,\n",
       "  'iam': False,\n",
       "  'mo': False,\n",
       "  'wear': False,\n",
       "  'hiya': False,\n",
       "  'digit': False,\n",
       "  'deliv': False,\n",
       "  'mon': False,\n",
       "  'mode': False,\n",
       "  'other': False,\n",
       "  'bb': False,\n",
       "  'moral': False,\n",
       "  'total': False,\n",
       "  'natur': False,\n",
       "  'arriv': False,\n",
       "  'excel': False,\n",
       "  'list': False,\n",
       "  'thinkin': False,\n",
       "  'flag': False,\n",
       "  'colleagu': False,\n",
       "  'sofa': False,\n",
       "  'tear': False,\n",
       "  'entitl': False,\n",
       "  'anymor': False,\n",
       "  'team': False,\n",
       "  'pizza': False,\n",
       "  'egg': False,\n",
       "  'clear': False,\n",
       "  'quick': False,\n",
       "  'learn': False,\n",
       "  'roommat': False,\n",
       "  'letter': False,\n",
       "  'nigeria': False,\n",
       "  'cinema': False,\n",
       "  'bxnumbr': False,\n",
       "  'ipnumbr': False,\n",
       "  'spent': False,\n",
       "  'pleasur': False,\n",
       "  'troubl': False,\n",
       "  ...},\n",
       " 0)"
      ]
     },
     "execution_count": 130,
     "metadata": {},
     "output_type": "execute_result"
    }
   ],
   "source": [
    "training[0]"
   ]
  },
  {
   "cell_type": "markdown",
   "metadata": {},
   "source": [
    "## Scikit learn classifiers\n"
   ]
  },
  {
   "cell_type": "code",
   "execution_count": 173,
   "metadata": {},
   "outputs": [],
   "source": [
    "from sklearn.tree import DecisionTreeClassifier\n",
    "from sklearn.ensemble import RandomForestClassifier\n",
    "from sklearn.neighbors import KNeighborsClassifier\n",
    "from sklearn.svm import SVC\n",
    "from sklearn.linear_model import LogisticRegression, SGDClassifier\n",
    "from sklearn.naive_bayes import MultinomialNB\n",
    "from sklearn.metrics import accuracy_score, precision_score, classification_report, confusion_matrix"
   ]
  },
  {
   "cell_type": "code",
   "execution_count": 174,
   "metadata": {},
   "outputs": [
    {
     "data": {
      "text/plain": [
       "[('K nearest neighbors', KNeighborsClassifier()),\n",
       " ('decision tree', DecisionTreeClassifier()),\n",
       " ('random forest', RandomForestClassifier()),\n",
       " ('SVC', SVC(kernel='linear')),\n",
       " ('Logistics regression', LogisticRegression()),\n",
       " ('SGD', SGDClassifier(max_iter=100)),\n",
       " ('MultinomialNB', MultinomialNB())]"
      ]
     },
     "execution_count": 174,
     "metadata": {},
     "output_type": "execute_result"
    }
   ],
   "source": [
    "names = [\"K nearest neighbors\",\"decision tree\",\"random forest\",\"SVC\",\"Logistics regression\",\"SGD\",\"MultinomialNB\"]\n",
    "classifiers = [KNeighborsClassifier(),\n",
    "               DecisionTreeClassifier(),\n",
    "               RandomForestClassifier(),\n",
    "               SVC(kernel = 'linear'),\n",
    "               LogisticRegression(),\n",
    "              SGDClassifier(max_iter=100),\n",
    "               MultinomialNB()]\n",
    "models = zip(names,classifiers)\n",
    "list(models)\n",
    "\n"
   ]
  },
  {
   "cell_type": "code",
   "execution_count": 149,
   "metadata": {},
   "outputs": [],
   "source": [
    "\n",
    "for (name, model) in models:\n",
    "    nltk_model = SklearnClassifier(model)\n",
    "    nltk_model.train(training)\n",
    "    accuracy = nltk.classify.accuracy(nltk_model, testing)*100\n",
    "    print(\"{} Accuracy: {}\".format(name, accuracy))"
   ]
  },
  {
   "cell_type": "code",
   "execution_count": 96,
   "metadata": {},
   "outputs": [],
   "source": [
    "# training, testing"
   ]
  },
  {
   "cell_type": "code",
   "execution_count": 176,
   "metadata": {},
   "outputs": [
    {
     "name": "stdout",
     "output_type": "stream",
     "text": [
      "K Nearest Neighbors Accuracy: 94.7085201793722\n",
      "Decision Tree Accuracy: 96.32286995515696\n",
      "Random Forest Accuracy: 99.01345291479821\n",
      "Logistic Regression Accuracy: 98.65470852017937\n",
      "SGD Classifier Accuracy: 98.56502242152466\n",
      "Naive Bayes Accuracy: 98.65470852017937\n",
      "SVM Linear Accuracy: 98.29596412556054\n"
     ]
    }
   ],
   "source": [
    "# Define models to train\n",
    "from nltk.classify.scikitlearn import SklearnClassifier\n",
    "names = [\"K Nearest Neighbors\", \"Decision Tree\", \"Random Forest\", \"Logistic Regression\", \"SGD Classifier\",\n",
    "         \"Naive Bayes\", \"SVM Linear\"]\n",
    "\n",
    "classifiers = [\n",
    "    KNeighborsClassifier(),\n",
    "    DecisionTreeClassifier(),\n",
    "    RandomForestClassifier(),\n",
    "    LogisticRegression(),\n",
    "    SGDClassifier(max_iter = 100),\n",
    "    MultinomialNB(),\n",
    "    SVC(kernel = 'linear')\n",
    "]\n",
    "models = zip(names, classifiers)\n",
    "from nltk.classify.scikitlearn import SklearnClassifier\n",
    "for name, model in models:\n",
    "    nltk_model = SklearnClassifier(model)\n",
    "    nltk_model.train(training)\n",
    "    accuracy = nltk.classify.accuracy(nltk_model, testing)*100\n",
    "    print(\"{} Accuracy: {}\".format(name, accuracy))"
   ]
  },
  {
   "cell_type": "code",
   "execution_count": 152,
   "metadata": {},
   "outputs": [],
   "source": [
    "# #wrap models in NLTK\n",
    "# from nltk.classify.scikitlearn import SklearnClassifier\n",
    "# for name, model in models:\n",
    "#     nltk_model = SklearnClassifier(model)\n",
    "#     nltk_model.train(training)\n",
    "#     accuracy = nltk.classify.accuracy(nltk_model, testing)*100\n",
    "#     print(f\"accuracy for {name} is : {accuracy}\")"
   ]
  },
  {
   "cell_type": "code",
   "execution_count": 150,
   "metadata": {},
   "outputs": [
    {
     "data": {
      "text/plain": [
       "<SklearnClassifier(SGDClassifier(max_iter=100))>"
      ]
     },
     "execution_count": 150,
     "metadata": {},
     "output_type": "execute_result"
    }
   ],
   "source": [
    "nl=SklearnClassifier(SGDClassifier(max_iter=100))\n",
    "nl.train(training)"
   ]
  },
  {
   "cell_type": "code",
   "execution_count": 151,
   "metadata": {},
   "outputs": [
    {
     "name": "stdout",
     "output_type": "stream",
     "text": [
      "SGD Accuracy: 98.29596412556054\n"
     ]
    }
   ],
   "source": [
    "accuracy_nl = nltk.classify.accuracy(nl, testing)*100\n",
    "print(\"{} Accuracy: {}\".format('SGD', accuracy_nl))"
   ]
  },
  {
   "cell_type": "markdown",
   "metadata": {},
   "source": [
    "## Lets try ensemble method, as a spam clasifier has to have a higher accuracy and having an ensemble method m ay help us get higher accuracy. Lets try the voting  classifier \n",
    "Each of our classifier will have their individual vote for each email/message and the highest vote wins. We need to have an odd number of classifier for this.  Note, nltk will see the ensembled model as one  model and it will not see the underlying 7 models of ours.\n",
    "# hard voting and soft voting. Hard voting is bonary an soft takes the individual probabiities for each class and go with the average value"
   ]
  },
  {
   "cell_type": "code",
   "execution_count": 206,
   "metadata": {},
   "outputs": [
    {
     "data": {
      "text/plain": [
       "<zip at 0x23bd594f708>"
      ]
     },
     "execution_count": 206,
     "metadata": {},
     "output_type": "execute_result"
    }
   ],
   "source": [
    "models = zip(names, classifiers)\n",
    "models\n"
   ]
  },
  {
   "cell_type": "code",
   "execution_count": 192,
   "metadata": {},
   "outputs": [
    {
     "data": {
      "text/plain": [
       "[KNeighborsClassifier(),\n",
       " DecisionTreeClassifier(),\n",
       " RandomForestClassifier(),\n",
       " LogisticRegression(),\n",
       " SGDClassifier(max_iter=100),\n",
       " MultinomialNB(),\n",
       " SVC(kernel='linear')]"
      ]
     },
     "execution_count": 192,
     "metadata": {},
     "output_type": "execute_result"
    }
   ],
   "source": [
    "classifiers"
   ]
  },
  {
   "cell_type": "code",
   "execution_count": 205,
   "metadata": {},
   "outputs": [
    {
     "name": "stdout",
     "output_type": "stream",
     "text": [
      "[]\n"
     ]
    }
   ],
   "source": [
    "estimators= list(models)\n",
    "print(estimators)"
   ]
  },
  {
   "cell_type": "code",
   "execution_count": 207,
   "metadata": {},
   "outputs": [
    {
     "data": {
      "text/plain": [
       "<SklearnClassifier(VotingClassifier(estimators=[('K Nearest Neighbors', KNeighborsClassifier()),\n",
       "                             ('Decision Tree', DecisionTreeClassifier()),\n",
       "                             ('Random Forest', RandomForestClassifier()),\n",
       "                             ('Logistic Regression', LogisticRegression()),\n",
       "                             ('SGD Classifier', SGDClassifier(max_iter=100)),\n",
       "                             ('Naive Bayes', MultinomialNB()),\n",
       "                             ('SVM Linear', SVC(kernel='linear'))],\n",
       "                 n_jobs=-1))>"
      ]
     },
     "execution_count": 207,
     "metadata": {},
     "output_type": "execute_result"
    }
   ],
   "source": [
    "from sklearn.ensemble import VotingClassifier\n",
    "nltk_ensemble = SklearnClassifier(VotingClassifier(estimators = list(models), voting = 'hard', n_jobs = -1))\n",
    "nltk_ensemble.train(training)\n",
    "# accuracy = nltk.classifiy.accuracy(nltk_ensemble, test)*100\n",
    "# print(f\"the accuracy of the ensemble model is: {accuracy}\")"
   ]
  },
  {
   "cell_type": "code",
   "execution_count": 166,
   "metadata": {},
   "outputs": [
    {
     "data": {
      "text/plain": [
       "<SklearnClassifier(VotingClassifier(estimators=<zip object at 0x0000023BC9A01C48>, n_jobs=-1))>"
      ]
     },
     "execution_count": 166,
     "metadata": {},
     "output_type": "execute_result"
    }
   ],
   "source": [
    "nltk_ensemble"
   ]
  },
  {
   "cell_type": "code",
   "execution_count": 211,
   "metadata": {},
   "outputs": [
    {
     "name": "stdout",
     "output_type": "stream",
     "text": [
      "the accuracy of the ensemble model is: 98.83408071748879\n"
     ]
    }
   ],
   "source": [
    "accuracy = nltk.classify.accuracy(nltk_ensemble, testing)*100\n",
    "print(f\"the accuracy of the ensemble model is: {accuracy}\")"
   ]
  },
  {
   "cell_type": "markdown",
   "metadata": {},
   "source": [
    "## the ensemble model has done almost similar to our best model which was RandomForest Usually, if none of our models are performing well, in that case ensemble model may come up with better and higher accuracy. Now, lets test some of the results"
   ]
  },
  {
   "cell_type": "code",
   "execution_count": 213,
   "metadata": {},
   "outputs": [
    {
     "name": "stdout",
     "output_type": "stream",
     "text": [
      "({'numbr': True, 'u': True, 'call': True, 'go': False, 'get': False, 'ur': True, 'gt': False, 'lt': False, 'come': False, 'moneysymbnumbr': False, 'ok': False, 'free': False, 'day': False, 'know': False, 'love': False, 'like': False, 'got': False, 'time': False, 'good': False, 'want': False, 'text': False, 'send': False, 'txt': False, 'need': False, 'one': False, 'today': False, 'take': False, 'ü': False, 'see': False, 'stop': False, 'home': False, 'think': True, 'repli': False, 'r': True, 'lor': False, 'sorri': False, 'still': False, 'tell': False, 'n': False, 'numbrp': False, 'back': False, 'mobil': False, 'da': False, 'dont': False, 'make': True, 'k': False, 'week': False, 'pleas': False, 'phone': False, 'say': False, 'hi': False, 'work': False, 'new': False, 'pl': False, 'later': False, 'hope': False, 'miss': False, 'ask': False, 'co': False, 'meet': False, 'msg': False, 'messag': False, 'night': False, 'dear': False, 'c': False, 'wait': False, 'happi': False, 'well': False, 'tri': False, 'give': False, 'great': False, 'much': False, 'thing': False, 'claim': False, 'oh': False, 'min': False, 'wat': False, 'hey': False, 'number': False, 'na': False, 'friend': False, 'thank': False, 'ye': False, 'way': False, 'www': False, 'let': False, 'e': False, 'prize': False, 'feel': False, 'even': False, 'right': False, 'tomorrow': False, 'wan': False, 'alreadi': False, 'pick': False, 'cash': False, 'said': False, 'care': False, 'b': False, 'amp': False, 'yeah': False, 'im': False, 'leav': False, 'realli': False, 'tone': False, 'babe': False, 'win': False, 'life': False, 'morn': False, 'find': True, 'last': False, 'sleep': False, 'servic': False, 'keep': False, 'sure': False, 'use': False, 'anyth': False, 'uk': False, 'buy': False, 'would': False, 'year': False, 'start': False, 'contact': True, 'lol': False, 'also': False, 'urgent': False, 'nokia': False, 'wish': False, 'look': True, 'everi': False, 'smile': False, 'sent': False, 'watch': False, 'someth': False, 'show': False, 'com': False, 'end': False, 'finish': False, 'us': False, 'award': False, 'gud': False, 'place': False, 'cant': False, 'first': False, 'special': True, 'someon': False, 'person': False, 'guy': False, 'custom': False, 'tonight': False, 'next': False, 'nice': False, 'went': False, 'around': False, 'word': False, 'soon': False, 'talk': False, 'help': False, 'late': False, 'chat': False, 'could': False, 'money': False, 'collect': False, 'gon': False, 'mani': False, 'per': False, 'alway': False, 'plan': False, 'ya': False, 'live': False, 'x': False, 'sm': False, 'check': False, 'lot': False, 'minut': False, 'dun': False, 'name': False, 'v': False, 'shop': False, 'told': False, 'hello': False, 'mean': False, 'may': False, 'fine': False, 'girl': False, 'heart': False, 'hour': False, 'reach': False, 'peopl': False, 'guarante': False, 'haha': False, 'done': False, 'offer': False, 'yet': False, 'happen': False, 'thk': False, 'month': False, 'thought': False, 'god': False, 'best': False, 'play': False, 'class': False, 'holiday': False, 'line': False, 'fuck': False, 'receiv': False, 'stuff': False, 'lunch': False, 'car': False, 'man': False, 'bit': False, 'eat': False, 'mayb': False, 'never': False, 'job': False, 'draw': False, 'hous': False, 'ill': False, 'enjoy': False, 'worri': False, 'cs': False, 'problem': False, 'yup': False, 'that': False, 'cool': False, 'better': False, 'account': False, 'readi': False, 'mind': False, 'rate': False, 'date': False, 'wk': False, 'long': False, 'drive': False, 'guess': False, 'dat': False, 'numbrst': False, 'chanc': False, 'cost': False, 'pay': False, 'rington': False, 'weekend': False, 'boy': False, 'world': False, 'latest': False, 'wonder': False, 'numbrppm': False, 'luv': False, 'game': False, 'quit': False, 'room': False, 'half': False, 'real': False, 'yo': False, 'sir': False, 'book': False, 'bring': False, 'lar': False, 'camera': False, 'sweet': False, 'box': False, 'noth': False, 'voucher': False, 'pic': False, 'charg': False, 'anoth': False, 'join': False, 'bt': False, 'liao': False, 'big': False, 'shit': False, 'question': False, 'select': False, 'dinner': False, 'ah': False, 'po': False, 'birthday': False, 'landlin': False, 'stay': False, 'kiss': False, 'put': False, 'xxx': False, 'speak': False, 'rememb': False, 'ju': False, 'g': False, 'video': False, 'might': False, 'ever': False, 'appli': False, 'wont': False, 'numbrth': False, 'anyway': False, 'actual': False, 'point': False, 'final': False, 'earli': False, 'network': False, 'run': False, 'di': False, 'hear': False, 'pa': False, 'hurt': False, 'chang': False, 'aight': False, 'dream': False, 'tv': False, 'babi': False, 'two': False, 'orang': False, 'probabl': False, 'fun': False, 'left': False, 'numbrpm': False, 'part': False, 'bed': False, 'forgot': False, 'answer': False, 'thanx': False, 'shall': False, 'sat': False, 'offic': False, 'den': False, 'bad': False, 'princess': False, 'code': False, 'pain': False, 'easi': False, 'walk': False, 'wake': False, 'made': False, 'dunno': False, 'numbrnd': False, 'frnd': False, 'mail': False, 'littl': False, 'leh': False, 'sound': False, 'face': False, 'everyth': False, 'didnt': False, 'wife': False, 'dad': False, 'enough': False, 'bu': False, 'afternoon': False, 'movi': False, 'school': False, 'true': False, 'detail': False, 'bore': False, 'town': False, 'mate': False, 'pound': False, 'numbrhr': False, 'without': False, 'tmr': False, 'lose': False, 'read': False, 'post': False, 'gift': False, 'await': False, 'wif': False, 'though': False, 'credit': False, 'decid': False, 'sinc': False, 'came': False, 'okay': False, 'test': False, 'must': False, 'sexi': False, 'xma': False, 'import': False, 'poli': False, 'entri': False, 'goe': False, 'set': False, 'colour': False, 'lesson': False, 'mob': False, 'close': False, 'abt': False, 'price': False, 'til': False, 'smoke': False, 'abl': False, 'hav': False, 'wot': False, 'drink': False, 'updat': False, 'wen': False, 'juz': False, 'enter': False, 'bath': False, 'decim': False, 'music': False, 'plz': False, 'de': False, 'away': False, 'plu': False, 'valid': False, 'alright': False, 'till': False, 'saw': False, 'yesterday': False, 'doubl': False, 'hair': False, 'havent': False, 'els': False, 'busi': False, 'top': False, 'hand': False, 'order': False, 'weekli': False, 'dude': False, 'beauti': False, 'drop': False, 'net': False, 'invit': False, 'trip': False, 'food': False, 'coz': False, 'id': False, 'oso': False, 'head': False, 'friendship': False, 'attempt': False, 'onlin': False, 'lei': False, 'search': False, 'nation': False, 'ard': False, 'deliveri': False, 'address': False, 'inform': False, 'player': False, 'yr': False, 'open': False, 'nite': False, 'hold': False, 'ring': False, 'hot': False, 'haf': False, 'either': False, 'sch': False, 'famili': False, 'goin': False, 'brother': False, 'http': False, 'mom': False, 'second': False, 'bonu': False, 'caus': False, 'nt': False, 'complet': False, 'believ': False, 'si': False, 'touch': False, 'stori': False, 'wid': False, 'full': False, 'tot': False, 'sae': False, 'togeth': False, 'sad': False, 'forget': False, 'old': False, 'match': False, 'studi': False, 'noe': False, 'club': False, 'oki': False, 'row': False, 'chikku': False, 'reason': False, 'huh': False, 'eve': False, 'land': False, 'listen': False, 'mum': False, 'train': False, 'email': False, 'murder': False, 'treat': False, 'news': False, 'aft': False, 'fri': False, 'tomo': False, 'congrat': False, 'took': False, 'ta': False, 'privat': False, 'expir': False, 'dog': False, 'age': False, 'everyon': False, 'parent': False, 'content': False, 'grnumbr': False, 'awesom': False, 'break': False, 'die': False, 'wil': False, 'park': False, 'unsubscrib': False, 'pm': False, 'simpl': False, 'pub': False, 'rite': False, 'anyon': False, 'avail': False, 'caller': False, 'valu': False, 'tho': False, 'move': False, 'xx': False, 'download': False, 'prob': False, 'statement': False, 'fanci': False, 'tc': False, 'compani': False, 'reveal': True, 'angri': False, 'choos': False, 'sort': False, 'card': False, 'sister': False, 'valentin': False, 'current': False, 'gd': False, 'opt': False, 'bnumbr': False, 'mine': False, 'neva': False, 'laugh': False, 'sell': False, 'auction': False, 'joke': False, 'numbram': False, 'seem': False, 'pass': False, 'lucki': False, 'ticket': False, 'type': False, 'what': False, 'bank': False, 'carlo': False, 'worth': False, 'found': False, 'colleg': False, 'w': False, 'forward': False, 'visit': False, 'whatev': False, 'knw': False, 'gal': False, 'understand': False, 'alon': False, 'winner': False, 'pobox': False, 'ha': False, 'smth': False, 'saturday': False, 'usual': False, 'song': False, 'save': False, 'oper': False, 'gone': False, 'hit': False, 'friday': False, 'uncl': False, 'identifi': False, 'ninumbr': False, 'ltd': False, 'hard': False, 'log': False, 'boytoy': False, 'bill': False, 'exam': False, 'secret': True, 'congratul': False, 'anytim': False, 'boxnumbr': False, 'far': False, 'fone': False, 'return': False, 'mobileupdnumbr': False, 'bout': False, 'welcom': False, 'kind': False, 'outsid': False, 'fast': False, 'sun': False, 'sit': False, 'parti': False, 'surpris': False, 'how': False, 'crazi': False, 'info': False, 'confirm': False, 'camcord': False, 'cut': False, 'follow': False, 'rain': False, 'mu': False, 'quiz': False, 'wit': False, 'mrng': False, 'darlin': False, 'rs': False, 'goodmorn': False, 'oredi': False, 'case': False, 'tel': False, 'mnumbr': False, 'light': False, 'interest': False, 'suitenumbr': False, 'numbrland': False, 'project': False, 'th': False, 'differ': False, 'remov': False, 'cum': False, 'nope': False, 'pretti': False, 'sea': False, 'clean': False, 'drug': False, 'poboxnumbr': False, 'wrong': False, 'nyt': False, 'chennai': False, 'tht': False, 'wkli': False, 'freemsg': False, 'numbrday': False, 'sunday': False, 'hungri': False, 'whole': False, 'correct': False, 'comput': False, 'hmm': False, 'tire': False, 'spend': False, 'f': False, 'cours': False, 'ga': False, 'meant': False, 'fr': False, 'fix': False, 'cd': False, 'unlimit': False, 'blue': False, 'numbrmth': False, 'jay': False, 'rock': False, 'ad': False, 'ten': False, 'suppos': False, 'scream': False, 'term': False, 'frm': False, 'savamob': False, 'sub': False, 'kid': False, 'snow': False, 'least': False, 'earlier': False, 'support': False, 'press': False, 'reward': False, 'promis': False, 'turn': False, 'catch': False, 'almost': False, 'etc': False, 'hee': False, 'load': False, 'shower': False, 'mah': False, 'felt': False, 'pray': False, 'wine': False, 'joy': False, 'hmmm': False, 'mr': False, 'balanc': False, 'march': False, 'side': False, 'dnt': False, 'singl': False, 'stupid': False, 'bslvyl': False, 'normal': False, 'lost': False, 'christma': False, 'figur': False, 'ago': False, 'moment': False, 'st': False, 'motorola': False, 'coupl': False, 'ass': False, 'india': False, 'fight': False, 'within': False, 'un': False, 'redeem': False, 'marri': False, 'yar': False, 'area': False, 'paper': False, 'sex': False, 'eye': False, 'store': False, 'knew': False, 'gn': False, 'film': False, 'luck': False, 'john': False, 'fren': False, 'father': False, 'comp': False, 'eh': False, 'cheer': False, 'crave': False, 'hospit': False, 'wow': False, 'ac': False, 'red': False, 'complimentari': False, 'stand': False, 'askd': False, 'direct': False, 'activ': False, 'sometim': False, 'safe': False, 'deal': False, 'connect': False, 'semest': False, 'bcoz': False, 'teach': False, 'laptop': False, 'disturb': False, 'swing': False, 'ge': False, 'numbru': False, 'via': False, 'met': False, 'callnumbroptout': False, 'seen': False, 'slow': False, 'rental': False, 'doin': False, 'rent': False, 'ipod': False, 'ladi': False, 'remind': False, 'gym': False, 'darren': False, 'an': False, 'ugh': False, 'extra': False, 'photo': False, 'heard': False, 'fill': False, 'grin': False, 'difficult': False, 'hr': False, 'std': False, 'usf': False, 'request': False, 'copi': False, 'wap': False, 'link': False, 'eg': False, 'comin': False, 'abiola': False, 'rpli': False, 'includ': False, 'loan': False, 'page': False, 'txting': False, 'lovabl': False, 'muz': False, 'orchard': False, 'kate': False, 'regist': False, 'road': False, 'expect': False, 'lover': False, 'wana': False, 'somebodi': False, 'rest': False, 'pete': False, 'small': False, 'weed': False, 'ex': False, 'hg': False, 'wnumbrjnumbrhl': False, 'discount': False, 'share': False, 'yep': False, 'monday': False, 'silent': False, 'member': False, 'blood': False, 'warm': False, 'door': False, 'noon': False, 'idea': False, 'possibl': False, 'fall': False, 'whenev': False, 'asap': False, 'truth': False, 'convey': False, 'p': False, 'cancel': False, 'nobodi': False, 'fantasi': False, 'fact': False, 'slowli': False, 'polic': False, 'nah': False, 'callertun': False, 'bless': False, 'england': False, 'sick': False, 'oop': False, 'numbrw': False, 'situat': False, 'forev': False, 'short': False, 'recent': False, 'il': False, 'repres': False, 'gave': False, 'men': False, 'apart': False, 'quot': False, 'del': False, 'soni': False, 'wast': False, 'trust': False, 'sign': False, 'street': False, 'kick': False, 'admir': True, 'deep': False, 'hmv': False, 'tonit': False, 'somewher': False, 'merri': False, 'record': False, 'immedi': False, 'access': False, 'custcar': False, 'rakhesh': False, 'woke': False, 'mistak': False, 'mm': False, 'voic': False, 'ldn': False, 'style': False, 'water': False, 'near': False, 'opinion': False, 'less': False, 'children': False, 'across': False, 'agenumbr': False, 'cheap': False, 'em': False, 'indian': False, 'ts': False, 'ho': False, 'king': False, 'gap': False, 'fantast': False, 'glad': False, 'summer': False, 'getz': False, 'bag': False, 'gettin': False, 'wed': False, 'poor': False, 'otherwis': False, 'ntt': False, 'sale': False, 'regard': False, 'doctor': False, 'energi': False, 'numbrnit': False, 'write': False, 'cover': False, 'numbri': False, 'hw': False, 'excus': False, 'cook': False, 'med': False, 'empti': False, 'cup': False, 'serious': False, 'mark': False, 'ice': False, 'password': False, 'coffe': False, 'boss': False, 'flight': False, 'app': False, 'sunshin': False, 'lazi': False, 'lect': False, 'becom': False, 'doesnt': False, 'lift': False, 'especi': False, 'dead': False, 'mrt': False, 'ive': False, 'appreci': False, 'flirt': False, 'goodnight': False, 'ldew': False, 'definit': False, 'unless': False, 'teas': False, 'rose': False, 'sport': False, 'accept': False, 'power': False, 'cake': False, 'round': False, 'urself': False, 'basic': False, 'bluetooth': False, 'refer': False, 'al': False, 'none': False, 'kinda': False, 'result': False, 'numbrt': False, 'depend': False, 'meh': False, 'self': False, 'hotel': False, 'hurri': False, 'xy': False, 'add': False, 'subscrib': False, 'bid': False, 'comuk': False, 'chariti': False, 'tampa': False, 'user': False, 'mid': False, 'greet': False, 'gay': False, 'iam': False, 'mo': False, 'wear': False, 'hiya': False, 'digit': False, 'deliv': False, 'mon': False, 'mode': False, 'other': False, 'bb': False, 'moral': False, 'total': False, 'natur': False, 'arriv': False, 'excel': False, 'list': False, 'thinkin': False, 'flag': False, 'colleagu': False, 'sofa': False, 'tear': False, 'entitl': False, 'anymor': False, 'team': False, 'pizza': False, 'egg': False, 'clear': False, 'quick': False, 'learn': False, 'roommat': False, 'letter': False, 'nigeria': False, 'cinema': False, 'bxnumbr': False, 'ipnumbr': False, 'spent': False, 'pleasur': False, 'troubl': False, 'ave': False, 'umma': False, 'weight': False, 'inc': False, 'bother': False, 'bak': False, 'dvd': False, 'sp': False, 'swt': False, 'shirt': False, 'goto': False, 'moneysymb': False, 'experi': False, 'freephon': False, 'howev': False, 'settl': False, 'success': False, 'slept': False, 'file': False, 'tnc': False, 'numbrmin': False, 'lemm': False, 'celebr': False, 'sens': False, 'imagin': False, 'rcvd': False, 'wiv': False, 'practic': False, 'fault': False, 'pictur': False, 'facebook': False, 'fullonsm': False, 'logo': False, 'yahoo': False, 'aha': False, 'funni': False, 'respond': False, 'din': False, 'thru': False, 'reali': False, 'fat': False, 'finger': False, 'workin': False, 'daddi': False, 'present': False, 'ar': False, 'futur': False, 'alex': False, 'offici': False, 'longer': False, 'pc': False, 'tuesday': False, 'bedroom': False, 'student': False, 'librari': False, 'space': False, 'slave': False, 'omg': False, 'nonumbr': False, 'moon': False, 'travel': False, 'medic': False, 'numbrg': False, 'miracl': False, 'j': False, 'process': False, 'black': False, 'cute': False, 'honey': False, 'vl': False, 'south': False, 'respons': False, 'insid': False, 'wednesday': False, 'manag': False, 'pix': False, 'mood': False, 'issu': False, 'bugi': False, 'la': False, 'cine': False, 'darl': False, 'cri': False, 'click': False, 'naughti': False, 'suck': False, 'tea': False, 'pack': False, 'ahead': False, 'kept': False, 'weak': False, 'realiz': False, 'kill': False, 'wun': False, 'respect': False, 'locat': False, 'cuz': False, 'lie': False, 'eatin': False, 'countri': False, 'arrang': False, 'excit': False, 'internet': False, 'menu': False, 'hop': False, 'discuss': False, 'hell': False, 'toward': False, 'buck': False, 'past': False, 'system': False, 'biz': False, 'numbrgbp': False, 'batteri': False, 'kalli': False, 'cal': False, 'ship': False, 'horni': False, 'nake': False, 'qualiti': False, 'sim': False, 'loyalti': False, 'high': False, 'key': False, 'advanc': False, 'kb': False, 'yoga': False, 'insur': False, 'maxim': False, 'cold': False, 'sigh': False, 'relax': False, 'irrit': False, 'lac': False, 'dollar': False, 'tough': False, 'transfer': False, 'notic': False, 'tenerif': False, 'sec': False, 'condit': False, 'somenumbr': False, 'charact': False, 'tat': False, 'mpnumbr': False, 'unsub': False, 'lnumbrr': False, 'malaria': False, 'lead': False, 'rather': False, 'omw': False, 'gee': False, 'bare': False, 'marriag': False, 'izzit': False, 'spree': False, 'announc': False, 'imma': False, 'shuhui': False, 'weather': False, 'paid': False, 'pop': False, 'login': False, 'fetch': False, 'awak': False, 'torch': False, 'bold': False, 'dey': False, 'holla': False, 'yest': False, 'damn': False, 'sing': False, 'model': False, 'mother': False, 'matter': False, 'hai': False, 'bird': False, 'midnight': False, 'januari': False, 'piss': False, 'sknumbrxh': False, 'score': False, 'heavi': False, 'nxt': False, 'flower': False, 'numbryr': False, 'receipt': False, 'onumbr': False, 'onto': False, 'station': False, 'tuition': False, 'strong': False, 'doc': False, 'cell': False, 'alrit': False, 'shd': False, 'croydon': False, 'crnumbr': False, 'numbrwb': False, 'lmao': False, 'vomit': False, 'except': False, 'prefer': False, 'instead': False, 'buzz': False, 'titl': False, 'sight': False, 'remain': False, 'mth': False, 'thnk': False, 'costa': False, 'sol': False, 'role': False, 'vikki': False, 'wors': False, 'sky': False, 'maid': False, 'behind': False, 'feb': False, 'ignor': False, 'hug': False, 'tm': False, 'mell': False, 'hl': False, 'stock': False, 'subscript': False, 'inch': False, 'tyler': False, 'fyi': False, 'review': False, 'coin': False, 'kano': False, 'simpli': False, 'verifi': False, 'hol': False, 'consid': False, 'directli': False, 'standard': False, 'q': False, 'local': False, 'begin': False, 'qatar': False, 'delet': False, 'spoke': False, 'bye': False, 'straight': False, 'partner': False, 'career': False, 'star': False, 'argument': False, 'websit': False, 'childish': False, 'handset': False, 'dint': False, 'sunni': False, 'anybodi': False, 'throw': False, 'hang': False, 'track': False, 'report': False, 'surf': False, 'yiju': False, 'num': False, 'ish': False, 'cc': False, 'air': False, 'cuddl': False, 'will': False, 'bodi': False, 'guid': False, 'pilat': False, 'numbrish': False, 'competit': False, 'aathi': False, 'wnt': False, 'vri': False, 'vari': False, 'askin': False, 'group': False, 'ttyl': False, 'isnt': False, 'decis': False, 'moan': False, 'fb': False, 'matur': False, 'jst': False, 'numbrgb': False, 'pin': False, 'adult': False, 'campu': False, 'confid': False, 'aiyo': False, 'daili': False, 'suit': False, 'vodafon': False, 'holder': False, 'earth': False, 'evng': False, 'envelop': False, 'prepar': False, 'numbrd': False, 'law': False, 'wer': False, 'aftr': False, 'exactli': False, 'yay': False, 'txtauction': False, 'wnumbrwq': False, 'normnumbrp': False, 'boo': False, 'hunni': False, 'numbra': False, 'zed': False, 'green': False, 'skype': False, 'five': False, 'version': False, 'sup': False, 'attend': False, 'ate': False, 'wherev': False, 'expens': False, 'brand': False, 'contract': False, 'kerala': False, 'asleep': False, 'loverboy': False, 'fool': False, 'seriou': False, 'april': False, 'bitch': False, 'sipix': False, 'aiyah': False, 'urawinn': False, 'howz': False, 'choic': False, 'arm': False, 'tour': False, 'super': False, 'girlfrnd': False, 'cafe': False, 'vote': False, 'bought': False, 'freak': False, 'london': False, 'lookin': False, 'hook': False, 'arcad': False, 'creat': False, 'beer': False, 'hate': False, 'toclaim': False, 'stockport': False, 'costmoneysymbnumbr': False, 'maxnumbrmin': False, 'relat': False, 'theatr': False, 'ahmad': False, 'armand': False, 'nimya': False, 'sed': False, 'pussi': False, 'solv': False, 'budget': False, 'random': False, 'er': False, 'plenti': False, 'amaz': False, 'cancer': False, 'bro': False, 'tariff': False, 'tick': False, 'tb': False, 'spell': False, 'wet': False, 'goal': False, 'convinc': False, 'burn': False, 'ride': False, 'embarass': False, 'plane': False, 'urgnt': False, 'appoint': False, 'boston': False, 'truli': False, 'scare': False, 'knumbr': False, 'tt': False, 'cabin': False, 'voda': False, 'predict': False, 'laid': False, 'ecnumbra': False, 'interview': False, 'avoid': False, 'satisfi': False, 'suggest': False, 'transact': False, 'can': False, 'not': False, 'sen': False, 'atm': False, 'romant': False, 'numbroptout': False, 'cross': False, 'sam': False, 'print': False, 'argu': False, 'bcum': False, 'affect': False, 'h': False, 'ray': False, 'bf': False, 'meal': False, 'themob': False, 'enemi': False, 'pongal': False, 'decemb': False, 'cud': False, 'ppl': False, 'allah': False, 'breath': False, 'sonyericsson': False, 'geeee': False, 'bar': False, 'lick': False, 'intro': False, 'yan': False, 'jiu': False, 'l': False, 'poboxnumbrwnumbrwq': False, 'hostel': False, 'express': False, 'hv': False, 'amt': False, 'concentr': False, 'acc': False, 'woman': False, 'flat': False, 'villag': False, 'spl': False, 'stylish': False, 'prabha': False, 'passion': False, 'english': False, 'btw': False, 'numbrmrw': False, 'jazz': False, 'yogasana': False, 'numbrxnumbrp': False, 'exhaust': False, 'somethin': False, 'euronumbr': False, 'aunti': False, 'thursday': False, 'cartoon': False, 'gentl': False, 'hella': False, 'belli': False, 'peac': False, 'lone': False, 'build': False, 'purchas': False, 'harri': False, 'alert': False, 'stress': False, 'assum': False, 'mad': False, 'twice': False, 'opportun': False, 'clock': False, 'act': False, 'citi': False, 'meetin': False, 'ti': False, 'polyphon': False, 'piec': False, 'xxxx': False, 'sura': False, 'sn': False, 'numbrk': False, 'unsold': False, 'fail': False, 'due': False, 'derek': False, 'white': False, 'cheaper': False, 'ym': False, 'diet': False, 'wnumbr': False, 'bowl': False, 'site': False, 'salari': False, 'videophon': False, 'videochat': False, 'java': False, 'dload': False, 'nolin': False, 'rentl': False, 'yun': False}, 1)\n"
     ]
    }
   ],
   "source": [
    "print(testing[0]) # as you can see testing is a tuple if feature_list and the label for the message"
   ]
  },
  {
   "cell_type": "code",
   "execution_count": 214,
   "metadata": {},
   "outputs": [],
   "source": [
    "text_feature, label = zip(*testing)"
   ]
  },
  {
   "cell_type": "code",
   "execution_count": 215,
   "metadata": {},
   "outputs": [],
   "source": [
    "predictions = nltk_ensemble.classify_many(text_feature)"
   ]
  },
  {
   "cell_type": "code",
   "execution_count": 217,
   "metadata": {},
   "outputs": [
    {
     "name": "stdout",
     "output_type": "stream",
     "text": [
      "              precision    recall  f1-score   support\n",
      "\n",
      "           0       0.99      1.00      0.99       949\n",
      "           1       0.99      0.93      0.96       166\n",
      "\n",
      "    accuracy                           0.99      1115\n",
      "   macro avg       0.99      0.96      0.98      1115\n",
      "weighted avg       0.99      0.99      0.99      1115\n",
      "\n"
     ]
    }
   ],
   "source": [
    "print(classification_report(label, predictions))\n",
    "\n",
    "# pd.DataFrame(confusion_matrix(label, predictions), index=[['actual','actual'],['ham','spam']],\n",
    "#             columns = [['predicted','predicted'],['ham','spam']])"
   ]
  },
  {
   "cell_type": "code",
   "execution_count": 218,
   "metadata": {},
   "outputs": [
    {
     "data": {
      "text/html": [
       "<div>\n",
       "<style scoped>\n",
       "    .dataframe tbody tr th:only-of-type {\n",
       "        vertical-align: middle;\n",
       "    }\n",
       "\n",
       "    .dataframe tbody tr th {\n",
       "        vertical-align: top;\n",
       "    }\n",
       "\n",
       "    .dataframe thead tr th {\n",
       "        text-align: left;\n",
       "    }\n",
       "</style>\n",
       "<table border=\"1\" class=\"dataframe\">\n",
       "  <thead>\n",
       "    <tr>\n",
       "      <th></th>\n",
       "      <th></th>\n",
       "      <th colspan=\"2\" halign=\"left\">predicted</th>\n",
       "    </tr>\n",
       "    <tr>\n",
       "      <th></th>\n",
       "      <th></th>\n",
       "      <th>ham</th>\n",
       "      <th>spam</th>\n",
       "    </tr>\n",
       "  </thead>\n",
       "  <tbody>\n",
       "    <tr>\n",
       "      <th rowspan=\"2\" valign=\"top\">actual</th>\n",
       "      <th>ham</th>\n",
       "      <td>948</td>\n",
       "      <td>1</td>\n",
       "    </tr>\n",
       "    <tr>\n",
       "      <th>spam</th>\n",
       "      <td>12</td>\n",
       "      <td>154</td>\n",
       "    </tr>\n",
       "  </tbody>\n",
       "</table>\n",
       "</div>"
      ],
      "text/plain": [
       "            predicted     \n",
       "                  ham spam\n",
       "actual ham        948    1\n",
       "       spam        12  154"
      ]
     },
     "execution_count": 218,
     "metadata": {},
     "output_type": "execute_result"
    }
   ],
   "source": [
    "pd.DataFrame(confusion_matrix(label, predictions), index=[['actual','actual'],['ham','spam']],\n",
    "            columns = [['predicted','predicted'],['ham','spam']])"
   ]
  },
  {
   "cell_type": "markdown",
   "metadata": {},
   "source": [
    "## SO, overall our model did a good job as desired. The important thing is to learn how to make NLTK and sklearn libraries work together. We can expect a better performance by using a larger feature list. Instead of using only 1500 words as in our case, we can use all the words, and hope to get a better performance"
   ]
  },
  {
   "cell_type": "code",
   "execution_count": null,
   "metadata": {},
   "outputs": [],
   "source": []
  }
 ],
 "metadata": {
  "kernelspec": {
   "display_name": "Python 3",
   "language": "python",
   "name": "python3"
  },
  "language_info": {
   "codemirror_mode": {
    "name": "ipython",
    "version": 3
   },
   "file_extension": ".py",
   "mimetype": "text/x-python",
   "name": "python",
   "nbconvert_exporter": "python",
   "pygments_lexer": "ipython3",
   "version": "3.7.6"
  }
 },
 "nbformat": 4,
 "nbformat_minor": 4
}
