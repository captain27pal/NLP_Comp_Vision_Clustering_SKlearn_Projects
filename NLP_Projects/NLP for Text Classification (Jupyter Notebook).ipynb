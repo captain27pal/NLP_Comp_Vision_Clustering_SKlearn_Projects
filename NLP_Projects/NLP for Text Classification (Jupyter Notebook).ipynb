{
 "cells": [
  {
   "cell_type": "markdown",
   "metadata": {},
   "source": [
    "## Natural Language Processing for Text Classification with NLTK and Scikit-learn\n",
    "\n",
    "### Presented by Eduonix!\n",
    "\n",
    "In the project, Getting Started With Natural Language Processing in Python, we learned the basics of tokenizing, part-of-speech tagging, stemming, chunking, and named entity recognition; furthermore, we dove into machine learning and text classification using a simple support vector classifier and a dataset of positive and negative movie reviews. \n",
    "\n",
    "In this tutorial, we will expand on this foundation and explore different ways to improve our text classification results. We will cover and use:\n",
    "\n",
    "* Regular Expressions\n",
    "* Feature Engineering\n",
    "* Multiple scikit-learn Classifiers\n",
    "* Ensemble Methods\n",
    "\n",
    "### 1. Import Necessary Libraries\n",
    "\n",
    "To ensure the necessary libraries are installed correctly and up-to-date, print the version numbers for each library.  This will also improve the reproducibility of our project."
   ]
  },
  {
   "cell_type": "code",
   "execution_count": 1,
   "metadata": {},
   "outputs": [
    {
     "name": "stdout",
     "output_type": "stream",
     "text": [
      "Python: 3.7.6 (default, Jan  8 2020, 20:23:39) [MSC v.1916 64 bit (AMD64)]\n",
      "NLTK: 3.5\n",
      "Scikit-learn: 0.23.1\n",
      "Pandas: 1.0.5\n",
      "Numpy: 1.19.0\n"
     ]
    }
   ],
   "source": [
    "import sys\n",
    "import nltk\n",
    "import sklearn\n",
    "import pandas\n",
    "import numpy\n",
    "\n",
    "print('Python: {}'.format(sys.version))\n",
    "print('NLTK: {}'.format(nltk.__version__))\n",
    "print('Scikit-learn: {}'.format(sklearn.__version__))\n",
    "print('Pandas: {}'.format(pandas.__version__))\n",
    "print('Numpy: {}'.format(numpy.__version__))"
   ]
  },
  {
   "cell_type": "markdown",
   "metadata": {},
   "source": [
    "### 2. Load the Dataset\n",
    "\n",
    "Now that we have ensured that our libraries are installed correctly, let's load the data set as a Pandas DataFrame. Furthermore, let's extract some useful information such as the column information and class distributions. \n",
    "\n",
    "The data set we will be using comes from the UCI Machine Learning Repository.  It contains over 5000 SMS labeled messages that have been collected for mobile phone spam research. It can be downloaded from the following URL:\n",
    "\n",
    "https://archive.ics.uci.edu/ml/datasets/sms+spam+collection"
   ]
  },
  {
   "cell_type": "code",
   "execution_count": 2,
   "metadata": {},
   "outputs": [],
   "source": [
    "import pandas as pd\n",
    "import numpy as np\n",
    "\n",
    "# load the dataset of SMS messages\n",
    "df = pd.read_table('SMSSPamCollection', header=None, encoding='utf-8')"
   ]
  },
  {
   "cell_type": "code",
   "execution_count": 3,
   "metadata": {},
   "outputs": [
    {
     "name": "stdout",
     "output_type": "stream",
     "text": [
      "<class 'pandas.core.frame.DataFrame'>\n",
      "RangeIndex: 5572 entries, 0 to 5571\n",
      "Data columns (total 2 columns):\n",
      " #   Column  Non-Null Count  Dtype \n",
      "---  ------  --------------  ----- \n",
      " 0   0       5572 non-null   object\n",
      " 1   1       5572 non-null   object\n",
      "dtypes: object(2)\n",
      "memory usage: 87.2+ KB\n",
      "None\n",
      "      0                                                  1\n",
      "0   ham  Go until jurong point, crazy.. Available only ...\n",
      "1   ham                      Ok lar... Joking wif u oni...\n",
      "2  spam  Free entry in 2 a wkly comp to win FA Cup fina...\n",
      "3   ham  U dun say so early hor... U c already then say...\n",
      "4   ham  Nah I don't think he goes to usf, he lives aro...\n"
     ]
    }
   ],
   "source": [
    "# print useful information about the dataset\n",
    "print(df.info())\n",
    "print(df.head())"
   ]
  },
  {
   "cell_type": "code",
   "execution_count": 5,
   "metadata": {},
   "outputs": [
    {
     "name": "stdout",
     "output_type": "stream",
     "text": [
      "ham     4825\n",
      "spam     747\n",
      "Name: 0, dtype: int64\n"
     ]
    }
   ],
   "source": [
    "# check class distribution\n",
    "classes = df[0]\n",
    "print(classes.value_counts())"
   ]
  },
  {
   "cell_type": "markdown",
   "metadata": {},
   "source": [
    "### 2. Preprocess the Data\n",
    "\n",
    "Preprocessing the data is an essential step in natural language process. In the following cells, we will convert our class labels to binary values using the LabelEncoder from sklearn, replace email addresses, URLs, phone numbers, and other symbols by using regular expressions, remove stop words, and extract word stems.  "
   ]
  },
  {
   "cell_type": "code",
   "execution_count": 6,
   "metadata": {},
   "outputs": [
    {
     "name": "stdout",
     "output_type": "stream",
     "text": [
      "[0 0 1 0 0 1 0 0 1 1]\n"
     ]
    }
   ],
   "source": [
    "from sklearn.preprocessing import LabelEncoder\n",
    "\n",
    "# convert class labels to binary values, 0 = ham and 1 = spam\n",
    "encoder = LabelEncoder()\n",
    "Y = encoder.fit_transform(classes)\n",
    "\n",
    "print(Y[:10])"
   ]
  },
  {
   "cell_type": "code",
   "execution_count": 7,
   "metadata": {},
   "outputs": [
    {
     "name": "stdout",
     "output_type": "stream",
     "text": [
      "0    Go until jurong point, crazy.. Available only ...\n",
      "1                        Ok lar... Joking wif u oni...\n",
      "2    Free entry in 2 a wkly comp to win FA Cup fina...\n",
      "3    U dun say so early hor... U c already then say...\n",
      "4    Nah I don't think he goes to usf, he lives aro...\n",
      "5    FreeMsg Hey there darling it's been 3 week's n...\n",
      "6    Even my brother is not like to speak with me. ...\n",
      "7    As per your request 'Melle Melle (Oru Minnamin...\n",
      "8    WINNER!! As a valued network customer you have...\n",
      "9    Had your mobile 11 months or more? U R entitle...\n",
      "Name: 1, dtype: object\n"
     ]
    }
   ],
   "source": [
    "# store the SMS message data\n",
    "text_messages = df[1]\n",
    "print(text_messages[:10])"
   ]
  },
  {
   "cell_type": "markdown",
   "metadata": {},
   "source": [
    "#### 2.1 Regular Expressions\n",
    "\n",
    "Some common regular expression metacharacters - copied from wikipedia\n",
    "\n",
    "**^**     Matches the starting position within the string. In line-based tools, it matches the starting position of any line.\n",
    "\n",
    "**.**     Matches any single character (many applications exclude newlines, and exactly which characters are considered newlines is flavor-, character-encoding-, and platform-specific, but it is safe to assume that the line feed character is included). Within POSIX bracket expressions, the dot character matches a literal dot. For example, a.c matches \"abc\", etc., but [a.c] matches only \"a\", \".\", or \"c\".\n",
    "\n",
    "**[ ]**    A bracket expression. Matches a single character that is contained within the brackets. For example, [abc] matches \"a\", \"b\", or \"c\". [a-z] specifies a range which matches any lowercase letter from \"a\" to \"z\". These forms can be mixed: [abcx-z] matches \"a\", \"b\", \"c\", \"x\", \"y\", or \"z\", as does [a-cx-z].\n",
    "The - character is treated as a literal character if it is the last or the first (after the ^, if present) character within the brackets: [abc-], [-abc]. Note that backslash escapes are not allowed. The ] character can be included in a bracket expression if it is the first (after the ^) character: []abc].\n",
    "\n",
    "**[^ ]**   Matches a single character that is not contained within the brackets. For example, [^abc] matches any character other than \"a\", \"b\", or \"c\". [^a-z] matches any single character that is not a lowercase letter from \"a\" to \"z\". Likewise, literal characters and ranges can be mixed.\n",
    "\n",
    "**$**      Matches the ending position of the string or the position just before a string-ending newline. In line-based tools, it matches the ending position of any line.\n",
    "\n",
    "**( )**    Defines a marked subexpression. The string matched within the parentheses can be recalled later (see the next entry, \\n). A marked subexpression is also called a block or capturing group. BRE mode requires \\( \\).\n",
    "\n",
    "**\\n**     Matches what the nth marked subexpression matched, where n is a digit from 1 to 9. This construct is vaguely defined in the POSIX.2 standard. Some tools allow referencing more than nine capturing groups.\n",
    "\n",
    "**\\***     Matches the preceding element zero or more times. For example, ab*c matches \"ac\", \"abc\", \"abbbc\", etc. [xyz]* matches \"\", \"x\", \"y\", \"z\", \"zx\", \"zyx\", \"xyzzy\", and so on. (ab)* matches \"\", \"ab\", \"abab\", \"ababab\", and so on.\n",
    "\n",
    "**{m,n}**  Matches the preceding element at least m and not more than n times. For example, a{3,5} matches only \"aaa\", \"aaaa\", and \"aaaaa\". This is not found in a few older instances of regexes. BRE mode requires \\{m,n\\}."
   ]
  },
  {
   "cell_type": "code",
   "execution_count": 8,
   "metadata": {},
   "outputs": [],
   "source": [
    "# use regular expressions to replace email addresses, URLs, phone numbers, other numbers\n",
    "\n",
    "# Replace email addresses with 'email'\n",
    "processed = text_messages.str.replace(r'^.+@[^\\.].*\\.[a-z]{2,}$',\n",
    "                                 'emailaddress')\n",
    "\n",
    "# Replace URLs with 'webaddress'\n",
    "processed = processed.str.replace(r'^http\\://[a-zA-Z0-9\\-\\.]+\\.[a-zA-Z]{2,3}(/\\S*)?$',\n",
    "                                  'webaddress')\n",
    "\n",
    "# Replace money symbols with 'moneysymb' (£ can by typed with ALT key + 156)\n",
    "processed = processed.str.replace(r'£|\\$', 'moneysymb')\n",
    "    \n",
    "# Replace 10 digit phone numbers (formats include paranthesis, spaces, no spaces, dashes) with 'phonenumber'\n",
    "processed = processed.str.replace(r'^\\(?[\\d]{3}\\)?[\\s-]?[\\d]{3}[\\s-]?[\\d]{4}$',\n",
    "                                  'phonenumbr')\n",
    "    \n",
    "# Replace numbers with 'numbr'\n",
    "processed = processed.str.replace(r'\\d+(\\.\\d+)?', 'numbr')"
   ]
  },
  {
   "cell_type": "code",
   "execution_count": 9,
   "metadata": {},
   "outputs": [],
   "source": [
    "# Remove punctuation\n",
    "processed = processed.str.replace(r'[^\\w\\d\\s]', ' ')\n",
    "\n",
    "# Replace whitespace between terms with a single space\n",
    "processed = processed.str.replace(r'\\s+', ' ')\n",
    "\n",
    "# Remove leading and trailing whitespace\n",
    "processed = processed.str.replace(r'^\\s+|\\s+?$', '')"
   ]
  },
  {
   "cell_type": "code",
   "execution_count": 10,
   "metadata": {},
   "outputs": [
    {
     "name": "stdout",
     "output_type": "stream",
     "text": [
      "0       go until jurong point crazy available only in ...\n",
      "1                                 ok lar joking wif u oni\n",
      "2       free entry in numbr a wkly comp to win fa cup ...\n",
      "3             u dun say so early hor u c already then say\n",
      "4       nah i don t think he goes to usf he lives arou...\n",
      "                              ...                        \n",
      "5567    this is the numbrnd time we have tried numbr c...\n",
      "5568                  will ü b going to esplanade fr home\n",
      "5569    pity was in mood for that so any other suggest...\n",
      "5570    the guy did some bitching but i acted like i d...\n",
      "5571                            rofl its true to its name\n",
      "Name: 1, Length: 5572, dtype: object\n"
     ]
    }
   ],
   "source": [
    "# change words to lower case - Hello, HELLO, hello are all the same word\n",
    "processed = processed.str.lower()\n",
    "print(processed)"
   ]
  },
  {
   "cell_type": "code",
   "execution_count": 11,
   "metadata": {},
   "outputs": [],
   "source": [
    "from nltk.corpus import stopwords\n",
    "\n",
    "# remove stop words from text messages\n",
    "\n",
    "stop_words = set(stopwords.words('english'))\n",
    "\n",
    "processed = processed.apply(lambda x: ' '.join(\n",
    "    term for term in x.split() if term not in stop_words))"
   ]
  },
  {
   "cell_type": "code",
   "execution_count": 12,
   "metadata": {},
   "outputs": [],
   "source": [
    "# Remove word stems using a Porter stemmer\n",
    "ps = nltk.PorterStemmer()\n",
    "\n",
    "processed = processed.apply(lambda x: ' '.join(\n",
    "    ps.stem(term) for term in x.split()))"
   ]
  },
  {
   "cell_type": "markdown",
   "metadata": {},
   "source": [
    "### 3. Generating Features\n",
    "\n",
    "Feature engineering is the process of using domain knowledge of the data to create features for machine learning algorithms. In this project, the words in each text message will be our features.  For this purpose, it will be necessary to tokenize each word.  We will use the 1500 most common words as features."
   ]
  },
  {
   "cell_type": "code",
   "execution_count": 13,
   "metadata": {},
   "outputs": [],
   "source": [
    "from nltk.tokenize import word_tokenize\n",
    "\n",
    "# create bag-of-words\n",
    "all_words = []\n",
    "\n",
    "for message in processed:\n",
    "    words = word_tokenize(message)\n",
    "    for w in words:\n",
    "        all_words.append(w)\n",
    "        \n",
    "all_words = nltk.FreqDist(all_words)"
   ]
  },
  {
   "cell_type": "code",
   "execution_count": 14,
   "metadata": {},
   "outputs": [
    {
     "name": "stdout",
     "output_type": "stream",
     "text": [
      "Number of words: 6579\n",
      "Most common words: [('numbr', 2648), ('u', 1207), ('call', 674), ('go', 456), ('get', 451), ('ur', 391), ('gt', 318), ('lt', 316), ('come', 304), ('moneysymbnumbr', 303), ('ok', 293), ('free', 284), ('day', 276), ('know', 275), ('love', 266)]\n"
     ]
    }
   ],
   "source": [
    "# print the total number of words and the 15 most common words\n",
    "print('Number of words: {}'.format(len(all_words)))\n",
    "print('Most common words: {}'.format(all_words.most_common(15)))"
   ]
  },
  {
   "cell_type": "code",
   "execution_count": 17,
   "metadata": {},
   "outputs": [],
   "source": [
    "# use the 1500 most common words as features\n",
    "word_features = list(all_words.keys())[:1500]"
   ]
  },
  {
   "cell_type": "code",
   "execution_count": 19,
   "metadata": {},
   "outputs": [
    {
     "name": "stdout",
     "output_type": "stream",
     "text": [
      "go\n",
      "jurong\n",
      "point\n",
      "crazi\n",
      "avail\n",
      "bugi\n",
      "n\n",
      "great\n",
      "world\n",
      "la\n",
      "e\n",
      "buffet\n",
      "cine\n",
      "got\n",
      "amor\n",
      "wat\n"
     ]
    }
   ],
   "source": [
    "# The find_features function will determine which of the 1500 word features are contained in the review\n",
    "def find_features(message):\n",
    "    words = word_tokenize(message)\n",
    "    features = {}\n",
    "    for word in word_features:\n",
    "        features[word] = (word in words)\n",
    "\n",
    "    return features\n",
    "\n",
    "# Lets see an example!\n",
    "features = find_features(processed[0])\n",
    "for key, value in features.items():\n",
    "    if value == True:\n",
    "        print (key)"
   ]
  },
  {
   "cell_type": "code",
   "execution_count": 27,
   "metadata": {},
   "outputs": [
    {
     "name": "stdout",
     "output_type": "stream",
     "text": [
      "<class 'list'>\n"
     ]
    }
   ],
   "source": [
    "# Now lets do it for all the messages\n",
    "messages = list(zip(processed, Y))\n",
    "\n",
    "# define a seed for reproducibility\n",
    "seed = 1\n",
    "np.random.seed = seed\n",
    "np.random.shuffle(messages)\n",
    "\n",
    "# call find_features function for each SMS message\n",
    "featuresets = [(find_features(text), label) for (text, label) in messages]\n",
    "\n",
    "print(type(featuresets))"
   ]
  },
  {
   "cell_type": "code",
   "execution_count": 24,
   "metadata": {},
   "outputs": [],
   "source": [
    "# we can split the featuresets into training and testing datasets using sklearn\n",
    "from sklearn import model_selection\n",
    "\n",
    "# split the data into training and testing datasets\n",
    "training, testing = model_selection.train_test_split(featuresets, test_size = 0.25, random_state=seed)"
   ]
  },
  {
   "cell_type": "code",
   "execution_count": 28,
   "metadata": {},
   "outputs": [
    {
     "name": "stdout",
     "output_type": "stream",
     "text": [
      "4179\n",
      "1393\n",
      "({'go': False, 'jurong': False, 'point': False, 'crazi': False, 'avail': False, 'bugi': False, 'n': False, 'great': False, 'world': False, 'la': False, 'e': False, 'buffet': False, 'cine': False, 'got': False, 'amor': False, 'wat': False, 'ok': False, 'lar': False, 'joke': False, 'wif': False, 'u': False, 'oni': False, 'free': False, 'entri': False, 'numbr': False, 'wkli': False, 'comp': False, 'win': False, 'fa': False, 'cup': False, 'final': False, 'tkt': False, 'numbrst': False, 'may': False, 'text': False, 'receiv': False, 'question': False, 'std': False, 'txt': False, 'rate': False, 'c': False, 'appli': False, 'numbrovernumbr': False, 'dun': False, 'say': False, 'earli': False, 'hor': False, 'alreadi': False, 'nah': False, 'think': False, 'goe': False, 'usf': False, 'live': False, 'around': False, 'though': False, 'freemsg': False, 'hey': False, 'darl': False, 'week': False, 'word': False, 'back': False, 'like': False, 'fun': False, 'still': False, 'tb': False, 'xxx': False, 'chg': False, 'send': False, 'moneysymbnumbr': False, 'rcv': False, 'even': False, 'brother': False, 'speak': False, 'treat': False, 'aid': False, 'patent': False, 'per': False, 'request': False, 'mell': False, 'oru': False, 'minnaminungint': False, 'nurungu': False, 'vettam': False, 'set': False, 'callertun': False, 'caller': False, 'press': False, 'copi': False, 'friend': False, 'winner': False, 'valu': False, 'network': False, 'custom': False, 'select': False, 'receivea': False, 'prize': False, 'reward': False, 'claim': False, 'call': False, 'code': False, 'klnumbr': False, 'valid': False, 'hour': False, 'mobil': False, 'month': False, 'r': False, 'entitl': False, 'updat': False, 'latest': False, 'colour': False, 'camera': False, 'co': False, 'gon': False, 'na': False, 'home': False, 'soon': False, 'want': False, 'talk': False, 'stuff': False, 'anymor': False, 'tonight': False, 'k': False, 'cri': False, 'enough': False, 'today': False, 'six': False, 'chanc': False, 'cash': False, 'pound': False, 'cshnumbr': False, 'cost': False, 'numbrp': False, 'day': False, 'numbrday': False, 'tsandc': False, 'repli': False, 'hl': False, 'info': False, 'urgent': False, 'membership': False, 'jackpot': False, 'www': False, 'dbuk': False, 'net': False, 'lccltd': False, 'pobox': False, 'numbrldnwnumbranumbrrwnumbr': False, 'search': False, 'right': False, 'thank': True, 'breather': False, 'promis': False, 'wont': False, 'take': False, 'help': False, 'grant': False, 'fulfil': False, 'wonder': True, 'bless': False, 'time': False, 'date': False, 'sunday': False, 'xxxmobilemovieclub': False, 'use': False, 'credit': False, 'click': False, 'wap': False, 'link': False, 'next': False, 'messag': False, 'http': False, 'com': False, 'qjkgighjjgcbl': False, 'oh': False, 'watch': False, 'eh': False, 'rememb': False, 'spell': False, 'name': False, 'ye': False, 'v': False, 'naughti': False, 'make': False, 'wet': False, 'fine': False, 'way': False, 'feel': False, 'gota': False, 'b': False, 'england': False, 'macedonia': False, 'dont': False, 'miss': False, 'goal': False, 'team': False, 'news': False, 'ur': False, 'nation': False, 'eg': False, 'tri': False, 'wale': False, 'scotland': False, 'numbrtxt': False, 'únumbr': False, 'poboxoxnumbrwnumbrwq': False, 'serious': False, 'ha': False, 'ü': False, 'pay': False, 'first': False, 'da': False, 'stock': False, 'comin': False, 'aft': False, 'finish': False, 'lunch': False, 'str': False, 'lor': False, 'ard': False, 'smth': False, 'ffffffffff': False, 'alright': False, 'meet': False, 'sooner': False, 'forc': False, 'eat': False, 'slice': False, 'realli': False, 'hungri': False, 'tho': False, 'suck': False, 'mark': False, 'get': False, 'worri': False, 'know': False, 'sick': False, 'turn': False, 'pizza': False, 'lol': False, 'alway': False, 'convinc': False, 'catch': False, 'bu': False, 'fri': False, 'egg': False, 'tea': False, 'mom': False, 'left': False, 'dinner': False, 'love': False, 'amp': False, 'pack': False, 'car': False, 'let': False, 'room': False, 'ahhh': False, 'work': False, 'vagu': False, 'wait': False, 'clear': False, 'sure': False, 'sarcast': False, 'x': False, 'us': False, 'yeah': False, 'apologet': False, 'fallen': False, 'actin': False, 'spoilt': False, 'child': False, 'caught': False, 'till': False, 'badli': False, 'cheer': False, 'tell': False, 'anyth': False, 'fear': False, 'faint': False, 'housework': False, 'quick': False, 'cuppa': False, 'subscript': False, 'rington': False, 'uk': False, 'charg': False, 'pleas': False, 'confirm': False, 'yup': False, 'look': False, 'msg': False, 'xuhui': False, 'learn': False, 'numbrnd': False, 'lesson': False, 'numbram': False, 'oop': False, 'roommat': False, 'done': False, 'see': False, 'letter': False, 'decid': False, 'hello': False, 'saturday': False, 'tomo': False, 'invit': False, 'pl': False, 'ahead': False, 'watt': False, 'weekend': False, 'abiola': False, 'forget': False, 'need': False, 'crave': False, 'sweet': False, 'arabian': False, 'steed': False, 'mmmmmm': False, 'yummi': False, 'rodger': False, 'burn': False, 'sm': False, 'nokia': False, 'camcord': False, 'deliveri': False, 'tomorrow': False, 'hope': True, 'man': False, 'well': False, 'endow': False, 'lt': False, 'gt': False, 'inch': False, 'hep': False, 'immunis': False, 'nigeria': False, 'fair': False, 'tyler': False, 'could': False, 'mayb': False, 'ask': False, 'bit': False, 'stubborn': False, 'hospit': False, 'kept': False, 'weak': False, 'sucker': False, 'saw': False, 'class': False, 'gram': False, 'usual': False, 'run': False, 'half': False, 'eighth': False, 'smarter': False, 'almost': False, 'whole': False, 'second': False, 'fyi': False, 'ride': False, 'morn': False, 'crash': False, 'place': False, 'wow': False, 'never': False, 'realiz': False, 'embarass': False, 'accomod': False, 'thought': False, 'sinc': False, 'best': False, 'seem': False, 'happi': False, 'cave': False, 'sorri': False, 'give': False, 'offer': False, 'ac': False, 'sptv': False, 'new': False, 'jersey': False, 'devil': False, 'detroit': False, 'red': False, 'wing': False, 'play': False, 'ice': False, 'hockey': False, 'correct': False, 'incorrect': False, 'end': False, 'mallika': False, 'sherawat': False, 'yesterday': True, 'find': False, 'url': False, 'congrat': False, 'year': False, 'special': False, 'cinema': False, 'pass': False, 'suprman': False, 'matrixnumbr': False, 'starwarsnumbr': False, 'etc': False, 'bxnumbr': False, 'ipnumbr': False, 'numbrw': False, 'numbrpm': False, 'later': False, 'reach': False, 'gauti': False, 'sehwag': False, 'odi': False, 'seri': False, 'pick': False, 'burger': False, 'move': False, 'pain': False, 'kill': False, 'good': False, 'girl': False, 'situat': False, 'seeker': False, 'part': False, 'check': False, 'iq': False, 'took': False, 'forev': False, 'come': False, 'doubl': False, 'hair': False, 'dresser': False, 'said': False, 'wun': False, 'cut': False, 'short': False, 'nice': False, 'advis': False, 'follow': False, 'recent': False, 'review': False, 'mob': False, 'award': False, 'bonu': False, 'song': False, 'dedic': False, 'valuabl': False, 'frnd': False, 'rpli': False, 'complimentari': False, 'trip': False, 'eurodisinc': False, 'trav': False, 'aco': False, 'entrynumbr': False, 'di': False, 'morefrmmob': False, 'shracomorsglsuplt': False, 'lsnumbr': False, 'numbraj': False, 'hear': False, 'divorc': False, 'barbi': False, 'ken': False, 'plane': False, 'wah': False, 'lucki': False, 'save': False, 'money': False, 'hee': False, 'hi': False, 'babe': False, 'im': False, 'wan': False, 'someth': False, 'xx': False, 'perform': False, 'machan': False, 'that': False, 'cool': False, 'gentleman': False, 'digniti': False, 'respect': False, 'peopl': False, 'much': False, 'shi': False, 'pa': False, 'oper': False, 'job': False, 'ta': False, 'earn': False, 'ah': False, 'stop': False, 'urgnt': False, 'real': False, 'yo': False, 'ticket': False, 'one': False, 'jacket': False, 'multi': False, 'start': False, 'came': False, 'bed': False, 'coin': False, 'factori': False, 'nitro': False, 'ela': False, 'kano': False, 'il': False, 'download': False, 'wen': False, 'stand': False, 'close': False, 'anoth': False, 'night': False, 'spent': False, 'late': False, 'afternoon': False, 'casualti': False, 'mean': False, 'stuffnumbrmoro': False, 'includ': False, 'sheet': False, 'smile': False, 'pleasur': False, 'troubl': False, 'pour': False, 'rain': False, 'sumnumbr': False, 'hurt': False, 'becoz': False, 'someon': False, 'servic': False, 'repres': False, 'guarante': False, 'havent': False, 'plan': False, 'buy': False, 'lido': False, 'show': False, 'collect': False, 'simpli': False, 'password': False, 'mix': False, 'verifi': False, 'usher': False, 'britney': False, 'fml': False, 'po': False, 'box': False, 'mknumbr': False, 'numbrh': False, 'numbrppw': False, 'telugu': False, 'movi': False, 'abt': False, 'load': False, 'loan': False, 'wk': False, 'hol': False, 'forgot': False, 'hairdress': False, 'appoint': False, 'four': False, 'shower': False, 'beforehand': False, 'caus': False, 'prob': False, 'coffe': False, 'anim': False, 'noth': False, 'els': False, 'okay': False, 'price': False, 'long': False, 'legal': False, 'ave': False, 'am': False, 'gone': False, 'numbrth': False, 'drive': False, 'test': False, 'yet': False, 'guess': False, 'gave': False, 'boston': False, 'men': False, 'chang': False, 'locat': False, 'nyc': False, 'cuz': False, 'signin': False, 'page': False, 'umma': False, 'life': False, 'vava': False, 'lot': False, 'dear': False, 'wish': False, 'birthday': False, 'truli': False, 'memor': False, 'aight': False, 'hit': False, 'would': False, 'ip': False, 'address': False, 'consid': False, 'comput': False, 'minecraft': False, 'server': False, 'grumpi': False, 'old': False, 'better': False, 'lie': False, 'busi': False, 'plural': False, 'noun': False, 'research': False, 'thing': False, 'scare': False, 'mah': False, 'loud': False, 'gent': False, 'contact': False, 'last': False, 'draw': False, 'knumbr': False, 'numbrhr': False, 'numbrppm': False, 'wa': False, 'openin': False, 'sentenc': False, 'formal': False, 'anyway': False, 'juz': False, 'tt': False, 'eatin': False, 'puttin': False, 'weight': False, 'haha': False, 'anythin': False, 'happen': False, 'enter': False, 'cabin': False, 'boss': False, 'felt': False, 'askd': False, 'apart': False, 'went': False, 'holiday': False, 'flight': False, 'inc': False, 'min': False, 'goodo': False, 'must': False, 'friday': False, 'potato': False, 'ratio': False, 'tortilla': False, 'hmm': False, 'uncl': False, 'inform': False, 'school': False, 'directli': False, 'food': False, 'privat': False, 'account': False, 'statement': False, 'unredeem': False, 'identifi': False, 'expir': False, 'landlin': False, 'boxnumbrwrnumbrc': False, 'appl': False, 'pair': False, 'malarki': False, 'voda': False, 'number': False, 'match': False, 'quot': False, 'standard': False, 'app': False, 'sao': False, 'mu': False, 'predict': False, 'yetund': False, 'sent': False, 'bother': False, 'involv': False, 'impos': False, 'apologis': False, 'del': False, 'bak': False, 'sum': False, 'lucyxx': False, 'tmorrow': False, 'answer': False, 'sunshin': False, 'quiz': False, 'q': False, 'top': False, 'soni': False, 'dvd': False, 'player': False, 'countri': False, 'algarv': False, 'ansr': False, 'sp': False, 'tyron': False, 'laid': False, 'dog': False, 'direct': False, 'join': False, 'largest': False, 'bt': False, 'txting': False, 'gravel': False, 'nt': False, 'ecnumbra': False, 'emailaddress': False, 'befor': False, 'activ': False, 'chat': False, 'svc': False, 'hardcor': False, 'age': False, 'yr': False, 'lazi': False, 'type': False, 'lect': False, 'pouch': False, 'sir': True, 'mail': False, 'swt': False, 'nver': False, 'tire': False, 'littl': False, 'lovabl': False, 'person': False, 'coz': False, 'somtim': False, 'occupi': False, 'biggest': False, 'heart': False, 'gud': False, 'ninumbr': False, 'open': False, 'ya': False, 'dot': False, 'what': False, 'staff': False, 'randi': False, 'sexi': False, 'femal': False, 'local': False, 'luv': False, 'netcollex': False, 'ltd': False, 'ummma': False, 'begin': False, 'qatar': False, 'pray': False, 'hard': False, 'delet': False, 'sindu': False, 'birla': False, 'soft': False, 'wine': False, 'flow': False, 'thk': False, 'plaza': False, 'typic': False, 'everywher': False, 'dirt': False, 'floor': False, 'window': False, 'shirt': False, 'sometim': False, 'mouth': False, 'dream': False, 'without': False, 'chore': False, 'joy': False, 'tv': False, 'exist': False, 'hail': False, 'mist': False, 'becom': False, 'aaooooright': False, 'leav': False, 'hous': False, 'interview': False, 'boy': False, 'annonc': False, 'arrang': False, 'keep': False, 'safe': False, 'envi': False, 'everyon': False, 'parent': False, 'hand': False, 'excit': False, 'spend': False, 'bootydeli': False, 'f': False, 'bangbab': False, 'order': False, 'content': False, 'goto': False, 'bangb': False, 'internet': False, 'menu': False, 'cultur': False, 'modul': False, 'snumbr': False, 'avoid': False, 'missunderstd': False, 'wit': False, 'belov': False, 'escap': False, 'fanci': False, 'bridg': False, 'lager': False, 'complet': False, 'form': False, 'clark': False, 'also': False, 'utter': False, 'wast': False, 'axi': False, 'bank': False, 'hmmm': False, 'hop': False, 'muz': False, 'discuss': False, 'liao': False, 'bloodi': False, 'hell': False, 'cant': False, 'believ': False, 'surnam': False, 'mr': False, 'ill': False, 'clue': False, 'spanish': False, 'bath': False, 'carlo': False, 'mall': False, 'stay': False, 'til': False, 'smoke': False, 'moneysymb': False, 'worth': False, 'doesnt': False, 'log': False, 'spoke': False, 'maneesha': False, 'satisfi': False, 'experi': False, 'toll': False, 'lift': False, 'especi': False, 'approach': False, 'studi': False, 'grnumbr': False, 'trust': False, 'guy': False, 'bye': False, 'handsom': False, 'toward': False, 'mummi': False, 'boytoy': False, 'awesom': False, 'minut': False, 'freephon': False, 'xma': False, 'radio': False, 'ju': False, 'si': False, 'uniqu': False, 'august': False, 'areyouuniqu': False, 'leagu': False, 'touch': False, 'deal': False, 'cours': False, 'howev': False, 'suggest': False, 'abl': False, 'or': False, 'everi': False, 'stool': False, 'settl': False, 'wishin': False, 'mrng': False, 'hav': False, 'stori': False, 'hamster': False, 'dead': False, 'tmr': False, 'orchard': False, 'mrt': False, 'kate': False, 'babyjontet': False, 'found': False, 'enc': False, 'buck': False, 'darlin': False, 'ive': False, 'colleg': False, 'refil': False, 'success': False, 'inr': False, 'decim': False, 'keralacircl': False, 'prepaid': False, 'balanc': False, 'rs': False, 'transact': False, 'id': False, 'kr': False, 'goodmorn': False, 'sleep': False, 'ga': False, 'alter': False, 'dat': False, 'ericsson': False, 'oso': False, 'can': False, 'not': False, 'oredi': False, 'straight': False, 'dogg': False, 'connect': False, 'refund': False, 'bill': False, 'shoot': False, 'big': False, 'readi': False, 'bruv': False, 'break': False, 'semest': False, 'noe': False, 'leh': False, 'sound': False, 'head': False, 'slept': False, 'past': False, 'easi': False, 'sen': False, 'exam': False, 'march': False, 'atm': False, 'regist': False, 'os': False, 'ubandu': False, 'instal': False, 'disk': False, 'import': False, 'file': False, 'system': False, 'repair': False, 'shop': False, 'romant': False, 'nite': False, 'sceneri': False, 'tc': False, 'biz': False, 'numbroptout': False, 'numbrgbp': False, 'mtmsgnumbr': False, 'appreci': False, 'partner': False, 'career': False, 'flyng': False, 'horo': False, 'star': False, 'sign': False, 'g': False, 'ari': False, 'compani': False, 'elama': False, 'mudyadhu': False, 'strict': False, 'teacher': False, 'bcoz': False, 'teach': False, 'conduct': False, 'gandhipuram': False, 'walk': False, 'cross': False, 'road': False, 'side': False, 'street': False, 'rubber': False, 'batteri': False, 'die': False, 'flirt': False, 'sam': False, 'recd': False, 'thirtyeight': False, 'penc': False, 'print': False, 'upstair': False, 'closer': False, 'wil': False, 'theori': False, 'argument': False, 'lose': False, 'argu': False, 'kick': False, 'secret': False, 'admir': False, 'reveal': False, 'tomarrow': False, 'laptop': False, 'case': False, 'pleassssssseeeee': False, 'tel': False, 'avent': False, 'sportsx': False, 'shine': False, 'meant': False, 'although': False, 'told': False, 'baig': False, 'face': False, 'fr': False, 'thanx': False, 'everyth': False, 'commerci': False, 'websit': False, 'slipper': False, 'kalli': False, 'bat': False, 'inning': False, 'didnt': False, 'goodnight': False, 'fix': False, 'wake': False, 'dearli': False, 'congratul': False, 'cd': False, 'voucher': False, 'numbrgift': False, 'music': False, 'tnc': False, 'ldew': False, 'comnumbrwinnumbrppmxnumbragenumbr': False, 'ranjith': False, 'cal': False, 'drpd': False, 'deeraj': False, 'deepak': False, 'numbrmin': False, 'hold': False, 'bcum': False, 'angri': False, 'wid': False, 'dnt': False, 'childish': False, 'true': False, 'deep': False, 'affect': False, 'care': False, 'kettoda': False, 'manda': False, 'up': False, 'ship': False, 'numbrwk': False, 'usp': False, 'lag': False, 'bribe': False, 'nipost': False, 'lemm': False, 'necessarili': False, 'expect': False, 'headin': False, 'mmm': False, 'jolt': False, 'suzi': False, 'lover': False, 'video': False, 'handset': False, 'anytim': False, 'unlimit': False, 'park': False, 'mini': False, 'disturb': False, 'luton': False, 'ring': False, 'h': False, 'horni': False, 'nake': False, 'hot': False, 'unsubscrib': False, 'dint': False, 'wana': False, 'sometm': False, 'clubnumbrmobil': False, 'choos': False, 'club': False, 'clubnumbr': False, 'boxnumbr': False, 'numbrwt': False, 'evo': False, 'flash': False, 'jealou': False, 'singl': False, 'chart': False, 'qualiti': False, 'sort': False, 'narcot': False, 'sunni': False, 'ray': False, 'blue': False, 'bay': False, 'hmv': False, 'genuin': False, 'numbrperc': False, 'might': False, 'object': False, 'bf': False, 'rob': False, 'mack': False, 'gf': False, 'theater': False, 'celebr': False, 'full': False, 'swing': False, 'tool': False, 'definit': False, 'gdeve': False, 'far': False, 'oki': False, 'ahold': False, 'anybodi': False, 'throw': False, 'babi': False, 'cruisin': False, 'fone': False, 'jenni': False, 'ge': False, 'shall': False, 'tonit': False, 'varunnathu': False, 'edukkukaye': False, 'raksha': False, 'ollu': False, 'sens': False, 'gautham': False, 'haf': False, 'stupid': False, 'cam': False, 'buzi': False, 'accident': False, 'resend': False, 'phone': False, 'upgrad': False, 'sim': False, 'card': False, 'loyalti': False, 'numbrthfeb': False, 'unless': False, 'gurl': False, 'appropri': False, 'teas': False, 'plz': False, 'rose': False, 'grave': False, 'bslvyl': False, 'somebodi': False, 'high': False, 'diesel': False, 'shit': False, 'shock': False, 'scari': False, 'imagin': False, 'def': False, 'somewher': False, 'taxi': False, 'fridg': False, 'meal': False, 'womdarful': False, 'actor': False, 'blind': False, 'numbru': False, 'roddsnumbr': False, 'aberdeen': False, 'unit': False, 'kingdom': False, 'img': False, 'w': False, 'icmbnumbrcktznumbrrnumbr': False, 'hide': False, 'remb': False, 'book': False, 'jo': False, 'friendship': False, 'hang': False, 'thread': False, 'themob': False, 'newest': False, 'game': False, 'tone': False, 'gossip': False, 'sport': False, 'fit': False, 'funki': False, 'garag': False, 'key': False, 'bookshelf': False, 'accept': False, 'sister': False, 'dearnumbr': False, 'bestnumbr': False, 'closnumbr': False, 'lvblefrnd': False, 'jstfrnd': False, 'cutefrnd': False, 'lifpartnr': False, 'belovd': False, 'swtheart': False, 'bstfrnd': False, 'enemi': False, 'smart': False, 'weekli': False, 'cs': False, 'winnersclub': False, 'mnumbr': False, 'numbruz': False, 'gbpnumbr': False, 'normal': False, 'rest': False, 'mylif': False, 'wot': False, 'lost': False, 'made': False, 'advanc': False, 'pongal': False, 'kb': False, 'power': False, 'yoga': False, 'dunno': False, 'tahan': False, 'anot': False, 'lo': False, 'dude': False, 'afraid': False, 'decemb': False, 'numbrmth': False, 'cake': False, 'merri': False, 'christma': False, 'kiss': False, 'cud': False, 'ppl': False, 'gona': False, 'lnumbr': False, 'buse': False, 'waitin': False, 'pete': False, 'guild': False, 'bristol': False, 'problem': False, 'track': False, 'record': False, 'read': False, 'women': False, 'light': False, 'apo': False, 'return': False, 'immedi': False, 'germani': False, 'line': False, 'via': False, 'access': False, 'prepay': False, 'evapor': False, 'violat': False, 'privaci': False, 'steal': False, 'employ': False, 'paperwork': False, 'report': False, 'supervisor': False, 'valentin': False, 'lifetim': False, 'rcvd': False, 'custcar': False, 'daaaaa': False, 'dine': False, 'surf': False, 'post': False, 'wiv': False, 'carolin': False, 'favourit': False, 'stranger': False, 'interest': False, 'two': False, 'round': False, 'gudnit': False, 'practic': False, 'yiju': False, 'huim': False, 'num': False, 'small': False, 'prestig': False, 'shag': False, 'sextextuk': False, 'xxuk': False, 'jeremiah': False, 'iphon': False, 'apeshit': False, 'ever': False, 'misbehav': False, 'slap': False, 'urself': False, 'fault': False, 'basic': False, 'figur': False, 'alcohol': False, 'jay': False, 'weed': False, 'ish': False, 'ago': False, 'wtf': False, 'onam': False, 'sirji': False, 'met': False, 'insur': False, 'insha': False, 'allah': False, 'rakhesh': False, 'ex': False, 'tata': False, 'aig': False, 'tissco': False, 'tayseer': False, 'current': False, 'maxim': False, 'cc': False, 'hg': False, 'suitenumbr': False, 'numbrland': False, 'row': False, 'wnumbrjnumbrhl': False, 'unemploy': False, 'moment': False, 'st': False, 'andrew': False, 'cold': False, 'chikku': False, 'db': False, 'audrey': False, 'statu': False, 'forward': False, 'dawn': False, 'refresh': False, 'aliv': False, 'breath': False, 'air': False, 'z': False, 'update_now': False, 'motorola': False, 'sonyericsson': False, 'bluetooth': False, 'orang': False, 'mobileupdnumbr': False, 'callnumbroptout': False, 'fnumbrq': False, 'discount': False, 'rpnumbr': False, 'regalportfolio': False, 'uniform': False, 'geeee': False, 'woke': False, 'cuddl': False, 'spoil': False, 'agre': False, 'will': False, 'refer': False, 'tnumbr': False, 'gbp': False, 'seen': False, 'recognis': False, 'lindsay': False, 'sigh': False, 'bar': False, 'ptbo': False, 'heron': False, 'payasam': False, 'rinu': False, 'bring': False, 'taught': False, 'becau': False, 'he': False, 'project': False, 'prabu': False, 'mistak': False, 'bodi': False, 'quit': False, 'slow': False, 'guid': False, 'ovul': False, 'relax': False, 'reason': False, 'followin': False, 'coupl': False, 'wallet': False, 'numbrmonth': False, 'nnumbrdx': False, 'owl': False, 'lick': False, 'mm': False, 'rental': False, 'mobilesdirect': False, 'ornumbrstoptxt': False, 'huh': False, 'sat': False, 'intro': False, 'pilat': False, 'kickbox': False, 'offic': False, 'lap': False, 'shut': False, 'bout': False, 'numbrish': False, 'calcul': False, 'period': False, 'actual': False, 'rock': False, 'put': False, 'pictur': False, 'ass': False, 'facebook': False, 'al': False, 'salam': False, 'wahleykkum': False, 'share': False, 'grace': False, 'god': False, 'inshah': False, 'visitor': False, 'india': False, 'field': False, 'quickli': False, 'administr': False, 'poli': False, 'numbrxmoneysymbnumbrpw': False, 'emoneysymbnd': False, 'chechi': False, 'cream': False, 'none': False, 'yep': False, 'loxahatche': False, 'tree': False, 'stoner': False, 'slightli': False, 'disastr': False, 'pm': False, 'fav': False, 'wld': False, 'drink': False, 'busetop': False, 'sender': False, 'fullonsm': False, 'iron': False, 'yan': False, 'jiu': False, 'skip': False, 'den': False, 'blah': False, 'wendi': False, 'l': False, 'boxnumbrsknumbrch': False, 'whatsup': False, 'competit': False, 'txttowin': False, 'logo': False, 'namenumbr': False, 'mobno': False, 'adam': False, 'eve': False, 'yahoo': False, 'poboxnumbrwnumbrwq': False, 'txtno': False, 'ad': False, 'poboxnumbrnnumbrtfnumbrp': False, 'siva': False, 'hostel': False, 'aha': False, 'land': False, 'voic': False, 'express': False, 'sentiment': False, 'rowdi': False, 'ful': False, 'attitud': False}, 0)\n"
     ]
    }
   ],
   "source": [
    "print(len(training))\n",
    "print(len(testing))\n",
    "print(training[0])"
   ]
  },
  {
   "cell_type": "markdown",
   "metadata": {},
   "source": [
    "### 4. Scikit-Learn Classifiers with NLTK\n",
    "\n",
    "Now that we have our dataset, we can start building algorithms! Let's start with a simple linear support vector classifier, then expand to other algorithms. We'll need to import each algorithm we plan on using from sklearn.  We also need to import some performance metrics, such as accuracy_score and classification_report."
   ]
  },
  {
   "cell_type": "code",
   "execution_count": 26,
   "metadata": {},
   "outputs": [
    {
     "name": "stdout",
     "output_type": "stream",
     "text": [
      "SVC Accuracy: 98.49246231155779\n"
     ]
    }
   ],
   "source": [
    "# We can use sklearn algorithms in NLTK\n",
    "from nltk.classify.scikitlearn import SklearnClassifier\n",
    "from sklearn.svm import SVC\n",
    "\n",
    "model = SklearnClassifier(SVC(kernel = 'linear'))\n",
    "\n",
    "# train the model on the training data\n",
    "model.train(training)\n",
    "\n",
    "# and test on the testing dataset!\n",
    "accuracy = nltk.classify.accuracy(model, testing)*100\n",
    "print(\"SVC Accuracy: {}\".format(accuracy))"
   ]
  },
  {
   "cell_type": "code",
   "execution_count": 20,
   "metadata": {},
   "outputs": [
    {
     "name": "stdout",
     "output_type": "stream",
     "text": [
      "K Nearest Neighbors Accuracy: 94.0416367552\n",
      "Decision Tree Accuracy: 95.2620244078\n",
      "Random Forest Accuracy: 95.6927494616\n",
      "Logistic Regression Accuracy: 95.9798994975\n",
      "SGD Classifier Accuracy: 95.9798994975\n",
      "Naive Bayes Accuracy: 96.2670495334\n",
      "SVM Linear Accuracy: 96.1234745154\n"
     ]
    }
   ],
   "source": [
    "from sklearn.neighbors import KNeighborsClassifier\n",
    "from sklearn.tree import DecisionTreeClassifier\n",
    "from sklearn.ensemble import RandomForestClassifier\n",
    "from sklearn.linear_model import LogisticRegression, SGDClassifier\n",
    "from sklearn.naive_bayes import MultinomialNB\n",
    "from sklearn.svm import SVC\n",
    "from sklearn.metrics import classification_report, accuracy_score, confusion_matrix\n",
    "\n",
    "# Define models to train\n",
    "names = [\"K Nearest Neighbors\", \"Decision Tree\", \"Random Forest\", \"Logistic Regression\", \"SGD Classifier\",\n",
    "         \"Naive Bayes\", \"SVM Linear\"]\n",
    "\n",
    "classifiers = [\n",
    "    KNeighborsClassifier(),\n",
    "    DecisionTreeClassifier(),\n",
    "    RandomForestClassifier(),\n",
    "    LogisticRegression(),\n",
    "    SGDClassifier(max_iter = 100),\n",
    "    MultinomialNB(),\n",
    "    SVC(kernel = 'linear')\n",
    "]\n",
    "\n",
    "models = zip(names, classifiers)\n",
    "\n",
    "for name, model in models:\n",
    "    nltk_model = SklearnClassifier(model)\n",
    "    nltk_model.train(training)\n",
    "    accuracy = nltk.classify.accuracy(nltk_model, testing)*100\n",
    "    print(\"{} Accuracy: {}\".format(name, accuracy))"
   ]
  },
  {
   "cell_type": "code",
   "execution_count": 24,
   "metadata": {},
   "outputs": [
    {
     "name": "stdout",
     "output_type": "stream",
     "text": [
      "Voting Classifier: Accuracy: 96.1234745154\n"
     ]
    }
   ],
   "source": [
    "# Ensemble methods - Voting classifier\n",
    "from sklearn.ensemble import VotingClassifier\n",
    "\n",
    "names = [\"K Nearest Neighbors\", \"Decision Tree\", \"Random Forest\", \"Logistic Regression\", \"SGD Classifier\",\n",
    "         \"Naive Bayes\", \"SVM Linear\"]\n",
    "\n",
    "classifiers = [\n",
    "    KNeighborsClassifier(),\n",
    "    DecisionTreeClassifier(),\n",
    "    RandomForestClassifier(),\n",
    "    LogisticRegression(),\n",
    "    SGDClassifier(max_iter = 100),\n",
    "    MultinomialNB(),\n",
    "    SVC(kernel = 'linear')\n",
    "]\n",
    "\n",
    "models = zip(names, classifiers)\n",
    "\n",
    "nltk_ensemble = SklearnClassifier(VotingClassifier(estimators = models, voting = 'hard', n_jobs = -1))\n",
    "nltk_ensemble.train(training)\n",
    "accuracy = nltk.classify.accuracy(nltk_model, testing)*100\n",
    "print(\"Voting Classifier: Accuracy: {}\".format(accuracy))"
   ]
  },
  {
   "cell_type": "code",
   "execution_count": null,
   "metadata": {},
   "outputs": [],
   "source": [
    "# make class label prediction for testing set\n",
    "txt_features, labels = zip(*testing)\n",
    "\n",
    "prediction = nltk_ensemble.classify_many(txt_features)"
   ]
  },
  {
   "cell_type": "code",
   "execution_count": 26,
   "metadata": {},
   "outputs": [
    {
     "name": "stdout",
     "output_type": "stream",
     "text": [
      "             precision    recall  f1-score   support\n",
      "\n",
      "          0       0.96      0.99      0.98      1214\n",
      "          1       0.92      0.75      0.83       179\n",
      "\n",
      "avg / total       0.96      0.96      0.96      1393\n",
      "\n"
     ]
    },
    {
     "data": {
      "text/html": [
       "<div>\n",
       "<style scoped>\n",
       "    .dataframe tbody tr th:only-of-type {\n",
       "        vertical-align: middle;\n",
       "    }\n",
       "\n",
       "    .dataframe tbody tr th {\n",
       "        vertical-align: top;\n",
       "    }\n",
       "\n",
       "    .dataframe thead tr th {\n",
       "        text-align: left;\n",
       "    }\n",
       "</style>\n",
       "<table border=\"1\" class=\"dataframe\">\n",
       "  <thead>\n",
       "    <tr>\n",
       "      <th></th>\n",
       "      <th></th>\n",
       "      <th colspan=\"2\" halign=\"left\">predicted</th>\n",
       "    </tr>\n",
       "    <tr>\n",
       "      <th></th>\n",
       "      <th></th>\n",
       "      <th>ham</th>\n",
       "      <th>spam</th>\n",
       "    </tr>\n",
       "  </thead>\n",
       "  <tbody>\n",
       "    <tr>\n",
       "      <th rowspan=\"2\" valign=\"top\">actual</th>\n",
       "      <th>ham</th>\n",
       "      <td>1203</td>\n",
       "      <td>11</td>\n",
       "    </tr>\n",
       "    <tr>\n",
       "      <th>spam</th>\n",
       "      <td>45</td>\n",
       "      <td>134</td>\n",
       "    </tr>\n",
       "  </tbody>\n",
       "</table>\n",
       "</div>"
      ],
      "text/plain": [
       "            predicted     \n",
       "                  ham spam\n",
       "actual ham       1203   11\n",
       "       spam        45  134"
      ]
     },
     "execution_count": 26,
     "metadata": {},
     "output_type": "execute_result"
    }
   ],
   "source": [
    "# print a confusion matrix and a classification report\n",
    "print(classification_report(labels, prediction))\n",
    "\n",
    "pd.DataFrame(\n",
    "    confusion_matrix(labels, prediction),\n",
    "    index = [['actual', 'actual'], ['ham', 'spam']],\n",
    "    columns = [['predicted', 'predicted'], ['ham', 'spam']])"
   ]
  },
  {
   "cell_type": "code",
   "execution_count": null,
   "metadata": {},
   "outputs": [],
   "source": []
  }
 ],
 "metadata": {
  "kernelspec": {
   "display_name": "Python 3",
   "language": "python",
   "name": "python3"
  },
  "language_info": {
   "codemirror_mode": {
    "name": "ipython",
    "version": 3
   },
   "file_extension": ".py",
   "mimetype": "text/x-python",
   "name": "python",
   "nbconvert_exporter": "python",
   "pygments_lexer": "ipython3",
   "version": "3.7.6"
  }
 },
 "nbformat": 4,
 "nbformat_minor": 4
}
