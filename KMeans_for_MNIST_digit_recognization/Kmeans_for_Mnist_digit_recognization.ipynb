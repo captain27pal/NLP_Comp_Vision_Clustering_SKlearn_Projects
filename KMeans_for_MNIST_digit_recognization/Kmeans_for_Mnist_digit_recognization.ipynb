{
 "cells": [
  {
   "cell_type": "markdown",
   "metadata": {},
   "source": [
    "## IN this notebook, we will classify 28*28 pixel dataset of digits from mnist dataset. We will use Kmeans Clustering/Classification to get our job done."
   ]
  },
  {
   "cell_type": "code",
   "execution_count": 1,
   "metadata": {},
   "outputs": [
    {
     "name": "stdout",
     "output_type": "stream",
     "text": [
      "sys version: 3.7.6 (default, Jan  8 2020, 20:23:39) [MSC v.1916 64 bit (AMD64)]\n",
      "numpy version: 1.19.0\n"
     ]
    }
   ],
   "source": [
    "import sys\n",
    "import matplotlib\n",
    "import numpy as np\n",
    "print(f\"sys version: {sys.version}\")\n",
    "print(f\"numpy version: {np.__version__}\")"
   ]
  },
  {
   "cell_type": "code",
   "execution_count": 2,
   "metadata": {},
   "outputs": [
    {
     "name": "stderr",
     "output_type": "stream",
     "text": [
      "Using TensorFlow backend.\n"
     ]
    }
   ],
   "source": [
    "from keras.datasets import mnist"
   ]
  },
  {
   "cell_type": "code",
   "execution_count": 3,
   "metadata": {},
   "outputs": [],
   "source": [
    "(x_train,y_train), (x_test,y_test)=mnist.load_data()"
   ]
  },
  {
   "cell_type": "code",
   "execution_count": 4,
   "metadata": {},
   "outputs": [
    {
     "name": "stdout",
     "output_type": "stream",
     "text": [
      "training data: (60000, 28, 28)\n",
      "training label: (60000,)\n",
      "test data: (10000, 28, 28)\n",
      "test label: (10000,)\n"
     ]
    }
   ],
   "source": [
    "print(f\"training data: {x_train.shape}\")\n",
    "print(f\"training label: {y_train.shape}\")\n",
    "print(f\"test data: {x_test.shape}\")\n",
    "print(f\"test label: {y_test.shape}\")"
   ]
  },
  {
   "cell_type": "code",
   "execution_count": 6,
   "metadata": {},
   "outputs": [],
   "source": [
    "import matplotlib.pyplot as plt\n",
    "import pandas as pd\n",
    "%matplotlib inline \n",
    "# python magic function. What are magic functions in python.Few examples for magic methods are: __init__, __add__, __len__, __repr__ etc."
   ]
  },
  {
   "cell_type": "code",
   "execution_count": null,
   "metadata": {},
   "outputs": [],
   "source": []
  },
  {
   "cell_type": "code",
   "execution_count": 13,
   "metadata": {},
   "outputs": [
    {
     "name": "stderr",
     "output_type": "stream",
     "text": [
      "C:\\ProgramData\\Anaconda3\\lib\\site-packages\\ipykernel_launcher.py:10: UserWarning: Matplotlib is currently using module://ipykernel.pylab.backend_inline, which is a non-GUI backend, so cannot show the figure.\n",
      "  # Remove the CWD from sys.path while we load stuff.\n"
     ]
    },
    {
     "data": {
      "image/png": "[encoded data removed]",
      "text/plain": [
       "<Figure size 864x864 with 9 Axes>"
      ]
     },
     "metadata": {
      "needs_background": "light"
     },
     "output_type": "display_data"
    }
   ],
   "source": [
    "fig, axs = plt.subplots(3,3, figsize =(12,12))\n",
    "plt.gray()\n",
    "# # plt.rcParams.keys()\n",
    "\n",
    "# plt.tick_params(axis = 'both', which = \"both\", bottom = False, top = False)\n",
    "for i, ax in enumerate(axs.flat):\n",
    "    ax.matshow(x_train[1000+i])\n",
    "    ax.axis('off')\n",
    "    ax.set_title(f\"number: {y_train[1000+i]}\")\n",
    "fig.show()"
   ]
  },
  {
   "cell_type": "code",
   "execution_count": 11,
   "metadata": {},
   "outputs": [
    {
     "data": {
      "text/plain": [
       "\u001b[1;31mSignature:\u001b[0m \u001b[0mplt\u001b[0m\u001b[1;33m.\u001b[0m\u001b[0mgray\u001b[0m\u001b[1;33m(\u001b[0m\u001b[1;33m)\u001b[0m\u001b[1;33m\u001b[0m\u001b[1;33m\u001b[0m\u001b[0m\n",
       "\u001b[1;31mDocstring:\u001b[0m\n",
       "Set the colormap to \"gray\".\n",
       "\n",
       "This changes the default colormap as well as the colormap of the current\n",
       "image if there is one. See ``help(colormaps)`` for more information.\n",
       "\u001b[1;31mFile:\u001b[0m      c:\\programdata\\anaconda3\\lib\\site-packages\\matplotlib\\pyplot.py\n",
       "\u001b[1;31mType:\u001b[0m      function\n"
      ]
     },
     "metadata": {},
     "output_type": "display_data"
    }
   ],
   "source": [
    "plt.gray?"
   ]
  },
  {
   "cell_type": "code",
   "execution_count": 10,
   "metadata": {},
   "outputs": [],
   "source": [
    "# plt.rcParams.keys()"
   ]
  },
  {
   "cell_type": "code",
   "execution_count": 14,
   "metadata": {},
   "outputs": [
    {
     "name": "stdout",
     "output_type": "stream",
     "text": [
      "(60000, 784)\n"
     ]
    }
   ],
   "source": [
    "#the key take away from this excercise will be, how to use clustering to classify objects\n",
    "\n",
    "#. First thing will be to flatten our dataset to have a single dimansional data set. We are not using cnn so, our algorithm will only accept a vector for each image\n",
    "X = x_train.reshape(len(x_train), -1)\n",
    "y = y_train\n",
    "print(X.shape)\n",
    "# now we hace 60k images flattened to 784 pixels each\n",
    "X = X.astype(float)/255.\n",
    "# X[0]\n",
    "# .astype(float)\n",
    "# .07058824"
   ]
  },
  {
   "cell_type": "code",
   "execution_count": 15,
   "metadata": {},
   "outputs": [],
   "source": [
    "from sklearn.cluster import MiniBatchKMeans"
   ]
  },
  {
   "cell_type": "code",
   "execution_count": 16,
   "metadata": {},
   "outputs": [
    {
     "name": "stdout",
     "output_type": "stream",
     "text": [
      "[0 1 2 3 4 5 6 7 8 9]\n",
      "10\n"
     ]
    }
   ],
   "source": [
    "print(np.unique(y_test))\n",
    "n_digits = len(np.unique(y_train))\n",
    "print(n_digits)"
   ]
  },
  {
   "cell_type": "code",
   "execution_count": 28,
   "metadata": {},
   "outputs": [
    {
     "data": {
      "text/plain": [
       "MiniBatchKMeans(n_clusters=10)"
      ]
     },
     "execution_count": 28,
     "metadata": {},
     "output_type": "execute_result"
    }
   ],
   "source": [
    "# Initialize the kmeans model\n",
    "kmeans = MiniBatchKMeans(n_clusters = n_digits, verbose = 0)\n",
    "# fit the model\n",
    "\n",
    "kmeans.fit(X)"
   ]
  },
  {
   "cell_type": "code",
   "execution_count": 15,
   "metadata": {},
   "outputs": [
    {
     "data": {
      "text/plain": [
       "array([4, 9, 8, 3, 7, 5, 2, 1, 2, 0, 4, 3, 4, 6, 2, 0, 5, 0, 6, 0])"
      ]
     },
     "execution_count": 15,
     "metadata": {},
     "output_type": "execute_result"
    }
   ],
   "source": [
    "kmeans.labels_[:20]\n",
    "# lists out the cluster nos, not the actual digit number as the algo does not know what th actual cluster mean.\n",
    "\n",
    "\n",
    "# we can assign a specific no for each of the clusters"
   ]
  },
  {
   "cell_type": "code",
   "execution_count": 18,
   "metadata": {},
   "outputs": [],
   "source": [
    "def infer_cluster_labels(kmeans, actual_labels):\n",
    "    \"\"\"\n",
    "    Associates most probable label with each cluster in KMeans model\n",
    "    returns: dictionary of clusters assigned to each label\n",
    "    \"\"\"\n",
    "\n",
    "    inferred_labels = {}\n",
    "\n",
    "    for i in range(kmeans.n_clusters):\n",
    "\n",
    "        # find index of points in cluster\n",
    "        labels = []\n",
    "        index = np.where(kmeans.labels_ == i)\n",
    "\n",
    "        # append actual labels for each point in cluster\n",
    "        labels.append(actual_labels[index])\n",
    "\n",
    "        # determine most common label\n",
    "        if len(labels[0]) == 1:\n",
    "            counts = np.bincount(labels[0])\n",
    "        else:\n",
    "            counts = np.bincount(np.squeeze(labels))\n",
    "\n",
    "        # assign the cluster to a value in the inferred_labels dictionary\n",
    "        if np.argmax(counts) in inferred_labels:\n",
    "            # append the new number to the existing array at this slot\n",
    "            inferred_labels[np.argmax(counts)].append(i)\n",
    "        else:\n",
    "            # create a new array in this slot\n",
    "            inferred_labels[np.argmax(counts)] = [i]\n",
    "\n",
    "        #print(labels)\n",
    "        #print('Cluster: {}, label: {}'.format(i, np.argmax(counts)))\n",
    "        \n",
    "    return inferred_labels "
   ]
  },
  {
   "cell_type": "code",
   "execution_count": 19,
   "metadata": {},
   "outputs": [],
   "source": [
    "def infer_data_labels(X_labels, cluster_labels):\n",
    "    \"\"\"\n",
    "    Determines label for each array, depending on the cluster it has been assigned to.\n",
    "    returns: predicted labels for each array\n",
    "    \"\"\"\n",
    "    \n",
    "    # empty array of len(X)\n",
    "    predicted_labels = np.zeros(len(X_labels)).astype(np.uint8)\n",
    "    \n",
    "    for i, cluster in enumerate(X_labels):\n",
    "        for key, value in cluster_labels.items():\n",
    "            if cluster in value:\n",
    "                predicted_labels[i] = key\n",
    "                \n",
    "    return predicted_labels"
   ]
  },
  {
   "cell_type": "code",
   "execution_count": 20,
   "metadata": {},
   "outputs": [
    {
     "data": {
      "text/plain": [
       "60000"
      ]
     },
     "execution_count": 20,
     "metadata": {},
     "output_type": "execute_result"
    }
   ],
   "source": [
    "len(y)"
   ]
  },
  {
   "cell_type": "code",
   "execution_count": 22,
   "metadata": {},
   "outputs": [
    {
     "data": {
      "text/plain": [
       "{9: [0], 6: [1], 5: [2], 1: [3], 0: [4], 3: [5, 6], 7: [7, 9], 4: [8]}"
      ]
     },
     "execution_count": 22,
     "metadata": {},
     "output_type": "execute_result"
    }
   ],
   "source": [
    "infer_cluster_labels(kmeans, y)"
   ]
  },
  {
   "cell_type": "code",
   "execution_count": 23,
   "metadata": {},
   "outputs": [
    {
     "name": "stdout",
     "output_type": "stream",
     "text": [
      "Computing label assignment and total inertia\n",
      "[3 0 4 1 9 6 1 3 1 7 3 1 3 6 1 7 6 5 6 7]\n",
      "[5 0 4 1 9 2 1 3 1 4 3 5 3 6 1 7 2 8 6 9]\n"
     ]
    }
   ],
   "source": [
    "# test the infer_cluster_labels() and infer_data_labels() functions\n",
    "cluster_labels = infer_cluster_labels(kmeans, y)\n",
    "X_clusters = kmeans.predict(X)\n",
    "predicted_labels = infer_data_labels(X_clusters, cluster_labels)\n",
    "print (predicted_labels[:20])\n",
    "print (y[:20])"
   ]
  },
  {
   "cell_type": "code",
   "execution_count": 27,
   "metadata": {},
   "outputs": [],
   "source": [
    "#Evalluation and visualization\n",
    "from sklearn import metrics\n",
    "def calculate_metrics(estimator, data, labels):\n",
    "    print(f\"no of clusters: {estimator.n_clusters}\")\n",
    "    print(f\"inertia: {estimator.inertia_}\")\n",
    "    print(f\"homogeneity_score: {metrics.homogeneity_score(labels, estimator.labels_)}\")\n",
    "\n"
   ]
  },
  {
   "cell_type": "code",
   "execution_count": 30,
   "metadata": {},
   "outputs": [
    {
     "name": "stdout",
     "output_type": "stream",
     "text": [
      "no of clusters: 10\n",
      "inertia: 2378594.91503584\n",
      "homogeneity_score: 0.4428018526495949\n",
      "Accuracy: 0.5498833333333333\n",
      "\n",
      "no of clusters: 16\n",
      "inertia: 2253783.414226366\n",
      "homogeneity_score: 0.5375719685370988\n",
      "Accuracy: 0.6370833333333333\n",
      "\n",
      "no of clusters: 36\n",
      "inertia: 1958982.7591903466\n",
      "homogeneity_score: 0.6790113457005849\n",
      "Accuracy: 0.75795\n",
      "\n",
      "no of clusters: 64\n",
      "inertia: 1813409.5648759492\n",
      "homogeneity_score: 0.7384851233283107\n",
      "Accuracy: 0.8145\n",
      "\n",
      "no of clusters: 144\n",
      "inertia: 1635158.731281924\n",
      "homogeneity_score: 0.8031279444849511\n",
      "Accuracy: 0.86595\n",
      "\n",
      "no of clusters: 256\n",
      "inertia: 1515804.2905359976\n",
      "homogeneity_score: 0.8345445577304714\n",
      "Accuracy: 0.8858\n",
      "\n"
     ]
    }
   ],
   "source": [
    "clusters = [10, 16, 36, 64,144,256]\n",
    "for n_clusters in clusters:\n",
    "    estimator = MiniBatchKMeans(n_clusters = n_clusters)\n",
    "    estimator.fit(X)\n",
    "    #print metrics\n",
    "    calculate_metrics(estimator,X,y)\n",
    "    \n",
    "    # determine predicted labels\n",
    "    cluster_labels = infer_cluster_labels(estimator, y)\n",
    "    predicted_Y = infer_data_labels(estimator.labels_, cluster_labels)\n",
    "    \n",
    "        # calculate and print accuracy\n",
    "    print('Accuracy: {}\\n'.format(metrics.accuracy_score(y, predicted_Y)))"
   ]
  },
  {
   "cell_type": "code",
   "execution_count": 31,
   "metadata": {},
   "outputs": [
    {
     "name": "stdout",
     "output_type": "stream",
     "text": [
      "Accuracy: 0.8975\n",
      "\n"
     ]
    }
   ],
   "source": [
    "# test kmeans algorithm on testing dataset\n",
    "# convert each image to 1 dimensional array\n",
    "X_test = x_test.reshape(len(x_test),-1)\n",
    "\n",
    "# normalize the data to 0 - 1\n",
    "X_test = X_test.astype(float) / 255.\n",
    "\n",
    "# initialize and fit KMeans algorithm on training data\n",
    "kmeans = MiniBatchKMeans(n_clusters = 256)\n",
    "kmeans.fit(X)\n",
    "cluster_labels = infer_cluster_labels(kmeans, y)\n",
    "\n",
    "# predict labels for testing data\n",
    "test_clusters = kmeans.predict(X_test)\n",
    "predicted_labels = infer_data_labels(kmeans.predict(X_test), cluster_labels)\n",
    "    \n",
    "# calculate and print accuracy\n",
    "print('Accuracy: {}\\n'.format(metrics.accuracy_score(y_test, predicted_labels)))"
   ]
  },
  {
   "cell_type": "markdown",
   "metadata": {},
   "source": [
    "6. Visualizing Cluster Centroids\n",
    "\n",
    "The most representative point within each cluster is called the centroid. If we were dealing with X,Y points, the centroid would simply be a point on the graph. However, since we are using arrays of length 784, our centroid is also going to be an array of length 784. We can reshape this array back into a 28 by 28 pixel image and plot it.\n",
    "\n",
    "These graphs will display the most representative image for each cluster.\n"
   ]
  },
  {
   "cell_type": "code",
   "execution_count": 40,
   "metadata": {},
   "outputs": [
    {
     "data": {
      "text/plain": [
       "MiniBatchKMeans(n_clusters=36)"
      ]
     },
     "execution_count": 40,
     "metadata": {},
     "output_type": "execute_result"
    }
   ],
   "source": [
    "kmeans=MiniBatchKMeans(n_clusters = 36)\n",
    "kmeans.fit(X)\n",
    "\n",
    "\n",
    "\n"
   ]
  },
  {
   "cell_type": "code",
   "execution_count": 41,
   "metadata": {},
   "outputs": [
    {
     "name": "stderr",
     "output_type": "stream",
     "text": [
      "C:\\ProgramData\\Anaconda3\\lib\\site-packages\\ipykernel_launcher.py:30: UserWarning: Matplotlib is currently using module://ipykernel.pylab.backend_inline, which is a non-GUI backend, so cannot show the figure.\n"
     ]
    },
    {
     "data": {
      "image/png": "[encoded data removed]",
      "text/plain": [
       "<Figure size 1440x1440 with 36 Axes>"
      ]
     },
     "metadata": {
      "needs_background": "light"
     },
     "output_type": "display_data"
    }
   ],
   "source": [
    "\n",
    "# find the cluster centrids\n",
    "\n",
    "centroids = kmeans.cluster_centers_\n",
    "\n",
    "image = centroids.reshape(36, 28,28)\n",
    "\n",
    "image*=255\n",
    "\n",
    "image=image.astype(np.uint8)\n",
    "\n",
    "# determine cluster labels\n",
    "cluster_labels = infer_cluster_labels(kmeans, y)\n",
    "\n",
    "# create figure with subplots using matplotlib.pyplot\n",
    "fig, axs = plt.subplots(6, 6, figsize = (20, 20))\n",
    "plt.gray()\n",
    "# loop through subplots and add centroid images\n",
    "for i, ax in enumerate(axs.flat):\n",
    "    \n",
    "    # determine inferred label using cluster_labels dictionary\n",
    "    for key, value in cluster_labels.items():\n",
    "        if i in value:\n",
    "            ax.set_title('Inferred Label: {}'.format(key))\n",
    "    \n",
    "    # add image to subplot\n",
    "    ax.imshow(image[i])\n",
    "    ax.axis('off')\n",
    "    \n",
    "# display the figure\n",
    "fig.show()"
   ]
  },
  {
   "cell_type": "code",
   "execution_count": null,
   "metadata": {},
   "outputs": [],
   "source": []
  }
 ],
 "metadata": {
  "kernelspec": {
   "display_name": "Python 3",
   "language": "python",
   "name": "python3"
  },
  "language_info": {
   "codemirror_mode": {
    "name": "ipython",
    "version": 3
   },
   "file_extension": ".py",
   "mimetype": "text/x-python",
   "name": "python",
   "nbconvert_exporter": "python",
   "pygments_lexer": "ipython3",
   "version": "3.7.6"
  }
 },
 "nbformat": 4,
 "nbformat_minor": 4
}
